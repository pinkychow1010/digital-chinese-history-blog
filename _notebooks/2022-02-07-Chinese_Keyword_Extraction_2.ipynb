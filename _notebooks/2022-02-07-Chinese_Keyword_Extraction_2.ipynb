{
  "nbformat": 4,
  "nbformat_minor": 0,
  "metadata": {
    "colab": {
      "name": "Chinese_Keyword_Extraction_2.ipynb",
      "provenance": [],
      "collapsed_sections": []
    },
    "kernelspec": {
      "name": "python3",
      "display_name": "Python 3"
    },
    "language_info": {
      "name": "python"
    }
  },
  "cells": [
    {
      "cell_type": "markdown",
      "source": [
        "# \"Combining Web Scraping with Keyword Extraction\"\n",
        "> \"Chinese Keyword Extraction using Jieba (II)\"\n",
        "\n",
        "- toc: true \n",
        "- badges: true\n",
        "- comments: true\n",
        "- categories: [level-4, chapter-4, jieba, text-mining]\n",
        "- image: images/tunnel.jpg"
      ],
      "metadata": {
        "id": "nCmIvi0Kmlbg"
      }
    },
    {
      "cell_type": "markdown",
      "source": [
        "Keyword extraction is one of the very popular techniques in Natural Language Processing (NLP) and text analysis. [Last time](https://pinkychow1010.github.io/digital-chinese-history-blog/level-4/chapter-4/jieba/text-mining/2022/02/05/Chinese_Keyword_Extraction_1.html) we learnt about how to extract keywords from Chinese text using **Jieba**, this time we will learn how to extract keywords directly from the web using **web scraping technique**. It can be achieved using **BeautifulSoup**, a Python library for pulling data out of HTML and XML files. What is web scraping? Web scraping is an automated process used to download the page (fetching) and copy data from the web. Examples include copying a table or book titles from a website.\n",
        "\n",
        "In this lesson, we will download the Chinese blog **时差播客︱宗教学：信仰，魔法，身份，权力** from **澎湃新闻** and extract keywords from the content.\n",
        "\n",
        "As mentioned in the [instructions](https://pinkychow1010.github.io/digital-chinese-history-blog/about/), you can click on the icon **\"open in Colab\"** to open the script in a **Jupyter notebook** to run the code. It is highly recommended to follow the tutorials in the correct order. \n",
        "\n",
        "# Set Up Environment\n",
        "\n",
        "First, we have to set up our cloud environment in **[Colab](https://pinkychow1010.github.io/digital-chinese-history-blog/level-1/chapter-1/jupyter/colab/2020/01/30/JupyterNotebook_Colab_Basics.html)**."
      ],
      "metadata": {
        "id": "j-BRrs3flzu7"
      }
    },
    {
      "cell_type": "markdown",
      "source": [
        "### Python Library\n",
        "\n",
        "* Download Library\n",
        "\n",
        "We need to download **Jieba** using **pip**."
      ],
      "metadata": {
        "id": "lnWcirdkeu3G"
      }
    },
    {
      "cell_type": "code",
      "source": [
        "! pip install jieba"
      ],
      "metadata": {
        "colab": {
          "base_uri": "https://localhost:8080/"
        },
        "id": "PKvv9f8AgxoT",
        "outputId": "bd2315ba-596c-44fb-ea2f-e36584e41401"
      },
      "execution_count": null,
      "outputs": [
        {
          "output_type": "stream",
          "name": "stdout",
          "text": [
            "Requirement already satisfied: jieba in /usr/local/lib/python3.7/dist-packages (0.42.1)\n"
          ]
        }
      ]
    },
    {
      "cell_type": "markdown",
      "source": [
        "* Import Libraries\n",
        "\n",
        "We will then import **Jieba**, **BeautifulSoup** and other libraries we need."
      ],
      "metadata": {
        "id": "2pn42IPjew4f"
      }
    },
    {
      "cell_type": "code",
      "source": [
        "from __future__ import unicode_literals\n",
        "import sys\n",
        "sys.path.append(\"../\")\n",
        "\n",
        "# Jieba for tokenization and keyword extraction\n",
        "import jieba\n",
        "import jieba.posseg\n",
        "import jieba.analyse\n",
        "\n",
        "import pandas as pd\n",
        "import matplotlib.pyplot as plt\n",
        "import numpy as np\n",
        "from skimage import filters\n",
        "import time\n",
        "\n",
        "# Open URL\n",
        "from urllib.request import urlopen\n",
        "import ssl\n",
        "\n",
        "# Web scarping\n",
        "from bs4 import BeautifulSoup"
      ],
      "metadata": {
        "id": "GifW9jvKrTTJ"
      },
      "execution_count": null,
      "outputs": []
    },
    {
      "cell_type": "markdown",
      "source": [
        "### Google Drive\n",
        " \n",
        "* Connect to Google Drive\n",
        "\n",
        "To access resources in your own Google Drive, we need to permit it by running the following code."
      ],
      "metadata": {
        "id": "kly_Lk-Key8J"
      }
    },
    {
      "cell_type": "code",
      "source": [
        "from google.colab import drive\n",
        "drive.mount('/content/drive/')"
      ],
      "metadata": {
        "colab": {
          "base_uri": "https://localhost:8080/"
        },
        "id": "P9dM6BimsnGS",
        "outputId": "2c885a9c-997c-4ea1-89d8-7a4f351aa53f"
      },
      "execution_count": null,
      "outputs": [
        {
          "output_type": "stream",
          "name": "stdout",
          "text": [
            "Mounted at /content/drive/\n"
          ]
        }
      ]
    },
    {
      "cell_type": "markdown",
      "source": [
        "### Download Resources using wget\n",
        "\n",
        "In this lesson, there are two materials we need to download from the web. The first one is the Chinese font which we need to display characters in the plot. The second one is a list of Chinese stopwords which we need for tokenization. We can access both of them using **wget**.\n",
        "\n",
        "* Download Chinese Font"
      ],
      "metadata": {
        "id": "_7BUDFkOe0sM"
      }
    },
    {
      "cell_type": "code",
      "source": [
        "# download Chinese font\n",
        "!wget -O TaipeiSansTCBeta-Regular.ttf https://drive.google.com/uc?id=1eGAsTN1HBpJAkeVM57_C7ccp7hbgSz3_&export=download\n",
        "\n",
        "# after download, we have to add the font into the plotting library\n",
        "# we need matplotlib.font_manager for that\n",
        "import matplotlib as mpl\n",
        "import matplotlib.pyplot as plt\n",
        "from matplotlib.font_manager import fontManager\n",
        "\n",
        "fontManager.addfont('TaipeiSansTCBeta-Regular.ttf')\n",
        "mpl.rc('font', family='Taipei Sans TC Beta')"
      ],
      "metadata": {
        "id": "0-uuHPvjj7cf"
      },
      "execution_count": null,
      "outputs": []
    },
    {
      "cell_type": "markdown",
      "source": [
        "* Download Chinese Stopword List\n",
        "\n",
        "From the github link, we can access the list of stopwords."
      ],
      "metadata": {
        "id": "EJkOSmIUe3BL"
      }
    },
    {
      "cell_type": "code",
      "source": [
        "! wget https://github.com/stopwords-iso/stopwords-zh/blob/master/stopwords-zh.txt -P /content/drive/MyDrive/"
      ],
      "metadata": {
        "id": "2PD9Uvmx3rIG"
      },
      "execution_count": null,
      "outputs": []
    },
    {
      "cell_type": "markdown",
      "source": [
        "## Web Scraping Basics\n",
        "\n",
        "We have learnt how to extract keywords from strings. What if this time, we do not want to copy the whole text, but directly get the text from the web? \n",
        "\n",
        "It can be done by directly scrapping the text from URLs using **BeautifulSoup**. The function BeautifulSoup from the library can parse the HTML code to Python objects. **Data parsing** is a process in which a string of data is converted from one format to another. To start with, we need to pass the web address to variable `url`, then open `url` using **urllib.request** and convert the code with `\"html.parser\"`. We will get the `soup` at the end. \n",
        "\n",
        "In order to extract only text for our analysis, we will remove the HTML tags using **extract()**, following by **get_text()**. To further exclude irrelevant texts from the headers, we can choose to select only the blog content by specifying the **class** of the content using **find()**. To find out the class, we can go to the webpage, open the **developer tool** and use the **inspector** to click on the blog content. We will then find out, the class we need is called **\"newsdetail_content\"**.\n",
        "\n",
        "To guide you through each step of the process, we will first get the text without filtering the data."
      ],
      "metadata": {
        "id": "gwYPieP1GUHP"
      }
    },
    {
      "cell_type": "markdown",
      "source": [
        "### **Step 1:** Get the HTML without parsing.\n",
        "\n",
        "First, we will solely read the HTML code from the URL. We can see the result includes not only text but also HTML code. All the Chinese characters are also displayed in **UTF-8**."
      ],
      "metadata": {
        "id": "rL03-QXpsPRN"
      }
    },
    {
      "cell_type": "code",
      "source": [
        "# read the link\n",
        "url = \"https://m.thepaper.cn/newsDetail_forward_13762466\"\n",
        "html = urlopen(url).read()\n",
        "\n",
        "html[500:1000]"
      ],
      "metadata": {
        "id": "0AFUtvcLzVnO",
        "colab": {
          "base_uri": "https://localhost:8080/"
        },
        "outputId": "2fab5c37-4ff3-4266-add9-d5f515fa5fe6"
      },
      "execution_count": null,
      "outputs": [
        {
          "output_type": "execute_result",
          "data": {
            "text/plain": [
              "b'-touch-fullscreen\"/>\\n<meta name=\"Keywords\" content=\"\\xe6\\xbe\\x8e\\xe6\\xb9\\x83\\xef\\xbc\\x8cPaper\\xef\\xbc\\x8cThe Paper\\xef\\xbc\\x8c\\xe7\\x83\\xad\\xe9\\x97\\xae\\xe7\\xad\\x94\\xef\\xbc\\x8c\\xe6\\x96\\xb0\\xe9\\x97\\xbb\\xe8\\xb7\\x9f\\xe8\\xb8\\xaa\\xef\\xbc\\x8c\\xe6\\x94\\xbf\\xe6\\xb2\\xbb\\xef\\xbc\\x8c\\xe6\\x97\\xb6\\xe6\\x94\\xbf\\xef\\xbc\\x8c\\xe6\\x94\\xbf\\xe7\\xbb\\x8f\\xef\\xbc\\x8c\\xe6\\xbe\\x8e\\xe6\\xb9\\x83\\xe6\\x96\\xb0\\xe9\\x97\\xbb\\xef\\xbc\\x8c\\xe6\\x96\\xb0\\xe9\\x97\\xbb\\xef\\xbc\\x8c\\xe6\\x80\\x9d\\xe6\\x83\\xb3\\xef\\xbc\\x8c\\xe5\\x8e\\x9f\\xe5\\x88\\x9b\\xe6\\x96\\xb0\\xe9\\x97\\xbb\\xef\\xbc\\x8c\\xe7\\xaa\\x81\\xe5\\x8f\\x91\\xe6\\x96\\xb0\\xe9\\x97\\xbb\\xef\\xbc\\x8c\\xe7\\x8b\\xac\\xe5\\xae\\xb6\\xe6\\x8a\\xa5\\xe9\\x81\\x93\\xef\\xbc\\x8c\\xe4\\xb8\\x8a\\xe6\\xb5\\xb7\\xe6\\x8a\\xa5\\xe4\\xb8\\x9a\\xef\\xbc\\x8c\\xe4\\xb8\\x9c\\xe6\\x96\\xb9\\xe6\\x97\\xa9\\xe6\\x8a\\xa5\\xef\\xbc\\x8c\\xe4\\xb8\\x9c\\xe6\\x96\\xb9\\xe6\\x8a\\xa5\\xe4\\xb8\\x9a\\xef\\xbc\\x8c\\xe4\\xb8\\x8a\\xe6\\xb5\\xb7\\xe4\\xb8\\x9c\\xe6\\x96\\xb9\\xe6\\x8a\\xa5\\xe4\\xb8\\x9a\" />\\n<meta name=\"Description\" content=\"\\xe6\\xbe\\x8e\\xe6\\xb9\\x83\\xef\\xbc\\x8c\\xe6\\xbe\\x8e\\xe6\\xb9\\x83\\xe6\\x96\\xb0\\xe9\\x97\\xbb\\xef\\xbc\\x8c\\xe6\\xbe\\x8e\\xe6\\xb9\\x83\\xe6\\x96\\xb0\\xe9\\x97\\xbb\\xe7\\xbd\\x91\\xef\\xbc\\x8c\\xe6\\x96\\xb0\\xe9\\x97\\xbb\\xe4\\xb8\\x8e\\xe6\\x80\\x9d\\xe6\\x83\\xb3\\xef\\xbc\\x8c\\xe6\\xbe\\x8e\\xe6\\xb9\\x83\\xe6\\x98\\xaf\\xe6\\xa4\\x8d\\xe6\\xa0\\xb9\\xe4\\xba\\x8e\\xe4\\xb8\\xad\\xe5\\x9b\\xbd\\xe4\\xb8\\x8a\\xe6\\xb5\\xb7\\xe7\\x9a\\x84\\xe6\\x97\\xb6\\xe6\\x94\\xbf\\xe6\\x80\\x9d\\xe6\\x83\\xb3\\xe7\\xb1\\xbb\\xe4\\xba\\x92\\xe8\\x81\\x94\\xe7\\xbd\\x91\\xe5\\xb9\\xb3\\xe5\\x8f\\xb0\\xef\\xbc\\x8c\\xe4\\xbb\\xa5\\xe6\\x9c\\x80\\xe6\\xb4\\xbb\\xe8\\xb7\\x83\\xe7\\x9a\\x84\\xe5\\x8e\\x9f\\xe5\\x88\\x9b\\xe6\\x96\\xb0\\xe9\\x97\\xbb\\xe4\\xb8\\x8e\\xe6\\x9c\\x80\\xe5\\x86\\xb7\\xe9\\x9d\\x99\\xe7\\x9a\\x84\\xe6\\x80\\x9d\\xe6\\x83\\xb3\\xe5\\x88\\x86\\xe6\\x9e\\x90\\xe4\\xb8\\xba\\xe4\\xb8'"
            ]
          },
          "metadata": {},
          "execution_count": 38
        }
      ]
    },
    {
      "cell_type": "markdown",
      "source": [
        "### **Step 2:** Parse the HTML.\n",
        "\n",
        "After parsing the HTML, the layout gets easier to read. We begin to recognize the Chinese characters, but still with a lot of code."
      ],
      "metadata": {
        "id": "n3SMaLtGTJq3"
      }
    },
    {
      "cell_type": "code",
      "source": [
        "# parse it to BeautifulSoup\n",
        "soup = BeautifulSoup(html, features=\"html.parser\")\n",
        "\n",
        "soup"
      ],
      "metadata": {
        "colab": {
          "base_uri": "https://localhost:8080/"
        },
        "id": "sJVNTf8EITqw",
        "outputId": "fa16dfaf-71f7-4203-cab1-4249d23b778f"
      },
      "execution_count": null,
      "outputs": [
        {
          "output_type": "execute_result",
          "data": {
            "text/plain": [
              "<!DOCTYPE html>\n",
              "\n",
              "<html lang=\"cn\">\n",
              "<head>\n",
              "<meta content=\"text/html; charset=utf-8\" http-equiv=\"Content-Type\"/>\n",
              "<meta content=\"zh-CN\" http-equiv=\"content-language\"/>\n",
              "<meta content=\"initial-scale=1.0,minimum-scale=1.0,maximum-scale=1.0,user-scalable=no,viewport-fit=cover\" name=\"viewport\"/>\n",
              "<meta content=\"no\" name=\"apple-mobile-web-app-capable\"/>\n",
              "<meta content=\"black\" name=\"apple-mobile-web-app-status-bar-style\">\n",
              "<meta content=\"telephone=no\" name=\"format-detection\"/>\n",
              "<meta content=\"yes\" name=\"apple-touch-fullscreen\">\n",
              "<meta content=\"澎湃，Paper，The Paper，热问答，新闻跟踪，政治，时政，政经，澎湃新闻，新闻，思想，原创新闻，突发新闻，独家报道，上海报业，东方早报，东方报业，上海东方报业\" name=\"Keywords\"/>\n",
              "<meta content=\"澎湃，澎湃新闻，澎湃新闻网，新闻与思想，澎湃是植根于中国上海的时政思想类互联网平台，以最活跃的原创新闻与最冷静的思想分析为两翼，是互联网技术创新与新闻价值传承的结合体，致力于问答式新闻与新闻追踪功能的实践。\" name=\"Description\"/>\n",
              "<meta content=\"max-age=1700\" http-equiv=\"Cache-control\"/>\n",
              "<meta content=\"on\" http-equiv=\"cleartype\"/>\n",
              "<title>时差播客︱宗教学：信仰，魔法，身份，权力</title>\n",
              "<link href=\"https://file.thepaper.cn/wap/v6/css/reset.css?v=2.1.5\" rel=\"stylesheet\" type=\"text/css\"/>\n",
              "<link href=\"https://file.thepaper.cn/wap/v6/css/swiper-bundle.min.css\" rel=\"stylesheet\" type=\"text/css\"/>\n",
              "<link href=\"https://file.thepaper.cn/wap/v6/css/base_v6.css?v=2.1.5\" rel=\"stylesheet\" type=\"text/css\"/>\n",
              "<link href=\"https://file.thepaper.cn/wap/v6/css/homepage_v6.css?v=2.1.5\" rel=\"stylesheet\" type=\"text/css\"/>\n",
              "<link href=\"https://file.thepaper.cn/wap/v6/css/newsdetail_v6.css?v=2.1.5\" rel=\"stylesheet\" type=\"text/css\"/>\n",
              "<script src=\"//7b71.t4m.cn/applink.js\" type=\"text/javascript\"></script>\n",
              "<script src=\"https://file.thepaper.cn/wap/v6/js/rem.js\" type=\"text/javascript\"></script>\n",
              "<script src=\"https://file.thepaper.cn/wap/v6/js/jquery-1.8.3.min.js\" type=\"text/javascript\"></script>\n",
              "<script src=\"https://file.thepaper.cn/wap/v6/js/swiper-bundle.min.js\" type=\"text/javascript\"></script>\n",
              "<script src=\"https://file.thepaper.cn/wap/v6/js/audioplayer.min.js\" type=\"text/javascript\"></script>\n",
              "<script src=\"https://file.thepaper.cn/wap/v6/js/vue.min.js\" type=\"text/javascript\"></script>\n",
              "<script src=\"https://file.thepaper.cn/wap/v6/js/main_v6.js?v=2.1.5\" type=\"text/javascript\"></script>\n",
              "<link href=\"//file.thepaper.cn/wap/v6/img/favicon.ico\" rel=\"shortcut icon\" type=\"image/x-icon\"/>\n",
              "<script>\n",
              "        var _hmt = _hmt || [];\n",
              "        (function () {\n",
              "            var hm = document.createElement(\"script\");\n",
              "            hm.src = \"//hm.baidu.com/hm.js?d07e4d64d5cde19b5351e7032beaef1a\";\n",
              "            var s = document.getElementsByTagName(\"script\")[0];\n",
              "            s.parentNode.insertBefore(hm, s);\n",
              "        })();\n",
              "</script>\n",
              "<script src=\"//res.wx.qq.com/open/js/jweixin-1.0.0.js?v=1.4\"></script>\n",
              "<script type=\"text/javascript\">\n",
              "        var shareTitie = \"时差播客︱宗教学：信仰，魔法，身份，权力\";\n",
              "        var shareSummary = \"本期《时差》播客，主持人多伦多大学助理教授郭婷邀请到了来自宾夕法尼亚大学的程晓文教授、香港大学的李纪教授、弗吉尼亚理工大学的倪湛舸教授以及芝加哥大学神学院的神务\";\n",
              "        var shareInfo = {\n",
              "            title:shareTitie+\"_思想市场_澎湃新闻\" ,\n",
              "            desc:shareSummary,\n",
              "            link:location.href,\n",
              "            img:\"https://imagecloud.thepaper.cn/thepaper/image/144/914/241.jpeg\"\n",
              "        };\n",
              "        wxShare(shareInfo);\n",
              "    </script>\n",
              "</meta></meta></head>\n",
              "<body>\n",
              "<div class=\"page_container\">\n",
              "<header>\n",
              "<section class=\"clearfix\">\n",
              "<a class=\"header_logo\" href=\"index.jsp\"></a>\n",
              "<a class=\"header_channel_name\"></a>\n",
              "<div class=\"header_menu\"></div>\n",
              "<div class=\"header_moblink\">\n",
              "<a data-statclick=\"downloadApp\" id=\"moblink_header\" moblink-featured=\"\">下载APP</a>\n",
              "</div>\n",
              "</section>\n",
              "<section class=\"header_panel\">\n",
              "<div>\n",
              "<div class=\"header_title\">频道</div>\n",
              "<ul class=\"header_channel\">\n",
              "<li class=\"\" data-id=\"\"><a href=\"/\">要闻</a></li>\n",
              "<li class=\"\" data-id=\"26916\"><a href=\"channel_26916\">视频</a></li>\n",
              "<li class=\"\" data-id=\"108856\"><a href=\"channel_108856\">战疫</a></li>\n",
              "<li class=\"\" data-id=\"25950\"><a href=\"channel_25950\">时事</a></li>\n",
              "<li class=\"\" data-id=\"25951\"><a href=\"channel_25951\">财经</a></li>\n",
              "<li class=\"\" data-id=\"25952\"><a href=\"channel_25952\">思想</a></li>\n",
              "<li class=\"\" data-id=\"\"><a href=\"channel_36079\">澎湃号</a></li>\n",
              "<li class=\"\" data-id=\"25953\"><a href=\"channel_25953\">生活</a></li>\n",
              "<li class=\"\" data-id=\"\"><a href=\"ask_index.jsp\">问吧</a></li>\n",
              "<li class=\"icon_openapp\"><a data-moblink=\"demo/a?contType=21&amp;contId=-23\" id=\"moblink_gj\" moblink-featured=\"\">国际</a></li>\n",
              "<li class=\"icon_openapp\"><a data-moblink=\"demo/a?contType=21&amp;contId=-20\" id=\"moblink_kj\" moblink-featured=\"\">科技</a></li>\n",
              "<li class=\"icon_openapp\"><a data-moblink=\"demo/a?contType=21&amp;contId=-21\" id=\"moblink_ty\" moblink-featured=\"\">体育</a></li>\n",
              "</ul>\n",
              "</div>\n",
              "<div>\n",
              "<div class=\"header_title\">栏目</div>\n",
              "<ul class=\"header_nav\">\n",
              "<li class=\"\" data-id=\"26916\">视频</li>\n",
              "<li class=\"\" data-id=\"108856\">战疫</li>\n",
              "<li class=\"\" data-id=\"25950\">时事</li>\n",
              "<li class=\"\" data-id=\"25951\">财经</li>\n",
              "<li class=\"\" data-id=\"25952\">思想</li>\n",
              "<li class=\"\" data-id=\"25953\">生活</li>\n",
              "</ul>\n",
              "<ul class=\"header_list\" data-id=\"26916\">\n",
              "<li><a href=\"list_26912\">上直播</a></li>\n",
              "<li><a href=\"list_26913\">七环视频</a></li>\n",
              "<li><a href=\"list_26965\">温度计</a></li>\n",
              "<li><a href=\"list_26908\">一级视场</a></li>\n",
              "<li><a href=\"list_27260\">World湃</a></li>\n",
              "<li><a href=\"list_26907\">湃客科技</a></li>\n",
              "<li><a href=\"list_33168\">纪录湃</a></li>\n",
              "<li><a href=\"list_26911\">围观</a></li>\n",
              "<li><a href=\"list_26918\">@所有人</a></li>\n",
              "<li><a href=\"list_26906\">大都会</a></li>\n",
              "<li><a href=\"list_26909\">追光灯</a></li>\n",
              "<li><a href=\"list_26910\">运动装</a></li>\n",
              "<li><a href=\"list_26914\">健寻记</a></li>\n",
              "<li><a href=\"list_82188\">AI播报</a></li>\n",
              "<li><a href=\"list_89035\">眼界</a></li>\n",
              "<li><a href=\"list_92278\">关键帧</a></li>\n",
              "<li><a href=\"list_104191\">世界会客厅</a></li>\n",
              "</ul>\n",
              "<ul class=\"header_list\" data-id=\"108856\">\n",
              "<li><a href=\"list_90069\">战疫</a></li>\n",
              "</ul>\n",
              "<ul class=\"header_list\" data-id=\"25950\">\n",
              "<li><a href=\"list_25462\">中国政库</a></li>\n",
              "<li><a href=\"list_25488\">中南海</a></li>\n",
              "<li><a href=\"list_97924\">初心之路</a></li>\n",
              "<li><a href=\"list_25489\">舆论场</a></li>\n",
              "<li><a href=\"list_25490\">打虎记</a></li>\n",
              "<li><a href=\"list_25423\">人事风向</a></li>\n",
              "<li><a href=\"list_25426\">法治中国</a></li>\n",
              "<li><a href=\"list_25424\">一号专案</a></li>\n",
              "<li><a href=\"list_25463\">港台来信</a></li>\n",
              "<li><a href=\"list_25491\">长三角政商</a></li>\n",
              "<li><a href=\"list_25428\">直击现场</a></li>\n",
              "<li><a href=\"list_68750\">公益湃</a></li>\n",
              "<li><a href=\"list_27604\">暖闻</a></li>\n",
              "<li><a href=\"list_25464\">澎湃质量报告</a></li>\n",
              "<li><a href=\"list_25425\">绿政公署</a></li>\n",
              "<li><a href=\"list_25429\">澎湃国际</a></li>\n",
              "<li><a href=\"list_25481\">外交学人</a></li>\n",
              "<li><a href=\"list_25430\">澎湃防务</a></li>\n",
              "<li><a href=\"list_25678\">唐人街</a></li>\n",
              "<li><a href=\"list_25427\">澎湃人物</a></li>\n",
              "<li><a href=\"list_25422\">浦江头条</a></li>\n",
              "<li><a href=\"list_25487\">教育家</a></li>\n",
              "<li><a href=\"list_25634\">全景现场</a></li>\n",
              "<li><a href=\"list_25635\">美数课</a></li>\n",
              "<li><a href=\"list_25600\">快看</a></li>\n",
              "</ul>\n",
              "<ul class=\"header_list\" data-id=\"25951\">\n",
              "<li><a href=\"list_25434\">10%公司</a></li>\n",
              "<li><a href=\"list_25436\">能见度</a></li>\n",
              "<li><a href=\"list_25433\">地产界</a></li>\n",
              "<li><a href=\"list_25438\">财经上下游</a></li>\n",
              "<li><a href=\"list_25435\">金改实验室</a></li>\n",
              "<li><a href=\"list_25437\">牛市点线面</a></li>\n",
              "<li><a href=\"list_27234\">科技湃</a></li>\n",
              "<li><a href=\"list_25485\">澎湃商学院</a></li>\n",
              "<li><a href=\"list_25432\">自贸区连线</a></li>\n",
              "<li><a href=\"list_37978\">进博会在线</a></li>\n",
              "</ul>\n",
              "<ul class=\"header_list\" data-id=\"25952\">\n",
              "<li><a href=\"list_25444\">社论</a></li>\n",
              "<li><a href=\"list_27224\">澎湃评论</a></li>\n",
              "<li><a href=\"list_26525\">思想湃</a></li>\n",
              "<li><a href=\"list_26878\">上海书评</a></li>\n",
              "<li><a href=\"list_25483\">思想市场</a></li>\n",
              "<li><a href=\"list_25457\">私家历史</a></li>\n",
              "<li><a href=\"list_25574\">翻书党</a></li>\n",
              "<li><a href=\"list_25455\">艺术评论</a></li>\n",
              "<li><a href=\"list_26937\">古代艺术</a></li>\n",
              "<li><a href=\"list_25450\">文化课</a></li>\n",
              "<li><a href=\"list_25482\">逝者</a></li>\n",
              "<li><a href=\"list_25445\">澎湃研究所</a></li>\n",
              "<li><a href=\"list_25456\">市政厅</a></li>\n",
              "<li><a href=\"list_26915\">城市漫步</a></li>\n",
              "<li><a href=\"list_25446\">智库报告</a></li>\n",
              "<li><a href=\"list_25536\">专栏</a></li>\n",
              "<li><a href=\"list_26506\">异次元</a></li>\n",
              "<li><a href=\"list_97313\">海平面</a></li>\n",
              "<li><a href=\"list_103076\">一问三知</a></li>\n",
              "</ul>\n",
              "<ul class=\"header_list\" data-id=\"25953\">\n",
              "<li><a href=\"list_25448\">有戏</a></li>\n",
              "<li><a href=\"list_26609\">文艺范</a></li>\n",
              "<li><a href=\"list_25942\">身体</a></li>\n",
              "<li><a href=\"list_26015\">私·奔</a></li>\n",
              "<li><a href=\"list_25599\">运动家</a></li>\n",
              "<li><a href=\"list_25842\">私家地理</a></li>\n",
              "<li><a href=\"list_80623\">非常品</a></li>\n",
              "<li><a href=\"list_26862\">楼市</a></li>\n",
              "<li><a href=\"list_25769\">生活方式</a></li>\n",
              "<li><a href=\"list_25990\">澎湃联播</a></li>\n",
              "<li><a href=\"list_26173\">视界</a></li>\n",
              "<li><a href=\"list_26202\">亲子学堂</a></li>\n",
              "<li><a href=\"list_26404\">北京冬奥</a></li>\n",
              "<li><a href=\"list_26490\">汽车圈</a></li>\n",
              "</ul>\n",
              "</div>\n",
              "</section>\n",
              "</header>\n",
              "<div style=\"display:none\">\n",
              "<img alt=\"\" src=\"https://imagecloud.thepaper.cn/thepaper/image/144/914/241.jpeg\"/>\n",
              "<img alt=\"\" src=\"https://imagecloud.thepaper.cn/thepaper/image/144/914/238.jpeg\"/>\n",
              "</div>\n",
              "<div class=\"page_body page_newsdetail\">\n",
              "<div class=\"newsdetail_header\">\n",
              "<div class=\"channel\">\n",
              "<div class=\"channel_name\"><a href=\"list_25483\">思想市场</a><span class=\"icon_tri-dark\"></span></div>\n",
              "<div class=\"listen_btn\">\n",
              "<a data-moblink=\"demo/a?contType=2&amp;contId=13762466\" data-statclick=\"listenToApp\" id=\"moblink_audio\" moblink-featured=\"\"><span class=\"icon_audio\"></span>去APP听</a>\n",
              "</div>\n",
              "</div>\n",
              "<div class=\"title\">时差播客︱宗教学：信仰，魔法，身份，权力</div>\n",
              "<div class=\"author\">时差播客</div>\n",
              "<div class=\"date\">\n",
              "                2021-07-30 12:29 \n",
              "                \n",
              "                    \n",
              "                        来源：澎湃新闻\n",
              "                    \n",
              "                    \n",
              "                \n",
              "            </div>\n",
              "</div>\n",
              "<!-- 时间线 头部 newsTimeline -->\n",
              "<!-- 时间线 newsTimeline -->\n",
              "<div :style=\"{height:timeLineObj.currentHeight}\" class=\"topic_tl_panel\" id=\"timeLineOne\" ref=\"timeLinePanel\" style=\"position:relative;\" v-cloak=\"\" v-if=\"newsTimeline &amp;&amp; newsTimeline.name\">\n",
              "<div class=\"topic_tl_header\">\n",
              "<div class=\"logo\"></div>\n",
              "<div class=\"topic_tl_title\">\n",
              "            {{newsTimeline.name}}\n",
              "        </div>\n",
              "</div>\n",
              "<div>\n",
              "<div :key=\"index\" class=\"timeline_item\" style=\"position:relative;\" v-for=\"(item ,index) in newsTimeline.dateList\">\n",
              "<ul>\n",
              "<li>\n",
              "<div class=\"topic_tl_empty\"></div>\n",
              "<div class=\"topic_tl_date\" v-if=\"item.occurrenceDay!=''\">\n",
              "                        {{item.occurrenceDay}}\n",
              "                    </div>\n",
              "</li>\n",
              "</ul>\n",
              "<ul>\n",
              "<li :key=\"i\" @click=\"goTimeLineDetail(content)\" class=\"topic_tl_item\" v-for=\"(content,i) in item.eventList\">\n",
              "<div class=\"topic_tl_pai\"></div>\n",
              "<div class=\"topic_tl_time\" v-if=\"content.occurrenceTime\">{{content.occurrenceTime}}</div>\n",
              "<div class=\"topic_tl_content\">\n",
              "<div> {{content.name}}</div>\n",
              "<div class=\"topic_tl_link\" v-if=\"content.related &amp;&amp; content.related.link &amp;&amp; content.related.link !=''\">\n",
              "<span class=\"topic_tl_jiantou\"></span><span>查看详情</span>\n",
              "</div>\n",
              "</div>\n",
              "</li>\n",
              "</ul>\n",
              "</div>\n",
              "</div>\n",
              "<div @click=\"timeLineBtnHandle()\" class=\"topic_tl_foot\" v-if=\"timeLineObj.hasMoreBtn\">\n",
              "<div class=\"topic_tl_showhalf\" v-show=\"!timeLineObj.isShowMore\">全部展开</div>\n",
              "<div class=\"topic_tl_showall\" v-show=\"timeLineObj.isShowMore\">收起时间线</div>\n",
              "</div>\n",
              "</div>\n",
              "<div class=\"newsdetail_body news_part_limit\">\n",
              "<div class=\"newsdetail_content\"><u>本期《时差》播客，主持人多伦多大学助理教授郭婷邀请到了来自宾夕法尼亚大学的程晓文教授、香港大学的李纪教授、弗吉尼亚理工大学的倪湛舸教授以及芝加哥大学神学院的神务硕士、医院宗教师郑利昕，以“宗教学：信仰，魔法，身份，权力”为题展开讨论。宗教并不外在于日常生活，而是弥散在社会、历史、文化、政治中的点滴；宗教学帮助我们反思历史，同时理解今天的世界。<br/><div class=\"contheight\"></div>本文为<a href=\"https://www.xiaoyuzhoufm.com/episode/60d7441325da4f997b8ba0f9\">时差播客</a>与澎湃新闻合作刊发的文字稿，由澎湃新闻（www.thepaper.cn）记者龚思量整理。</u><img alt=\"观音老母洞\" src=\"https://imagecloud.thepaper.cn/thepaper/image/144/914/214.jpeg\" style=\"width:600px;\"/><p class=\"image_desc\">观音老母洞</p><strong>郭婷</strong>：在今天节目开始之前，我想先表达一下沉痛的悼念，前几天有一位宗教学界的前辈，台大的林富士老师（1960-2021）去世了。我本来并不是研究中国宗教的，也不研究传统的中国文史哲，所以并没有和林老师见过面。但我一直从他的研究中得到灵感，所以非常感谢他。这两天也在脸书上，看到很多他过去的同事和学生对他的纪念。虽然学术界很多时候是一个有失公正的地方，但还是有一些地方让人觉得温暖，就好像点亮了一盏灯，而那盏灯一直会亮下去。<br/><div class=\"contheight\"></div>这一期我们来谈宗教学，不只是谈学界，也谈它的实践。在座几位虽然是跨学科的研究者或实践者，但也是宗教学出身。那我相信，大家在和别人介绍说自己研究宗教学的时候，通常会听到几个问题：一个是那你有没有宗教信仰？或者你研究哪一种宗教？以前还会听到的一个问题是，那你毕业之后做什么，是不是准备出家等等。<br/><div class=\"contheight\"></div>我以前会开玩笑说，对，以后出家给人算命。其实不只是学界之外，包括学界之内，不同学科对宗教学领域都会有一些陌生，因为它确实是一个比较特殊的学科。就我自己而言，我博士的训练在爱丁堡大学的神学院。爱大神学院作为一个新兴科系，比较有抗争精神和创新精神。它设立之初就是为了和传统的神学或者是和宗教有关的学科对抗，所以它非常讲究世俗化和社会科学方法。<br/><div class=\"contheight\"></div>我记得大部分宗教系的学者不论男女都打扮得非常不羁。在开会的时候，美国宗教学、尤其是圣经研究的学者尤其男性会打扮得非常闪亮，头发焗过、穿西装、带领带、鞋子都擦得很亮，但是英国宗教系的老师就穿得很随便。<br/><div class=\"contheight\"></div>而宗教学学科的训练讲究宗教和社会的关系、宗教和当下社会的关系。虽然我当时的研究是从AI人工智能切入，但其实是研究是英国的世俗化的情况。当然，在神学院也会碰到其他科系的同学，比如有旧约研究、新约研究，神学研究，然后也有一些道学博士或者是教牧学的学位。<br/><div class=\"contheight\"></div>那想请几位聊聊，你们的研究背景是怎么样的，也可以跟大家聊一下心路历程。<br/><div class=\"contheight\"></div><strong>郑利昕</strong>：我接触的这些课程，是所谓的最传统的那种。芝加哥大学神学院的硕士英文是Master of Divinity，它不是一般的学术项目，是比较偏实践的，所以项目培养中有很多的实习、见习。芝加哥大学神学的M.A.，很多人进去的时候，都想着我以后要读宗教学或者相关学科的博士，那么读硕士是一个基本的门槛。<br/><div class=\"contheight\"></div>当我进入了项目以后，我发现它有神务硕士的项目，比较偏实践，非常有趣。在进神学院之前，我不知道学院内有这个项目，因为一般来说传统上只有基督教徒才会说以后我要作为神学人员，我需要读这个神学硕士。<br/><div class=\"contheight\"></div>但是神学院在最近10年产生了一些变化，它开始接受不同宗教的人进入神务硕士项目。所以我们班上会有基督教、犹太教、佛教、伊斯兰教、印度教，还有以人文主义者，或者人本主义者的身份进入项目的。所以我也算误打误撞进入了宗教学或者宗教实践的领域。<br/><div class=\"contheight\"></div>在进入神学院前，我是学物理的，物理博士读到一半发现人生好没有意义，我之后要去当码农了，所以想找一个有意义的专业。在寻找包括哲学、人类学之后，发现我对宗教学最感兴趣，后面又发现我最感兴趣的不是宗教学，而是宗教实践，或者说是以传统的宗教实践为启发的、一种比较广泛的社会实践的形式。<br/><div class=\"contheight\"></div><strong>倪湛舸：</strong>利昕是在芝加哥大学读的神学硕士，我是在同样一个地方接受的宗教学教育，但是我是读完硕士去那里读的博士，芝加哥大学的神学院比较特别，它其实是一个大的宗教学中心。像刚刚提到的，芝加哥大学的硕士项目也涵盖各个宗教，虽然说起来是各个宗教，但是肯定也不会全部覆盖，只是尽力去吸纳。在博士阶段，很多年前我们是有9个项目，就像系科一样。<br/><div class=\"contheight\"></div>刚才郭婷有聊到旧约、新约研究，这些神学院的传统科目，在芝加哥大学还有宗教历史，宗教社会学，宗教人类学，当年还有宗教心理学。<br/><div class=\"contheight\"></div>在基督教之外，像宗教历史，当年有J. Z. Smith等一大帮人他们什么都做、什么都比较，现在相对来说走向了衰落，受到了批判，所以后来会有专门的伊斯兰研究。我的专业其实是叫宗教与文学，现在叫做宗教、文学与视觉艺术，又加了一个东西，想把电影包括进来，理论上也包括电影、电视、电子游戏。<br/><div class=\"contheight\"></div>不同的学校的神学院的风格也不一样，芝加哥大学可能偏向宗教学，而不是神学。相比之下，杜克、耶鲁和哈佛的神学院更加接近于神学。<br/><div class=\"contheight\"></div><strong>郑利昕</strong>：我刚查了一下，现在的研究领域变成了11个了。包括宗教社会学，现在已经正式地变为宗教社会学与人类学。<br/><div class=\"contheight\"></div><strong>倪湛舸</strong>：其实当年就已经很有人类学的痕迹了，我们当时都是一定要读Talal Asad，跟着Bruce Lincoln学。<br/><div class=\"contheight\"></div><strong>郭婷</strong>：其实芝加哥神学院确实有这个传统，比较讲究宗教学传统，是比较特别的一个神学院。刚才湛舸提到的这些学者，包括芝加哥大学的J.Z. Smith，对于学宗教学的人来说，都是最经典的一些学者，大家都要读。<br/><div class=\"contheight\"></div>当然现在越来越多的神学院也好，宗教学研究也好，会去研究世界宗教和不同的宗教传统。在英国，这两年出现了一件非常有争议的事，我们当时神学院的本科课程，它有专门的一门课叫世界宗教，其实是一个殖民思维的产物，以基督教为中心，将“其它”宗教纳入“世界宗教”。这个概念现在非常有争议性，学界在努力解构它的同时提出新的范式。<br/><div class=\"contheight\"></div>后来神学院里面也有伊斯兰研究，但是还没有其他例如佛学研究，因为佛学研究跟伊斯兰、犹太教研究很多时候都属于亚洲研究，这就是区域研究和所谓的正式学科研究之间的张力。这也给学院派的研究带来了很多问题。<br/><div class=\"contheight\"></div>我们今天的另外两位嘉宾，李纪跟程晓文教授，她们的跨学科研究其实就汇合了汉学、历史学，中国研究，这些其实是存在一些交叉性的。那也想了解一下你们在进入宗教学或者是进入学术研究的时候整个的心路历程。<br/><div class=\"contheight\"></div><strong>程晓文</strong>：我大学念的是中文系。之后在台大念硕士的时候，主修思想史。到了美国以后，我在华盛顿大学念是历史系博士，跟Patricia Ebrey开始做宋史。<br/><div class=\"contheight\"></div>真的开始披上宗教学的外衣，其实是拿到我现在这个研究东亚宗教的工作。然我来宾大的前一年，刚好在哈佛神学院做一年的研究员。所以我就可以谎称自己做的是宗教。我还记得我拿到这个工作之后，所有不管是认识我还是不认识我的人，第一个反应就是——可你又不做宗教。结果我这工作做着做着，我仿佛也做起了宗教现在我每年都教跟宗教有关的课，所以我对宗教这个东西是很感兴趣的。<br/><div class=\"contheight\"></div>其实我在大学时代是一个基本教义派的、福音派的基督教徒，是最传统的基督徒。我以前是非常认真的，那时候还去修古希腊文什么的。后来我也有一个过程，慢慢就不去教会了，然后就不认为自己是一个基督徒了。但是我对于宗教信仰这件事情，是非常可以理解的，它是一个大家需要认真看待的事情。我觉得我们不应该仅仅从社会学的角度去分析，它其实是一件非常有趣的东西。它可以让我们重新思考很多我们做研究时候会忽略的一些问题，跟我们常有的一些可能错误的假设。<br/><div class=\"contheight\"></div><strong>郭婷</strong>：其实大家如果听“新书介绍”（new books network）这个播客的话，大家可能知道程老师最近有一本新书，在播客上有一段非常精彩的访谈，这本书是叫《神，魔，乱：没有男性的宋代女性（<em>Divine, Demonic, and Disordered: Women without Men in Song Dynasty China</em>）》。我当时听这本书觉得讲得非常精彩，也讲到了学术训练的一些心路历程。然后其实我们有一个共同朋友Donovan Schaefer，你们都在宗教系？<br/><div class=\"contheight\"></div><strong>程晓文</strong>：我在东亚系，他在宗教系。我纯粹是在东亚系。但是对当初我的职位是一个东亚宗教研究的跨系招聘，它会在不同的系设置一个跟宗教有关的职位。<br/><div class=\"contheight\"></div><strong>郭婷</strong>：原来如此，其实是我们这种跨学科的研究者在找工作的时候经常要遇到的问题，看似好像什么都可以申请，但工作其实都要看很多机缘巧合，也要看学校现在的方向怎样的。那台湾地区的基督徒，像在台大有自己的学生团契吗？<br/><div class=\"contheight\"></div><strong>程晓文</strong>：它有好几个不同的教派。我的那个叫校园团契，在台湾地区也是一个全国性的机构。它的重点就是做学生工作，在中学还有大学去帮学生训练，做组织等等。还有一个团契叫学员团契，性质类似。还有一些可能像比较大的教会组织就会有自己的聚会所，它最早好像是英国的某一个兄弟会的一个分支，和倪柝声有关。当时我在的聚会所思想比较开放，我这辈子第一次听到女性主义是在那个团契里面。<br/><div class=\"contheight\"></div><strong>郭婷</strong>：原来倪柝声的教会现在在台湾地区以这种方式生长。<br/><div class=\"contheight\"></div>我前几天还刚在看连曦老师的书。他之前有写倪柝声，在《浴火得救（<em>Redeemed by Fire</em>）》这本书里。之前还看过另外一本书，关于倪柝声的家人、后辈，那本书叫《上海信徒（<em>Shanghai Faithful</em>）》，讲到林家在福建做传教士家族的厨师，由于他的曾祖父非常聪慧，传教士便资助他的学业，让他去上海读神学院。读的是圣约翰大学，做了林语堂的同学。他的太太是倪柝声的妹妹。这本书写到许多传奇人物的真实历史。<br/><div class=\"contheight\"></div>我自己的感觉是，在中国大陆接触宗教和在台湾地区接触宗教是不同的。因为在台湾，宗教可能相对可见程度、能见程度更高，学校也有不同的团契。当然，我记得在2000年后半读大学的时候社会风气比较自由，还可以看到非常多韩国的传教士。有很多华人研究宗教学的朋友，其实都是因为教会的关系接触到宗教。<br/><div class=\"contheight\"></div>可惜我不是这样，大家都问我是因为什么原因接触宗教学，其实我是因为一个人工智能的问题。我本科读的也是宗教学，有宗教哲学这门课，课上提到说如果一个人出了车祸，他的脸都被烧毁了，然后医生给他换了一张脸，他在镜子里面不认识自己，他还是不是他？就是一个人格同一性的问题。当时我就说，天哪，世上有那么有趣的问题，如果我出车祸，我还是不是我，我一定要研究这个问题。<br/><div class=\"contheight\"></div>当时就问老师，我要研究这个问题，我应该进哪一个学校，进哪一个科系研究。结果当时不知道谁说你应该研究人工智能，这是人工智能哲学的问题。后来我申请学校的时候就选了人工智能哲学方向，谁知道人工智能其实是非常理工科的，我就花了非常多的时间去研究科学史和人工智能哲学，后来才渐渐进入了宗教学的领域。<br/><div class=\"contheight\"></div>再请李纪老师来聊一下是怎么从历史学进入宗教学这个领域的。<br/><div class=\"contheight\"></div><strong>李纪</strong>：谢谢郭婷，刚才晓文老师说她是离宗教最远的，其实我本来也想说这句话。我的求学经历很简单，我从本科、硕士到博士都一直是历史系。我在北京大学历史系读了本科和硕士，我的本科专业是法国史，本科毕业论文是关于法国大革命的。在我那个年代，我的法国史老师是国内法国研究的权威，但是ta接受的法国史的系统训练还是传统的革命史研究，当时宗教是不进入法国大革命研究的。<br/><div class=\"contheight\"></div>所以在我到美国去读博士的时候，我的研究计划其实是“性别和革命的比较研究”，那时候读了一些新文化史对法国的心态史、性别研究；在90年代末、2000年初，这些在大陆是很新鲜的新史学，我当时就觉得这是我想做的。在做硕士论文的时候，我已经就开始在思考大革命起源，我做的是关于当时的书籍、沙龙，也有对巴黎的想象，因此写了这样一个研究计划。<br/><div class=\"contheight\"></div>到了美国第一年，我在密歇根大学的历史系，主要是研究欧洲史领域，还是想做大革命。我记得第一学期，我参加了一个关于大革命的研讨会，当时在威斯康辛遇到一个做法国研究的一个美国学者，他看我第一眼就对我说，我听说你想做法国大革命，让我想一想还有什么话题没有人碰过。当时才发现200年以来，法国大革命的点点滴滴，你能想到的任何东西，从日常生活到议会，每一个方方面都被人研究过了。所以我当时就想，我该怎么办，而且相对我的同学来说，虽然我也学法语，但是我还没有去过法国，没有真正进入过档案馆，因此我也非常焦虑。<br/><div class=\"contheight\"></div>学了两年欧洲的各种课程，到第三年要开题的时候，我就想我还是想做一个跟中国相关的题目。既然法语比不过人家，那我还是做一点能够用到中文材料的研究，当时就看中法之间有什么联络。除了大革命中很局限的一部分以外，那从历史上来看，传教士肯定是一个很大的团体。<br/><div class=\"contheight\"></div>所以我就去了法国，大概是第二年还是第三年的暑假，正好那两年有一个巴黎的高等研究院的教授长期在密歇根大学做客座教授。那一位教授他自己是做书籍史的，我到了巴黎的第一天，他就从机场接我直接到了巴黎外方传教会的档案馆。那是一个17世纪的神学院，一个修会。那是我第一次走进一个修院，一个17世纪的建筑。它在巴黎第6区，旁边是当时的巴黎高等研究院，和Bon Marche百货公司。进去以后，先看到了小教堂，穿过大大的楼，进到他们的阅读室。<br/><div class=\"contheight\"></div>后来我就一直在那里，第一次去了两个月，接下来4年，基本上一半的时间都在巴黎。之后慢慢地就进入了宗教史，到现在我介绍自己的专业一般都说是宗教史或者社会史，也涉及一些性别研究。<br/><div class=\"contheight\"></div>我听了大家的故事，发现还是有很多不一样的地方，一个是我没有任何宗教学或者神学的训练，还有我一直做天主教，而且主要是在中国的法国的天主教传教团体、在华基督教史这样一个领域。如果你研究天主教，这种非常系统性的教会，尤其是在中国的传教，会被保守落后、非常制度化。跟大家现在谈那种宗教、弥撒、宗教生活是很不一样的。<br/><div class=\"contheight\"></div>那我来到港大以后，一直在研究所（香港人文社科研究所），后来才有joint appointment到了文学院。在研究所，大部分老师都是做宗教，他们做道教、民间宗教，或者是人类学。我在他们中间，经常都是唯一一个做基督教，而且是做天主教的研究者。我坐在里面，听他们各种各样的讨论，受到的冲击也特别大。<br/><div class=\"contheight\"></div>我自己的第一本书《上帝的女儿们：十九世纪东北的天主教女性（<em>God’s Little Daughters: Catholic Women in Nineteenth-Century Manchuria</em>）》，是非常传统的历史题目，是一个教会史，大概是讲法国天主教的传教史，在19世纪中国东北的发展。其中有一些很有趣的材料，特别关注了中国的几个守贞女，天主教的女性写给法国神父的信，从这样一个角度进入研究，但本身的结构还是传统的教会史。<img alt=\"《上帝的女儿们：十九世纪东北的天主教女性（God’s Little Daughters: Catholic Women in Nineteenth-Century Manchuria）》\" src=\"https://imagecloud.thepaper.cn/thepaper/image/144/739/964.jpg\" style=\"width:600px;\"/><p class=\"image_desc\">《上帝的女儿们：十九世纪东北的天主教女性（God’s Little Daughters: Catholic Women in Nineteenth-Century Manchuria）》</p>那第二本书，是我后来编的巴黎外行传教会与中国的论文集。其实它是一个很重要的团体，如果大家学过中学历史，在大陆我们会讲法国保教权、帝国主义侵略，巴黎外方传教会就是其主体。这些现代的传教士，他们都跟早期的利玛窦相差很远，因为这批传教士大部分出身比较低、文化水平不高，都是无名之辈，后来来到中国。但是，在这种不平等条约的体系下，大批这样的传教士来到中国。<br/><div class=\"contheight\"></div>在写完我第二本书之后，其实我就找到了一个传教士的材料。他在东北的一个村子里，就是我第一本书看到的那几封信，他们来自中国东北的一个小天主教村。虽然我自己第一本书里没有写到这个村子，但是我后来找到他的后人。大概2010年左右，我找到这些后人以后，就开始真正跨学科进入这个领域。开始去到村子里，跟他们家的后人做了一些田野调查。<br/><div class=\"contheight\"></div>他们这个家族有一个女孩，1948年的时候进了沈阳的修院，后来东北解放的时候跟着法国传教士到了台湾地区，她现在定居在台中，现在应该接近90岁了。我第一次见她是在2012年。慢慢就会觉得，虽然我研究的是一个非常制度化的宗教，有严格的阶级，但是当你进入到民间生活以后，你会发现好多事情跟你在书本上看到的或者你想象的这种教会的体系是不同的，传教士和中国教徒的关系是非常有趣的。在第二本书里找到的这个传教士，他是义和团之前，1899年来到中国东北，然后一直到1948年共产党解放东北之后，在一个意外当中，被一个算是他教区的教友因为抢东西给谋杀了，非常得戏剧化。<br/><div class=\"contheight\"></div>我们都知道从义和团到48年的东北解放，中国经历了什么样的社会变化，这个传教士留下了700多封家书。他在我看到的村子里待了27年，他为了编一本中文的口语学习资料，他记录了9000多条当地村民的对话，非常有趣。这个故事中不光存在文本，也存在语言和声音；这里有很多故事，而我们要思考怎么去解读这些对话，因为它是用法语的拼音来记录了当地的方言。所以最开始我拿到材料的时候，我不知道那是什么，像他给爸妈写信的时候，他会在里面画很多插图。<br/><div class=\"contheight\"></div>这对我这样一个做历史的人来说非常迷人，给我很大的冲击，对中国现代的、我们的天主教村里面这些教友，非常草根层面的普通人来说，天主教意味着什么？教会意味着什么？传教士意味着什么？<br/><div class=\"contheight\"></div>我很想去突破我们保守落后的历史学界的帝国主义侵略的框架，我们都是在这个框架里去讲传教士。他的材料是非常日常生活的，那怎样突破这个框架，去讲天主教在中国人的生活里面的意义？比如说我们总是把49年看成一个断裂，各种天翻地覆社会的变化，但是当你进入到天主教村的时候，你会发现没有这个断裂。虽然表面上它有很多冲击，教堂被拆、被砸，他们也个人受到一些冲击，但是跟刚才郭婷提到倪柝声的家族，在上海大城市里面的遭遇完全不一样。<br/><div class=\"contheight\"></div>农村底层也经历来这些运动，但是日常生活的延续性是非常明显的，所以你会觉得历史是凝固的。当然不是说它一成不变，而是说那种连续性让你非常觉得震惊。现在我在写书的时候，我其实是把历史和我现在脑袋里想的杜家（当时那几封信是姓杜的小女生写的）联系起来。<br/><div class=\"contheight\"></div>我越来越觉得宗教学，包括杨庆堃（C.K. Yang）最早的那些理论性的东西是跨学科的研究。包括之前听过湛舸讲你的游戏、人工智能，都很有趣。我真的觉得自己的研究是保守落后的，这种历史研究方法、处理的主题和档案，但其实它能跟这种非常新鲜的研究中找到很多共性。<br/><div class=\"contheight\"></div>现在我在研究所，我们有个同事宗树人（David Palmer）导着一个很大的研究项目，他集合的团体是做各种宗教研究的，伊斯兰教的、民间宗教的、佛教的，但是像我每次讲都是教会，结构，天主教传教，但你不能去否认这种结构，在这种结构底下你能看到很多共性。现在我想研究的，是我们应该去从哪个角度，更加理论化的角度去探讨天主教在中国的主题。<br/><div class=\"contheight\"></div><strong>郭婷</strong>：其实这里面讲到许多很重要的点，我们认为不只是在学界内，在学界以外，日常生活中，我们认为什么东西是保守的、什么东西是落后的、什么东西是固化的，其实最重要的问题是这些偏见是怎么来的？我最终的这种印象是怎么被塑造出来的？所谓的偏见，所谓的保守性，或者是所谓的现代性是怎么来的，怎么得到体现的，是怎么在各种交互中得到形成的。<br/><div class=\"contheight\"></div>比如刚才晓文老师也提到，基督教或者是福音派，可能在台湾地区或者在亚洲很多地方就是一个普通的教会，并没有我们在美国看到的那种非常保守的状态。但是在美国，如果你说你是福音派，或者你是基要派，就会有更多政治的面向。当然现在也有护家盟，最近这几年美国的福音派在系统性地扶植台湾的福音派，复制美国的模式。<br/><div class=\"contheight\"></div>今天我们看到的是保守派基督教在全球进行这样一种连接。可能在早期天主教或基督教新教的传教时期，传教士和亚洲的知识分子、普通民众也在相互塑造这样一种形象。比如很多时候，基督教被认为是现代性的代表，和科学、理性、民主结合在一起，其实大家现在还是有这种印象。但其实有非常多政治保守的人物，他们在亚洲语境下，又被认为是反抗集权的，被认为是先进的自由派人物。因为他们所认识的基督教，是某一种被相互意识形态塑造而成的基督教的形象。<br/><div class=\"contheight\"></div>有另外一本关于天主教的作品著作，最近也被翻译成中文，是沈艾娣（Henrietta Harrison）所写的《传教士的诅咒：一个华北村庄的全球史（1640–2000）》。 她也是一位历史学家，研究教会史。她也是写到华北的草根天主教徒，在大的革命概念之下，那些被遗忘的普通信众，他们对天主教是怎样认识的？他们对世界的想象是什么？或者他们就对身处这个环境的认识是什么？可能不管是官方的论述，或者是学界的论述都经常会遗忘他们，或是为他们代言。所以李纪老师说到的从档案来看，尤其天主教非常擅长保存和写档案，留下了很多书信，这些都是非常宝贵的资料。<br/><div class=\"contheight\"></div>然后利昕，想听你来聊一下道学，你说教牧训练和学界训练有很多不一样，想听听你的训练中比较有趣的事情。<br/><div class=\"contheight\"></div><strong>郑利昕</strong>：好的，我觉得最简单的一个区别，就是我们的神学院的学术硕士是两年，然后我的项目是三年，所以可以简单理解为，多出来的一年是分散在这三年内的实习、见习和一些偏向实践类的课。比如像我自己，我第一年就是有去看守所见习。<br/><div class=\"contheight\"></div>因为美国宪法保证了所有人的宗教自由，其中也包括囚犯，所以在监狱里边或看守所有很多的志愿者团体。给里边的受刑员带来各种各样的宗教服务，包括冥想、打坐，也是慢慢越来越普遍了。<br/><div class=\"contheight\"></div>我当时在一个老师带领下，每两周一次会给一个女性看守所做类似于倾诉小组、读书小组的服务。有的时候我们会带一些诗歌或者是传统的小篇章、小故事，大家可以坐在一起分享一下彼此的生活经验，抱在一起哭一哭，然后再祈祷。<br/><div class=\"contheight\"></div>第二年的时候，项目会有一个400个小时的实习，每个人需要选一个实习场所，我选择了是一个佛教机构，在那边进行了一年的实习。还有一个你可以选择在第一年暑假或者第二年暑假进行的实习，我就选择了在医院做宗教师。这个很有意思，对于很多基督教的未来牧师来说，ta需要在医院作为宗教师的实习。可能是因为在上个世纪四、五十年代的时候，神学院的牧师发现，新来的、神学院毕业的人根本不知道如何去带领一个教会，如何去在日常生活中去做事务性的工作，不知道如何与人打交道，他们可能只是读了很多神学的东西，所以他们就慢慢成立了所谓的临床宗教师训练这么一个项目。<br/><div class=\"contheight\"></div>它的最低就是需要400个小时的实习时间，它是基于有些医院有宗教师的需求，刚好这边可以提供免费、廉价劳动力，因此教育项目就开始进行了。最近的几十年的宗教师、临床宗教师，变成了一个独立的职业。所以如果你想成为职业宗教师，但是你不在教会工作，你还需要再修三个学分，也就是一整年都要在医院做这种所谓半工半读经历。所以我接下来9月份要去的，就是这样一个一年的协助项目。它就很像心理咨询师，你要攒够多少个小时，4000个小时的职业时间，就可以拿到证照。<br/><div class=\"contheight\"></div>回到我第二年暑假的医院实习，做这个宗教师还有一个很不一样的地方，我们第二年会有一系列的“牧师职责的艺术”的课程，比如怎么样去做仪式，怎么样公共演讲，怎么样去展现领导力，核心是怎样去带领一个社群，怎么样去倾听，怎么样去做一个类似于心理咨询的角色，所以我们也学了很多心理咨询理论、家庭治疗，学了很多救助行业的一些基本理论。<br/><div class=\"contheight\"></div>我本人也在社工学院上过几门课，也上过心理咨询的基本理论，就是从弗洛伊德开始到今天的精神分析流派的这些课程。所以可以说在这个项目里边的人，一方面经历了可能比较严格的宗教学硕士训练，同时也学习了包括社工心理咨询，甚至一些类似企业管理或者这种非营利机构管理的课程。这样等我们毕业的时候就可以去做一些很实际的事了。<br/><div class=\"contheight\"></div><strong>郭婷</strong>：想问一下，这种宗教师在美国的话，你们从训练到实践，再到正式开始工作，这个职业还都是以基督教为背景吗？<br/><div class=\"contheight\"></div><strong>郑利昕</strong>：可以这样说，比如说在哈佛神学院，他有一个项目叫做佛教宗教师，但这个项目可能只有几年的历史，非常新。然后我们芝大神学院也有说要专门拍安排一个项目。 它现在慢慢在原来架构的基础上，去往多宗教的方向演变，但是任何的演变它都是有一个过程的。<br/><div class=\"contheight\"></div>比如说像教学大纲上面的东西，要把它换成一个更加包容的课程设计，那我在上学的过程中，也还是会听到、感受到它原本是为基督教的目的来服务的。比如说公共演讲，他就会假设说你在布道，而不是像在佛教里的讲法，它就是通过一种很不一样的形式进行的。<br/><div class=\"contheight\"></div>但我们的考核方式还是你给个20分钟的演讲，针对的是一个非常具体的社会事件，最后老师在设计考核的时候，ta脑子里边还是一个基督教讲道的形式。我相信之后这个项目设计之后也会演变得更加包容，但这是一个比较长的过程了。<br/><div class=\"contheight\"></div><strong>郭婷：</strong>你刚说到考核形式也挺有意思，原来还有一个口头口试，还是与讲道的形式有关。这种考核也很美国，因为都比较注重口头表达的能力。我们在学界讨论，尤其宗教社会学，经常会讨论说美国相对西欧来说，是一个相对比较基督教化的国家。不管是信教人数也好，或是基督教对公共生活的参与也好。宗教师这个职业会出现在监狱或医院，也表明信仰的重要性，以宗教师看护的形式来照顾。这其实就是以前基督教牧师职责的一部分。如果我们看美剧，包括政法剧里有宣誓这一套，其实美国也是在冷战之后更强调基督教对政治和社会生活的参会与，成为美国国民性的体现。<br/><div class=\"contheight\"></div>不过说到宗教师，我记得在英国开会时遇到过一位锡克教的宗教师，她是英国有史以来第一位锡克教的宗教师，也是第一位女性宗教师。而且她是随军的宗教师，要拿到这个工作，就必须和新入伍的士兵一起训练。这也是改变的一部分。<br/><div class=\"contheight\"></div>想问问大家，你们在美国读书的过程中，或者是在观察教学的课程设置里面，是否感受到了从基督教，转向更包容的一些改变？此外，各位通过研究和观察之后，觉得宗教和美国的社会生活的关系是怎么样的？<br/><div class=\"contheight\"></div><strong>倪湛舸</strong>：我可能是在座唯一一个在宗教学系的，但我们这个系比较特别，叫宗教与文化系，然后我们好像是美国唯一一个叫这个名字的宗教系。其实我们现在做的工作都是在去基督教化，我们不会把基督教当做是一个模式，不管你是推广这个模式也好，或者说是甚至你去质疑这个模式也好，我们现在的策略大概就是把它当作众多宗教模式当中的一个。<br/><div class=\"contheight\"></div>刚才我有提到Talal Asad，就说你要研究宗教的话，其实现在大家都很受Talal Asad的影响。他著名的论断就是说，现在我们习以为常的宗教模式其实就是现代西方的新教，它随着殖民扩张，拓展到世界各地，然后让世界各地，其他被叫做宗教的这些传统，不得不去适应它，被迫改变。<br/><div class=\"contheight\"></div>其实在现在的日常生活中也可以看到，像刚才利昕说宗教师，比方说给囚犯提供所谓的宗教自由，仍然是在一个基督教的框架里面进行的，这些概念都是很有问题的。<br/><div class=\"contheight\"></div>所以这个时候，我们就需要像李纪这样的历史研究，尤其像晓文做的中国宋朝的宗教实践。如果我们能够从那种实践中提取出另一种宗教模式，那会是怎么样的？<br/><div class=\"contheight\"></div>现在很多人在努力做这样的一个工作，通过比较细致、深入的研究，去看出在不同的时间、地点、背景里，被笼统地拉到宗教这个规则底下的那些的思想和实践。其实他们有自己的传统和生态，他们有自己所谓的那种组织模式，但是这些东西不一定和基督教兼容，甚至大多数情况下会冲突。<br/><div class=\"contheight\"></div>这个是他们Talal Asad那些人会很强调的，所谓的这个宗教的不可传递性。一个宗教作为一个概念，从现代西方新教这样一个背景里面被推出去，其实是一种知识体系上的暴力。如果从所谓的传统内部看，你也许能够看到基督教有不一样的面向。<br/><div class=\"contheight\"></div>就好像李纪老师刚才有说到，如果你实实在在地深入档案看村庄里的情况，它也许会帮助你改变对天主教的印象。像晓文做宋代的，其实我特别喜欢你的研究，因为又跟道教有关，又是很酷儿。其实中国宗教内部也是有张力和冲突的，比如儒教和男性霸权，儒教作为正统等等，也有很多其它的、内在复杂性。我觉得这些是我们现在做宗教研究应该去看的，质疑一个模型很重要，但是它只是各种各样的模型当中的一个。各种各样的不同的模型，它们彼此的关系也都很复杂，在历史上，它们不可能是完全孤立存在的，肯定都是互相接触影响，也会有权力斗争。<br/><div class=\"contheight\"></div>我记得有一本书跟世界宗教有关，那个题目大概叫做 Religion in World  History（世界史里的宗教），它写到几个大的帝国，把世界宗教放在那些历史事件里面，看它们彼此之间的接触。<br/><div class=\"contheight\"></div>说到世界宗教的话，你可以说它是一个基督教传教的发明，甚至是一个殖民计划。但你还有一种可能，你可以把它想象成世界各地的宗教传统，它们彼此在互动，构成了一整套的网络。<br/><div class=\"contheight\"></div>然后它可能涉及到人类能动性和非人类能动性。像李纪说到David Palmer，我前两天刚看到他一篇文章研究观音像，他就说观音像和信众之间的关系，他就用了考古学当中有一个词叫dividual（非个体），也是人类学的一个词。就是说你的这个人的人格，不是那种现代西方里的个人，而是一个dividual，可以被继续分开，这些dividuals跟其他的人、其他的物品之间有很复杂的关系，那要做这样的研究就需要跳出框架，找寻新的思路了。<br/><div class=\"contheight\"></div><strong>李纪</strong>：湛舸说得特别精彩，他们的办公室就在隔壁，他那篇文章是跟他的学生合著的，他学生的办公室摆了一串那种小观音像。<br/><div class=\"contheight\"></div>刚才湛舸讲的时候，我就在想其实宗教在我们的生活中是无处不在的。但是我们这一辈人，把宗教被想象成一个单独的东西：一个教堂或者是团契。我们读书的时候也没见过，好像宗教跟我也没有关系。Palmer和高万桑（Vincent Goossaert）那本《现代中国的宗教问题（<em>The Religious Question in Modern China</em>）》就提到了为什么会产生这样的问题？<br/><div class=\"contheight\"></div>通过利昕刚才的介绍这些，我们就能看到在美国这样一个环境下，宗教它有这种实践的方式，比如宗教师在医住院，它是弥散在你的生活里的。但在中国我们仍然还是在以一种意识形态的框架去理解宗教。所以我们可以做的，就是在自己的专业内去真正地理解宗教。对历史上的人来说，天主教意味着什么？它确实是传教士过来、建教堂，然后开始这样引入，这个脉络是存在的。但是，对于像我采访的杜家的后人，他们把它表述成了一个家族的传统。他们不像我们想象中的那样，严格遵守天主教的教义，他们已经把这些东西内化了。他们也知道如果我信教，我可能就不能当村长，但是这些内化的传统仍然在他的家族里面被传承下来。所以我觉得，相对于历史学其他不同的研究来说，宗教是能够跟自己的个人身份直接产生关系的。<br/><div class=\"contheight\"></div>我最开始进入学术研究的时候，对性别研究很关心，因为我觉得作为女性，自己会有一些切身的感受。开始研究宗教以后，我觉得如果你关注自己的内心，关注灵性，那就很容易产生那种个人化的连接。我本人是不信教的。但是我每一次做这个题目，别人会问我说“你是天主教徒吗”？我就很不好意思地说，其实我不是，但是我有很多做神父的朋友，有很多教会的朋友。我觉得这是一个很有趣的话题。听起来，学习宗教学的各位，你们所处的环境，因为大家都理解宗教是什么，反而可能不会遭受那么多挑战。但是在历史学领域，尤其是做近现代，会有很多人思考：第一你不是天主教徒，那为什么要关心这个问题；第二你做这个研究会不会遇到一些限制，或者你真的能知道神学或者教会里在讲什么吗？<br/><div class=\"contheight\"></div>我觉得这确实是现在做宗教研究或宗教史研究的学者所要面临的问题。这种自己的研究对象和自己的身份的互动也挺有趣的，很想听你们再讲一讲自己的感受。<br/><div class=\"contheight\"></div><strong>倪湛舸</strong>：如果说跳出基督教模式，宗教未必跟你的身份有关，在其他宗教里面，宗教有可能就是那种具身的实践（embodied practices），它不一定能够界定你是谁。这也是中国宗教和基督教的模式很大的一点不同。<br/><div class=\"contheight\"></div><strong>程晓文</strong>：我们可以思考一下，现在有多少宗教研究都受到了基督教的制约，以基督教作为规范。我们可能也要反思，这些所谓的传统本身，也是在经济发展过程中某一个历史时间点出现的。可能我们回到中世纪会发现，基督教的讲道方式完全不同。所以你觉得这个传统代表了基督教，但可能它本身也是一种新的事物。<br/><div class=\"contheight\"></div>比如佛教或者其他传统，也是在19世纪的时候开始发展类似的东西。有的时候，西方和中国，或西方和东方的对照会牵涉到现代和以前，或是19、20世纪之后与20世纪之前的一个差异。<br/><div class=\"contheight\"></div>中世纪的时候，所谓的宗教就是正统，其他就是异教徒。宗教代表着理性，与宗教相反的就是迷信（superstition）。但是到了60世纪，迷信就变成了宗教的同义词了。即使是在19世纪的时候，好多中国人理解宗教这个词还是以基督教为主，因为这个词是跟基督教一起传来的，但他们也把宗教联系到迷信上。所以他们在讨论中国其他传统宗教的时候，一方面会说宗教有什么好处，但一方面也会想到宗教很迷信。好比如果儒家变成国教的话，或许可以帮助大家变得更爱国，更有凝聚力什么的，但也非常迷信。<br/><div class=\"contheight\"></div>回到基督教来看，它也不是一成不变的，它有一个历史的发展。现在大家在想怎么样多元化，我觉得大家也要考虑到他历史的面象。那么大家在思考这个问题的时候，可能要把它思考更复杂一点，不是只是把宗教加进去，而是要考虑宗教的历史本身。<br/><div class=\"contheight\"></div>湛舸刚刚讲到，现在一个世俗化社会里面讲宗教自由，而宗教自由就是一个世俗化社会的产物，社会没有世俗化之前，就没有所谓的宗教自由。那在宗教自由的前提之下，法律上要给予宗教自由，就要先定义什么是宗教；要定义什么是宗教，真正的问题就是谁或什么事物有资格享受法律上保障的自由。<br/><div class=\"contheight\"></div>这也让我们去正视宗教的历史面向，那么宗教研究和历史研究究竟有什么区别？我自己在读博期间研究的是历史，我会觉得宗教研究有它的长处，但我这么说是因为我现在不在宗教系，所以我没有那种“生存危机”。我可以去告诉历史学家宗教学的长处是什么，我们必须要吸收这些长处，不可以只是把它们当做一般的社会现象或群众集会现象，而我觉得宗教学有一些长处是很容易被历史学或其他学科所忽略的。<br/><div class=\"contheight\"></div>其中一个例子是，当一个有信仰的人（不论ta的信仰是什么，或者ta的信仰与个人的身份连接是否紧密）在做决定的时候，我们不能简单地说ta有能动性，或者可以完全理性地做决定。因为他会告诉你说ta感受到了“上帝的呼叫”、“向菩萨发愿”，或者“受到了神的旨意”。这些例子对于性别研究或者对女性主义研究特别重要。因为比如大家要去判断一件事情，对女性来说是不是存在压迫，我们需要分辨这个女生有没有选择权，是自愿还是被迫；但是自愿还被迫，有没有主动选择权利，在这种脉络之下就变得比较复杂，也不能以此来判断女性定位的高低。<br/><div class=\"contheight\"></div>另外一个例子和儒学与基督教的比较有关，我读硕士时专注研究的是儒学，那时我本人也还是比较虔诚的基督徒。在那时候我发现，以一个基督徒对圣经的态度，去理解传统的学者对于儒家经典的态度，会发现两者的相同之处。因为无论如何，后面的注释可能存在问题，但是六经是不会错的。如果六经出错，那就表示那不是孔子写的，是伪经。如果你进过教会，去过读经班，你就会觉得这极其合理。对儒家来讲，它有一个基本的信念。不管儒学怎么转变，孔子都是不会犯错的。<br/><div class=\"contheight\"></div>通过这几个小例子，我会觉得宗教研究、包括对信仰和灵性的严肃研究可以给历史学家带来一些启发。<br/><div class=\"contheight\"></div><strong>郭婷</strong>：刚刚晓文最后说到的，我们如果重视信仰，或者把它作为看待个体和社会的一个媒介时，我们能更加理解个人和群体的选择，更理解古代和当代的社会。我想到两部电影，一部是讲韩国移民的《米纳里》。如果我们不带着宗教视角去看这部电影的话，可能会觉得它和李安早期的电影没有太大的差别，都是讲一代移民的故事。但其实这部电影与韩裔美国移民非常相关，里面有非常强的宗教色彩。他们是基督徒，不过他们是以“到美国的亚裔移民”的身份进入教会，那么教会在美国社会意味着什么？对移民意味着什么？而且这部电影还有冷战的背景，他和帮助自己的美国白人之间的和解过程，也具有灵性的意味。<br/><div class=\"contheight\"></div>另外一部是名为《兹山鱼谱》的韩国电影。它讲述了韩国的儒士士大夫因为天主教的信仰而受到驱逐的故事。所以如果我们带着宗教的视角去看这些电影，可以看到非常多的古代与当代社会的变迁，包括中日韩三国在历史上驱逐天主教时的异同。<br/><div class=\"contheight\"></div>此外，如果我们把宗教看成脱离日常生活的、一个外在的一个范畴，也会产生“把宗教本质化”的危险，也就是把它化约成“一成不变的东西”，把世界其他人化约成不变的东西，也包括把我们自己化约成一成不变的东西。比如说大家想到宗教性教育或者“你是不是有宗教性的”，都会想到你是不是基督徒，这其实就是一个对立的想法。曾经对很多基督徒来说，你没有基督教信仰，或者你有其他的宗教信仰，就意味着你是迷信的。这种彼此的本质化，彼此的化约化，现在也是非常危险的一件事情。我们在做的很多工作，可能就是发现任何传统、任何文化不断变化、不断流变的过程；也看出不同文化、不同传统、不同人群之间如何不断互相影响、互相彼此塑造。<br/><div class=\"contheight\"></div>刚才还提到了我们怎么去基督教化、去除新教对我们世界的塑造。晓文老师的同事Donovan Schaefer研究宗教情感，他想做的也是类似的工作。我们对宗教的概念受到基督教新教的影响，其实是殖民时代的产物，也是把宗教和语言、理性和哲学概念联系在一起。<br/><div class=\"contheight\"></div>而Schaefer认为，宗教最重要的是一种情感。人有，动物也可以有。这就把宗教和语言的传统分离开来，不只是去基督教化，其实也是去人类中心化。他在那本书的开头描写了简·古德尔（Jane Goodall）观看大猩猩的仪式，大猩猩也会因为同伴去世而聚在一起，为同伴进行一个仪式，这种仪式其实就是一种宗教情感的体现。从情感或者是宗教情感的角度来看，这对于帮助我们重新思考宗教，宗教学帮助我们重新思考今天这个世界也可能会起到非常重要的作用。<br/><div class=\"contheight\"></div>大家也都提到了女性主义以及东亚语境。因为我们是女性，或者因为我们是东亚人，也是我们会被问到是否具有宗教信仰的原因之一，大家会觉得在你从事这个研究背后，你应该是做和自己相关的研究，所以才会进入这样一个领域。在学界有另外一种分岭，比如你是亚洲人你就会研究亚洲宗教，你是女性就会研究女性主义或者和性别相关的研究，往往是做自传式的研究。这也是为什么“宗教学”或者是“宗教文化”这种科系或这种研究方法的存在是非常重要的。它其实也是帮助我们去本质化，不再把宗教作为一种外在的东西来进行研究，不再把一个人、个体或者一个传统本质化。<br/><div class=\"contheight\"></div>这几天推特上面有一位学者讲到一件事情，一位法国的白人女性Manon Garcia写了一本书叫《我们不是生来顺从（We Are Not Born Submissive）》。她作为哲学家，讨论的是哲学概念，但在这本书出版之后，却被打上了“批判理论”、“女性主义”、“人类学”的标签，就是不承认她是哲学家。她觉得如果自己是一个白男的话，这种事情就永远不会发生，但因为她是女性（她还不是一位有色女性），大家就会不承认她和这种正统的、经典的、具有男性气质的研究相关。<br/><div class=\"contheight\"></div>我们刚刚说到宗教学是怎么挑战传统，或者怎么修复传统，我不知道在种族、性别等等相关的面向上面，我们在教授的或者是我们在做的研究是不是会有一些帮助？<br/><div class=\"contheight\"></div><strong>程晓文</strong>：我想回应一下。之前湛舸推荐过我Nirmala S. Salgado的《比丘尼和性别化的佛教实践：寻找女性沙门（<em>Buddhist Nuns and Gendered Practice: In Search of the Female Renunciant</em>）》。这本书在探讨斯里兰卡重新建立比丘尼传统的运动，在南传佛教中，比丘尼传统断掉了。因为在佛教戒律里面，你要受戒，而针对比丘尼的条件要远多于针对比丘的条件。关于比丘，只要有足够人数的比丘来帮你受戒就可以完成；但对于比丘尼，需要足够人数的比丘加上足够人数的比丘尼才可以完成受戒。<img alt=\"《比丘尼和性别化的佛教实践：寻找女性沙门（Buddhist Nuns and Gendered Practice: In Search of the Female Renunciant）》书封\" src=\"https://imagecloud.thepaper.cn/thepaper/image/144/740/13.jpeg\" style=\"width:600px;\"/><p class=\"image_desc\">《比丘尼和性别化的佛教实践：寻找女性沙门（Buddhist Nuns and Gendered Practice: In Search of the Female Renunciant）》书封</p>所以如果在历史上的某一个时刻，如果刚好凑不到足够的比丘尼，你就没有办法产生下一个正式的比丘尼，这就变成了一个恶性循环，比丘尼甚至会因此绝种。可能在佛教传到全球之后，结合了女性主义的风潮，人们开始关注为什么南传佛教没有比丘尼，就像关注天主教里面为什么没有女修士一样。这本书一方面讲述了全球政治的一种角力。另一方面，因为作者本人是斯里兰卡人，在当地进行了长期的田野耕耘。从她的访问里面，我们可以感觉出她跟这个地方的关系非常密切，和这些人的访谈也是非常的深入。<br/><div class=\"contheight\"></div>在书的开始，她讲述了自己访问了一个最近才刚受了足戒，变成了比丘尼的前辈。那个前辈也是长期参与重新恢复比丘尼的传统。她就问前面说你觉得自己是一个女性主义者（在当地语言里是womanism）吗？而前辈就回答她，我不是一个女性。作者当时觉得自己无法理解这个答案，花了很多时间去想比丘尼到底是什么意思。后来作者意识到，可能比丘尼觉得自己跟一般女性不同。可是她们却因为女性的身份，导致她们要守的戒律和一般的比丘还有男性完全不一样。她们明明收到了这些限制，反而却非常自然地认为自己不是女性。<br/><div class=\"contheight\"></div>我以前在台大选修过Kyoko Tokuno老师的The Women in Buddhism研讨会，那时候刚好有一个台湾地区的比丘尼来课堂上跟大家对谈。我当时受自由派激进女权主义影响，就问她说，未来你对台湾佛教机构里面或者台湾寺院里面的性别的不平等，你怎么看？她就一直说没有（这些问题），我们是大丈夫。于是我就问她，你看到比你小20岁的比丘，你要不要给他行礼？<br/><div class=\"contheight\"></div>在妇女史性别史、种族主义研究，或者是同性恋研究这些原本被认为比较边缘的研究，慢慢被一些披荆斩棘的研究者，包括女性、同性恋、有色人种打出一片天地之后，一些“主流”的研究者反而又开始关注这些研究。如果你是白人男性的话，你都可以做妇女史，做异性恋、同性恋研究等等。我们或许可以说，特定群体完全可以坚持做特定领域的研究，并且做得很好，但是如果我们遇到制度性的结构不平等，那么我们又要如何应对？所以我认为保障女性在做少数研究里的主体性的话语权仍然是非常重要的。<br/><div class=\"contheight\"></div><strong>李纪</strong>：其实在这种制度性的结构不平等下面，你怎么去看性别、种族这些问题？天主教的阶级性是很强的，这种制度化相对比较完善。但在中国天主教体系下，它在历史上有一个系统叫守贞女，它跟修女是不一样的。其实女修会进入中国也比较晚，我有一篇小文章在讲，中国的守贞女与巴黎外方传教会，是18世纪在四川开始的。所谓守贞女指的是：女性不想结婚，宣誓说我独身，然后她们并没有进入一个修会，还是住在家里。但是规定她们要有自己的房间，还要遵守童贞修规。<br/><div class=\"contheight\"></div>像我在做19世纪东北研究的时候，发现他们也有一整套守贞女传统。我最开始处理杜氏那三个女孩的书信，那三个女生都是守贞女，住在家里，一辈子没有结婚，参与教会的辅助工作。在我到那里做田野的时候，村里人反而表示不知道守贞女这个名词，他们当地人叫姑奶奶。他们就说杜家好多姑奶奶，很厉害，她们的地位很高。她们会一点读写，因为要学药理，还要去做一些传教的工作辅助工作。<br/><div class=\"contheight\"></div>其实你要从现在的性别的角度去分析，或者讲主体性、自发性；你会觉得不平等的制度下，给她们一个自己的空间，反而也有很多可以去延展、去讨论的。<br/><div class=\"contheight\"></div>后来在巴黎的一些教会里面，发现了好多守贞女或者修女写给神父的信，我也还在收集它们。虽然历史情境跟现代不一样，但我们可以思考如何去理解结构性的和个人的关系。作为历史学家，我们都要处理情境；作为研究者，我们在处理文档的时候，会发现历史中的男性和女性都很复杂。他们之间的那种互动，未必像我们所想象的那样，在一个制度性的不平等下，天主教的女性就一定其中的最底层。可能不同情境中的点会提供一些新的看法。<br/><div class=\"contheight\"></div><strong>郭婷</strong>：这其实就是我刚刚问这个问题的一个原因，因为宗教和信徒被各种化约或是被各种刻板印象化以后，我们进入宗教学视角，反而会看到非常多不一样的情境。<br/><div class=\"contheight\"></div>比如Lila Abu-Lughod写到的，对中东、伊斯兰教或者伊斯兰教女性很多的反驳。它让大家看到，可能在这种刻板印象化中，人们会觉得伊斯兰教是保守落后的，没有经历世俗化、伊斯兰女性会被作为一个符号来体现伊斯兰世界的落后。然后她就指出，其实根本问题是男人和政治腐败，而不是伊斯兰教、也不是这个群体的问题。<br/><div class=\"contheight\"></div>刚才说到的世俗化，其实这个概念也带着很多的刻板印象。一方面是刚才提到的：谁可以有权世俗化。世俗化如何被视作先进和现代。同时世俗化也给了国家很多权力来控制、划分和规范不同的宗教，将很多群体刻板印象化。<br/><div class=\"contheight\"></div>像利昕刚刚也提到，在你的训练过程中，你的导师，包括你们这个领域的前辈都是女性，那一方面这其实是女性主义的一种实践，但同时可能又是对女性的一种刻板印象化。让女性被贴上了“提供支持情感帮助的”的一种人的标签，我想了解各位是怎么处理这些问题的。<br/><div class=\"contheight\"></div><strong>郑利昕</strong>：我的一个观察是，在我之前学物理的时候，我可能经常是房间里面唯一的女性。而现在可能经常是房间里边只有一个甚至没有男性。我们在学习的过程中也读到一些女性主义者，我们有一门课叫做领导力（leadership），在传统意义上这是很男性的一个话题。但是我们在课堂上就会读Adrienne Maree Brown的《<em>Emergent Strategy</em>》，其中用到了科学中关于涌现（emerge）的概念，她会说一个社群是如何形成的，你作为所谓的领导，你如何在这个社群中做出改变，领导其中的人一起改变。它是一个适应（adaptation）的过程，而不是说我们今天做好策略方针，之后再去订下一个目标。它是一种对于机构和社会的重新理解。<br/><div class=\"contheight\"></div>包括她们对圣经的重新解读，例如在某一个具体的场景里面，并非是上位者在进行领导，很多时候可能是一个在旁进行辅助的、不起眼的角色，去改变或者是影响了某一个事件的进程。这是一个很有意思的视角，在现实生活中谁在领导、谁在被领导，谁处于中心、谁处于边缘这一系列的话题。又比如说像在心理咨询里面有一些很厉害的咨询师，他可以在过程中完全不说话，但你知道ta存在，这就是一种不言说的力量。这也是让我感到眼前一亮的、关于实践的一个思路。<br/><div class=\"contheight\"></div><strong>倪湛舸</strong>：刚才郭老师和利昕有提到情感劳动。其实在很多情况下，不光是在学界，如果你去看劳动工作，男性他一般会成为领导，他可能会搞研究与发展等等，然后女性所做的是类似家务劳动、社会再生产劳动的那种情感劳动。这整个成为了一个社会架构。<br/><div class=\"contheight\"></div>这跟我现在做的研究也有关系，在我写第一本书的时候，我还在讨论和批评世界宗教，包括讨论传统意义上的作家，日本有一个天主教作家叫做远藤周作（Endō Shūsaku），他写的是日本的地下基督徒，这个群体跟李纪研究的中国的这种天主教徒也比较相似。所谓的地下基督教已经日本宗教化。和这个例子相似，我原先还在做“大家能够把它辨认成宗教的宗教”和“大家认为它是文学的文学”；而现在我开始研究的是不被叫做宗教的宗教和不被称为文学的文学，我现在做的是中国的方术和网络文学——去看网络文学里面怎么样再想象中国的方术，也就是魔法和封建迷信，那些在基督教模式里容纳不下的东西，甚至在儒家正统的模式里也容纳不下的东西。如果大家去关注现在的网络文学，会发现它有大量的中国在现代西方宗教模式之外的概念和实践，比方说对宇宙的想象和身体实践。在某种意义上，网络文学里的宗教想象跳出了20世纪以来的世俗化宗教话语，打破了20世纪那些建构。<br/><div class=\"contheight\"></div>回到劳动的性别分工，网络文学中有一个很有趣的现象，它分男性向和女性向。然后有一些类型，就是所谓的男频类型往往致力于去再想象以前的迷信，但是它影射的是现当代的科技，那些故事涉及的是认知劳动。而所谓的女频文/女性向网络文学，会在这个基础之上考虑情感劳动。比如你要去做科技创新，那你一个人是做不到的，你需要团队，需要大家的配合，需要社交，这种时候情感劳动就特别重要。我们可以说，女性向的网文是在男性的网文的基础之上，对我们整个当代社会做出了更全面、更深入、更准确的把握。因为它看到了不同性别所承担不一样的“角色”，但它又想要破除这种成见。<br/><div class=\"contheight\"></div>可能有人会问我现在做的研究究竟是不是宗教？它似乎是封建迷信、色情、淫秽。这种网文是文学吗？其实我现在对话比较多的朋友都是做媒体研究的，都是做粉丝研究的，我们是追星族，也是数据女工。当大家问这些研究跟宗教有没有关系的时候，我反而想说这跟宗教特别有关。如果我们能建立这种类比，对宗教研究也是一种推进。对那些忽视宗教的，研究现当代文化、新媒体、数字化研究的人们，他们很大程度上可能没有考虑过宗教的面相。这个时候你要去提醒他们，他们自以为很新的一些想法，其实我们早就研究过了。比如做粉丝研究的会说，我们这个粉圈如何掐架，如何内斗，明明没有多少人却分出了很多派，这个时候我就想跟他们说，你看看基督教史、伊斯兰史，看看我们掐了多少年了。<br/><div class=\"contheight\"></div>这里可能会有所谓的跨学科的作用，而它本身又是认知劳动和情感劳动。晓文说有些人会自认为是自由派女权主义者，那我的定位可能是马克思主义女权主义者，再加一点新唯物主义者。我可能会觉得唯物主义不仅仅是历史唯物主义，你可能还要考虑到新唯物主义，去人类中心主义、物的自发性，人类与非人类的互动。在这种意义上，你要去讨论女性，性别本身也是交互的（intersectionality），包括种族、宗教、科学、技术与社会（STS）、人工智能等等。<br/><div class=\"contheight\"></div>Donna Haraway就会关心网络，然后新唯物主义者Karen Barad、 Jane Bennett，她们在讨论这些所谓的理论时，有时候会参考宗教，但并不太了解这个学科。我觉得这是一个机会，一般来说研究宗教的会强调宗教与文化、宗教与政治、宗教与政治经济学，新的资本主义生产方式和资本积累，还有科技主权，这些都跟宗教交织在一起。大家都是研究宗教学的人，我想吹嘘一下，宗教学是真正核心的学科，谁都离不了我们。<br/><div class=\"contheight\"></div><strong>郭婷</strong>：我特别同意，宗教学是理解社会、理解这个世界的基础，是所有学科之本。我也在思考，怎么不把宗教变成一个在我们生活之外的盒子，怎么把盒子里的东西拿出来，然后把盒子融化，让宗教学弥漫到我们生活的方方面面。它可能不只是弥散的宗教，更加像是弥散的意识形态，因为我非常喜欢的一位老师白馥兰（Francesca Bray）在帮归纳我的研究时候说，我是把政治作为宗教来研究。我觉得这既归纳了我自己的研究，这也是所谓的不把宗教当宗教研究，怎么不把这个概念放进盒子里来看，非常重要的一个概念。<br/><div class=\"contheight\"></div>可能有些学者并不研究宗教本身，比如Eve Sedgwick等等情感研究的学者，但是很多人都受到了他们研究的影响，但他们也受到了某些宗教概念的影响。尤其是现在世界存在着很多仇恨，很多政治上的问题和纷争，其实我们可以从宗教学的角度提供一些新的视角，一些帮助。<br/><div class=\"contheight\"></div>这也是我最后想请大家分享的，我来到香港之后也发现了很多有意思的东西。因为总体来说中国是一个世俗社会，我自己成长的环境相对来说也比较世俗化，到了香港之后，就发现Yang, C. K.说的弥漫的宗教真的是无处不在，而且它不只是日常生活中存在，它在当代生活中其实是和香港的政治、香港的社会息息相关。<br/><div class=\"contheight\"></div>我有一篇要在JAAR（美国宗教学会期刊）发的文章，讨论的是为什么在东亚，大家会觉得基督教特别显性，但其实基督教教徒人数的人口比例其实是非常小的。像是在韩国，基督教非常的显性，非常多的超大型教会，但其实信教人数并不是那么多。<br/><div class=\"contheight\"></div>为什么会基督教更显性？基督教的社会参与更显性，它也经常和民主政治形态联系在一起。为什么香港的其他宗教，民间宗教也好，佛、道教通常都和保守联系在一起？这当然和殖民有关，殖民政府和香港的乡绅、新界的华人社会的权势相互勾结，一方面他们保护了香港的传统文化，但另一方面他们也让香港的华人文化变得更加的脱离语境。当时他们的书信里面会说我们要怎样通过加强儒学的教育让香港华人更加的保守，让香港不要受五四运动的影响，让香港不要受中国革命的影响。同时也要加强基督教的力量，所以香港的精英中学全都是基督教学校。教会学校里面当然就是把学生教成完美的、现代化的代表，中国文化就会变得变成一个保守派的代表。<br/><div class=\"contheight\"></div>这也和冷战有关，冷战的时候香港是一个兵家必争之地，不仅仅是英国、美国在争夺香港的意识形态。大家能够想到最有效的手段就是宗教组织，英美就投资在香港的教会、基督教会；华人政府就投资在香港的佛教和道教。冷战的这种以宗教为背景的意识形态之战，其实不仅影响了香港，也影响了台湾地区，影响了韩国，影响了东亚的很多地方。<br/><div class=\"contheight\"></div>此外，关于宗教的和公民社会之间的关系，有一位美国社会学家罗伯特·贝拉（Robert Bellah）提出过，研究美国他用了公民宗教的概念。就是在世俗社会、世俗政治中强调公民意识的世俗化。其实在东亚很多地方，都有这样一种公民宗教的形态，香港的民间宗教车公、关公、黄大仙，他们其实是现代公民宗教的一种代表。当然，在其他社会也有类似的情况出现，宗教在帮助我们重新理解这些刻板印象、帮助我们理解亚洲公民社会上，能够起到非常大的作用。不知道比如晓文在出了这本新书之后，有没有哪些其他研究正在进行中？<br/><div class=\"contheight\"></div><strong>程晓文</strong>：我想要延续的是关于规范或者是正常（normal）的概念，它的历史性，以及它与性别历史的关系。因为我在写第一本书的时候，就涉及到一个问题，当你在做性别分析的时候，又跟医疗史有关的时候，大家总是会问有一个问题，就是什么时候我们开始“规范化”某一种性别化的身体？从什么时候开始，女性化的特征成为了一个规范，好像我们总是要去找那一个历史时刻，有人就会说你去看孩子出生的时候，在宋代以后因为各种原因，以生育为中心的女性身体就被规范化了。<br/><div class=\"contheight\"></div>那“规范化”是什么意思呢？其实这个词有两个层面的意思，而且其实是不同的意思，一个是数量上的多数或者是中间值平均值，另外一个是质量上面的正确的、健康的、正统的。<br/><div class=\"contheight\"></div>如果你回到中世纪去看的话，在拉丁文中它只有正确的、正规的意思，或者是中文规矩的意思，是工匠用来量一个直角所用的工具。好比上帝的道是不是规范，跟有多少人信没有关系，对就是对，错就是错的。<br/><div class=\"contheight\"></div>为什么一个平均值或一个比较多数人的状态，会变成一个正确的、健康的基础？它跟19世纪统计学的发展，然后统计学变成现代的社会科学和自然科学的基础方法有关。如果你去看中文的话， “normal”的中文就是正常，你在20世纪以前的古书里面是找不到的。正常这个词就是“正”加“常”，也反映了19世纪的演化过程。<br/><div class=\"contheight\"></div>你用这个想法，再回头去想，当初费侠莉（Charlotte Furth）去分析宋代的医疗还有性别，你就会发现其实理论上来看是问题重重。因为医书里面，大家从来都是记载怎么样是好的，比如写月经要怎么样调，或者生产的时候要怎么样。大家从来不会说，多数女性都是这样，因为从平均值来看，生产是很危险的，而且生产本身就极为伤身体，要冒生命危险。<br/><div class=\"contheight\"></div>因此，以前的医书从来不说生产是一件很健康、很正常的事情，也不会说大家都生，你不生小孩，你就不正常。他们会说生产非常危险，好多道家的修炼会告诉你，如果要修仙，第一个就是你不要生小孩，不要房事，不要月经等等。另一方面，如果医生一方面鼓励大家生小孩，说生孩子最棒，一方面又说生孩子很容易死，这就非常矛盾。它根本的问题就在于，它跟现在的社会不一样，不是建立在一个中间值、平均值的网上面。<br/><div class=\"contheight\"></div>它中间的复杂的地方很多，因为在用统计学建立现代科学的模式出现之前，一个常事，很常出现的状况，它还是有一定程度力量。那么历史和时间又扮演了什么角色？即使在这个空间，现在这个时间段里，不是很常出现的事情，但是它可能在历史中会不断地出现，好比说每一个世纪都会出现一次。那从历史上来看，它的周期也很常。这是我现在有兴趣的一个课题，如果我们去把“正常”这个概念拆解掉，回到以前去看以前的典范，去研究“基础”是怎么产生的，它背后的核心到底是什么？<br/><div class=\"contheight\"></div><strong>郭婷</strong>：听起来真的很有意思。我们刚才也说到为什么宗教学、宗教研究很重要，其实医学史、科学史这些分类，包括宗教和科学的分类其实也是一个非常现代的产物。我们知道的大部分欧洲的大科学家其实也是神学家。在东亚，所谓科学跟信仰、宗教其实也是分不开的。<br/><div class=\"contheight\"></div>谈到范式转移问题，我们在第10期也是谈到了科技与社会研究，科技与社会里面所涉及的一些非常弥散性的一些内容。最后，我想问问大家还有没有想补充的，或者可以谈谈自己之后的研究。<br/><div class=\"contheight\"></div><strong>李纪</strong>：我想简单说一下。刚才已经跟大家简单介绍了新书，但新书延展之后有几个话题我特别感兴趣，其中一个就是刚才郭婷总结的，还有之前大家谈到的迷信、制度化的宗教以及科技。因为我在处理材料的时候发现了一个很有意思的资料，在20世纪初有一个传教士到了那个村子里以后，这些年他的父母都一直给他寄一种水，中文翻译成是鲁尔德，是法国比利牛斯山下的一个小城。<br/><div class=\"contheight\"></div>在19世纪中叶，有一个当地的农村少女发现了洞穴里面一汪泉水，说她看到了圣母显灵，于是这个地方就变成了一个欧洲天主教徒朝圣的地方，因为据说这个水可以治病。而且这个女孩后来在1933年，被天主教的教宗封圣，所以她是一个被教会认可的现代圣人。但19世纪中叶，教会已经是非常世俗化了，在这样一个科学医疗的大背景下，鲁尔德的泉水变成了一个朝圣的中心，完全是封建迷信了。这位传教士他的诗里面提了好多次鲁尔德水，他们家是西北部鲁尔德的一个本地家庭，他们每年都去朝圣找一些水，寄到中国。然后他就用这个水在村子里给人治病。<br/><div class=\"contheight\"></div>我在书里没有展开讲这个故事。但是我觉得我想把这种封建迷信、水在中国的宗教，在19世纪法国世俗化的背景之后天主教的故事，我想把自己过去法国史的专业与20世纪初的中国、现代全球社会，还有科学医疗这些东西融合起来，再加上性别放在一起来研究。<br/><div class=\"contheight\"></div>这是我现在感兴趣的话题，因为我觉得它涉及好多东西，我觉得水把所有的东西团在一起了，包括制度化的宗教、封建迷信和日常生活，以及中国社会在现代这种宗教的布道中的一些转变，这个研究会把很多各种不同的跨学科的东西吸纳进来。<br/><div class=\"contheight\"></div><strong>郭婷</strong>：这让我想到把世界不同的社会对照起来看。很多地方都有对中医的批判，但我在欧洲玩的时候，在一个非常出名的小镇上看到当地生产草药，那里的草药可以帮助睡眠、可以治疗某些疾病。所以，所谓的中医或者草药等等，其实在世界不同的地方都有类似的传统。但是它为什么会被作为一个封建迷信的代表，这个里面就有很多政治的解读。比如在美国，大家都很熟悉的女巫审判，当时所谓的女巫其实也是有草药知识的女性。这种医学，其实在世界各地当时都非常的风靡。<br/><div class=\"contheight\"></div><strong>倪湛舸</strong>：说到女巫的话，其实草药或者说中医相关的都是本地的知识，在前现代社会，这些知识在很大程度上都是由女性掌控的。所以在某种意义上，猎巫既要摧毁女性的权威，同时也要摧毁所谓的本地知识，使得科学理性能够被建立起来。<br/><div class=\"contheight\"></div>说到马克思主义女权，大家比较熟悉的是Silvia Federici的《卡列班与女巫：妇女、身体和原始积累》这本书描述了整个猎巫的过程，所谓的猎巫其实是资本和国家合谋，把女性打造成生育的机器，只能去从事社会再生产。这也是宗教成为现代生产模型的另一个侧面。<br/><div class=\"contheight\"></div>在宗教研究讨论的最后，我想提一个比较有争议性的一个体系，其实我一直觉得我们应该有一个新的领域叫做迷信研究，或者叫就是魔法迷信研究。因为很多姑且可以被称为宗教的东西，是不被认可为宗教的。<br/><div class=\"contheight\"></div>像刚才郭老师提到说很多科学家同时也是神学家，但是他们还有一个身份是魔法师，炼金术士。这就是迷信研究的研究内容。其实这个领域在中国宗教研究刚起步的时候已经存在了，芝加哥大学神学院的姜绍元，在《新青年》上发表了当代中国第一篇介绍宗教研究的文章，后来他就开始做迷信研究，但是他的研究一直后继无人，所以我们现在呼吁一下，我们应该接过迷信研究的大旗。<br/><div class=\"contheight\"></div><strong>李纪</strong>：我们多少都做点迷信研究，而且迷信研究它真正的参与者很多时候都是女性。一些天主教的传教士本身他是非常信奉科学的，会去读科学方法论之类的书，但是他在实践中是热爱魔法圣水，用它去各种治病，所以就非常有意思。<br/><div class=\"contheight\"></div><strong>郭婷</strong>：这对他们当时的情境来说其实是没有冲突的。他们确实是迷信或者相信魔法，有一套自己的体系，只是那套体系后来被认为是不够正统。其实在前现代，在不同社会其实也一样存在猎巫，比如韩剧古装剧里面就会有萨满，国家也是用各种方式来规训她们。当然在现代它也有自己的一套形式，但在不同的社会都有这样的体现。<br/><div class=\"contheight\"></div><strong>程晓文</strong>：我想回应一下迷信研究，我觉得我们还是要去思考，所谓的迷信是我们觉得的迷信，还是前人觉得的迷信，这是一个很重要的关键。这个领域大家长期的一个想法是，可能宋代或者以后，士大夫都会去猎巫，用巫医什么来治病都是会被认为是不正统。可是最近我有看到材料，说如果士大夫家有人出了什么问题，他就会找一个巫来做法。这和很多人的认知是非常不一样的。<br/><div class=\"contheight\"></div><strong>倪湛舸</strong>：其实在中国这个环境里，猎巫这个概念能不能这样使用，真的是需要好好讨论的。因为我们现在说的猎巫，指的是16、17世纪，或者说再晚一点，在西方这个民族国家建立的过程之中，出现过的这种猎巫的现象。而在中国的话，猎巫可能只是一个比喻、一个比拟，所以我不知道学界能不能直接挪用这个概念。<br/><div class=\"contheight\"></div>中国的猎巫不是我们想象中的基督教视角、神学视角里的那种猎巫。中国的方术是有一套很正统的国家控制的宇宙论，非常正统。<br/><div class=\"contheight\"></div><strong>郭婷</strong>：其实中国的这些“巫”也是知识体系的一部分，但是当他们越界，威胁到中央意识形态的时候，才会遭到打压。在平时，它是帝国和社会、也是我们知识体系里非常重要的一部分。<br/><div class=\"contheight\"></div><br/><div class=\"contheight\"></div>（周益佳对本文亦有贡献）<br/><div class=\"contheight\"></div><br/><div class=\"contheight\"></div><span style=\"color:#95a5a6;\">参考书目：<br/><div class=\"contheight\"></div>Lila Abu-Lughod, Do Muslim Women Need Saving?<br/><div class=\"contheight\"></div>Saba Mahmood, Religious Difference in a Secular Age: A Minority Report.<br/><div class=\"contheight\"></div>David Palmer &amp; Vincent Goossaert, The Religious Question in Modern China.<br/><div class=\"contheight\"></div>David Palmer, Martin Tse, Chip Colwell. 'Guanyin's Limbo: Icons as Demi-Persons &amp; Dividuating Objects.' American Anthropologist 121.4(2019):897-910.<br/><div class=\"contheight\"></div>Henrietta Harrison, The Missionary’s Curse and Other Tales from a Chinese Catholic Village. (UC2013); 沈艾娣著， 郭伟全译, 《传教士的诅咒 ：一个华北村庄的全球史（1640–2000）》港中大, 2021<br/><div class=\"contheight\"></div>David Ownby, Vincent Goossaert, Ji Zhe eds., Making Saints in Modern China (OUP, 2017)<br/><div class=\"contheight\"></div>Ji Li, God’s Little Daughters: Catholic Women in Nineteenth-Century Manchuria (UW, 2015)<br/><div class=\"contheight\"></div>Nirmala S. Salgado, Buddhist Nuns and Gendered Practice: In Search of the Female Renunciant (OUP, 2013)<br/><div class=\"contheight\"></div>James A. Schultz, “Heterosexuality as a Threat to Medieval Studies,” Journal of the History of Sexuality 15.1 (2006):14–29 Terry Gross’s interview with Laurel Thatcher Ulrich, “How Mormon Polygamy in the 19th Century Fueled Women’s Activism” (January 17, 2017)<br/><div class=\"contheight\"></div>Hsiao-wen Cheng, Divine, Demonic, and Disordered: Women without Men in Song Dynasty China (UW, 2021)<br/><div class=\"contheight\"></div>Ni, Zhange. 'Reimagining Daoist alchemy, decolonizing transhumanism: The fantasy of immortality cultivation in 21st c China.' Zygon 55.3 (2020):748-71.<br/><div class=\"contheight\"></div>Hanegraaff. Esotericism &amp; the Academy: Rejected Knowledge in Western Culture. CUP 2012.<br/><div class=\"contheight\"></div>Yang, C. K. (1961). Religion in Chinese Society.  杨庆堃 (2007). 中国社会中的宗教: 宗教的现代社会功能与其历史因素之研究<br/><div class=\"contheight\"></div>Ruth Harris, Lourdes: Body and Spirit in the Secular Age. Viking, 1999.<br/><div class=\"contheight\"></div>《清醒梦》E20, https://hekukaixin.com/luciddreaming/ Reading J. Z. Smith: Essays and Interview, 1999–2010 , OUP 2018<br/><div class=\"contheight\"></div>WC Smith, The Meaning and End of Religion, 1990.<br/><div class=\"contheight\"></div>Ting Guo,  How the Chinese Became Christians 郭婷，美国的宗教与政治与华人基督教保守主义｜《思想》42期：解读川普现象<br/><div class=\"contheight\"></div>Talal Asad. 1993. Genealogies of Religion: Discipline and Reasons of Power in Christianity and Islam.<br/><div class=\"contheight\"></div>Rebecca A. Nedostup, Superstitious Regimes: Religion and the Politics of Chinese Modernity<br/><div class=\"contheight\"></div>Donovan O. Schaefer, Religious Affects: Animality, Evolution, and Power<br/><div class=\"contheight\"></div>Silvia Federici, 卡列班与女巫：妇女、身体和原始积累<br/><div class=\"contheight\"></div>Suzanne Owen, “The World Religions paradigm: Time for a change,” Volume: 10 issue: 3, 253-268.<br/><div class=\"contheight\"></div>Masuzawa, T. (2005) The Invention of World Religions; or, How European Universalism was Preserved in the Language of Pluralism. Chicago, IL : University of Chicago Press.</span></div>\n",
              "<div class=\"hidden\">(本文来自澎湃新闻，更多原创资讯请下载“澎湃新闻”APP)</div>\n",
              "<section class=\"extra_panel\">\n",
              "<div class=\"author\">\n",
              "<p>责任编辑：龚思量\n",
              "                        </p>\n",
              "<p>校对：刘威</p>\n",
              "</div>\n",
              "<div class=\"praise_btn\" data-id=\"13762466\" data-parise=\"1\" onclick=\"Api.addNewsPraise(this)\">\n",
              "<span class=\"icon_like\"></span>\n",
              "</div>\n",
              "</section>\n",
              "<section class=\"relate_panel\">\n",
              "</section>\n",
              "<div class=\"news_part_all\" id=\"clickForMore\" onclick=\"showMoreCon()\"></div>\n",
              "</div>\n",
              "<a class=\"moblink_btn-650\" data-moblink=\"demo/a?contType=2&amp;contId=13762466\" data-statclick=\"readMoreContent\" id=\"moblink_moreread\" moblink-featured=\"\">打开APP，阅读体验更佳 </a>\n",
              "<!-- 热评 -->\n",
              "<section class=\"hottalk_panel\" id=\"hotCommentsDiv\"></section>\n",
              "<div class=\"ad_panel\">\n",
              "<script src=\"https://adpai.thepaper.cn/s?k1=N%2FT39lUS3yCj6HZ2yBP11%2BPzHZ51D3xF4jrD%2B77ykvbHt3S9hQjwIIIdw94ZjapK0ZeZx7O7846S4uoh7OvPG4qPfJ9eRFGu%2BTfdf2kUwiVwQ%2BfTj4ktfQG6Uvn1sjsItI0i2dlql%2BsGw0oylCjE5TxWHptxm4zJOdWeDhktCpo%3D&amp;s1=d07aecc18a94ff5cf710a7c0494c3318&amp;c1=PP&amp;c=32&amp;WD-CLIENT-TYPE=05&amp;arid=13762466&amp;caid=25483\" type=\"text/javascript\"></script>\n",
              "<script src=\"https://adpai.thepaper.cn/s?k1=N%2FT39lUS3yCj6HZ2yBP11%2BPzHZ51D3xF4jrD%2B77ykvbHt3S9hQjwIIIdw94ZjapK0ZeZx7O7846S4uoh7OvPG4qPfJ9eRFGu%2BTfdf2kUwiVwQ%2BfTj4ktfQG6Uvn1sjsItI0i2dlql%2BsGw0oylCjE5TxWHptxm4zJOdWeDhktCpo%3D&amp;s1=d07aecc18a94ff5cf710a7c0494c3318&amp;c1=PP&amp;c=33&amp;WD-CLIENT-TYPE=05&amp;arid=13762466&amp;caid=25483\" type=\"text/javascript\"></script>\n",
              "</div>\n",
              "<!-- 相关推荐 -->\n",
              "<section class=\"recommend_panel\" id=\"recommend\"></section>\n",
              "<!-- 热门推荐 -->\n",
              "<section class=\"recommend_panel\" id=\"newDetailHotRecommend\"></section>\n",
              "<!-- 底部banner -->\n",
              "<div id=\"bottomBanner\"></div>\n",
              "</div>\n",
              "<script type=\"text/javascript\">\n",
              "    if(!Util.is_weixin()){\n",
              "        document.write('<div style=\"position:fixed;bottom:80px;right:10px\" id=\"ad_demo\"><script src=\"https://adpai.thepaper.cn/s?k1=N%2FT39lUS3yCj6HZ2yBP11%2BPzHZ51D3xF4jrD%2B77ykvbHt3S9hQjwIIIdw94ZjapK0ZeZx7O7846S4uoh7OvPG4qPfJ9eRFGu%2BTfdf2kUwiVwQ%2BfTj4ktfQG6Uvn1sjsItI0i2dlql%2BsGw0oylCjE5TxWHptxm4zJOdWeDhktCpo%3D&s1=d07aecc18a94ff5cf710a7c0494c3318&c1=PP&c=59&WD-CLIENT-TYPE=05&arid=13762466&caid=25483\"><\\/script></div>');\n",
              "    }\n",
              "    var timelineJsonStr = {};\n",
              "    \n",
              "    timelineJsonStr = {};\n",
              "    \n",
              "    if(timelineJsonStr !== null && timelineJsonStr !== undefined && timelineJsonStr!== ''){\n",
              "        createTimeLine(timelineJsonStr,\"timeLineOne\")\n",
              "    }\n",
              "    function initRecommend(){\n",
              "        //初始相关推荐\n",
              "        $.ajax({\n",
              "            type: \"get\",\n",
              "            url: 'recommend.jsp',\n",
              "            data: \"contid=13762466\"\n",
              "                + \"&mrd=\"\n",
              "                + Math.random(),\n",
              "            timeout: 30000,\n",
              "            dataType: \"html\",\n",
              "            success: function (dataHtml) {\n",
              "                $(\"#recommend\").append(dataHtml)\n",
              "            }\n",
              "        });\n",
              "    }\n",
              "    function initHotRecommend(){\n",
              "        //初始24小时热门\n",
              "        $.ajax({\n",
              "            type:\"get\",\n",
              "            url: \"newDetail_hotRecommend.jsp\",\n",
              "            data: \"nodeId=25483&mrd=\"+ Math.random(),\n",
              "            timeout:30000,\n",
              "            dataType:\"html\",\n",
              "            cache: false,\n",
              "            success: function(dataHtml){\n",
              "                $(\"#newDetailHotRecommend\").append(dataHtml)\n",
              "                // 增加24小时热门广告\n",
              "                ADXml.adHotRecommend({\n",
              "                    adval:73,\n",
              "                    caid:\"25483\",\n",
              "                    adAddress : \"https://adpai.thepaper.cn/s?k1=N%2FT39lUS3yCj6HZ2yBP11%2BPzHZ51D3xF4jrD%2B77ykvbHt3S9hQjwIIIdw94ZjapK0ZeZx7O7846S4uoh7OvPG4qPfJ9eRFGu%2BTfdf2kUwiVwQ%2BfTj4ktfQG6Uvn1sjsItI0i2dlql%2BsGw0oylCjE5TxWHptxm4zJOdWeDhktCpo%3D&s1=d07aecc18a94ff5cf710a7c0494c3318&c1=PP&\",\n",
              "                    arid:\"13762466\",\n",
              "                    index:0\n",
              "                })\n",
              "                ADXml.adHotRecommend({\n",
              "                    adval:74,\n",
              "                    caid:\"25483\",\n",
              "                    adAddress : \"https://adpai.thepaper.cn/s?k1=N%2FT39lUS3yCj6HZ2yBP11%2BPzHZ51D3xF4jrD%2B77ykvbHt3S9hQjwIIIdw94ZjapK0ZeZx7O7846S4uoh7OvPG4qPfJ9eRFGu%2BTfdf2kUwiVwQ%2BfTj4ktfQG6Uvn1sjsItI0i2dlql%2BsGw0oylCjE5TxWHptxm4zJOdWeDhktCpo%3D&s1=d07aecc18a94ff5cf710a7c0494c3318&c1=PP&\",\n",
              "                    arid:\"13762466\",\n",
              "                    index:4\n",
              "                })\n",
              "            }\n",
              "        });\n",
              "    }\n",
              "    function initHotComments(){\n",
              "        //初始热评论 传参文章ID\n",
              "        $.ajax({\n",
              "            type:\"get\",\n",
              "            url: \"newDetail_hotComments_async.jsp\",\n",
              "            data:\"contid=13762466\",\n",
              "            timeout:30000,\n",
              "            dataType:\"html\",\n",
              "            cache: false,\n",
              "            success: function(dataHtml){\n",
              "                $(\"#hotCommentsDiv\").append(dataHtml)\n",
              "            }\n",
              "        });\n",
              "    }\n",
              "\n",
              "    function initBottomBanner(){\n",
              "        //初始底部轮播\n",
              "        $.ajax({\n",
              "            type:\"get\",\n",
              "            url: \"bottomBanner_newDetail.jsp\",\n",
              "            data:\"filterContid=13762466&filterNodeid=25483&contType=2&hotContIds=\", //\n",
              "            timeout:30000,\n",
              "            dataType:\"html\",\n",
              "            cache: false,\n",
              "            success: function(dataHtml){\n",
              "                $(\"#bottomBanner\").append(dataHtml)\n",
              "            }\n",
              "        });\n",
              "    }\n",
              "    function getContentHeight(){\n",
              "        var contHeight = 0;\n",
              "        for(var i=0;i<$('.newsdetail_body >*').length;i++){\n",
              "            contHeight += $('.newsdetail_body >*').eq(i).height();\n",
              "        }\n",
              "        return contHeight;\n",
              "    }\n",
              "\n",
              "    function showMoreCon(){\n",
              "        Api.sendAjaxForStatClick('readMore');\n",
              "        $(\".news_part_limit\").css(\"max-height\",\"inherit\");\n",
              "        $(\".news_part_all\").hide();\n",
              "    }\n",
              "\n",
              "    $(document).ready(function () {\n",
              "        initRecommend()\n",
              "        initHotRecommend()\n",
              "        initHotComments()\n",
              "        NewsFigureSwiper.init()\n",
              "        var isShowBanner = StorageTool.get(\"paper_wapdown\")\n",
              "        if( isShowBanner == null || isShowBanner == 1){\n",
              "            initBottomBanner()\n",
              "        }\n",
              "        initHeadPanel({\n",
              "            contType:2,\n",
              "            contId:\"13762466\",\n",
              "            channelId:\"25952\"\n",
              "        })\n",
              "        baseMobLinkInit(\"a[id^='moblink']\")\n",
              "        try{\n",
              "            var contentHeight = getContentHeight();\n",
              "            if(contentHeight > 700){\n",
              "                $('.newsdetail_body').addClass(\"news_part_limit\")\n",
              "                $('.news_part_all').show();\n",
              "                setTimeout(function(){\n",
              "                    $('.news_part_all').addClass(\"animation\")\n",
              "                },0)\n",
              "            }\n",
              "        }catch(e){\n",
              "\n",
              "        };\n",
              "        // 栏目冠名广告\n",
              "        ADXml.baseCreate({\n",
              "            adval:166,\n",
              "            caid:\"25483\",\n",
              "            adAddress : \"https://adpai.thepaper.cn/s?k1=N%2FT39lUS3yCj6HZ2yBP11%2BPzHZ51D3xF4jrD%2B77ykvbHt3S9hQjwIIIdw94ZjapK0ZeZx7O7846S4uoh7OvPG4qPfJ9eRFGu%2BTfdf2kUwiVwQ%2BfTj4ktfQG6Uvn1sjsItI0i2dlql%2BsGw0oylCjE5TxWHptxm4zJOdWeDhktCpo%3D&s1=d07aecc18a94ff5cf710a7c0494c3318&c1=PP&\"\n",
              "        },function(data){\n",
              "            var html = '<a href=\"'+data.click+'\"><img src=\"'+data.creative+'\"  class=\"channel_ad\"></a>'\n",
              "            $(\".channel_name\").prepend(html)\n",
              "        })\n",
              "    });\n",
              "</script>\n",
              "<script type=\"text/javascript\">\n",
              "    window.TencentGDT = window.TencentGDT || [];\n",
              "    window.TencentGDT.push({\n",
              "        app_id: '1111550239', // {String} - appid - 必填\n",
              "        placement_id: '8051468907596465', // {String} - 广告位id - 必填\n",
              "        type: 'native', // {String} - 原生广告类型 - 必填\n",
              "        //muid_type: '1',\n",
              "        count: 1, // {Number} - 拉取广告的数量，默认是3，最高支持10 - 选填\n",
              "        onComplete: function(res) {\n",
              "            if (res && res.constructor === Array) {\n",
              "                window.TencentGDT.NATIVE.renderAd(res[0], 'adPanel')\n",
              "            } else {\n",
              "                setTimeout(function() {\n",
              "                    window.TencentGDT.NATIVE.loadAd(\"8051468907596465\")\n",
              "                }, 3000)\n",
              "            }\n",
              "        }\n",
              "    });\n",
              "    // H5 SDK接入全局只需运行一次\n",
              "    (function() {\n",
              "        var doc = document,\n",
              "            h = doc.getElementsByTagName('head')[0],\n",
              "            s = doc.createElement('script');\n",
              "        s.async = true;\n",
              "        s.src = '//qzs.qq.com/qzone/biz/res/i.js';\n",
              "        h && h.insertBefore(s, h.firstChild);\n",
              "    })();\n",
              "</script>\n",
              "<footer>\n",
              "<div class=\"footer_nav\">\n",
              "<a href=\"about_paper.jsp\">关于澎湃</a>   |   \n",
              "        <a href=\"contact_us.jsp\">联系我们</a>   |   \n",
              "        <a href=\"copyright_statement.jsp\">版权声明</a>   |   \n",
              "        <a href=\"paper_ad.jsp\">澎湃广告</a>\n",
              "</div>\n",
              "<p class=\"footer_msg\">©2014~2021 上海东方报业有限公司 </p>\n",
              "<p class=\"footer_msg\">沪ICP证：沪B2-20170116 | 沪ICP备14003370号</p>\n",
              "<p class=\"footer_msg\">互联网新闻信息服务许可证：31120170006</p>\n",
              "<p class=\"footer_msg\"><a href=\"http://www.beian.gov.cn/portal/registerSystemInfo?recordcode=31010602000299\"><img class=\"footer_msg_ghs\" src=\"//file.thepaper.cn/wap/v6/img/ghs.png\"/>沪公网安备 31010602000299号</a></p>\n",
              "<div id=\"backTopBtn\"></div>\n",
              "</footer>\n",
              "</div>\n",
              "<script>\n",
              "  var irs_ua = 'UA-thepaper-190006'; //客户项目编号,由系统生成\n",
              "  (function () {\n",
              "    var ra = document.createElement('script');\n",
              "    ra.type = 'text/javascript';\n",
              "    ra.async = true;\n",
              "    ra.src = '//file.thepaper.cn/wap/v6/js/iwt1.0.2.js'; //iwt_1.0.2.js的URL位置，请客户自行托管JS文件，修改此值\n",
              "    var s = document.getElementsByTagName('script')[0];\n",
              "    s.parentNode.insertBefore(ra, s);\n",
              "  })();\n",
              "</script>\n",
              "<script type=\"text/javascript\">\n",
              "\t  var targetProtocol = \"https:\";\n",
              "\t  if (window.location.protocol != targetProtocol){\n",
              "\t  window.location.href = targetProtocol +window.location.href.substring(window.location.protocol.length);\n",
              "\t  }\n",
              "$(document).ready(function () {\n",
              "$(\".header_menu\").click(function(){\n",
              "if($('#moblink_city').length==0){\n",
              "Api.getRegionHtml();\n",
              "}\n",
              "});\n",
              "})\n",
              "  </script>\n",
              "</body>\n",
              "</html>"
            ]
          },
          "metadata": {},
          "execution_count": 16
        }
      ]
    },
    {
      "cell_type": "markdown",
      "source": [
        "### **Step 3:** Get the text with tags removal and without class selection\n",
        "\n",
        "To clean it up, we need to extract the content using **extract()** and **get_text()**. Now things look much better! Nonetheless, we still need to remove the header texts."
      ],
      "metadata": {
        "id": "2TgH1yEzTahw"
      }
    },
    {
      "cell_type": "code",
      "source": [
        "# kill all script and style elements\n",
        "for script in soup([\"script\", \"style\"]):\n",
        "    script.extract()    # rip it out\n",
        "\n",
        "# get text\n",
        "text = soup.get_text()"
      ],
      "metadata": {
        "id": "FFKVD9LCIKiW"
      },
      "execution_count": null,
      "outputs": []
    },
    {
      "cell_type": "code",
      "source": [
        "text[500:1500]"
      ],
      "metadata": {
        "colab": {
          "base_uri": "https://localhost:8080/",
          "height": 219
        },
        "id": "yQmg3Gf2Jh4M",
        "outputId": "1d677402-662b-4e61-bf11-89a3afe7bb51"
      },
      "execution_count": null,
      "outputs": [
        {
          "output_type": "execute_result",
          "data": {
            "application/vnd.google.colaboratory.intrinsic+json": {
              "type": "string"
            },
            "text/plain": [
              "'私家地理\\n非常品\\n楼市\\n生活方式\\n澎湃联播\\n视界\\n亲子学堂\\n北京冬奥\\n汽车圈\\n\\n\\n\\n\\n\\n\\n\\n\\n\\n\\n\\n思想市场\\n\\n去APP听\\n\\n\\n时差播客︱宗教学：信仰，魔法，身份，权力\\n时差播客\\n\\n                2021-07-30 12:29\\xa0\\n                \\n                    \\n                        来源：澎湃新闻\\n                    \\n                    \\n                \\n            \\n\\n\\n\\n\\n\\n\\n\\r\\n            {{newsTimeline.name}}\\r\\n        \\n\\n\\n\\n\\n\\n\\n\\r\\n                        {{item.occurrenceDay}}\\r\\n                    \\n\\n\\n\\n\\n\\n{{content.occurrenceTime}}\\n\\n {{content.name}}\\n\\n查看详情\\n\\n\\n\\n\\n\\n\\n\\n全部展开\\n收起时间线\\n\\n\\n\\n本期《时差》播客，主持人多伦多大学助理教授郭婷邀请到了来自宾夕法尼亚大学的程晓文教授、香港大学的李纪教授、弗吉尼亚理工大学的倪湛舸教授以及芝加哥大学神学院的神务硕士、医院宗教师郑利昕，以“宗教学：信仰，魔法，身份，权力”为题展开讨论。宗教并不外在于日常生活，而是弥散在社会、历史、文化、政治中的点滴；宗教学帮助我们反思历史，同时理解今天的世界。本文为时差播客与澎湃新闻合作刊发的文字稿，由澎湃新闻（www.thepaper.cn）记者龚思量整理。观音老母洞郭婷：在今天节目开始之前，我想先表达一下沉痛的悼念，前几天有一位宗教学界的前辈，台大的林富士老师（1960-2021）去世了。我本来并不是研究中国宗教的，也不研究传统的中国文史哲，所以并没有和林老师见过面。但我一直从他的研究中得到灵感，所以非常感谢他。这两天也在脸书上，看到很多他过去的同事和学生对他的纪念。虽然学术界很多时候是一个有失公正的地方，但还是有一些地方让人觉得温暖，就好像点亮了一盏灯，而那盏灯一直会亮下去。这一期我们来谈宗教学，不只是谈学界，也谈它的实践。在座几位虽然是跨学科的研究者或实践者，但也是宗教学出身。那我相信，大家在和别人介绍说自己研究宗教学的时候，通常会听到几个问题：'"
            ]
          },
          "metadata": {},
          "execution_count": 27
        }
      ]
    },
    {
      "cell_type": "markdown",
      "source": [
        "### **Step 4:** Get the text with tags removal and class selection\n",
        "\n",
        "We can remove all irrelevant sessions from the website by specifying the class. We can filter a specific class using **find()**. The class is identified using the developer tools in the browser. Please pay attention: we can only get the **first item** in this class using find(). Another option would be **find_all()** which returns a list of matches. The output is the clean text we were expecting.🌟"
      ],
      "metadata": {
        "id": "Gt1bzemOTmBn"
      }
    },
    {
      "cell_type": "code",
      "source": [
        "text = soup.find(\"div\", {\"class\": \"newsdetail_content\"}).get_text()\n",
        "\n",
        "text[:1000]"
      ],
      "metadata": {
        "colab": {
          "base_uri": "https://localhost:8080/",
          "height": 271
        },
        "id": "GmRBGXMkKDEj",
        "outputId": "6e108f24-c969-4154-8f3f-8d2625753871"
      },
      "execution_count": null,
      "outputs": [
        {
          "output_type": "execute_result",
          "data": {
            "application/vnd.google.colaboratory.intrinsic+json": {
              "type": "string"
            },
            "text/plain": [
              "'本期《时差》播客，主持人多伦多大学助理教授郭婷邀请到了来自宾夕法尼亚大学的程晓文教授、香港大学的李纪教授、弗吉尼亚理工大学的倪湛舸教授以及芝加哥大学神学院的神务硕士、医院宗教师郑利昕，以“宗教学：信仰，魔法，身份，权力”为题展开讨论。宗教并不外在于日常生活，而是弥散在社会、历史、文化、政治中的点滴；宗教学帮助我们反思历史，同时理解今天的世界。本文为时差播客与澎湃新闻合作刊发的文字稿，由澎湃新闻（www.thepaper.cn）记者龚思量整理。观音老母洞郭婷：在今天节目开始之前，我想先表达一下沉痛的悼念，前几天有一位宗教学界的前辈，台大的林富士老师（1960-2021）去世了。我本来并不是研究中国宗教的，也不研究传统的中国文史哲，所以并没有和林老师见过面。但我一直从他的研究中得到灵感，所以非常感谢他。这两天也在脸书上，看到很多他过去的同事和学生对他的纪念。虽然学术界很多时候是一个有失公正的地方，但还是有一些地方让人觉得温暖，就好像点亮了一盏灯，而那盏灯一直会亮下去。这一期我们来谈宗教学，不只是谈学界，也谈它的实践。在座几位虽然是跨学科的研究者或实践者，但也是宗教学出身。那我相信，大家在和别人介绍说自己研究宗教学的时候，通常会听到几个问题：一个是那你有没有宗教信仰？或者你研究哪一种宗教？以前还会听到的一个问题是，那你毕业之后做什么，是不是准备出家等等。我以前会开玩笑说，对，以后出家给人算命。其实不只是学界之外，包括学界之内，不同学科对宗教学领域都会有一些陌生，因为它确实是一个比较特殊的学科。就我自己而言，我博士的训练在爱丁堡大学的神学院。爱大神学院作为一个新兴科系，比较有抗争精神和创新精神。它设立之初就是为了和传统的神学或者是和宗教有关的学科对抗，所以它非常讲究世俗化和社会科学方法。我记得大部分宗教系的学者不论男女都打扮得非常不羁。在开会的时候，美国宗教学、尤其是圣经研究的学者尤其男性会打扮得非常闪亮，头发焗过、穿西装、带领带、鞋子都擦得很亮，但是英国宗教系的老师就穿得很随便。而宗教学学科的训练讲究宗教和社会的关系、宗教和当下社会的关系。虽然我当时的研究是从AI人工智能切入，但其实是研究是英国的世俗化的情况。当然，在神学院也会碰到其他科系的同学，比如有旧约研究、新约研究，神学研究，然后也有一些道学博士或者是教牧学的学位。那想请几位聊聊，你们的研究背景是怎么样的，也可以跟'"
            ]
          },
          "metadata": {},
          "execution_count": 28
        }
      ]
    },
    {
      "cell_type": "markdown",
      "source": [
        "### **Step 5:** Keyword Extraction\n",
        "**The final step is exactly what we did in the [last tutorial](https://pinkychow1010.github.io/digital-chinese-history-blog/level-4/chapter-4/jieba/text-mining/2022/02/05/Chinese_Keyword_Extraction_1.html)!** It defines the stopwords and extracts 10 keywords from the text."
      ],
      "metadata": {
        "id": "f5zjBGBvXQlR"
      }
    },
    {
      "cell_type": "code",
      "source": [
        "stopwords= r\"/content/drive/MyDrive/NLP/stopwords.txt\"\n",
        "url = \"https://m.thepaper.cn/newsDetail_forward_16254733\"\n",
        "\n",
        "jieba.analyse.set_stop_words(stopwords)\n",
        "tags = jieba.analyse.extract_tags(text, topK=10, withWeight=True)"
      ],
      "metadata": {
        "id": "tn3dDW8aXHCs"
      },
      "execution_count": null,
      "outputs": []
    },
    {
      "cell_type": "markdown",
      "source": [
        "#### **Keywords:**\n",
        "Let's look at our result."
      ],
      "metadata": {
        "id": "6jxHQmGzXe6J"
      }
    },
    {
      "cell_type": "code",
      "source": [
        "tags"
      ],
      "metadata": {
        "colab": {
          "base_uri": "https://localhost:8080/"
        },
        "id": "kz4ma5wvXdXg",
        "outputId": "469e49f7-85ba-4deb-d22b-4693bdf207b3"
      },
      "execution_count": null,
      "outputs": [
        {
          "output_type": "execute_result",
          "data": {
            "text/plain": [
              "[('宗教', 0.2162035113456979),\n",
              " ('研究', 0.1056884665277731),\n",
              " ('宗教学', 0.07345268363971678),\n",
              " ('基督教', 0.061966732508025965),\n",
              " ('女性', 0.05076592702813553),\n",
              " ('神学院', 0.04378034740564733),\n",
              " ('天主教', 0.040147481422144304),\n",
              " ('传统', 0.033391922322156105),\n",
              " ('现在', 0.032659074433310856),\n",
              " ('社会', 0.031786899511790284)]"
            ]
          },
          "metadata": {},
          "execution_count": 41
        }
      ]
    },
    {
      "cell_type": "markdown",
      "source": [
        "# Writing a Function \n",
        "\n",
        "To simplify the steps, we can condense everything into a short function. If you do not know yet how to build a function, [check it out](https://pinkychow1010.github.io/digital-chinese-history-blog/programming/chapter-1/level-1/2020/01/26/FunctionsNLoops_Basics.html). This function will take an URL, the number of keywords and a stopword list. It will then return the keywords in the list. "
      ],
      "metadata": {
        "id": "tfhxk_nhG6aq"
      }
    },
    {
      "cell_type": "code",
      "source": [
        "def extract_keywords(url,n,stopwords, withWeight=False):\n",
        "  \"\"\"\n",
        "  This function extract a number of keywords from a webpage after excluding the stopwords\n",
        "  url: str\n",
        "    the webpage\n",
        "  n: int\n",
        "    number of keywords extracted\n",
        "  stopwords: str\n",
        "    a path to the stopword text file\n",
        "  returns: list\n",
        "    list of keywords extracted from the webpage\n",
        "  \"\"\"\n",
        "  html = urlopen(url).read()\n",
        "  soup = BeautifulSoup(html, features=\"html.parser\")\n",
        "\n",
        "  # kill all script and style elements\n",
        "  for script in soup([\"script\", \"style\"]):\n",
        "      script.extract()    # rip it out\n",
        "\n",
        "  # get text\n",
        "  text = soup.find(\"div\", {\"class\": \"newsdetail_content\"}).get_text()\n",
        "\n",
        "  # exclude stopwords\n",
        "  jieba.analyse.set_stop_words(stopwords)\n",
        "\n",
        "  # get keywords\n",
        "  tags = jieba.analyse.extract_tags(text, topK=n, withWeight=withWeight)\n",
        "  return tags"
      ],
      "metadata": {
        "id": "1WfeuX0-1JHK"
      },
      "execution_count": null,
      "outputs": []
    },
    {
      "cell_type": "markdown",
      "source": [
        "By applying the function, we get a list of 10 keywords:\n",
        "**'研究', '诗歌', '中国', '蔡宗齐', '学者', '澎湃', '文学', '诗境', '语法', '汉诗'**"
      ],
      "metadata": {
        "id": "2Xtldgl45UXr"
      }
    },
    {
      "cell_type": "code",
      "source": [
        "stopwords= r\"/content/drive/MyDrive/NLP/stopwords.txt\"\n",
        "n = 10\n",
        "url = \"https://m.thepaper.cn/newsDetail_forward_16254733\"\n",
        "\n",
        "extract_keywords(url=url,n=n,stopwords=stopwords)"
      ],
      "metadata": {
        "colab": {
          "base_uri": "https://localhost:8080/"
        },
        "id": "sypreaLM1sB_",
        "outputId": "ee3a8f54-f367-4584-e525-d99ec2c91c1e"
      },
      "execution_count": null,
      "outputs": [
        {
          "output_type": "execute_result",
          "data": {
            "text/plain": [
              "['研究', '诗歌', '中国', '蔡宗齐', '学者', '澎湃', '文学', '诗境', '语法', '汉诗']"
            ]
          },
          "metadata": {},
          "execution_count": 66
        }
      ]
    },
    {
      "cell_type": "markdown",
      "source": [
        "## Extract Keywords from Multiple Blogs\n",
        "\n",
        "Until now, we can only extract keywords for one text at a time. To further automate what we did, we can loop through multiple articles. If you do not know yet how to build a loop, [check it out](https://pinkychow1010.github.io/digital-chinese-history-blog/programming/chapter-1/level-1/2020/01/26/FunctionsNLoops_Basics.html). Please pay attention: as we are going through the webpages using Python, the server might be overloaded with too many requests in a very short time. To avoid potential errors, we can catch the errors using **try** and **except**, and put **time.sleep()** in between using **time** library. We will let the program *sleep* for 5 seconds after scrapping each web address."
      ],
      "metadata": {
        "id": "GzMr7n4gHD0E"
      }
    },
    {
      "cell_type": "code",
      "source": [
        "stopwords= r\"/content/drive/MyDrive/NLP/stopwords.txt\"\n",
        "n = 10\n",
        "keyword_list = []\n",
        "\n",
        "for page in range(10000000,10000010):\n",
        "  url = \"https://m.thepaper.cn/newsDetail_forward_{}\".format(page)\n",
        "  print(url)\n",
        "  time.sleep(5)\n",
        "\n",
        "  try:\n",
        "    keywords = extract_keywords(url=url,n=n,stopwords=stopwords)\n",
        "  except Exceptions:\n",
        "      print(\"Interrupted\")\n",
        "\n",
        "  keyword_list.append(keywords)"
      ],
      "metadata": {
        "colab": {
          "base_uri": "https://localhost:8080/"
        },
        "id": "QrDWRalnU8Zd",
        "outputId": "c1f29cd1-010b-4ffd-88fa-ca34b648b536"
      },
      "execution_count": null,
      "outputs": [
        {
          "output_type": "stream",
          "name": "stdout",
          "text": [
            "https://m.thepaper.cn/newsDetail_forward_10000000\n"
          ]
        },
        {
          "output_type": "stream",
          "name": "stderr",
          "text": [
            "Building prefix dict from the default dictionary ...\n",
            "Dumping model to file cache /tmp/jieba.cache\n",
            "Loading model cost 1.096 seconds.\n",
            "Prefix dict has been built successfully.\n"
          ]
        },
        {
          "output_type": "stream",
          "name": "stdout",
          "text": [
            "https://m.thepaper.cn/newsDetail_forward_10000001\n",
            "https://m.thepaper.cn/newsDetail_forward_10000002\n",
            "https://m.thepaper.cn/newsDetail_forward_10000003\n",
            "https://m.thepaper.cn/newsDetail_forward_10000004\n",
            "https://m.thepaper.cn/newsDetail_forward_10000005\n",
            "https://m.thepaper.cn/newsDetail_forward_10000006\n",
            "https://m.thepaper.cn/newsDetail_forward_10000007\n",
            "https://m.thepaper.cn/newsDetail_forward_10000008\n",
            "https://m.thepaper.cn/newsDetail_forward_10000009\n"
          ]
        }
      ]
    },
    {
      "cell_type": "markdown",
      "source": [
        "## **Export Keyword List**\n",
        "\n",
        "We have appended the keywords to a list **keyword_list** when we loop through the articles. Now, we can access all keywords by looking into our list."
      ],
      "metadata": {
        "id": "tF82e6jL4r2b"
      }
    },
    {
      "cell_type": "code",
      "source": [
        "keyword_list"
      ],
      "metadata": {
        "colab": {
          "base_uri": "https://localhost:8080/"
        },
        "id": "EtbRGVE9MmWF",
        "outputId": "5b8d0ad2-d292-41fa-937d-f5ccc82d1890"
      },
      "execution_count": null,
      "outputs": [
        {
          "output_type": "execute_result",
          "data": {
            "text/plain": [
              "[['拔萝卜', '萝卜', '采摘', '孩子', '菜园', '收获', '周末版', '实践', '热爱劳动', '终觉'],\n",
              " ['绿色', '循环', '湖南省', '10', '环保', '生态', '活动', '兑换', '垃圾', '分类'],\n",
              " ['吴邮邮', '三轮车', '孩子', '小孙子', '事迹', '归仁', '2019', '12', '高文娟', '微信'],\n",
              " ['浙大', '浙江大学', '新人', '记者团', '缘定', '星河', '母校', '2020', '123', '李兰娟'],\n",
              " ['济南', '公安', '报告', '原文', '交警', '标题', '阅读'],\n",
              " ['年会', '环保', '湖南省', '社会', '行动者', '2020', '生态', '组织', '绿色', '环境治理'],\n",
              " ['斩肉', '海安', '炸制', '白斩', '炖煮', '--', '葱姜', '猴急', '麻虾', '黄毛'],\n",
              " ['高杰', '执法', '学法', '公安', '公安机关', '多面手', '全市', '法治', '复议', '民警'],\n",
              " ['栗子', '好钰', '炒栗子', '虹口', '小虹', '海宁路', '好好', '00', '野栗', '板栗'],\n",
              " ['海安', '博物馆', '陶瓷', '鸣谢', '匠心独运', '美轮美奂', '林裕翔', '邰颖', '喜欢', '光辉灿烂']]"
            ]
          },
          "metadata": {},
          "execution_count": 33
        }
      ]
    },
    {
      "cell_type": "markdown",
      "source": [
        "We can also choose to put the list in a **Pandas** data frame and export it to a **csv** file. If you want to learn more about Pandas, check it out [here](https://pinkychow1010.github.io/digital-chinese-history-blog/level-2/chapter-2/data-manipulation/pandas/2020/01/23/Pandas_TextAnalysis_TextOriganization.html)."
      ],
      "metadata": {
        "id": "6Rx_opZh6i-s"
      }
    },
    {
      "cell_type": "code",
      "source": [
        "df = pd.DataFrame(keyword_list)"
      ],
      "metadata": {
        "id": "kv1tPp9xVXEu"
      },
      "execution_count": null,
      "outputs": []
    },
    {
      "cell_type": "markdown",
      "source": [
        "Save each keyword into separate columns as strings."
      ],
      "metadata": {
        "id": "bLd_3agL7JFk"
      }
    },
    {
      "cell_type": "code",
      "source": [
        "df = df.fillna(value=np.nan).astype(str)\n",
        "df"
      ],
      "metadata": {
        "colab": {
          "base_uri": "https://localhost:8080/",
          "height": 363
        },
        "id": "mpkYTxayY_Fg",
        "outputId": "f866d9da-c947-4337-c0ad-f980482c9db2"
      },
      "execution_count": null,
      "outputs": [
        {
          "output_type": "execute_result",
          "data": {
            "text/html": [
              "\n",
              "  <div id=\"df-6e4a2242-7880-4b8a-a492-51e9c31dcf7b\">\n",
              "    <div class=\"colab-df-container\">\n",
              "      <div>\n",
              "<style scoped>\n",
              "    .dataframe tbody tr th:only-of-type {\n",
              "        vertical-align: middle;\n",
              "    }\n",
              "\n",
              "    .dataframe tbody tr th {\n",
              "        vertical-align: top;\n",
              "    }\n",
              "\n",
              "    .dataframe thead th {\n",
              "        text-align: right;\n",
              "    }\n",
              "</style>\n",
              "<table border=\"1\" class=\"dataframe\">\n",
              "  <thead>\n",
              "    <tr style=\"text-align: right;\">\n",
              "      <th></th>\n",
              "      <th>0</th>\n",
              "      <th>1</th>\n",
              "      <th>2</th>\n",
              "      <th>3</th>\n",
              "      <th>4</th>\n",
              "      <th>5</th>\n",
              "      <th>6</th>\n",
              "      <th>7</th>\n",
              "      <th>8</th>\n",
              "      <th>9</th>\n",
              "    </tr>\n",
              "  </thead>\n",
              "  <tbody>\n",
              "    <tr>\n",
              "      <th>0</th>\n",
              "      <td>拔萝卜</td>\n",
              "      <td>萝卜</td>\n",
              "      <td>采摘</td>\n",
              "      <td>孩子</td>\n",
              "      <td>菜园</td>\n",
              "      <td>收获</td>\n",
              "      <td>周末版</td>\n",
              "      <td>实践</td>\n",
              "      <td>热爱劳动</td>\n",
              "      <td>终觉</td>\n",
              "    </tr>\n",
              "    <tr>\n",
              "      <th>1</th>\n",
              "      <td>绿色</td>\n",
              "      <td>循环</td>\n",
              "      <td>湖南省</td>\n",
              "      <td>10</td>\n",
              "      <td>环保</td>\n",
              "      <td>生态</td>\n",
              "      <td>活动</td>\n",
              "      <td>兑换</td>\n",
              "      <td>垃圾</td>\n",
              "      <td>分类</td>\n",
              "    </tr>\n",
              "    <tr>\n",
              "      <th>2</th>\n",
              "      <td>吴邮邮</td>\n",
              "      <td>三轮车</td>\n",
              "      <td>孩子</td>\n",
              "      <td>小孙子</td>\n",
              "      <td>事迹</td>\n",
              "      <td>归仁</td>\n",
              "      <td>2019</td>\n",
              "      <td>12</td>\n",
              "      <td>高文娟</td>\n",
              "      <td>微信</td>\n",
              "    </tr>\n",
              "    <tr>\n",
              "      <th>3</th>\n",
              "      <td>浙大</td>\n",
              "      <td>浙江大学</td>\n",
              "      <td>新人</td>\n",
              "      <td>记者团</td>\n",
              "      <td>缘定</td>\n",
              "      <td>星河</td>\n",
              "      <td>母校</td>\n",
              "      <td>2020</td>\n",
              "      <td>123</td>\n",
              "      <td>李兰娟</td>\n",
              "    </tr>\n",
              "    <tr>\n",
              "      <th>4</th>\n",
              "      <td>济南</td>\n",
              "      <td>公安</td>\n",
              "      <td>报告</td>\n",
              "      <td>原文</td>\n",
              "      <td>交警</td>\n",
              "      <td>标题</td>\n",
              "      <td>阅读</td>\n",
              "      <td>nan</td>\n",
              "      <td>nan</td>\n",
              "      <td>nan</td>\n",
              "    </tr>\n",
              "    <tr>\n",
              "      <th>5</th>\n",
              "      <td>年会</td>\n",
              "      <td>环保</td>\n",
              "      <td>湖南省</td>\n",
              "      <td>社会</td>\n",
              "      <td>行动者</td>\n",
              "      <td>2020</td>\n",
              "      <td>生态</td>\n",
              "      <td>组织</td>\n",
              "      <td>绿色</td>\n",
              "      <td>环境治理</td>\n",
              "    </tr>\n",
              "    <tr>\n",
              "      <th>6</th>\n",
              "      <td>斩肉</td>\n",
              "      <td>海安</td>\n",
              "      <td>炸制</td>\n",
              "      <td>白斩</td>\n",
              "      <td>炖煮</td>\n",
              "      <td>--</td>\n",
              "      <td>葱姜</td>\n",
              "      <td>猴急</td>\n",
              "      <td>麻虾</td>\n",
              "      <td>黄毛</td>\n",
              "    </tr>\n",
              "    <tr>\n",
              "      <th>7</th>\n",
              "      <td>高杰</td>\n",
              "      <td>执法</td>\n",
              "      <td>学法</td>\n",
              "      <td>公安</td>\n",
              "      <td>公安机关</td>\n",
              "      <td>多面手</td>\n",
              "      <td>全市</td>\n",
              "      <td>法治</td>\n",
              "      <td>复议</td>\n",
              "      <td>民警</td>\n",
              "    </tr>\n",
              "    <tr>\n",
              "      <th>8</th>\n",
              "      <td>栗子</td>\n",
              "      <td>好钰</td>\n",
              "      <td>炒栗子</td>\n",
              "      <td>虹口</td>\n",
              "      <td>小虹</td>\n",
              "      <td>海宁路</td>\n",
              "      <td>好好</td>\n",
              "      <td>00</td>\n",
              "      <td>野栗</td>\n",
              "      <td>板栗</td>\n",
              "    </tr>\n",
              "    <tr>\n",
              "      <th>9</th>\n",
              "      <td>海安</td>\n",
              "      <td>博物馆</td>\n",
              "      <td>陶瓷</td>\n",
              "      <td>鸣谢</td>\n",
              "      <td>匠心独运</td>\n",
              "      <td>美轮美奂</td>\n",
              "      <td>林裕翔</td>\n",
              "      <td>邰颖</td>\n",
              "      <td>喜欢</td>\n",
              "      <td>光辉灿烂</td>\n",
              "    </tr>\n",
              "  </tbody>\n",
              "</table>\n",
              "</div>\n",
              "      <button class=\"colab-df-convert\" onclick=\"convertToInteractive('df-6e4a2242-7880-4b8a-a492-51e9c31dcf7b')\"\n",
              "              title=\"Convert this dataframe to an interactive table.\"\n",
              "              style=\"display:none;\">\n",
              "        \n",
              "  <svg xmlns=\"http://www.w3.org/2000/svg\" height=\"24px\"viewBox=\"0 0 24 24\"\n",
              "       width=\"24px\">\n",
              "    <path d=\"M0 0h24v24H0V0z\" fill=\"none\"/>\n",
              "    <path d=\"M18.56 5.44l.94 2.06.94-2.06 2.06-.94-2.06-.94-.94-2.06-.94 2.06-2.06.94zm-11 1L8.5 8.5l.94-2.06 2.06-.94-2.06-.94L8.5 2.5l-.94 2.06-2.06.94zm10 10l.94 2.06.94-2.06 2.06-.94-2.06-.94-.94-2.06-.94 2.06-2.06.94z\"/><path d=\"M17.41 7.96l-1.37-1.37c-.4-.4-.92-.59-1.43-.59-.52 0-1.04.2-1.43.59L10.3 9.45l-7.72 7.72c-.78.78-.78 2.05 0 2.83L4 21.41c.39.39.9.59 1.41.59.51 0 1.02-.2 1.41-.59l7.78-7.78 2.81-2.81c.8-.78.8-2.07 0-2.86zM5.41 20L4 18.59l7.72-7.72 1.47 1.35L5.41 20z\"/>\n",
              "  </svg>\n",
              "      </button>\n",
              "      \n",
              "  <style>\n",
              "    .colab-df-container {\n",
              "      display:flex;\n",
              "      flex-wrap:wrap;\n",
              "      gap: 12px;\n",
              "    }\n",
              "\n",
              "    .colab-df-convert {\n",
              "      background-color: #E8F0FE;\n",
              "      border: none;\n",
              "      border-radius: 50%;\n",
              "      cursor: pointer;\n",
              "      display: none;\n",
              "      fill: #1967D2;\n",
              "      height: 32px;\n",
              "      padding: 0 0 0 0;\n",
              "      width: 32px;\n",
              "    }\n",
              "\n",
              "    .colab-df-convert:hover {\n",
              "      background-color: #E2EBFA;\n",
              "      box-shadow: 0px 1px 2px rgba(60, 64, 67, 0.3), 0px 1px 3px 1px rgba(60, 64, 67, 0.15);\n",
              "      fill: #174EA6;\n",
              "    }\n",
              "\n",
              "    [theme=dark] .colab-df-convert {\n",
              "      background-color: #3B4455;\n",
              "      fill: #D2E3FC;\n",
              "    }\n",
              "\n",
              "    [theme=dark] .colab-df-convert:hover {\n",
              "      background-color: #434B5C;\n",
              "      box-shadow: 0px 1px 3px 1px rgba(0, 0, 0, 0.15);\n",
              "      filter: drop-shadow(0px 1px 2px rgba(0, 0, 0, 0.3));\n",
              "      fill: #FFFFFF;\n",
              "    }\n",
              "  </style>\n",
              "\n",
              "      <script>\n",
              "        const buttonEl =\n",
              "          document.querySelector('#df-6e4a2242-7880-4b8a-a492-51e9c31dcf7b button.colab-df-convert');\n",
              "        buttonEl.style.display =\n",
              "          google.colab.kernel.accessAllowed ? 'block' : 'none';\n",
              "\n",
              "        async function convertToInteractive(key) {\n",
              "          const element = document.querySelector('#df-6e4a2242-7880-4b8a-a492-51e9c31dcf7b');\n",
              "          const dataTable =\n",
              "            await google.colab.kernel.invokeFunction('convertToInteractive',\n",
              "                                                     [key], {});\n",
              "          if (!dataTable) return;\n",
              "\n",
              "          const docLinkHtml = 'Like what you see? Visit the ' +\n",
              "            '<a target=\"_blank\" href=https://colab.research.google.com/notebooks/data_table.ipynb>data table notebook</a>'\n",
              "            + ' to learn more about interactive tables.';\n",
              "          element.innerHTML = '';\n",
              "          dataTable['output_type'] = 'display_data';\n",
              "          await google.colab.output.renderOutput(dataTable, element);\n",
              "          const docLink = document.createElement('div');\n",
              "          docLink.innerHTML = docLinkHtml;\n",
              "          element.appendChild(docLink);\n",
              "        }\n",
              "      </script>\n",
              "    </div>\n",
              "  </div>\n",
              "  "
            ],
            "text/plain": [
              "     0     1    2    3     4     5     6     7     8     9\n",
              "0  拔萝卜    萝卜   采摘   孩子    菜园    收获   周末版    实践  热爱劳动    终觉\n",
              "1   绿色    循环  湖南省   10    环保    生态    活动    兑换    垃圾    分类\n",
              "2  吴邮邮   三轮车   孩子  小孙子    事迹    归仁  2019    12   高文娟    微信\n",
              "3   浙大  浙江大学   新人  记者团    缘定    星河    母校  2020   123   李兰娟\n",
              "4   济南    公安   报告   原文    交警    标题    阅读   nan   nan   nan\n",
              "5   年会    环保  湖南省   社会   行动者  2020    生态    组织    绿色  环境治理\n",
              "6   斩肉    海安   炸制   白斩    炖煮    --    葱姜    猴急    麻虾    黄毛\n",
              "7   高杰    执法   学法   公安  公安机关   多面手    全市    法治    复议    民警\n",
              "8   栗子    好钰  炒栗子   虹口    小虹   海宁路    好好    00    野栗    板栗\n",
              "9   海安   博物馆   陶瓷   鸣谢  匠心独运  美轮美奂   林裕翔    邰颖    喜欢  光辉灿烂"
            ]
          },
          "metadata": {},
          "execution_count": 52
        }
      ]
    },
    {
      "cell_type": "markdown",
      "source": [
        "We can also put all keywords together in a single column. It is done by applying function **join()** along axis 1 of our DataFrame."
      ],
      "metadata": {
        "id": "ur8mggs37Thf"
      }
    },
    {
      "cell_type": "code",
      "source": [
        "df_join = pd.DataFrame()\n",
        "df_join[\"keywords\"] = df.apply(lambda row: ','.join(row.values.astype(str)), axis=1)\n",
        "df_join"
      ],
      "metadata": {
        "colab": {
          "base_uri": "https://localhost:8080/",
          "height": 363
        },
        "id": "_TTOhJezWgvo",
        "outputId": "c81d9fac-db49-4268-c4f3-b0e08937b64f"
      },
      "execution_count": null,
      "outputs": [
        {
          "output_type": "execute_result",
          "data": {
            "text/html": [
              "\n",
              "  <div id=\"df-79c1a951-e829-42b1-b84c-c0ebedc2fcc3\">\n",
              "    <div class=\"colab-df-container\">\n",
              "      <div>\n",
              "<style scoped>\n",
              "    .dataframe tbody tr th:only-of-type {\n",
              "        vertical-align: middle;\n",
              "    }\n",
              "\n",
              "    .dataframe tbody tr th {\n",
              "        vertical-align: top;\n",
              "    }\n",
              "\n",
              "    .dataframe thead th {\n",
              "        text-align: right;\n",
              "    }\n",
              "</style>\n",
              "<table border=\"1\" class=\"dataframe\">\n",
              "  <thead>\n",
              "    <tr style=\"text-align: right;\">\n",
              "      <th></th>\n",
              "      <th>keywords</th>\n",
              "    </tr>\n",
              "  </thead>\n",
              "  <tbody>\n",
              "    <tr>\n",
              "      <th>0</th>\n",
              "      <td>拔萝卜,萝卜,采摘,孩子,菜园,收获,周末版,实践,热爱劳动,终觉</td>\n",
              "    </tr>\n",
              "    <tr>\n",
              "      <th>1</th>\n",
              "      <td>绿色,循环,湖南省,10,环保,生态,活动,兑换,垃圾,分类</td>\n",
              "    </tr>\n",
              "    <tr>\n",
              "      <th>2</th>\n",
              "      <td>吴邮邮,三轮车,孩子,小孙子,事迹,归仁,2019,12,高文娟,微信</td>\n",
              "    </tr>\n",
              "    <tr>\n",
              "      <th>3</th>\n",
              "      <td>浙大,浙江大学,新人,记者团,缘定,星河,母校,2020,123,李兰娟</td>\n",
              "    </tr>\n",
              "    <tr>\n",
              "      <th>4</th>\n",
              "      <td>济南,公安,报告,原文,交警,标题,阅读,nan,nan,nan</td>\n",
              "    </tr>\n",
              "    <tr>\n",
              "      <th>5</th>\n",
              "      <td>年会,环保,湖南省,社会,行动者,2020,生态,组织,绿色,环境治理</td>\n",
              "    </tr>\n",
              "    <tr>\n",
              "      <th>6</th>\n",
              "      <td>斩肉,海安,炸制,白斩,炖煮,--,葱姜,猴急,麻虾,黄毛</td>\n",
              "    </tr>\n",
              "    <tr>\n",
              "      <th>7</th>\n",
              "      <td>高杰,执法,学法,公安,公安机关,多面手,全市,法治,复议,民警</td>\n",
              "    </tr>\n",
              "    <tr>\n",
              "      <th>8</th>\n",
              "      <td>栗子,好钰,炒栗子,虹口,小虹,海宁路,好好,00,野栗,板栗</td>\n",
              "    </tr>\n",
              "    <tr>\n",
              "      <th>9</th>\n",
              "      <td>海安,博物馆,陶瓷,鸣谢,匠心独运,美轮美奂,林裕翔,邰颖,喜欢,光辉灿烂</td>\n",
              "    </tr>\n",
              "  </tbody>\n",
              "</table>\n",
              "</div>\n",
              "      <button class=\"colab-df-convert\" onclick=\"convertToInteractive('df-79c1a951-e829-42b1-b84c-c0ebedc2fcc3')\"\n",
              "              title=\"Convert this dataframe to an interactive table.\"\n",
              "              style=\"display:none;\">\n",
              "        \n",
              "  <svg xmlns=\"http://www.w3.org/2000/svg\" height=\"24px\"viewBox=\"0 0 24 24\"\n",
              "       width=\"24px\">\n",
              "    <path d=\"M0 0h24v24H0V0z\" fill=\"none\"/>\n",
              "    <path d=\"M18.56 5.44l.94 2.06.94-2.06 2.06-.94-2.06-.94-.94-2.06-.94 2.06-2.06.94zm-11 1L8.5 8.5l.94-2.06 2.06-.94-2.06-.94L8.5 2.5l-.94 2.06-2.06.94zm10 10l.94 2.06.94-2.06 2.06-.94-2.06-.94-.94-2.06-.94 2.06-2.06.94z\"/><path d=\"M17.41 7.96l-1.37-1.37c-.4-.4-.92-.59-1.43-.59-.52 0-1.04.2-1.43.59L10.3 9.45l-7.72 7.72c-.78.78-.78 2.05 0 2.83L4 21.41c.39.39.9.59 1.41.59.51 0 1.02-.2 1.41-.59l7.78-7.78 2.81-2.81c.8-.78.8-2.07 0-2.86zM5.41 20L4 18.59l7.72-7.72 1.47 1.35L5.41 20z\"/>\n",
              "  </svg>\n",
              "      </button>\n",
              "      \n",
              "  <style>\n",
              "    .colab-df-container {\n",
              "      display:flex;\n",
              "      flex-wrap:wrap;\n",
              "      gap: 12px;\n",
              "    }\n",
              "\n",
              "    .colab-df-convert {\n",
              "      background-color: #E8F0FE;\n",
              "      border: none;\n",
              "      border-radius: 50%;\n",
              "      cursor: pointer;\n",
              "      display: none;\n",
              "      fill: #1967D2;\n",
              "      height: 32px;\n",
              "      padding: 0 0 0 0;\n",
              "      width: 32px;\n",
              "    }\n",
              "\n",
              "    .colab-df-convert:hover {\n",
              "      background-color: #E2EBFA;\n",
              "      box-shadow: 0px 1px 2px rgba(60, 64, 67, 0.3), 0px 1px 3px 1px rgba(60, 64, 67, 0.15);\n",
              "      fill: #174EA6;\n",
              "    }\n",
              "\n",
              "    [theme=dark] .colab-df-convert {\n",
              "      background-color: #3B4455;\n",
              "      fill: #D2E3FC;\n",
              "    }\n",
              "\n",
              "    [theme=dark] .colab-df-convert:hover {\n",
              "      background-color: #434B5C;\n",
              "      box-shadow: 0px 1px 3px 1px rgba(0, 0, 0, 0.15);\n",
              "      filter: drop-shadow(0px 1px 2px rgba(0, 0, 0, 0.3));\n",
              "      fill: #FFFFFF;\n",
              "    }\n",
              "  </style>\n",
              "\n",
              "      <script>\n",
              "        const buttonEl =\n",
              "          document.querySelector('#df-79c1a951-e829-42b1-b84c-c0ebedc2fcc3 button.colab-df-convert');\n",
              "        buttonEl.style.display =\n",
              "          google.colab.kernel.accessAllowed ? 'block' : 'none';\n",
              "\n",
              "        async function convertToInteractive(key) {\n",
              "          const element = document.querySelector('#df-79c1a951-e829-42b1-b84c-c0ebedc2fcc3');\n",
              "          const dataTable =\n",
              "            await google.colab.kernel.invokeFunction('convertToInteractive',\n",
              "                                                     [key], {});\n",
              "          if (!dataTable) return;\n",
              "\n",
              "          const docLinkHtml = 'Like what you see? Visit the ' +\n",
              "            '<a target=\"_blank\" href=https://colab.research.google.com/notebooks/data_table.ipynb>data table notebook</a>'\n",
              "            + ' to learn more about interactive tables.';\n",
              "          element.innerHTML = '';\n",
              "          dataTable['output_type'] = 'display_data';\n",
              "          await google.colab.output.renderOutput(dataTable, element);\n",
              "          const docLink = document.createElement('div');\n",
              "          docLink.innerHTML = docLinkHtml;\n",
              "          element.appendChild(docLink);\n",
              "        }\n",
              "      </script>\n",
              "    </div>\n",
              "  </div>\n",
              "  "
            ],
            "text/plain": [
              "                                keywords\n",
              "0      拔萝卜,萝卜,采摘,孩子,菜园,收获,周末版,实践,热爱劳动,终觉\n",
              "1         绿色,循环,湖南省,10,环保,生态,活动,兑换,垃圾,分类\n",
              "2    吴邮邮,三轮车,孩子,小孙子,事迹,归仁,2019,12,高文娟,微信\n",
              "3   浙大,浙江大学,新人,记者团,缘定,星河,母校,2020,123,李兰娟\n",
              "4       济南,公安,报告,原文,交警,标题,阅读,nan,nan,nan\n",
              "5    年会,环保,湖南省,社会,行动者,2020,生态,组织,绿色,环境治理\n",
              "6          斩肉,海安,炸制,白斩,炖煮,--,葱姜,猴急,麻虾,黄毛\n",
              "7       高杰,执法,学法,公安,公安机关,多面手,全市,法治,复议,民警\n",
              "8        栗子,好钰,炒栗子,虹口,小虹,海宁路,好好,00,野栗,板栗\n",
              "9  海安,博物馆,陶瓷,鸣谢,匠心独运,美轮美奂,林裕翔,邰颖,喜欢,光辉灿烂"
            ]
          },
          "metadata": {},
          "execution_count": 54
        }
      ]
    },
    {
      "cell_type": "markdown",
      "source": [
        "To download the data frame as a csv, we can use **to_csv()** and **files.download()**."
      ],
      "metadata": {
        "id": "jGkOnONf7vNk"
      }
    },
    {
      "cell_type": "code",
      "source": [
        "from google.colab import files\n",
        "\n",
        "df_join.to_csv('keywords.csv')\n",
        "files.download('keywords.csv')"
      ],
      "metadata": {
        "id": "6arv01Wf6tnJ"
      },
      "execution_count": null,
      "outputs": []
    },
    {
      "cell_type": "markdown",
      "source": [
        "<br>\n",
        "<br>\n",
        "\n",
        "***\n",
        "\n",
        "## **Additional information**\n",
        "\n",
        "This notebook is provided for educational purpose and feel free to report any issue on GitHub.\n",
        "\n",
        "<br>\n",
        "\n",
        "**Author:** Ka Hei, Chow\n",
        "\n",
        "**License:** The code in this notebook is licensed under the [Creative Commons by Attribution 4.0 license](https://creativecommons.org/licenses/by/4.0/).\n",
        "\n",
        "**Last modified:** February 2022"
      ],
      "metadata": {
        "id": "lYN_MPOmnAdc"
      }
    }
  ]
}