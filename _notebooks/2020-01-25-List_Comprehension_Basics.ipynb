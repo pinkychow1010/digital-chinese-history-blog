{
 "cells": [
  {
   "cell_type": "markdown",
   "metadata": {},
   "source": [
    "# List Comprehension\n",
    "> Python basics\n",
    "\n",
    "- toc: true \n",
    "- badges: true\n",
    "- comments: true\n",
    "- categories: [chapter-1, level-1, programming]\n",
    "- image: images/list.jpg"
   ]
  },
  {
   "cell_type": "markdown",
   "metadata": {
    "id": "QHCDuoyfsXuQ"
   },
   "source": [
    "<br>\n",
    "\n",
    "As mentioned in the [instructions](https://pinkychow1010.github.io/digital-chinese-history-blog/about/), all materials can be `open in Colab` as Jupyter notebooks. In this way users can run the code in the cloud. It is highly recommanded to follow the [tutorials](https://pinkychow1010.github.io/digital-chinese-history-blog/) in the right order.\n",
    "\n",
    "*Presumption:* \n",
    "\n",
    "[List Comprehension](https://www.youtube.com/watch?v=5K08WcjGV6c)"
   ]
  },
  {
   "cell_type": "markdown",
   "metadata": {},
   "source": [
    "> youtube: https://youtu.be/5K08WcjGV6c"
   ]
  },
  {
   "cell_type": "markdown",
   "metadata": {},
   "source": [
    "[Dictionary](https://www.w3schools.com/python/python_dictionaries.asp)\n",
    "\n",
    "[Tuples](https://www.w3schools.com/python/python_tuples.asp)\n",
    "\n",
    "[zip()](https://www.w3schools.com/python/ref_func_zip.asp)\n",
    "\n",
    "<br>"
   ]
  },
  {
   "cell_type": "markdown",
   "metadata": {
    "id": "GZxjUUx-HOVD"
   },
   "source": [
    "Below we use a short list of [local gazetteers](https://logart.mpiwg-berlin.mpg.de/LGServices2/#/books) from ***LoGaRT*** as our example. "
   ]
  },
  {
   "cell_type": "code",
   "execution_count": 2,
   "metadata": {
    "id": "m-IVpjYVo4a5"
   },
   "outputs": [],
   "source": [
    "gazetteer = [\"天下一統志(明)\",\"大明一統志(明)\",\"嘉善縣志(明)\",\"雍大記南畿志(明)\",\"上海縣志(明)\",\"全遼志(明)\",\"喬三石耀州志(明)\",\"宣府鎮志(明)\",\"雲南通志(明)\",\"大明一統志輯錄(明)\",\"雲中郡志(清)\"]"
   ]
  },
  {
   "cell_type": "code",
   "execution_count": 16,
   "metadata": {
    "id": "zCgCa-3-FAFL"
   },
   "outputs": [],
   "source": [
    "# this is the function we already used before, but this time we look for \"明\" instead.\n",
    "\n",
    "import re # this you will learn in the regular expression notebook so you do not need to understand everything for now\n",
    "\n",
    "def str_check(text): # but you need to know the function start with def, the name of the function, and a () with/ without argument(s) inside.\n",
    "  pattern = re.compile(r'明') # inside the function you need to indent every line (with a tab)\n",
    "  match = any(pattern.findall(text)) # you somehow get to the result (desired output)\n",
    "  return match # and you return them (typically in a variable)"
   ]
  },
  {
   "cell_type": "markdown",
   "metadata": {
    "id": "0yEpTf_vGIy9"
   },
   "source": [
    "Suppose we need all the local gazetteers from 明 only. What we can do is to build a function (there is another easier option using Pandas but now we stick with this function). And then we can print all results which fit the condition.\n",
    "\n",
    "<br>\n",
    "\n",
    "**The structure of list comprehension is:**\n",
    "\n",
    "`[ ]` **<- in a list <- key components**\n",
    "\n",
    "`(name1) for (name2) in` **<- for and in are keywords, (name2) is the variable name to be assigned for the item in loop, (name1) is the output you want, which should be expressed in terms of (name2)**\n",
    "\n",
    "`(list)` **<- the variable which stores all the items or the list to be loop through**\n",
    "\n",
    "`if (condition)` **<- add a condition, this part is optional**\n",
    "\n",
    "<br>\n",
    "\n",
    "***Remarks:*** `(name1) and (name2) can be the same but do not need to be`"
   ]
  },
  {
   "cell_type": "code",
   "execution_count": 17,
   "metadata": {
    "colab": {
     "base_uri": "https://localhost:8080/"
    },
    "id": "o807CicJGG0N",
    "outputId": "8447b17c-6170-437c-afca-f1fe8e2a9668"
   },
   "outputs": [
    {
     "data": {
      "text/plain": [
       "['天下一統志(明)',\n",
       " '大明一統志(明)',\n",
       " '嘉善縣志(明)',\n",
       " '雍大記南畿志(明)',\n",
       " '上海縣志(明)',\n",
       " '全遼志(明)',\n",
       " '喬三石耀州志(明)',\n",
       " '宣府鎮志(明)',\n",
       " '雲南通志(明)',\n",
       " '大明一統志輯錄(明)']"
      ]
     },
     "execution_count": 17,
     "metadata": {},
     "output_type": "execute_result"
    }
   ],
   "source": [
    "[x for x in gazetteer if str_check(x)] # if ad_check(x) is the same as if ad_check(x) == True"
   ]
  },
  {
   "cell_type": "markdown",
   "metadata": {
    "id": "uQ1rUR7ZGzKC"
   },
   "source": [
    "We can also save the list to another new list."
   ]
  },
  {
   "cell_type": "code",
   "execution_count": 18,
   "metadata": {
    "colab": {
     "base_uri": "https://localhost:8080/"
    },
    "id": "7oBxwPrMG1hl",
    "outputId": "9b35d8d3-2ecf-4c17-a9ba-ba378106ccd8"
   },
   "outputs": [
    {
     "data": {
      "text/plain": [
       "['天下一統志(明)',\n",
       " '大明一統志(明)',\n",
       " '嘉善縣志(明)',\n",
       " '雍大記南畿志(明)',\n",
       " '上海縣志(明)',\n",
       " '全遼志(明)',\n",
       " '喬三石耀州志(明)',\n",
       " '宣府鎮志(明)',\n",
       " '雲南通志(明)',\n",
       " '大明一統志輯錄(明)']"
      ]
     },
     "execution_count": 18,
     "metadata": {},
     "output_type": "execute_result"
    }
   ],
   "source": [
    "ming_gazetteer = [x for x in gazetteer if str_check(x)]\n",
    "ming_gazetteer"
   ]
  },
  {
   "cell_type": "markdown",
   "metadata": {
    "id": "HCy2e5wiHB1j"
   },
   "source": [
    "We can also change the outputs: for example, instead of the item itself, we want to get the lengths of the strings which fit the same condition:"
   ]
  },
  {
   "cell_type": "code",
   "execution_count": 19,
   "metadata": {
    "colab": {
     "base_uri": "https://localhost:8080/"
    },
    "id": "5vullrCWIqCz",
    "outputId": "c3cb8bca-57f4-47dc-8f23-781210ca51a8"
   },
   "outputs": [
    {
     "data": {
      "text/plain": [
       "[8, 8, 7, 9, 7, 6, 9, 7, 7, 10]"
      ]
     },
     "execution_count": 19,
     "metadata": {},
     "output_type": "execute_result"
    }
   ],
   "source": [
    "[len(x) for x in gazetteer if str_check(x)]"
   ]
  },
  {
   "cell_type": "code",
   "execution_count": 20,
   "metadata": {
    "colab": {
     "base_uri": "https://localhost:8080/"
    },
    "id": "gHjraJumI-R5",
    "outputId": "b8b46153-ac82-4bdd-9734-39ded1083e32"
   },
   "outputs": [
    {
     "data": {
      "text/plain": [
       "['天下一統志(明)',\n",
       " '大明一統志(明)',\n",
       " '嘉善縣志(明)',\n",
       " '雍大記南畿志(明)',\n",
       " '上海縣志(明)',\n",
       " '全遼志(明)',\n",
       " '喬三石耀州志(明)',\n",
       " '宣府鎮志(明)',\n",
       " '雲南通志(明)',\n",
       " '大明一統志輯錄(明)']"
      ]
     },
     "execution_count": 20,
     "metadata": {},
     "output_type": "execute_result"
    }
   ],
   "source": [
    "[x for x in gazetteer if str_check(x)]"
   ]
  },
  {
   "cell_type": "markdown",
   "metadata": {
    "id": "SNf55JcgKWMV"
   },
   "source": [
    "We can also combine list comprehension with any functions from any library. For example, we want to get the piyin of the items in our list. We can use library **pinyin** for that."
   ]
  },
  {
   "cell_type": "code",
   "execution_count": null,
   "metadata": {
    "id": "51F4skYhJOzT"
   },
   "outputs": [],
   "source": [
    "! pip install pinyin # install library\n",
    "import pinyin # import library"
   ]
  },
  {
   "cell_type": "code",
   "execution_count": 14,
   "metadata": {
    "colab": {
     "base_uri": "https://localhost:8080/"
    },
    "id": "F_KEKfW5JWPe",
    "outputId": "9b6b449b-a16b-4a55-e461-2b40dae81daf"
   },
   "outputs": [
    {
     "data": {
      "text/plain": [
       "['tian xia yi tong zhi ( ming )',\n",
       " 'da ming yi tong zhi ( ming )',\n",
       " 'jia shan xian zhi ( ming )',\n",
       " 'yong da ji nan ji zhi ( ming )',\n",
       " 'shang hai xian zhi ( ming )',\n",
       " 'quan liao zhi ( ming )',\n",
       " 'qiao san shi yao zhou zhi ( ming )',\n",
       " 'xuan fu zhen zhi ( ming )',\n",
       " 'yun nan tong zhi ( ming )',\n",
       " 'da ming yi tong zhi ji lu ( ming )',\n",
       " 'yun zhong jun zhi ( qing )']"
      ]
     },
     "execution_count": 14,
     "metadata": {},
     "output_type": "execute_result"
    }
   ],
   "source": [
    "[pinyin.get(x, format=\"strip\", delimiter=\" \") for x in gazetteer] # get the pinyin for all items"
   ]
  },
  {
   "cell_type": "code",
   "execution_count": 22,
   "metadata": {
    "colab": {
     "base_uri": "https://localhost:8080/"
    },
    "id": "bJS6pSNEKvAb",
    "outputId": "7903c20b-7dc8-46f8-a407-44360a28fc9e"
   },
   "outputs": [
    {
     "data": {
      "text/plain": [
       "['tian xia yi tong zhi ( ming )',\n",
       " 'da ming yi tong zhi ( ming )',\n",
       " 'jia shan xian zhi ( ming )',\n",
       " 'yong da ji nan ji zhi ( ming )',\n",
       " 'shang hai xian zhi ( ming )',\n",
       " 'quan liao zhi ( ming )',\n",
       " 'qiao san shi yao zhou zhi ( ming )',\n",
       " 'xuan fu zhen zhi ( ming )',\n",
       " 'yun nan tong zhi ( ming )',\n",
       " 'da ming yi tong zhi ji lu ( ming )']"
      ]
     },
     "execution_count": 22,
     "metadata": {},
     "output_type": "execute_result"
    }
   ],
   "source": [
    "[pinyin.get(x, format=\"strip\", delimiter=\" \") for x in gazetteer if str_check(x)] # get the pinyin for all items from ming"
   ]
  },
  {
   "cell_type": "markdown",
   "metadata": {
    "id": "msfqERbULAuF"
   },
   "source": [
    "Apart from that, we can also combine the index using **enumerate()** (we have learnt it from the previous lesson).\n",
    "\n",
    "**`Remember that enumerate() return two values as we need two names between the keywords \"for\" and \"in\"!`**"
   ]
  },
  {
   "cell_type": "code",
   "execution_count": 29,
   "metadata": {
    "colab": {
     "base_uri": "https://localhost:8080/"
    },
    "id": "m73bWCaFLJn0",
    "outputId": "a7bf4179-734e-47fe-bc7f-878067dea361"
   },
   "outputs": [
    {
     "name": "stdout",
     "output_type": "stream",
     "text": [
      "0 tian xia yi tong zhi ( ming )\n",
      "1 da ming yi tong zhi ( ming )\n",
      "2 jia shan xian zhi ( ming )\n",
      "3 yong da ji nan ji zhi ( ming )\n",
      "4 shang hai xian zhi ( ming )\n",
      "5 quan liao zhi ( ming )\n",
      "6 qiao san shi yao zhou zhi ( ming )\n",
      "7 xuan fu zhen zhi ( ming )\n",
      "8 yun nan tong zhi ( ming )\n",
      "9 da ming yi tong zhi ji lu ( ming )\n",
      "10 yun zhong jun zhi ( qing )\n"
     ]
    },
    {
     "data": {
      "text/plain": [
       "[None, None, None, None, None, None, None, None, None, None, None]"
      ]
     },
     "execution_count": 29,
     "metadata": {},
     "output_type": "execute_result"
    }
   ],
   "source": [
    "[print(index,pinyin.get(item, format=\"strip\", delimiter=\" \")) for index, item in enumerate(gazetteer)] # get the pinyin with indices for all items"
   ]
  },
  {
   "cell_type": "code",
   "execution_count": 37,
   "metadata": {
    "colab": {
     "base_uri": "https://localhost:8080/"
    },
    "id": "1OVJCIHrMi6u",
    "outputId": "da8cce10-50a6-48db-ec04-6d88ec33512c"
   },
   "outputs": [
    {
     "name": "stdout",
     "output_type": "stream",
     "text": [
      "1 da ming yi tong zhi ( ming )\n",
      "3 yong da ji nan ji zhi ( ming )\n"
     ]
    },
    {
     "data": {
      "text/plain": [
       "[None, None]"
      ]
     },
     "execution_count": 37,
     "metadata": {},
     "output_type": "execute_result"
    }
   ],
   "source": [
    "# print the item with indices only when the index is 1 or 3\n",
    "[print(index,pinyin.get(item, format=\"strip\", delimiter=\" \")) for index, item in enumerate(gazetteer) if index in [1,3]]"
   ]
  },
  {
   "cell_type": "code",
   "execution_count": 38,
   "metadata": {
    "colab": {
     "base_uri": "https://localhost:8080/"
    },
    "id": "przZhjTxNP60",
    "outputId": "03df2c45-5c59-4fa5-e7e9-6ad7a74236df"
   },
   "outputs": [
    {
     "name": "stdout",
     "output_type": "stream",
     "text": [
      "1 da ming yi tong zhi ( ming )\n",
      "2 jia shan xian zhi ( ming )\n",
      "3 yong da ji nan ji zhi ( ming )\n",
      "4 shang hai xian zhi ( ming )\n",
      "5 quan liao zhi ( ming )\n",
      "6 qiao san shi yao zhou zhi ( ming )\n",
      "7 xuan fu zhen zhi ( ming )\n",
      "8 yun nan tong zhi ( ming )\n",
      "9 da ming yi tong zhi ji lu ( ming )\n",
      "10 yun zhong jun zhi ( qing )\n"
     ]
    },
    {
     "data": {
      "text/plain": [
       "[None, None, None, None, None, None, None, None, None, None]"
      ]
     },
     "execution_count": 38,
     "metadata": {},
     "output_type": "execute_result"
    }
   ],
   "source": [
    "# print except the first item\n",
    "[print(index,pinyin.get(item, format=\"strip\", delimiter=\" \")) for index, item in enumerate(gazetteer) if index not in [0]]"
   ]
  },
  {
   "cell_type": "markdown",
   "metadata": {
    "id": "kfKCSQn9jCtj"
   },
   "source": [
    "There are numerous options what we can do using list comprehension. Another example demonsrating the functionality of list comprehension is word frequency count: searching for the keywords which appears in the top frequencies.\n",
    "\n",
    "First, we join all the items to a single list and then split all Chinese character using **list()** after removing () using **replace()**."
   ]
  },
  {
   "cell_type": "code",
   "execution_count": 63,
   "metadata": {
    "colab": {
     "base_uri": "https://localhost:8080/"
    },
    "id": "nMfyIYXFN1CF",
    "outputId": "828335f1-035f-4915-ef44-9792ecf1aff5"
   },
   "outputs": [
    {
     "data": {
      "text/plain": [
       "['天', '下', '一', '統', '志']"
      ]
     },
     "execution_count": 63,
     "metadata": {},
     "output_type": "execute_result"
    }
   ],
   "source": [
    "string = ''.join(gazetteer) # join all items in list to a single string\n",
    "string = string.replace(\"(\", \"\").replace(\")\", \"\") # replace \"(\" and \")\" to nothing \"\"\n",
    "\n",
    "wordlist = list(string) # split all Chinese characters\n",
    "wordlist[:5] # print first 5 characters"
   ]
  },
  {
   "cell_type": "markdown",
   "metadata": {
    "id": "wd2GH3bdkLiM"
   },
   "source": [
    "Now we use list comprehension to count all characters."
   ]
  },
  {
   "cell_type": "code",
   "execution_count": 64,
   "metadata": {
    "colab": {
     "base_uri": "https://localhost:8080/"
    },
    "id": "cW-sSmYJNulX",
    "outputId": "67a6d761-8e83-4749-bc77-66b328fc35fd"
   },
   "outputs": [
    {
     "name": "stdout",
     "output_type": "stream",
     "text": [
      "String\n",
      "天下一統志明大明一統志明嘉善縣志明雍大記南畿志明上海縣志明全遼志明喬三石耀州志明宣府鎮志明雲南通志明大明一統志輯錄明雲中郡志清\n",
      "\n",
      "List\n",
      "['天', '下', '一', '統', '志', '明', '大', '明', '一', '統', '志', '明', '嘉', '善', '縣', '志', '明', '雍', '大', '記', '南', '畿', '志', '明', '上', '海', '縣', '志', '明', '全', '遼', '志', '明', '喬', '三', '石', '耀', '州', '志', '明', '宣', '府', '鎮', '志', '明', '雲', '南', '通', '志', '明', '大', '明', '一', '統', '志', '輯', '錄', '明', '雲', '中', '郡', '志', '清']\n",
      "\n",
      "Frequencies\n",
      "[1, 1, 3, 3, 11, 12, 3, 12, 3, 3, 11, 12, 1, 1, 2, 11, 12, 1, 3, 1, 2, 1, 11, 12, 1, 1, 2, 11, 12, 1, 1, 11, 12, 1, 1, 1, 1, 1, 11, 12, 1, 1, 1, 11, 12, 2, 2, 1, 11, 12, 3, 12, 3, 3, 11, 1, 1, 12, 2, 1, 1, 11, 1]\n",
      "\n",
      "Pairs\n",
      "[('天', 1), ('下', 1), ('一', 3), ('統', 3), ('志', 11), ('明', 12), ('大', 3), ('明', 12), ('一', 3), ('統', 3), ('志', 11), ('明', 12), ('嘉', 1), ('善', 1), ('縣', 2), ('志', 11), ('明', 12), ('雍', 1), ('大', 3), ('記', 1), ('南', 2), ('畿', 1), ('志', 11), ('明', 12), ('上', 1), ('海', 1), ('縣', 2), ('志', 11), ('明', 12), ('全', 1), ('遼', 1), ('志', 11), ('明', 12), ('喬', 1), ('三', 1), ('石', 1), ('耀', 1), ('州', 1), ('志', 11), ('明', 12), ('宣', 1), ('府', 1), ('鎮', 1), ('志', 11), ('明', 12), ('雲', 2), ('南', 2), ('通', 1), ('志', 11), ('明', 12), ('大', 3), ('明', 12), ('一', 3), ('統', 3), ('志', 11), ('輯', 1), ('錄', 1), ('明', 12), ('雲', 2), ('中', 1), ('郡', 1), ('志', 11), ('清', 1)]\n"
     ]
    }
   ],
   "source": [
    "wordfreq = [wordlist.count(w) for w in wordlist] # list comprehension to count all characters\n",
    "\n",
    "# print the single string\n",
    "print(\"String\\n\" + string +\"\\n\") # \\n means new line\n",
    "\n",
    "# print a list of all characters\n",
    "print(\"List\\n\" + str(wordlist) + \"\\n\")\n",
    "\n",
    "# print frequencies\n",
    "print(\"Frequencies\\n\" + str(wordfreq) + \"\\n\")\n",
    "\n",
    "# print zip objects by combining characters and occurences\n",
    "print(\"Pairs\\n\" + str(list(zip(wordlist, wordfreq))))"
   ]
  },
  {
   "cell_type": "markdown",
   "metadata": {
    "id": "y15uMrmTldOT"
   },
   "source": [
    "In order to produce more useful outputs to inspect the keywords, we can combine functions and list comprehensions to output a dictionary. Click [here](https://www.w3schools.com/python/python_functions.asp) if you need to review how to build a function."
   ]
  },
  {
   "cell_type": "code",
   "execution_count": 67,
   "metadata": {
    "id": "t_66xvI8RJkX"
   },
   "outputs": [],
   "source": [
    "def wordListToFreqDict(wordlist):\n",
    "\"\"\"\n",
    "This function convert a word list to dictionary displaying frequencies of character occurences\n",
    "\"\"\"\n",
    "    wordfreq = [wordlist.count(p) for p in wordlist] # same as what we did above\n",
    "    return dict(list(zip(wordlist,wordfreq))) # return a dictionary of zip objects\n",
    "\n",
    "word_count = wordListToFreqDict(wordlist)"
   ]
  },
  {
   "cell_type": "markdown",
   "metadata": {
    "id": "Oc3NU3qSmxeR"
   },
   "source": [
    "Let's look at our dictionary **word_count**."
   ]
  },
  {
   "cell_type": "code",
   "execution_count": 77,
   "metadata": {
    "colab": {
     "base_uri": "https://localhost:8080/"
    },
    "id": "Uo4goAbLm0Yx",
    "outputId": "6682ec91-2821-431a-c4af-d300d2567b99"
   },
   "outputs": [
    {
     "data": {
      "text/plain": [
       "{'一': 3,\n",
       " '三': 1,\n",
       " '上': 1,\n",
       " '下': 1,\n",
       " '中': 1,\n",
       " '全': 1,\n",
       " '南': 2,\n",
       " '善': 1,\n",
       " '喬': 1,\n",
       " '嘉': 1,\n",
       " '大': 3,\n",
       " '天': 1,\n",
       " '宣': 1,\n",
       " '州': 1,\n",
       " '府': 1,\n",
       " '志': 11,\n",
       " '明': 12,\n",
       " '海': 1,\n",
       " '清': 1,\n",
       " '畿': 1,\n",
       " '石': 1,\n",
       " '統': 3,\n",
       " '縣': 2,\n",
       " '耀': 1,\n",
       " '記': 1,\n",
       " '輯': 1,\n",
       " '通': 1,\n",
       " '遼': 1,\n",
       " '郡': 1,\n",
       " '錄': 1,\n",
       " '鎮': 1,\n",
       " '雍': 1,\n",
       " '雲': 2}"
      ]
     },
     "execution_count": 77,
     "metadata": {},
     "output_type": "execute_result"
    }
   ],
   "source": [
    "word_count"
   ]
  },
  {
   "cell_type": "markdown",
   "metadata": {
    "id": "j9YGcooMnPLO"
   },
   "source": [
    "However, as we can see, the data seems to be a bit messy. It would be much easier to read if we order the keywords by frequency. We can do this by building another small function to sort the values."
   ]
  },
  {
   "cell_type": "code",
   "execution_count": 76,
   "metadata": {
    "colab": {
     "base_uri": "https://localhost:8080/"
    },
    "id": "CT0k4Xq0R3sw",
    "outputId": "c65878bd-70b6-4e56-e7d8-e24c124a494f"
   },
   "outputs": [
    {
     "data": {
      "text/plain": [
       "[(12, '明'), (11, '志'), (3, '統'), (3, '大'), (3, '一')]"
      ]
     },
     "execution_count": 76,
     "metadata": {},
     "output_type": "execute_result"
    }
   ],
   "source": [
    "def sortFreqDict(freqdict):\n",
    "  \"\"\"\n",
    "  This function sort dictionary by keyword frequencies\n",
    "  \"\"\"\n",
    "    aux = [(freqdict[key], key) for key in freqdict] # convert dictionary back to a list of tuples\n",
    "    aux.sort() # sort the values\n",
    "    aux.reverse() # reverse the values so the items are in descending order\n",
    "    return aux # return sorted list\n",
    "\n",
    "sortFreqDict(word_count)[:5] # apply our function and print the first 5 items in list"
   ]
  },
  {
   "cell_type": "markdown",
   "metadata": {
    "id": "xkYrwTBMDtNq"
   },
   "source": [
    "<br>\n",
    "<br>\n",
    "\n",
    "\n",
    "#### Previous Lesson: [Functions and Loops Basics](https://pinkychow1010.github.io/digital-chinese-history-blog/programming/chapter-1/level-1/2020/01/26/FunctionsNLoops_Basics.html)\n",
    "#### Next Lesson: [Regular Expression](https://pinkychow1010.github.io/digital-chinese-history-blog/re/level-2/chapter-2/2020/01/22/Regular_Expression_TextExtraction.html)\n",
    "***\n",
    "\n",
    "## **Additional information**\n",
    "\n",
    "This notebook is provided for educational purpose and feel free to report any issue on GitHub.\n",
    "\n",
    "<br>\n",
    "\n",
    "**Author:** [Ka Hei, Chow](https://www.linkedin.com/in/ka-hei-chow-231345188/)\n",
    "\n",
    "**License:** The code in this notebook is licensed under the [Creative Commons by Attribution 4.0 license](https://creativecommons.org/licenses/by/4.0/).\n",
    "\n",
    "**Last modified:** December 2021\n",
    "\n",
    "<br>\n",
    "\n",
    "***\n",
    "\n",
    "<br>\n",
    "\n",
    "## **References:** \n",
    "\n",
    "https://gist.github.com/acrymble/1065661"
   ]
  }
 ],
 "metadata": {
  "colab": {
   "collapsed_sections": [],
   "name": "07_lv1_List_Comprehension_Basics.ipynb",
   "provenance": []
  },
  "kernelspec": {
   "display_name": "Python 3",
   "language": "python",
   "name": "python3"
  },
  "language_info": {
   "codemirror_mode": {
    "name": "ipython",
    "version": 3
   },
   "file_extension": ".py",
   "mimetype": "text/x-python",
   "name": "python",
   "nbconvert_exporter": "python",
   "pygments_lexer": "ipython3",
   "version": "3.7.11"
  },
  "toc": {
   "base_numbering": 1,
   "nav_menu": {},
   "number_sections": true,
   "sideBar": true,
   "skip_h1_title": false,
   "title_cell": "Table of Contents",
   "title_sidebar": "Contents",
   "toc_cell": false,
   "toc_position": {},
   "toc_section_display": true,
   "toc_window_display": false
  }
 },
 "nbformat": 4,
 "nbformat_minor": 1
}
