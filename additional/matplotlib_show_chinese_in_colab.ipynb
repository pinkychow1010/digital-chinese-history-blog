{
  "nbformat": 4,
  "nbformat_minor": 0,
  "metadata": {
    "colab": {
      "name": "matplotlib_show_chinese_in_colab.ipynb",
      "provenance": [],
      "collapsed_sections": [
        "uay8tZ-mNCGM",
        "IjNx16UJrEAx"
      ]
    },
    "kernelspec": {
      "name": "python3",
      "display_name": "Python 3"
    }
  },
  "cells": [
    {
      "cell_type": "markdown",
      "metadata": {
        "id": "-V2uiORvNza7"
      },
      "source": [
        "# Colab 進行matplotlib繪圖時顯示繁體中文"
      ]
    },
    {
      "cell_type": "markdown",
      "metadata": {
        "id": "D5ZyQVHeN5TG"
      },
      "source": [
        "matplotlib繪圖要顯示中文需要修改相關設定，經過一番苦心找到解法，並且使用開源且可商用的「台北黑體」(感謝 [翰字鑄造JT Foundry](https://sites.google.com/view/jtfoundry/)）。\n",
        "\n",
        "\n"
      ]
    },
    {
      "cell_type": "markdown",
      "metadata": {
        "id": "qw24zVDFFsT8"
      },
      "source": [
        "## 解法更新: 【完整套用簡潔解法】\n"
      ]
    },
    {
      "cell_type": "markdown",
      "metadata": {
        "id": "GJWjDw-iNdCm"
      },
      "source": [
        "- 感謝蔡炎龍老師在Python社群分享[更簡潔的做法](https://nbviewer.org/github/yenlung/Deep-Learning-Basics/blob/master/colab99_%E5%9C%A8_matplotlib_%E4%B8%AD%E4%BD%BF%E7%94%A8%E4%B8%AD%E6%96%87.ipynb?fbclid=IwAR0qEzwT_62unuwy2aAs5-E5HOVsFus8OZY_b4E0BIjDqPS4vcnEutEMpok)。\n",
        "- 此作法新增並指定字體後，即可正常顯示中文字。\n",
        "- 另外如果有修正 matplotlib 的 style 風格，請記得在更改字體前修正。"
      ]
    },
    {
      "cell_type": "code",
      "metadata": {
        "colab": {
          "base_uri": "https://localhost:8080/"
        },
        "id": "RfR0uymWF3cB",
        "outputId": "8adf06d5-7169-410f-d59a-3b980b41e5bc"
      },
      "source": [
        "# Colab 進行matplotlib繪圖時顯示繁體中文\n",
        "# 下載台北思源黑體並命名taipei_sans_tc_beta.ttf，移至指定路徑\n",
        "!wget -O TaipeiSansTCBeta-Regular.ttf https://drive.google.com/uc?id=1eGAsTN1HBpJAkeVM57_C7ccp7hbgSz3_&export=download\n",
        "\n",
        "import matplotlib as mpl\n",
        "import matplotlib.pyplot as plt \n",
        "from matplotlib.font_manager import fontManager\n",
        "\n",
        "# 改style要在改font之前\n",
        "# plt.style.use('seaborn')  \n",
        "\n",
        "fontManager.addfont('TaipeiSansTCBeta-Regular.ttf')\n",
        "mpl.rc('font', family='Taipei Sans TC Beta')"
      ],
      "execution_count": null,
      "outputs": [
        {
          "output_type": "stream",
          "name": "stdout",
          "text": [
            "--2021-10-29 03:57:20--  https://drive.google.com/uc?id=1eGAsTN1HBpJAkeVM57_C7ccp7hbgSz3_\n",
            "Resolving drive.google.com (drive.google.com)... 172.217.203.102, 172.217.203.113, 172.217.203.101, ...\n",
            "Connecting to drive.google.com (drive.google.com)|172.217.203.102|:443... connected.\n",
            "HTTP request sent, awaiting response... 302 Moved Temporarily\n",
            "Location: https://doc-0k-9o-docs.googleusercontent.com/docs/securesc/ha0ro937gcuc7l7deffksulhg5h7mbp1/773im9kdsbkii54b7hopd906nvc2pc1s/1635479775000/02847987870453524430/*/1eGAsTN1HBpJAkeVM57_C7ccp7hbgSz3_ [following]\n",
            "Warning: wildcards not supported in HTTP.\n",
            "--2021-10-29 03:57:21--  https://doc-0k-9o-docs.googleusercontent.com/docs/securesc/ha0ro937gcuc7l7deffksulhg5h7mbp1/773im9kdsbkii54b7hopd906nvc2pc1s/1635479775000/02847987870453524430/*/1eGAsTN1HBpJAkeVM57_C7ccp7hbgSz3_\n",
            "Resolving doc-0k-9o-docs.googleusercontent.com (doc-0k-9o-docs.googleusercontent.com)... 172.217.204.132, 2607:f8b0:400c:c15::84\n",
            "Connecting to doc-0k-9o-docs.googleusercontent.com (doc-0k-9o-docs.googleusercontent.com)|172.217.204.132|:443... connected.\n",
            "HTTP request sent, awaiting response... 200 OK\n",
            "Length: 20659344 (20M) [application/x-font-ttf]\n",
            "Saving to: ‘TaipeiSansTCBeta-Regular.ttf’\n",
            "\n",
            "TaipeiSansTCBeta-Re 100%[===================>]  19.70M  --.-KB/s    in 0.09s   \n",
            "\n",
            "2021-10-29 03:57:23 (221 MB/s) - ‘TaipeiSansTCBeta-Regular.ttf’ saved [20659344/20659344]\n",
            "\n"
          ]
        }
      ]
    },
    {
      "cell_type": "code",
      "metadata": {
        "id": "mzmPaN_xHfQg"
      },
      "source": [
        "import numpy as np\n",
        "import pandas as pd"
      ],
      "execution_count": null,
      "outputs": []
    },
    {
      "cell_type": "code",
      "metadata": {
        "colab": {
          "base_uri": "https://localhost:8080/",
          "height": 295
        },
        "id": "-bX0kwf2Go9z",
        "outputId": "cf930c97-6a03-431c-dae7-d6ecba4de45a"
      },
      "source": [
        "plt.plot((10,20,30),(400,500,600)) \n",
        "plt.title(\"標題\") \n",
        "plt.ylabel(\"y軸\") \n",
        "plt.xlabel(\"x軸\")  \n",
        "plt.show()"
      ],
      "execution_count": null,
      "outputs": [
        {
          "output_type": "display_data",
          "data": {
            "image/png": "[encoded data removed]",
            "text/plain": [
              "<Figure size 432x288 with 1 Axes>"
            ]
          },
          "metadata": {
            "needs_background": "light"
          }
        }
      ]
    },
    {
      "cell_type": "code",
      "metadata": {
        "colab": {
          "base_uri": "https://localhost:8080/",
          "height": 364
        },
        "id": "YF7KkDLjH1JL",
        "outputId": "182bc129-8502-4b61-f6c0-47d125e37e13"
      },
      "source": [
        "%matplotlib inline\n",
        "import numpy as np\n",
        "import matplotlib as mpl\n",
        "import matplotlib.pyplot as plt \n",
        "from matplotlib.font_manager import fontManager\n",
        "\n",
        "# 改style要在改font之前\n",
        "plt.style.use('seaborn')  \n",
        "\n",
        "fontManager.addfont('TaipeiSansTCBeta-Regular.ttf')\n",
        "mpl.rc('font', family='Taipei Sans TC Beta')\n",
        "\n",
        "\n",
        "fig, ax = plt.subplots()\n",
        "\n",
        "x = np.linspace(0, 20, 1000)\n",
        "ax.plot(x, np.cos(x))\n",
        "ax.axis('equal')\n",
        "\n",
        "ax.annotate(\n",
        "    '區域最大值', \n",
        "    xy=(6.28, 1), \n",
        "    xytext=(10, 4),\n",
        "    arrowprops=dict(facecolor='black', shrink=0.05)\n",
        "    )\n",
        "\n",
        "ax.annotate(\n",
        "    '區域最小值', \n",
        "    xy=(5*np.pi, -1), \n",
        "    xytext=(2, -5),\n",
        "    arrowprops=dict(\n",
        "        arrowstyle=\"->\",\n",
        "        connectionstyle=\"angle3,angleA=0,angleB=-90\"\n",
        "        )\n",
        "    )"
      ],
      "execution_count": null,
      "outputs": [
        {
          "output_type": "execute_result",
          "data": {
            "text/plain": [
              "Text(2, -5, '區域最小值')"
            ]
          },
          "metadata": {},
          "execution_count": 5
        },
        {
          "output_type": "display_data",
          "data": {
            "image/png": "[encoded data removed]",
            "text/plain": [
              "<Figure size 576x396 with 1 Axes>"
            ]
          },
          "metadata": {}
        }
      ]
    },
    {
      "cell_type": "markdown",
      "metadata": {
        "id": "uay8tZ-mNCGM"
      },
      "source": [
        "## 原解法: 【在需要中文時增加中文屬性】\n",
        "1. 下載指定字體置於colab指定位置\n",
        "  - 以`!wget`下載字體\n",
        "  - 存置Colab路徑： /usr/local/lib/python3.7/dist-packages/matplotlib/mpl-data/fonts/ttf\n",
        "2. 各種文字輸出的函數加入fontproperties屬性，如:\n",
        "  ```python\n",
        "  plt.title(\"自訂標題\",fontproperties=myfont) \n",
        "  plt.ylabel(\"自訂y軸\",fontproperties=myfont) \n",
        "  plt.xlabel(\"自訂x軸\",fontproperties=myfont) \n",
        "  ax.annotate('註解說明',fontproperties=myfont)\n",
        "  ax.set_title('自訂標題',fontproperties=myfont)\n",
        "  ax.set_xlabel('自訂x軸',fontproperties=myfont)\n",
        "  ax.set_ylabel('自訂y軸',fontproperties=myfont)\n",
        "  ```"
      ]
    },
    {
      "cell_type": "markdown",
      "metadata": {
        "id": "mLzLMpWWs-jf"
      },
      "source": [
        "- 複製以下cell並執行即可"
      ]
    },
    {
      "cell_type": "code",
      "metadata": {
        "id": "E6BV3V81MXHe"
      },
      "source": [
        "# Colab 進行matplotlib繪圖時顯示繁體中文\n",
        "# 下載台北思源黑體並命名taipei_sans_tc_beta.ttf，移至指定路徑\n",
        "!wget -O taipei_sans_tc_beta.ttf https://drive.google.com/uc?id=1eGAsTN1HBpJAkeVM57_C7ccp7hbgSz3_&export=download\n",
        "!mv taipei_sans_tc_beta.ttf /usr/local/lib/python3.7/dist-packages/matplotlib//mpl-data/fonts/ttf\n",
        "\n",
        "from matplotlib.font_manager import FontProperties\n",
        "import matplotlib.pyplot as plt \n",
        "\n",
        "# 自定義字體變數\n",
        "myfont = FontProperties(fname=r'/usr/local/lib/python3.7/dist-packages/matplotlib/mpl-data/fonts/ttf/taipei_sans_tc_beta.ttf')\n",
        "\n",
        "# !!!!後續在相關函式中增加fontproperties=myfont屬性即可!!!!"
      ],
      "execution_count": null,
      "outputs": []
    },
    {
      "cell_type": "markdown",
      "metadata": {
        "id": "IjNx16UJrEAx"
      },
      "source": [
        "## 範例"
      ]
    },
    {
      "cell_type": "code",
      "metadata": {
        "id": "HjuHya9oEv5g"
      },
      "source": [
        "plt.plot((10,20,30),(400,500,600)) \n",
        "plt.title(\"標題\",fontproperties=myfont) \n",
        "plt.ylabel(\"y軸\",fontproperties=myfont) \n",
        "plt.xlabel(\"x軸\",fontproperties=myfont)  \n",
        "plt.show()"
      ],
      "execution_count": null,
      "outputs": []
    },
    {
      "cell_type": "code",
      "metadata": {
        "id": "CURYSc5DsWdG"
      },
      "source": [
        "%matplotlib inline\n",
        "import numpy as np\n",
        "\n",
        "\n",
        "plt.style.use('seaborn')\n",
        "\n",
        "fig, ax = plt.subplots()\n",
        "\n",
        "x = np.linspace(0, 20, 1000)\n",
        "ax.plot(x, np.cos(x))\n",
        "ax.axis('equal')\n",
        "\n",
        "ax.annotate(\n",
        "    '區域最大值', \n",
        "    xy=(6.28, 1), \n",
        "    xytext=(10, 4),\n",
        "    arrowprops=dict(\n",
        "        facecolor='black', shrink=0.05\n",
        "        ),\n",
        "    fontproperties=myfont\n",
        "    )\n",
        "\n",
        "ax.annotate(\n",
        "    '區域最小值', \n",
        "    xy=(5 * np.pi, -1), \n",
        "    xytext=(2, -5),\n",
        "    arrowprops=dict(\n",
        "        arrowstyle=\"->\",\n",
        "        connectionstyle=\"angle3,angleA=0,angleB=-90\"\n",
        "        ),\n",
        "    fontproperties=myfont\n",
        "    )"
      ],
      "execution_count": null,
      "outputs": []
    },
    {
      "cell_type": "markdown",
      "metadata": {
        "id": "vw9ce7WO6ePN"
      },
      "source": [
        "## 參考\n",
        "- [蔡炎龍老師分享  colab99_在_matplotlib_中使用中文.ipynb](https://nbviewer.org/github/yenlung/Deep-Learning-Basics/blob/master/colab99_%E5%9C%A8_matplotlib_%E4%B8%AD%E4%BD%BF%E7%94%A8%E4%B8%AD%E6%96%87.ipynb?fbclid=IwAR0qEzwT_62unuwy2aAs5-E5HOVsFus8OZY_b4E0BIjDqPS4vcnEutEMpok)\n",
        "-  [解決Python 3 Matplotlib與Seaborn視覺化套件中文顯示問題](https://medium.com/marketingdatascience/%E8%A7%A3%E6%B1%BApython-3-matplotlib%E8%88%87seaborn%E8%A6%96%E8%A6%BA%E5%8C%96%E5%A5%97%E4%BB%B6%E4%B8%AD%E6%96%87%E9%A1%AF%E7%A4%BA%E5%95%8F%E9%A1%8C-f7b3773a889b)"
      ]
    }
  ]
}