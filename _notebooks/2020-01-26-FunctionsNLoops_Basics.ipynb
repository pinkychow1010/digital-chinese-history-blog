{
 "cells": [
  {
   "cell_type": "markdown",
   "metadata": {},
   "source": [
    "# Functions and Loops\n",
    "> Python Basics\n",
    "\n",
    "- toc: true \n",
    "- badges: true\n",
    "- comments: true\n",
    "- categories: [programming, chapter-1, level-1]\n",
    "- image: images/fun.png"
   ]
  },
  {
   "cell_type": "markdown",
   "metadata": {
    "id": "yIdvmnBhrYZD"
   },
   "source": [
    "<br>\n",
    "\n",
    "***\n",
    "\n",
    "For a larger chunk of text analysis, the workflow might get longer and longer which can be unhandy and prone to mistakes. Both functions and loops are ways to \"ask for repeated computation\", either by looping through what you have or refering back to code you already wrote (the function).\n",
    "\n",
    "This notebook aims to introduce users how to use functions and loops in Python using basic text exmaple from the humanity discipline. It aims to provide users basic skills to automate small chunks of text analysis using text resources.\n",
    "\n",
    "<br>\n",
    "\n",
    "*Presumption:* \n",
    "\n",
    "[Functions](https://www.w3schools.com/python/python_functions.asp)\n",
    "\n",
    "[Loops](https://www.w3schools.com/python/python_for_loops.asp)\n",
    "\n",
    "[Enumerate](https://realpython.com/python-enumerate/)\n",
    "\n",
    "<br>\n",
    "\n",
    "It is also recommanded that the user has some [basic understandings](https://www.youtube.com/watch?v=kqtD5dpn9C8&t=532s) already with Python.\n",
    "\n",
    "<br>\n",
    "\n",
    "***"
   ]
  },
  {
   "cell_type": "markdown",
   "metadata": {
    "id": "u2xItVTNxf90"
   },
   "source": [
    "* ## ***Functions***\n",
    "\n",
    "In Python, a function is a group of related statements that performs a specific task.\n",
    "\n",
    "Functions break our tasks into smaller chunks and make it more manageable. Furthermore, it avoids repetition and makes the code reusable. It is very helful when the workflow (task) need to be repeated done (Get information from a long list of document or webpages) so the user do not need to specify everything for multiple times to execute the task. It is also less prone to mistakes as users do not need to code everytime.\n",
    "\n",
    "A function is started with the keyword `def`. Once the function is defined, it can be called by typing the function name with appropriate parameters.\n",
    "\n",
    "<br>\n",
    "\n",
    "**Remark:**\n",
    "\n",
    "Both `#` and ` \"\"\" \"\"\" ` in the code are comments and will not run in Python.\n",
    "\n",
    "<br>\n",
    "\n",
    "**Example of a function:**"
   ]
  },
  {
   "cell_type": "code",
   "execution_count": null,
   "metadata": {
    "colab": {
     "base_uri": "https://localhost:8080/",
     "height": 35
    },
    "id": "1VY3lpvHrLIK",
    "outputId": "36257cd5-3876-4112-f2f8-8e0be6e06187"
   },
   "outputs": [
    {
     "data": {
      "application/vnd.google.colaboratory.intrinsic+json": {
       "type": "string"
      },
      "text/plain": [
       "'2021-12-10 20:06:05.499284'"
      ]
     },
     "execution_count": 3,
     "metadata": {},
     "output_type": "execute_result"
    }
   ],
   "source": [
    "# import library\n",
    "import datetime\n",
    "\n",
    "# define funciton\n",
    "def getTime(n): # name and input\n",
    "  \"\"\"\n",
    "  This function acquire future days from now \n",
    "  \"\"\"\n",
    "  day = datetime.datetime.now() + datetime.timedelta(days=n) # action\n",
    "  return str(day) # output\n",
    "\n",
    "# call function\n",
    "getTime(1)"
   ]
  },
  {
   "cell_type": "markdown",
   "metadata": {
    "id": "F8Mnrx4z1kM_"
   },
   "source": [
    "# **婦女雜誌廣告** (Advertisements from Chinese Womens Magazine)\n",
    "\n",
    "This is the subset of the advertisements published in [婦女雜誌1915年 第01期](https://mhdb.mh.sinica.edu.tw/fnzz/view.php?book=1501&str=%E5%A9%A6%E5%A5%B3). \n",
    "\n",
    "Let's say we want to know if the advertistment is published form a 公司."
   ]
  },
  {
   "cell_type": "code",
   "execution_count": 4,
   "metadata": {
    "id": "0FKmEi2b1ksg"
   },
   "outputs": [],
   "source": [
    "ad = [\"商務印書館發行書目介紹\",\"女界寶、非洲樹皮丸、助肺呼吸香膠、家普魚肝油、清血解毒海波藥、納佛補天汁、良丹(五洲大藥房)\",\"泰豐罐頭食品有限公司製造廠攝影\",\"武進莊苣史女士菊花寒菜寫生\",\"中華眼鏡公司\",\"中將湯(東亞公司經理批發)\"]"
   ]
  },
  {
   "cell_type": "code",
   "execution_count": 6,
   "metadata": {
    "id": "0BhxhyWU2YLW"
   },
   "outputs": [],
   "source": [
    "import re # this you will learn in the notebook web scrapping so you do not need to understand everything for now\n",
    "\n",
    "def ad_check(text): # but you need to know the function start with def, the name of the function, and a () with/ without argument(s) inside.\n",
    "  pattern = re.compile(r'公司') # inside the function you need to indent every line (with a tab)\n",
    "  match = any(pattern.findall(text)) # you somehow get to the result (desired output)\n",
    "  return match # and you return them (typically in a variable)"
   ]
  },
  {
   "cell_type": "markdown",
   "metadata": {
    "id": "12iSuwkp4p6V"
   },
   "source": [
    "Now we can apply the function using our ad list. We can only pass a string in the function so we need to slice the item. For example, we can check on the first advertisement in list."
   ]
  },
  {
   "cell_type": "code",
   "execution_count": null,
   "metadata": {
    "colab": {
     "base_uri": "https://localhost:8080/"
    },
    "id": "XDMM1s0q2-a8",
    "outputId": "942907b0-a254-4f66-b258-1c4ca800365f"
   },
   "outputs": [
    {
     "data": {
      "text/plain": [
       "False"
      ]
     },
     "execution_count": 17,
     "metadata": {},
     "output_type": "execute_result"
    }
   ],
   "source": [
    "ad_check(ad[0])"
   ]
  },
  {
   "cell_type": "markdown",
   "metadata": {
    "id": "SEdGAODR470G"
   },
   "source": [
    "It returns **False**, a boolean meaning the word \"公司\" cannot be found. Now we check on the third item."
   ]
  },
  {
   "cell_type": "code",
   "execution_count": null,
   "metadata": {
    "colab": {
     "base_uri": "https://localhost:8080/"
    },
    "id": "v5b0XEIN5K3D",
    "outputId": "552781b1-ee5b-424f-82ef-dad675a6b24b"
   },
   "outputs": [
    {
     "data": {
      "text/plain": [
       "True"
      ]
     },
     "execution_count": 18,
     "metadata": {},
     "output_type": "execute_result"
    }
   ],
   "source": [
    "ad_check(ad[2])"
   ]
  },
  {
   "cell_type": "markdown",
   "metadata": {
    "id": "g1cPQZeo5TUy"
   },
   "source": [
    "True is returned, meaning the keyword is found. So now we do not need to type the whole function everytime we want to check for an ad. \n",
    "\n",
    "<br>\n",
    "<br>\n",
    "\n",
    "* ## ***Loops***\n",
    "\n",
    "In fact, we can even automate all ads using a loop. A loop can be very simple, but can get complicated if multiple elements are looped in parallel or when it is nested (loop inside another loop).\n",
    "\n",
    "Here we use a simple for loop: it is started with a \"**for** (something) **in** (something)**:**\", and followed by the next line(s) (all operations needed). All lines under the loop needed to be indented. \n",
    "\n",
    "It basically tells Python:\n",
    "\n",
    "<br>\n",
    "\n",
    "**For the item (i) in my list (ad),**\n",
    "\n",
    "**apply the function using input item (i)**\n",
    "\n",
    "**and print the result before the next round (item)**"
   ]
  },
  {
   "cell_type": "code",
   "execution_count": null,
   "metadata": {
    "colab": {
     "base_uri": "https://localhost:8080/"
    },
    "id": "zP57aysB5z_R",
    "outputId": "bcd0efe7-9e1e-4574-f034-6263a4c4169a"
   },
   "outputs": [
    {
     "name": "stdout",
     "output_type": "stream",
     "text": [
      "False\n",
      "False\n",
      "True\n",
      "False\n",
      "True\n",
      "True\n"
     ]
    }
   ],
   "source": [
    "for i in ad: # i is the item you name, ad is our list\n",
    "  print(ad_check(i)) # action"
   ]
  },
  {
   "cell_type": "markdown",
   "metadata": {
    "id": "J-UuIti9-bv6"
   },
   "source": [
    "Sometime when we loop, we do not want to loop using the item itself, but the index of our item (For example, here let's say we want to print the index of the company found). Then we can do it in the following way:"
   ]
  },
  {
   "cell_type": "code",
   "execution_count": null,
   "metadata": {
    "colab": {
     "base_uri": "https://localhost:8080/"
    },
    "id": "30dbXkI3_iw0",
    "outputId": "375f3ac4-9dcb-41dd-a00e-cc24c3fb13f9"
   },
   "outputs": [
    {
     "data": {
      "text/plain": [
       "6"
      ]
     },
     "execution_count": 32,
     "metadata": {},
     "output_type": "execute_result"
    }
   ],
   "source": [
    "len(ad) # first we found the len of our list"
   ]
  },
  {
   "cell_type": "code",
   "execution_count": null,
   "metadata": {
    "colab": {
     "base_uri": "https://localhost:8080/"
    },
    "id": "U8mZ3jys_nKK",
    "outputId": "ef37be1b-846e-4a8d-f1e1-e48b58184976"
   },
   "outputs": [
    {
     "data": {
      "text/plain": [
       "array([0, 1, 2, 3, 4, 5])"
      ]
     },
     "execution_count": 33,
     "metadata": {},
     "output_type": "execute_result"
    }
   ],
   "source": [
    "np.arange(len(ad)) # then we generate a sequence with the same length"
   ]
  },
  {
   "cell_type": "markdown",
   "metadata": {
    "id": "B2ZT6qOh_vSH"
   },
   "source": [
    "This is then the index we loop through instead of the item. \n",
    "\n",
    "<br>\n",
    "\n",
    "**Remark:** \n",
    "\n",
    "***ad_check(ad[i])*** is the same as ***ad_check(ad[i]) == True*** but the first way is more efficient to run in Python."
   ]
  },
  {
   "cell_type": "code",
   "execution_count": null,
   "metadata": {
    "colab": {
     "base_uri": "https://localhost:8080/"
    },
    "id": "C1c49r4zAGtm",
    "outputId": "6fe6625d-c57d-4f44-f982-9df297989556"
   },
   "outputs": [
    {
     "data": {
      "text/plain": [
       "True"
      ]
     },
     "execution_count": 35,
     "metadata": {},
     "output_type": "execute_result"
    }
   ],
   "source": [
    "(ad_check(ad[i])) == (ad_check(ad[i]) == True)"
   ]
  },
  {
   "cell_type": "code",
   "execution_count": null,
   "metadata": {
    "colab": {
     "base_uri": "https://localhost:8080/"
    },
    "id": "JIcPyMQ9-lUd",
    "outputId": "9098acc5-25ff-451e-ea97-f239c5bf9c5f"
   },
   "outputs": [
    {
     "name": "stdout",
     "output_type": "stream",
     "text": [
      "2 .  泰豐罐頭食品有限公司製造廠攝影\n",
      "4 .  中華眼鏡公司\n",
      "5 .  中將湯(東亞公司經理批發)\n"
     ]
    }
   ],
   "source": [
    "for i in np.arange(len(ad)): # loop tho index\n",
    "  if ad_check(ad[i]): # provide a condition: only print when it is true\n",
    "    print(i,\". \",ad[i]) # print the index and the item"
   ]
  },
  {
   "cell_type": "markdown",
   "metadata": {
    "id": "396VOfLa7qZf"
   },
   "source": [
    "Nonetheless, print the results is not very helpful because it is not stored in a variable and we cannot recall them. A helpful way is to stored them in another list. \n",
    "\n",
    "Before we try to store them into our list, we need to first define it, as an empty list. "
   ]
  },
  {
   "cell_type": "code",
   "execution_count": null,
   "metadata": {
    "id": "PknEmHPk73oX"
   },
   "outputs": [],
   "source": [
    "check_list = [] # define our output list\n",
    "\n",
    "for i in ad: # for loop again\n",
    "  check_list.append(ad_check(i)) # now we use append (adding element at the end of the list) to put our result every round"
   ]
  },
  {
   "cell_type": "code",
   "execution_count": null,
   "metadata": {
    "colab": {
     "base_uri": "https://localhost:8080/"
    },
    "id": "sX4q-UpF8G3o",
    "outputId": "0cce188b-19ca-4f90-8dad-4fc782871e09"
   },
   "outputs": [
    {
     "data": {
      "text/plain": [
       "[False, False, True, False, True, True]"
      ]
     },
     "execution_count": 22,
     "metadata": {},
     "output_type": "execute_result"
    }
   ],
   "source": [
    "check_list"
   ]
  },
  {
   "cell_type": "markdown",
   "metadata": {
    "id": "VoRkJOGF8kon"
   },
   "source": [
    "Now we know the keyword is found in 3rd, 5th, 6th ads. We can print out the company ads. This can be better done using numpy array. so we will first convert both lists to arrays."
   ]
  },
  {
   "cell_type": "code",
   "execution_count": null,
   "metadata": {
    "colab": {
     "base_uri": "https://localhost:8080/"
    },
    "id": "nlSwHKqc9C5u",
    "outputId": "99327ba9-dd56-441b-b8d8-65be27616ad4"
   },
   "outputs": [
    {
     "data": {
      "text/plain": [
       "array(['泰豐罐頭食品有限公司製造廠攝影', '中華眼鏡公司', '中將湯(東亞公司經理批發)'], dtype='<U46')"
      ]
     },
     "execution_count": 26,
     "metadata": {},
     "output_type": "execute_result"
    }
   ],
   "source": [
    "import numpy as np # always need to import library first\n",
    "\n",
    "ad = np.array(ad) # convert using np.array()\n",
    "check_list = np.array(check_list)\n",
    "\n",
    "ad[check_list] # slice ad using checklist, it only works when the check_list consists boolean (True and False, or 1 and 0)"
   ]
  },
  {
   "cell_type": "markdown",
   "metadata": {
    "id": "8ujC35ED98hm"
   },
   "source": [
    "We also need to be careful that looping is considered an inefficient way to get things done in Python, so if we can get the job done without loop, then it is better we do it without."
   ]
  },
  {
   "cell_type": "markdown",
   "metadata": {
    "id": "jilkjQWqo_0I"
   },
   "source": [
    "<br>\n",
    "<br>\n",
    "\n",
    "* ## ***Enumerate***\n",
    "\n",
    "Sometimes, we do not only want to loop through the items, but also the indices of the item so we want do some further operations. In the above example we use a loop of index to print all the items with \"公司\".\n",
    "\n",
    "2 .  泰豐罐頭食品有限公司製造廠攝影\n",
    "4 .  中華眼鏡公司\n",
    "5 .  中將湯(東亞公司經理批發)\n",
    "\n",
    "However, we can use **enumerate()** instead which is a more efficient approach. It provides us two numbers: the first one is index starting from 0, another one is the item itself. "
   ]
  },
  {
   "cell_type": "code",
   "execution_count": 5,
   "metadata": {
    "colab": {
     "base_uri": "https://localhost:8080/"
    },
    "id": "norN2Nlbpw38",
    "outputId": "d6ae69e3-a882-4f19-c5f3-30be3f2cec01"
   },
   "outputs": [
    {
     "name": "stdout",
     "output_type": "stream",
     "text": [
      "0 商務印書館發行書目介紹\n",
      "1 女界寶、非洲樹皮丸、助肺呼吸香膠、家普魚肝油、清血解毒海波藥、納佛補天汁、良丹(五洲大藥房)\n",
      "2 泰豐罐頭食品有限公司製造廠攝影\n",
      "3 武進莊苣史女士菊花寒菜寫生\n",
      "4 中華眼鏡公司\n",
      "5 中將湯(東亞公司經理批發)\n"
     ]
    }
   ],
   "source": [
    "# enumerate provides us both index and item\n",
    "for count, value in enumerate(ad):\n",
    "  print(count, value)"
   ]
  },
  {
   "cell_type": "markdown",
   "metadata": {
    "id": "gf46aO4Hr0Ey"
   },
   "source": [
    "The following code give use exactly the same result as the above example:\n",
    "\n",
    "In this case, both codes do not seem to make a difference, however, in other case, using enumerate() is much more efficient and allows use to write much shorter code."
   ]
  },
  {
   "cell_type": "code",
   "execution_count": 10,
   "metadata": {
    "colab": {
     "base_uri": "https://localhost:8080/"
    },
    "id": "OHi0tbf9rQ5a",
    "outputId": "937c9a34-02e2-46b5-b8c5-ca566f57ab16"
   },
   "outputs": [
    {
     "name": "stdout",
     "output_type": "stream",
     "text": [
      "2 . 泰豐罐頭食品有限公司製造廠攝影\n",
      "4 . 中華眼鏡公司\n",
      "5 . 中將湯(東亞公司經理批發)\n"
     ]
    }
   ],
   "source": [
    "for count, value in enumerate(ad):\n",
    "  if ad_check(value):\n",
    "    print(count, '.', value)"
   ]
  },
  {
   "cell_type": "markdown",
   "metadata": {
    "id": "bDqsxeXUxPXA"
   },
   "source": [
    "<br>\n",
    "<br>\n",
    "\n",
    "***\n",
    "\n",
    "## **Additional information**\n",
    "\n",
    "This notebook is provided for educational purpose and feel free to report any issue on GitHub.\n",
    "\n",
    "<br>\n",
    "\n",
    "**Author:** [Ka Hei, Chow](https://www.linkedin.com/in/ka-hei-chow-231345188/)\n",
    "\n",
    "**License:** The code in this notebook is licensed under the [Creative Commons by Attribution 4.0 license](https://creativecommons.org/licenses/by/4.0/).\n",
    "\n",
    "**Last modified:** December 2021\n",
    "\n",
    "<br>\n",
    "\n",
    "***\n",
    "\n",
    "<br>\n",
    "\n",
    "## **References:** \n",
    "\n",
    "https://mhdb.mh.sinica.edu.tw/fnzz/view.php?book=1501&str=%E5%A9%A6%E5%A5%B3"
   ]
  }
 ],
 "metadata": {
  "colab": {
   "name": "FunctionsNLoops.ipynb",
   "provenance": []
  },
  "kernelspec": {
   "display_name": "Python 3",
   "language": "python",
   "name": "python3"
  },
  "language_info": {
   "codemirror_mode": {
    "name": "ipython",
    "version": 3
   },
   "file_extension": ".py",
   "mimetype": "text/x-python",
   "name": "python",
   "nbconvert_exporter": "python",
   "pygments_lexer": "ipython3",
   "version": "3.7.9"
  },
  "toc": {
   "base_numbering": 1,
   "nav_menu": {},
   "number_sections": true,
   "sideBar": true,
   "skip_h1_title": false,
   "title_cell": "Table of Contents",
   "title_sidebar": "Contents",
   "toc_cell": false,
   "toc_position": {},
   "toc_section_display": true,
   "toc_window_display": false
  }
 },
 "nbformat": 4,
 "nbformat_minor": 1
}
