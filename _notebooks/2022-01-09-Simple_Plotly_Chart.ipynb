{
  "nbformat": 4,
  "nbformat_minor": 0,
  "metadata": {
    "colab": {
      "name": "simple_plot.ipynb",
      "provenance": [],
      "collapsed_sections": []
    },
    "kernelspec": {
      "name": "python3",
      "display_name": "Python 3"
    },
    "language_info": {
      "name": "python"
    }
  },
  "cells": [
    {
      "cell_type": "markdown",
      "source": [
        "# \"Simple Graphics using Plotly\"\n",
        "> \"Interactive data visualization\"\n",
        "\n",
        "- toc: true \n",
        "- badges: true\n",
        "- comments: true\n",
        "- categories: [level-3, chapter-3, plotly, data-visualization]\n",
        "- image: images/simple_graphics.png"
      ],
      "metadata": {
        "id": "52q2X9TRjX83"
      }
    },
    {
      "cell_type": "markdown",
      "source": [
        "In the last blog, we have created a bubble chart / scatter plot using Plotly. This time we are trying to make other types of plot: a simple bar chart and a lollipop chart using plotly.express and plotly.graph_objects. The creation of both charts begin with a Pandas data frame. Then we pass the data frame into Plotly for a basic plot, and update the layouts afterwards. The bar chart requires only one plotting action .bar(), whereas the lollipop chart requires two plotting actions: first creating the scatter plot, then with add the \"stick\" using add_shape()."
      ],
      "metadata": {
        "id": "5PuBpPTr6Pj4"
      }
    },
    {
      "cell_type": "markdown",
      "source": [
        "# Set Up Environment"
      ],
      "metadata": {
        "id": "PnAWDEWH7mtt"
      }
    },
    {
      "cell_type": "code",
      "source": [
        "# plotting library\n",
        "import pandas as pd\n",
        "import numpy as np\n",
        "import plotly.express as px\n",
        "\n",
        "# library for creating random lengths of \"stick\" in the chart\n",
        "from random import seed\n",
        "from random import random"
      ],
      "metadata": {
        "id": "qNwrtvG07qxF"
      },
      "execution_count": null,
      "outputs": []
    },
    {
      "cell_type": "markdown",
      "source": [
        "# **Bar Chart**\n",
        "\n",
        "# Creating Data Frame\n",
        "\n",
        "In this example, we create a bar chart based on the records for the type of natural disaster recorded in [《臺灣文獻叢刊》臺灣方志](http://tcss.ith.sinica.edu.tw/cgi-bin/gs32/gsweb.cgi/ccd=Lsc0Ou/webmge?db=article). The data frame is created using a dictionary, created by passing column names and values."
      ],
      "metadata": {
        "id": "K9m8g6sB7rfp"
      }
    },
    {
      "cell_type": "code",
      "source": [
        "data = {\n",
        "    \"Type of Natural Disaster\": [\"Fire\",\"Locust\",\"Drought\",\"Earthquake\",\"Flood\",\"Typhoon\",\"Storm\"],\n",
        "    \"Number of Record\": [63,81,86,13,138,158,8]\n",
        "}\n",
        "\n",
        "df = pd.DataFrame(data=data)"
      ],
      "metadata": {
        "id": "ol4qbAo3v1_y"
      },
      "execution_count": 16,
      "outputs": []
    },
    {
      "cell_type": "markdown",
      "source": [
        "# Plotting\n",
        "\n",
        "Then we can do the plotting by calling px.bar(). We can pass x, y, title and the figure size into the function. This will allow the creation of a simple bar chart in Plotly using default layout options. If we wish to change any parameters, we can update it using update_layout().\n",
        "\n",
        "Here, we will update the hover labels by changing the font size and the background color. We will also adjust the width of the bars. Finally, we pass fig.show() for the display of our plot."
      ],
      "metadata": {
        "id": "W5QxhDqV7wwT"
      }
    },
    {
      "cell_type": "markdown",
      "source": [
        "First, we define a set of color for the bars by passing them into a list."
      ],
      "metadata": {
        "id": "RzktNN2FAPL9"
      }
    },
    {
      "cell_type": "code",
      "source": [
        "color_discrete_sequence = ['#1f77b4',  # muted blue\n",
        "    '#ff7f0e',  # safety orange\n",
        "    '#2ca02c',  # cooked asparagus green\n",
        "    '#d62728',  # brick red\n",
        "    '#9467bd',  # muted purple\n",
        "    '#bcbd22',  # curry yellow-green\n",
        "    '#e377c2']  # raspberry yogurt pink"
      ],
      "metadata": {
        "id": "RuUSvGyh_3QT"
      },
      "execution_count": 25,
      "outputs": []
    },
    {
      "cell_type": "markdown",
      "source": [
        "Then, we plot the chart. With the title, we can pass the html tag `<b> </b>` to style the words (bold), and for the color argument, we use 'Type of Natural Disaster', which mean every single column, we use a different colors. By doing so, a legend will be automatically created to explain the implication of colors. We can disable them later using `fig.update_layout(showlegend=False)`."
      ],
      "metadata": {
        "id": "wkcbXYNUAUQJ"
      }
    },
    {
      "cell_type": "code",
      "source": [
        "fig = px.bar(df, y='Number of Record', x='Type of Natural Disaster', \n",
        "             title=\"<b>Disaster Records in 臺灣方志</b>\", width=1000, height=500,\n",
        "             color=\"Type of Natural Disaster\",color_discrete_sequence=color_discrete_sequence)"
      ],
      "metadata": {
        "id": "iG38lUwP_8UX"
      },
      "execution_count": 24,
      "outputs": []
    },
    {
      "cell_type": "markdown",
      "source": [
        "Let's us disable out legend and adjust the width of the bars."
      ],
      "metadata": {
        "id": "Vc8bN8tLBDVj"
      }
    },
    {
      "cell_type": "code",
      "source": [
        "fig.update_layout(showlegend=False)\n",
        "fig.update_traces(width=0.5)"
      ],
      "metadata": {
        "id": "Lu6GgXSGADDM"
      },
      "execution_count": null,
      "outputs": []
    },
    {
      "cell_type": "markdown",
      "source": [
        "Then, we will adjust the hover labels before displaying out plot using `fig.show()`."
      ],
      "metadata": {
        "id": "q3J5d6eoBKeO"
      }
    },
    {
      "cell_type": "code",
      "source": [
        "fig.update_layout(\n",
        "    hoverlabel=dict(\n",
        "        bgcolor=\"white\",\n",
        "        font_size=14,\n",
        "        font_family=\"Courier New\"\n",
        "    )\n",
        ")\n",
        "\n",
        "fig.show()"
      ],
      "metadata": {
        "colab": {
          "base_uri": "https://localhost:8080/",
          "height": 517
        },
        "id": "GYYJpyjIxcF7",
        "outputId": "82aa3cb8-aef7-4b16-f2fe-5b0e03059c34"
      },
      "execution_count": 28,
      "outputs": [
        {
          "output_type": "display_data",
          "data": {
            "text/html": [
              "<html>\n",
              "<head><meta charset=\"utf-8\" /></head>\n",
              "<body>\n",
              "    <div>\n",
              "            <script src=\"https://cdnjs.cloudflare.com/ajax/libs/mathjax/2.7.5/MathJax.js?config=TeX-AMS-MML_SVG\"></script><script type=\"text/javascript\">if (window.MathJax) {MathJax.Hub.Config({SVG: {font: \"STIX-Web\"}});}</script>\n",
              "                <script type=\"text/javascript\">window.PlotlyConfig = {MathJaxConfig: 'local'};</script>\n",
              "        <script src=\"https://cdn.plot.ly/plotly-latest.min.js\"></script>    \n",
              "            <div id=\"1d7db2a9-e8ef-4949-806b-742f377a7d9a\" class=\"plotly-graph-div\" style=\"height:500px; width:1000px;\"></div>\n",
              "            <script type=\"text/javascript\">\n",
              "                \n",
              "                    window.PLOTLYENV=window.PLOTLYENV || {};\n",
              "                    \n",
              "                if (document.getElementById(\"1d7db2a9-e8ef-4949-806b-742f377a7d9a\")) {\n",
              "                    Plotly.newPlot(\n",
              "                        '1d7db2a9-e8ef-4949-806b-742f377a7d9a',\n",
              "                        [{\"alignmentgroup\": \"True\", \"hoverlabel\": {\"namelength\": 0}, \"hovertemplate\": \"Type of Natural Disaster=%{x}<br>Number of Record=%{y}\", \"legendgroup\": \"Type of Natural Disaster=Fire\", \"marker\": {\"color\": \"#1f77b4\"}, \"name\": \"Type of Natural Disaster=Fire\", \"offsetgroup\": \"Type of Natural Disaster=Fire\", \"orientation\": \"v\", \"showlegend\": true, \"textposition\": \"auto\", \"type\": \"bar\", \"width\": 0.5, \"x\": [\"Fire\"], \"xaxis\": \"x\", \"y\": [63], \"yaxis\": \"y\"}, {\"alignmentgroup\": \"True\", \"hoverlabel\": {\"namelength\": 0}, \"hovertemplate\": \"Type of Natural Disaster=%{x}<br>Number of Record=%{y}\", \"legendgroup\": \"Type of Natural Disaster=Locust\", \"marker\": {\"color\": \"#ff7f0e\"}, \"name\": \"Type of Natural Disaster=Locust\", \"offsetgroup\": \"Type of Natural Disaster=Locust\", \"orientation\": \"v\", \"showlegend\": true, \"textposition\": \"auto\", \"type\": \"bar\", \"width\": 0.5, \"x\": [\"Locust\"], \"xaxis\": \"x\", \"y\": [81], \"yaxis\": \"y\"}, {\"alignmentgroup\": \"True\", \"hoverlabel\": {\"namelength\": 0}, \"hovertemplate\": \"Type of Natural Disaster=%{x}<br>Number of Record=%{y}\", \"legendgroup\": \"Type of Natural Disaster=Drought\", \"marker\": {\"color\": \"#2ca02c\"}, \"name\": \"Type of Natural Disaster=Drought\", \"offsetgroup\": \"Type of Natural Disaster=Drought\", \"orientation\": \"v\", \"showlegend\": true, \"textposition\": \"auto\", \"type\": \"bar\", \"width\": 0.5, \"x\": [\"Drought\"], \"xaxis\": \"x\", \"y\": [86], \"yaxis\": \"y\"}, {\"alignmentgroup\": \"True\", \"hoverlabel\": {\"namelength\": 0}, \"hovertemplate\": \"Type of Natural Disaster=%{x}<br>Number of Record=%{y}\", \"legendgroup\": \"Type of Natural Disaster=Earthquake\", \"marker\": {\"color\": \"#d62728\"}, \"name\": \"Type of Natural Disaster=Earthquake\", \"offsetgroup\": \"Type of Natural Disaster=Earthquake\", \"orientation\": \"v\", \"showlegend\": true, \"textposition\": \"auto\", \"type\": \"bar\", \"width\": 0.5, \"x\": [\"Earthquake\"], \"xaxis\": \"x\", \"y\": [13], \"yaxis\": \"y\"}, {\"alignmentgroup\": \"True\", \"hoverlabel\": {\"namelength\": 0}, \"hovertemplate\": \"Type of Natural Disaster=%{x}<br>Number of Record=%{y}\", \"legendgroup\": \"Type of Natural Disaster=Flood\", \"marker\": {\"color\": \"#9467bd\"}, \"name\": \"Type of Natural Disaster=Flood\", \"offsetgroup\": \"Type of Natural Disaster=Flood\", \"orientation\": \"v\", \"showlegend\": true, \"textposition\": \"auto\", \"type\": \"bar\", \"width\": 0.5, \"x\": [\"Flood\"], \"xaxis\": \"x\", \"y\": [138], \"yaxis\": \"y\"}, {\"alignmentgroup\": \"True\", \"hoverlabel\": {\"namelength\": 0}, \"hovertemplate\": \"Type of Natural Disaster=%{x}<br>Number of Record=%{y}\", \"legendgroup\": \"Type of Natural Disaster=Typhoon\", \"marker\": {\"color\": \"#bcbd22\"}, \"name\": \"Type of Natural Disaster=Typhoon\", \"offsetgroup\": \"Type of Natural Disaster=Typhoon\", \"orientation\": \"v\", \"showlegend\": true, \"textposition\": \"auto\", \"type\": \"bar\", \"width\": 0.5, \"x\": [\"Typhoon\"], \"xaxis\": \"x\", \"y\": [158], \"yaxis\": \"y\"}, {\"alignmentgroup\": \"True\", \"hoverlabel\": {\"namelength\": 0}, \"hovertemplate\": \"Type of Natural Disaster=%{x}<br>Number of Record=%{y}\", \"legendgroup\": \"Type of Natural Disaster=Storm\", \"marker\": {\"color\": \"#e377c2\"}, \"name\": \"Type of Natural Disaster=Storm\", \"offsetgroup\": \"Type of Natural Disaster=Storm\", \"orientation\": \"v\", \"showlegend\": true, \"textposition\": \"auto\", \"type\": \"bar\", \"width\": 0.5, \"x\": [\"Storm\"], \"xaxis\": \"x\", \"y\": [8], \"yaxis\": \"y\"}],\n",
              "                        {\"barmode\": \"relative\", \"height\": 500, \"hoverlabel\": {\"bgcolor\": \"white\", \"font\": {\"family\": \"Courier New\", \"size\": 14}}, \"legend\": {\"tracegroupgap\": 0}, \"showlegend\": false, \"template\": {\"data\": {\"bar\": [{\"error_x\": {\"color\": \"#2a3f5f\"}, \"error_y\": {\"color\": \"#2a3f5f\"}, \"marker\": {\"line\": {\"color\": \"#E5ECF6\", \"width\": 0.5}}, \"type\": \"bar\"}], \"barpolar\": [{\"marker\": {\"line\": {\"color\": \"#E5ECF6\", \"width\": 0.5}}, \"type\": \"barpolar\"}], \"carpet\": [{\"aaxis\": {\"endlinecolor\": \"#2a3f5f\", \"gridcolor\": \"white\", \"linecolor\": \"white\", \"minorgridcolor\": \"white\", \"startlinecolor\": \"#2a3f5f\"}, \"baxis\": {\"endlinecolor\": \"#2a3f5f\", \"gridcolor\": \"white\", \"linecolor\": \"white\", \"minorgridcolor\": \"white\", \"startlinecolor\": \"#2a3f5f\"}, \"type\": \"carpet\"}], \"choropleth\": [{\"colorbar\": {\"outlinewidth\": 0, \"ticks\": \"\"}, \"type\": \"choropleth\"}], \"contour\": [{\"colorbar\": {\"outlinewidth\": 0, \"ticks\": \"\"}, \"colorscale\": [[0.0, \"#0d0887\"], [0.1111111111111111, \"#46039f\"], [0.2222222222222222, \"#7201a8\"], [0.3333333333333333, \"#9c179e\"], [0.4444444444444444, \"#bd3786\"], [0.5555555555555556, \"#d8576b\"], [0.6666666666666666, \"#ed7953\"], [0.7777777777777778, \"#fb9f3a\"], [0.8888888888888888, \"#fdca26\"], [1.0, \"#f0f921\"]], \"type\": \"contour\"}], \"contourcarpet\": [{\"colorbar\": {\"outlinewidth\": 0, \"ticks\": \"\"}, \"type\": \"contourcarpet\"}], \"heatmap\": [{\"colorbar\": {\"outlinewidth\": 0, \"ticks\": \"\"}, \"colorscale\": [[0.0, \"#0d0887\"], [0.1111111111111111, \"#46039f\"], [0.2222222222222222, \"#7201a8\"], [0.3333333333333333, \"#9c179e\"], [0.4444444444444444, \"#bd3786\"], [0.5555555555555556, \"#d8576b\"], [0.6666666666666666, \"#ed7953\"], [0.7777777777777778, \"#fb9f3a\"], [0.8888888888888888, \"#fdca26\"], [1.0, \"#f0f921\"]], \"type\": \"heatmap\"}], \"heatmapgl\": [{\"colorbar\": {\"outlinewidth\": 0, \"ticks\": \"\"}, \"colorscale\": [[0.0, \"#0d0887\"], [0.1111111111111111, \"#46039f\"], [0.2222222222222222, \"#7201a8\"], [0.3333333333333333, \"#9c179e\"], [0.4444444444444444, \"#bd3786\"], [0.5555555555555556, \"#d8576b\"], [0.6666666666666666, \"#ed7953\"], [0.7777777777777778, \"#fb9f3a\"], [0.8888888888888888, \"#fdca26\"], [1.0, \"#f0f921\"]], \"type\": \"heatmapgl\"}], \"histogram\": [{\"marker\": {\"colorbar\": {\"outlinewidth\": 0, \"ticks\": \"\"}}, \"type\": \"histogram\"}], \"histogram2d\": [{\"colorbar\": {\"outlinewidth\": 0, \"ticks\": \"\"}, \"colorscale\": [[0.0, \"#0d0887\"], [0.1111111111111111, \"#46039f\"], [0.2222222222222222, \"#7201a8\"], [0.3333333333333333, \"#9c179e\"], [0.4444444444444444, \"#bd3786\"], [0.5555555555555556, \"#d8576b\"], [0.6666666666666666, \"#ed7953\"], [0.7777777777777778, \"#fb9f3a\"], [0.8888888888888888, \"#fdca26\"], [1.0, \"#f0f921\"]], \"type\": \"histogram2d\"}], \"histogram2dcontour\": [{\"colorbar\": {\"outlinewidth\": 0, \"ticks\": \"\"}, \"colorscale\": [[0.0, \"#0d0887\"], [0.1111111111111111, \"#46039f\"], [0.2222222222222222, \"#7201a8\"], [0.3333333333333333, \"#9c179e\"], [0.4444444444444444, \"#bd3786\"], [0.5555555555555556, \"#d8576b\"], [0.6666666666666666, \"#ed7953\"], [0.7777777777777778, \"#fb9f3a\"], [0.8888888888888888, \"#fdca26\"], [1.0, \"#f0f921\"]], \"type\": \"histogram2dcontour\"}], \"mesh3d\": [{\"colorbar\": {\"outlinewidth\": 0, \"ticks\": \"\"}, \"type\": \"mesh3d\"}], \"parcoords\": [{\"line\": {\"colorbar\": {\"outlinewidth\": 0, \"ticks\": \"\"}}, \"type\": \"parcoords\"}], \"pie\": [{\"automargin\": true, \"type\": \"pie\"}], \"scatter\": [{\"marker\": {\"colorbar\": {\"outlinewidth\": 0, \"ticks\": \"\"}}, \"type\": \"scatter\"}], \"scatter3d\": [{\"line\": {\"colorbar\": {\"outlinewidth\": 0, \"ticks\": \"\"}}, \"marker\": {\"colorbar\": {\"outlinewidth\": 0, \"ticks\": \"\"}}, \"type\": \"scatter3d\"}], \"scattercarpet\": [{\"marker\": {\"colorbar\": {\"outlinewidth\": 0, \"ticks\": \"\"}}, \"type\": \"scattercarpet\"}], \"scattergeo\": [{\"marker\": {\"colorbar\": {\"outlinewidth\": 0, \"ticks\": \"\"}}, \"type\": \"scattergeo\"}], \"scattergl\": [{\"marker\": {\"colorbar\": {\"outlinewidth\": 0, \"ticks\": \"\"}}, \"type\": \"scattergl\"}], \"scattermapbox\": [{\"marker\": {\"colorbar\": {\"outlinewidth\": 0, \"ticks\": \"\"}}, \"type\": \"scattermapbox\"}], \"scatterpolar\": [{\"marker\": {\"colorbar\": {\"outlinewidth\": 0, \"ticks\": \"\"}}, \"type\": \"scatterpolar\"}], \"scatterpolargl\": [{\"marker\": {\"colorbar\": {\"outlinewidth\": 0, \"ticks\": \"\"}}, \"type\": \"scatterpolargl\"}], \"scatterternary\": [{\"marker\": {\"colorbar\": {\"outlinewidth\": 0, \"ticks\": \"\"}}, \"type\": \"scatterternary\"}], \"surface\": [{\"colorbar\": {\"outlinewidth\": 0, \"ticks\": \"\"}, \"colorscale\": [[0.0, \"#0d0887\"], [0.1111111111111111, \"#46039f\"], [0.2222222222222222, \"#7201a8\"], [0.3333333333333333, \"#9c179e\"], [0.4444444444444444, \"#bd3786\"], [0.5555555555555556, \"#d8576b\"], [0.6666666666666666, \"#ed7953\"], [0.7777777777777778, \"#fb9f3a\"], [0.8888888888888888, \"#fdca26\"], [1.0, \"#f0f921\"]], \"type\": \"surface\"}], \"table\": [{\"cells\": {\"fill\": {\"color\": \"#EBF0F8\"}, \"line\": {\"color\": \"white\"}}, \"header\": {\"fill\": {\"color\": \"#C8D4E3\"}, \"line\": {\"color\": \"white\"}}, \"type\": \"table\"}]}, \"layout\": {\"annotationdefaults\": {\"arrowcolor\": \"#2a3f5f\", \"arrowhead\": 0, \"arrowwidth\": 1}, \"coloraxis\": {\"colorbar\": {\"outlinewidth\": 0, \"ticks\": \"\"}}, \"colorscale\": {\"diverging\": [[0, \"#8e0152\"], [0.1, \"#c51b7d\"], [0.2, \"#de77ae\"], [0.3, \"#f1b6da\"], [0.4, \"#fde0ef\"], [0.5, \"#f7f7f7\"], [0.6, \"#e6f5d0\"], [0.7, \"#b8e186\"], [0.8, \"#7fbc41\"], [0.9, \"#4d9221\"], [1, \"#276419\"]], \"sequential\": [[0.0, \"#0d0887\"], [0.1111111111111111, \"#46039f\"], [0.2222222222222222, \"#7201a8\"], [0.3333333333333333, \"#9c179e\"], [0.4444444444444444, \"#bd3786\"], [0.5555555555555556, \"#d8576b\"], [0.6666666666666666, \"#ed7953\"], [0.7777777777777778, \"#fb9f3a\"], [0.8888888888888888, \"#fdca26\"], [1.0, \"#f0f921\"]], \"sequentialminus\": [[0.0, \"#0d0887\"], [0.1111111111111111, \"#46039f\"], [0.2222222222222222, \"#7201a8\"], [0.3333333333333333, \"#9c179e\"], [0.4444444444444444, \"#bd3786\"], [0.5555555555555556, \"#d8576b\"], [0.6666666666666666, \"#ed7953\"], [0.7777777777777778, \"#fb9f3a\"], [0.8888888888888888, \"#fdca26\"], [1.0, \"#f0f921\"]]}, \"colorway\": [\"#636efa\", \"#EF553B\", \"#00cc96\", \"#ab63fa\", \"#FFA15A\", \"#19d3f3\", \"#FF6692\", \"#B6E880\", \"#FF97FF\", \"#FECB52\"], \"font\": {\"color\": \"#2a3f5f\"}, \"geo\": {\"bgcolor\": \"white\", \"lakecolor\": \"white\", \"landcolor\": \"#E5ECF6\", \"showlakes\": true, \"showland\": true, \"subunitcolor\": \"white\"}, \"hoverlabel\": {\"align\": \"left\"}, \"hovermode\": \"closest\", \"mapbox\": {\"style\": \"light\"}, \"paper_bgcolor\": \"white\", \"plot_bgcolor\": \"#E5ECF6\", \"polar\": {\"angularaxis\": {\"gridcolor\": \"white\", \"linecolor\": \"white\", \"ticks\": \"\"}, \"bgcolor\": \"#E5ECF6\", \"radialaxis\": {\"gridcolor\": \"white\", \"linecolor\": \"white\", \"ticks\": \"\"}}, \"scene\": {\"xaxis\": {\"backgroundcolor\": \"#E5ECF6\", \"gridcolor\": \"white\", \"gridwidth\": 2, \"linecolor\": \"white\", \"showbackground\": true, \"ticks\": \"\", \"zerolinecolor\": \"white\"}, \"yaxis\": {\"backgroundcolor\": \"#E5ECF6\", \"gridcolor\": \"white\", \"gridwidth\": 2, \"linecolor\": \"white\", \"showbackground\": true, \"ticks\": \"\", \"zerolinecolor\": \"white\"}, \"zaxis\": {\"backgroundcolor\": \"#E5ECF6\", \"gridcolor\": \"white\", \"gridwidth\": 2, \"linecolor\": \"white\", \"showbackground\": true, \"ticks\": \"\", \"zerolinecolor\": \"white\"}}, \"shapedefaults\": {\"line\": {\"color\": \"#2a3f5f\"}}, \"ternary\": {\"aaxis\": {\"gridcolor\": \"white\", \"linecolor\": \"white\", \"ticks\": \"\"}, \"baxis\": {\"gridcolor\": \"white\", \"linecolor\": \"white\", \"ticks\": \"\"}, \"bgcolor\": \"#E5ECF6\", \"caxis\": {\"gridcolor\": \"white\", \"linecolor\": \"white\", \"ticks\": \"\"}}, \"title\": {\"x\": 0.05}, \"xaxis\": {\"automargin\": true, \"gridcolor\": \"white\", \"linecolor\": \"white\", \"ticks\": \"\", \"title\": {\"standoff\": 15}, \"zerolinecolor\": \"white\", \"zerolinewidth\": 2}, \"yaxis\": {\"automargin\": true, \"gridcolor\": \"white\", \"linecolor\": \"white\", \"ticks\": \"\", \"title\": {\"standoff\": 15}, \"zerolinecolor\": \"white\", \"zerolinewidth\": 2}}}, \"title\": {\"text\": \"<b>Disaster Records in \\u81fa\\u7063\\u65b9\\u5fd7</b>\"}, \"width\": 1000, \"xaxis\": {\"anchor\": \"y\", \"categoryarray\": [\"Fire\", \"Locust\", \"Drought\", \"Earthquake\", \"Flood\", \"Typhoon\", \"Storm\"], \"categoryorder\": \"array\", \"domain\": [0.0, 1.0], \"title\": {\"text\": \"Type of Natural Disaster\"}}, \"yaxis\": {\"anchor\": \"x\", \"domain\": [0.0, 1.0], \"title\": {\"text\": \"Number of Record\"}}},\n",
              "                        {\"responsive\": true}\n",
              "                    ).then(function(){\n",
              "                            \n",
              "var gd = document.getElementById('1d7db2a9-e8ef-4949-806b-742f377a7d9a');\n",
              "var x = new MutationObserver(function (mutations, observer) {{\n",
              "        var display = window.getComputedStyle(gd).display;\n",
              "        if (!display || display === 'none') {{\n",
              "            console.log([gd, 'removed!']);\n",
              "            Plotly.purge(gd);\n",
              "            observer.disconnect();\n",
              "        }}\n",
              "}});\n",
              "\n",
              "// Listen for the removal of the full notebook cells\n",
              "var notebookContainer = gd.closest('#notebook-container');\n",
              "if (notebookContainer) {{\n",
              "    x.observe(notebookContainer, {childList: true});\n",
              "}}\n",
              "\n",
              "// Listen for the clearing of the current output cell\n",
              "var outputEl = gd.closest('.output');\n",
              "if (outputEl) {{\n",
              "    x.observe(outputEl, {childList: true});\n",
              "}}\n",
              "\n",
              "                        })\n",
              "                };\n",
              "                \n",
              "            </script>\n",
              "        </div>\n",
              "</body>\n",
              "</html>"
            ]
          },
          "metadata": {}
        }
      ]
    },
    {
      "cell_type": "markdown",
      "source": [
        "# **Lollipop Chart**\n",
        "\n",
        "This time, let's us work with some qualitative data. We will try to plot a simple time line of the articles 胡適 had published in his life time. We want to label the data with the shorten titles while putting the full titles in our hover labels.\n",
        "\n",
        "# Creating Data Frame\n",
        "\n",
        "Let's first create our data frame. In order to have a lollipop chart we need to define the y values. We would like the y values to be different for every titles so we can avoid text overlapping. It can be done using random library and random().\n",
        "\n",
        "We will also convert the date column to datetime using `pd.to_datetime()`."
      ],
      "metadata": {
        "id": "hOhd5IN8z2Ip"
      }
    },
    {
      "cell_type": "code",
      "source": [
        "data = {\n",
        "    \"date\": [\"1919-01-01\",\"1917-05-01\",\"1918-01-01\",\"1919-07-20\",\"1924-01-01\",\"1929-01-01\",\"1929-02-01\",\"1929-03-01\",\"1929-04-01\",\"1930-04-10\",\"1959-11-20\"],\n",
        "    \"title\": [\"文學改良芻議\",\"歷史的文學觀念論\",\"建設的文學革命論\",\"多研究些問題，少談些主義\",\"差不多先生傳\",\"人權與約法\",\"我們什麼時候才可有憲法—對於建國大綱的疑問\",\"知難，行亦不易—孫文先生的「行易知難」說述評\",\"新文化運動與國民黨\",\"我們走那條路\",\"容忍與自由\"],\n",
        "    \"sub\": [\"文學改良芻議\",\"歷史的文學觀念論\",\"建設的文學革命論\",\"多研究些問題，少談些主義\",\"差不多先生傳\",\"人權與約法\",\"我們什麼時候才可有憲法\",\"知難，行亦不易\",\"新文化運動與國民黨\",\"我們走那條路\",\"容忍與自由\"],\n",
        "}\n",
        "\n",
        "df = pd.DataFrame(data=data)\n",
        "df['date'] =  pd.to_datetime(df['date'], format='%Y-%m-%d')\n",
        "df['y'] = [random() for i in range(len(df.title))]"
      ],
      "metadata": {
        "id": "jzg4qoSczu5Y"
      },
      "execution_count": 30,
      "outputs": []
    },
    {
      "cell_type": "code",
      "source": [
        "df"
      ],
      "metadata": {
        "colab": {
          "base_uri": "https://localhost:8080/",
          "height": 394
        },
        "id": "ZMTp554D16mD",
        "outputId": "c5be0c52-f394-40b5-f285-dbc720e5ad03"
      },
      "execution_count": 7,
      "outputs": [
        {
          "output_type": "execute_result",
          "data": {
            "text/html": [
              "\n",
              "  <div id=\"df-dd4bdfc0-9295-41d5-bbff-f2818e253d2e\">\n",
              "    <div class=\"colab-df-container\">\n",
              "      <div>\n",
              "<style scoped>\n",
              "    .dataframe tbody tr th:only-of-type {\n",
              "        vertical-align: middle;\n",
              "    }\n",
              "\n",
              "    .dataframe tbody tr th {\n",
              "        vertical-align: top;\n",
              "    }\n",
              "\n",
              "    .dataframe thead th {\n",
              "        text-align: right;\n",
              "    }\n",
              "</style>\n",
              "<table border=\"1\" class=\"dataframe\">\n",
              "  <thead>\n",
              "    <tr style=\"text-align: right;\">\n",
              "      <th></th>\n",
              "      <th>date</th>\n",
              "      <th>title</th>\n",
              "      <th>sub</th>\n",
              "      <th>y</th>\n",
              "    </tr>\n",
              "  </thead>\n",
              "  <tbody>\n",
              "    <tr>\n",
              "      <th>0</th>\n",
              "      <td>1919-01-01</td>\n",
              "      <td>文學改良芻議</td>\n",
              "      <td>文學改良芻議</td>\n",
              "      <td>0.043649</td>\n",
              "    </tr>\n",
              "    <tr>\n",
              "      <th>1</th>\n",
              "      <td>1917-05-01</td>\n",
              "      <td>歷史的文學觀念論</td>\n",
              "      <td>歷史的文學觀念論</td>\n",
              "      <td>0.729784</td>\n",
              "    </tr>\n",
              "    <tr>\n",
              "      <th>2</th>\n",
              "      <td>1918-01-01</td>\n",
              "      <td>建設的文學革命論</td>\n",
              "      <td>建設的文學革命論</td>\n",
              "      <td>0.281129</td>\n",
              "    </tr>\n",
              "    <tr>\n",
              "      <th>3</th>\n",
              "      <td>1919-07-20</td>\n",
              "      <td>多研究些問題，少談些主義</td>\n",
              "      <td>多研究些問題，少談些主義</td>\n",
              "      <td>0.544732</td>\n",
              "    </tr>\n",
              "    <tr>\n",
              "      <th>4</th>\n",
              "      <td>1924-01-01</td>\n",
              "      <td>差不多先生傳</td>\n",
              "      <td>差不多先生傳</td>\n",
              "      <td>0.704270</td>\n",
              "    </tr>\n",
              "    <tr>\n",
              "      <th>5</th>\n",
              "      <td>1929-01-01</td>\n",
              "      <td>人權與約法</td>\n",
              "      <td>人權與約法</td>\n",
              "      <td>0.699685</td>\n",
              "    </tr>\n",
              "    <tr>\n",
              "      <th>6</th>\n",
              "      <td>1929-02-01</td>\n",
              "      <td>我們什麼時候才可有憲法—對於建國大綱的疑問</td>\n",
              "      <td>我們什麼時候才可有憲法</td>\n",
              "      <td>0.651569</td>\n",
              "    </tr>\n",
              "    <tr>\n",
              "      <th>7</th>\n",
              "      <td>1929-03-01</td>\n",
              "      <td>知難，行亦不易—孫文先生的「行易知難」說述評</td>\n",
              "      <td>知難，行亦不易</td>\n",
              "      <td>0.262863</td>\n",
              "    </tr>\n",
              "    <tr>\n",
              "      <th>8</th>\n",
              "      <td>1929-04-01</td>\n",
              "      <td>新文化運動與國民黨</td>\n",
              "      <td>新文化運動與國民黨</td>\n",
              "      <td>0.116383</td>\n",
              "    </tr>\n",
              "    <tr>\n",
              "      <th>9</th>\n",
              "      <td>1930-04-10</td>\n",
              "      <td>我們走那條路</td>\n",
              "      <td>我們走那條路</td>\n",
              "      <td>0.443837</td>\n",
              "    </tr>\n",
              "    <tr>\n",
              "      <th>10</th>\n",
              "      <td>1959-11-20</td>\n",
              "      <td>容忍與自由</td>\n",
              "      <td>容忍與自由</td>\n",
              "      <td>0.266778</td>\n",
              "    </tr>\n",
              "  </tbody>\n",
              "</table>\n",
              "</div>\n",
              "      <button class=\"colab-df-convert\" onclick=\"convertToInteractive('df-dd4bdfc0-9295-41d5-bbff-f2818e253d2e')\"\n",
              "              title=\"Convert this dataframe to an interactive table.\"\n",
              "              style=\"display:none;\">\n",
              "        \n",
              "  <svg xmlns=\"http://www.w3.org/2000/svg\" height=\"24px\"viewBox=\"0 0 24 24\"\n",
              "       width=\"24px\">\n",
              "    <path d=\"M0 0h24v24H0V0z\" fill=\"none\"/>\n",
              "    <path d=\"M18.56 5.44l.94 2.06.94-2.06 2.06-.94-2.06-.94-.94-2.06-.94 2.06-2.06.94zm-11 1L8.5 8.5l.94-2.06 2.06-.94-2.06-.94L8.5 2.5l-.94 2.06-2.06.94zm10 10l.94 2.06.94-2.06 2.06-.94-2.06-.94-.94-2.06-.94 2.06-2.06.94z\"/><path d=\"M17.41 7.96l-1.37-1.37c-.4-.4-.92-.59-1.43-.59-.52 0-1.04.2-1.43.59L10.3 9.45l-7.72 7.72c-.78.78-.78 2.05 0 2.83L4 21.41c.39.39.9.59 1.41.59.51 0 1.02-.2 1.41-.59l7.78-7.78 2.81-2.81c.8-.78.8-2.07 0-2.86zM5.41 20L4 18.59l7.72-7.72 1.47 1.35L5.41 20z\"/>\n",
              "  </svg>\n",
              "      </button>\n",
              "      \n",
              "  <style>\n",
              "    .colab-df-container {\n",
              "      display:flex;\n",
              "      flex-wrap:wrap;\n",
              "      gap: 12px;\n",
              "    }\n",
              "\n",
              "    .colab-df-convert {\n",
              "      background-color: #E8F0FE;\n",
              "      border: none;\n",
              "      border-radius: 50%;\n",
              "      cursor: pointer;\n",
              "      display: none;\n",
              "      fill: #1967D2;\n",
              "      height: 32px;\n",
              "      padding: 0 0 0 0;\n",
              "      width: 32px;\n",
              "    }\n",
              "\n",
              "    .colab-df-convert:hover {\n",
              "      background-color: #E2EBFA;\n",
              "      box-shadow: 0px 1px 2px rgba(60, 64, 67, 0.3), 0px 1px 3px 1px rgba(60, 64, 67, 0.15);\n",
              "      fill: #174EA6;\n",
              "    }\n",
              "\n",
              "    [theme=dark] .colab-df-convert {\n",
              "      background-color: #3B4455;\n",
              "      fill: #D2E3FC;\n",
              "    }\n",
              "\n",
              "    [theme=dark] .colab-df-convert:hover {\n",
              "      background-color: #434B5C;\n",
              "      box-shadow: 0px 1px 3px 1px rgba(0, 0, 0, 0.15);\n",
              "      filter: drop-shadow(0px 1px 2px rgba(0, 0, 0, 0.3));\n",
              "      fill: #FFFFFF;\n",
              "    }\n",
              "  </style>\n",
              "\n",
              "      <script>\n",
              "        const buttonEl =\n",
              "          document.querySelector('#df-dd4bdfc0-9295-41d5-bbff-f2818e253d2e button.colab-df-convert');\n",
              "        buttonEl.style.display =\n",
              "          google.colab.kernel.accessAllowed ? 'block' : 'none';\n",
              "\n",
              "        async function convertToInteractive(key) {\n",
              "          const element = document.querySelector('#df-dd4bdfc0-9295-41d5-bbff-f2818e253d2e');\n",
              "          const dataTable =\n",
              "            await google.colab.kernel.invokeFunction('convertToInteractive',\n",
              "                                                     [key], {});\n",
              "          if (!dataTable) return;\n",
              "\n",
              "          const docLinkHtml = 'Like what you see? Visit the ' +\n",
              "            '<a target=\"_blank\" href=https://colab.research.google.com/notebooks/data_table.ipynb>data table notebook</a>'\n",
              "            + ' to learn more about interactive tables.';\n",
              "          element.innerHTML = '';\n",
              "          dataTable['output_type'] = 'display_data';\n",
              "          await google.colab.output.renderOutput(dataTable, element);\n",
              "          const docLink = document.createElement('div');\n",
              "          docLink.innerHTML = docLinkHtml;\n",
              "          element.appendChild(docLink);\n",
              "        }\n",
              "      </script>\n",
              "    </div>\n",
              "  </div>\n",
              "  "
            ],
            "text/plain": [
              "         date                   title           sub         y\n",
              "0  1919-01-01                  文學改良芻議        文學改良芻議  0.043649\n",
              "1  1917-05-01                歷史的文學觀念論      歷史的文學觀念論  0.729784\n",
              "2  1918-01-01                建設的文學革命論      建設的文學革命論  0.281129\n",
              "3  1919-07-20            多研究些問題，少談些主義  多研究些問題，少談些主義  0.544732\n",
              "4  1924-01-01                  差不多先生傳        差不多先生傳  0.704270\n",
              "5  1929-01-01                   人權與約法         人權與約法  0.699685\n",
              "6  1929-02-01   我們什麼時候才可有憲法—對於建國大綱的疑問   我們什麼時候才可有憲法  0.651569\n",
              "7  1929-03-01  知難，行亦不易—孫文先生的「行易知難」說述評       知難，行亦不易  0.262863\n",
              "8  1929-04-01               新文化運動與國民黨     新文化運動與國民黨  0.116383\n",
              "9  1930-04-10                  我們走那條路        我們走那條路  0.443837\n",
              "10 1959-11-20                   容忍與自由         容忍與自由  0.266778"
            ]
          },
          "metadata": {},
          "execution_count": 7
        }
      ]
    },
    {
      "cell_type": "markdown",
      "source": [
        "# Plotting\n",
        "\n",
        "This time, we create the figure using plotly.graph_objects. We can draw the sticks using `fig.add_shape(type='line')`. It will be put in a loop so we can draw mulitple sticks for every row instead. x0, x1, y0, y1 mean the coordinates of the shape. As it is a line, x0 equals x1, and y0 and y1 refers to the beginning (always 0) and ending point (depends on y column) of the stick. Other options include the color of the sticks."
      ],
      "metadata": {
        "id": "gLqy0D61DF1R"
      }
    },
    {
      "cell_type": "code",
      "source": [
        "import plotly.graph_objects as go\n",
        "\n",
        "fig = go.Figure()\n",
        "\n",
        "# Draw lines\n",
        "for i in range(0, len(df)):\n",
        "               fig.add_shape(type='line', # draw line\n",
        "                              x0 = df[\"date\"][i], y0 = 0, # our line\n",
        "                              x1 = df[\"date\"][i],\n",
        "                              y1 = df[\"y\"][i],\n",
        "                              opacity=0.65, # transparency\n",
        "                              line=dict(color='darkblue', width = 5)) # line color and width"
      ],
      "metadata": {
        "id": "J9V-QFutD5fs"
      },
      "execution_count": 31,
      "outputs": []
    },
    {
      "cell_type": "markdown",
      "source": [
        "Then we will plot the dots using `fig.add_trace(go.Scatter())`. We will use the text to indicate the static labels and customdata indicate the full titles. `mode=\"markers+text\"` means both markers and static labels will be shown. We will also use other customization options and html tags for our hovertemplate."
      ],
      "metadata": {
        "id": "tSLq7LbiEHGC"
      }
    },
    {
      "cell_type": "code",
      "source": [
        "# Draw points\n",
        "fig.add_trace(go.Scatter(x = df[\"date\"], \n",
        "                         y = df[\"y\"],\n",
        "                         text=df[\"sub\"], # static labels\n",
        "                         customdata=df[\"title\"], # hover labels\n",
        "                         mode=\"markers+text\", # display static labels\n",
        "                         hovertemplate = # what to shown in hover labels\n",
        "                          '<extra><br><b>Date</b>: %{x}<br></extra>'+\n",
        "                          '<extra><b>%{customdata}</b></extra>',\n",
        "                         textposition=\"top center\",\n",
        "                         marker_color ='darkblue', # layout for the dots\n",
        "                         marker_size  = 16))"
      ],
      "metadata": {
        "id": "zV_iuY7QD-Gg"
      },
      "execution_count": null,
      "outputs": []
    },
    {
      "cell_type": "markdown",
      "source": [
        "Then, we add a title to our plot, and change other options including template, figure size, and y range. We will also disable y axis and ticks, as well as adjust layout for x axis and ticks."
      ],
      "metadata": {
        "id": "Kjx0RXYrEnDT"
      }
    },
    {
      "cell_type": "code",
      "source": [
        "# Set title\n",
        "fig.update_layout(title_text = \n",
        "                   \"胡適 文章與期刊\",\n",
        "                   title_font_size = 30)\n",
        "\n",
        "fig.layout.template = \"simple_white\" # layout template\n",
        "fig.update_layout(width=1250, height=400) # figure size\n",
        "fig.update_layout(yaxis_visible=False, yaxis_showticklabels=False) # y axis and ticks\n",
        "fig.update_layout(yaxis_range=[0,1.5]) # y range\n",
        "fig.update_xaxes(tickfont_size=24, ticks=\"outside\", ticklen=20, tickwidth=5) # x axis and ticks\n",
        "\n",
        "fig.show() # diaply plot"
      ],
      "metadata": {
        "colab": {
          "base_uri": "https://localhost:8080/",
          "height": 417
        },
        "id": "2m0kr6TgymlN",
        "outputId": "887c2265-1416-4276-ce5e-3ebc7dd605df"
      },
      "execution_count": 14,
      "outputs": [
        {
          "output_type": "display_data",
          "data": {
            "text/html": [
              "<html>\n",
              "<head><meta charset=\"utf-8\" /></head>\n",
              "<body>\n",
              "    <div>\n",
              "            <script src=\"https://cdnjs.cloudflare.com/ajax/libs/mathjax/2.7.5/MathJax.js?config=TeX-AMS-MML_SVG\"></script><script type=\"text/javascript\">if (window.MathJax) {MathJax.Hub.Config({SVG: {font: \"STIX-Web\"}});}</script>\n",
              "                <script type=\"text/javascript\">window.PlotlyConfig = {MathJaxConfig: 'local'};</script>\n",
              "        <script src=\"https://cdn.plot.ly/plotly-latest.min.js\"></script>    \n",
              "            <div id=\"8c21eae4-b089-4c96-9cfb-6d18678911f8\" class=\"plotly-graph-div\" style=\"height:400px; width:1250px;\"></div>\n",
              "            <script type=\"text/javascript\">\n",
              "                \n",
              "                    window.PLOTLYENV=window.PLOTLYENV || {};\n",
              "                    \n",
              "                if (document.getElementById(\"8c21eae4-b089-4c96-9cfb-6d18678911f8\")) {\n",
              "                    Plotly.newPlot(\n",
              "                        '8c21eae4-b089-4c96-9cfb-6d18678911f8',\n",
              "                        [{\"customdata\": [\"\\u6587\\u5b78\\u6539\\u826f\\u82bb\\u8b70\", \"\\u6b77\\u53f2\\u7684\\u6587\\u5b78\\u89c0\\u5ff5\\u8ad6\", \"\\u5efa\\u8a2d\\u7684\\u6587\\u5b78\\u9769\\u547d\\u8ad6\", \"\\u591a\\u7814\\u7a76\\u4e9b\\u554f\\u984c\\uff0c\\u5c11\\u8ac7\\u4e9b\\u4e3b\\u7fa9\", \"\\u5dee\\u4e0d\\u591a\\u5148\\u751f\\u50b3\", \"\\u4eba\\u6b0a\\u8207\\u7d04\\u6cd5\", \"\\u6211\\u5011\\u4ec0\\u9ebc\\u6642\\u5019\\u624d\\u53ef\\u6709\\u61b2\\u6cd5\\u2014\\u5c0d\\u65bc\\u5efa\\u570b\\u5927\\u7db1\\u7684\\u7591\\u554f\", \"\\u77e5\\u96e3\\uff0c\\u884c\\u4ea6\\u4e0d\\u6613\\u2014\\u5b6b\\u6587\\u5148\\u751f\\u7684\\u300c\\u884c\\u6613\\u77e5\\u96e3\\u300d\\u8aaa\\u8ff0\\u8a55\", \"\\u65b0\\u6587\\u5316\\u904b\\u52d5\\u8207\\u570b\\u6c11\\u9ee8\", \"\\u6211\\u5011\\u8d70\\u90a3\\u689d\\u8def\", \"\\u5bb9\\u5fcd\\u8207\\u81ea\\u7531\"], \"hovertemplate\": \"<extra><br><b>Date</b>: %{x}<br></extra><extra><b>%{customdata}</b></extra>\", \"marker\": {\"color\": \"darkblue\", \"size\": 16}, \"mode\": \"markers+text\", \"text\": [\"\\u6587\\u5b78\\u6539\\u826f\\u82bb\\u8b70\", \"\\u6b77\\u53f2\\u7684\\u6587\\u5b78\\u89c0\\u5ff5\\u8ad6\", \"\\u5efa\\u8a2d\\u7684\\u6587\\u5b78\\u9769\\u547d\\u8ad6\", \"\\u591a\\u7814\\u7a76\\u4e9b\\u554f\\u984c\\uff0c\\u5c11\\u8ac7\\u4e9b\\u4e3b\\u7fa9\", \"\\u5dee\\u4e0d\\u591a\\u5148\\u751f\\u50b3\", \"\\u4eba\\u6b0a\\u8207\\u7d04\\u6cd5\", \"\\u6211\\u5011\\u4ec0\\u9ebc\\u6642\\u5019\\u624d\\u53ef\\u6709\\u61b2\\u6cd5\", \"\\u77e5\\u96e3\\uff0c\\u884c\\u4ea6\\u4e0d\\u6613\", \"\\u65b0\\u6587\\u5316\\u904b\\u52d5\\u8207\\u570b\\u6c11\\u9ee8\", \"\\u6211\\u5011\\u8d70\\u90a3\\u689d\\u8def\", \"\\u5bb9\\u5fcd\\u8207\\u81ea\\u7531\"], \"textposition\": \"top center\", \"type\": \"scatter\", \"x\": [\"1919-01-01T00:00:00\", \"1917-05-01T00:00:00\", \"1918-01-01T00:00:00\", \"1919-07-20T00:00:00\", \"1924-01-01T00:00:00\", \"1929-01-01T00:00:00\", \"1929-02-01T00:00:00\", \"1929-03-01T00:00:00\", \"1929-04-01T00:00:00\", \"1930-04-10T00:00:00\", \"1959-11-20T00:00:00\"], \"y\": [0.04364894043788137, 0.7297836848846382, 0.28112932903593824, 0.5447320318876779, 0.7042700346592663, 0.6996848625657862, 0.651569477576969, 0.26286349838935064, 0.1163832091838275, 0.4438369543888724, 0.2667777125085652]}],\n",
              "                        {\"height\": 400, \"shapes\": [{\"line\": {\"color\": \"darkblue\", \"width\": 5}, \"opacity\": 0.65, \"type\": \"line\", \"x0\": \"1919-01-01T00:00:00\", \"x1\": \"1919-01-01T00:00:00\", \"y0\": 0, \"y1\": 0.04364894043788137}, {\"line\": {\"color\": \"darkblue\", \"width\": 5}, \"opacity\": 0.65, \"type\": \"line\", \"x0\": \"1917-05-01T00:00:00\", \"x1\": \"1917-05-01T00:00:00\", \"y0\": 0, \"y1\": 0.7297836848846382}, {\"line\": {\"color\": \"darkblue\", \"width\": 5}, \"opacity\": 0.65, \"type\": \"line\", \"x0\": \"1918-01-01T00:00:00\", \"x1\": \"1918-01-01T00:00:00\", \"y0\": 0, \"y1\": 0.28112932903593824}, {\"line\": {\"color\": \"darkblue\", \"width\": 5}, \"opacity\": 0.65, \"type\": \"line\", \"x0\": \"1919-07-20T00:00:00\", \"x1\": \"1919-07-20T00:00:00\", \"y0\": 0, \"y1\": 0.5447320318876779}, {\"line\": {\"color\": \"darkblue\", \"width\": 5}, \"opacity\": 0.65, \"type\": \"line\", \"x0\": \"1924-01-01T00:00:00\", \"x1\": \"1924-01-01T00:00:00\", \"y0\": 0, \"y1\": 0.7042700346592663}, {\"line\": {\"color\": \"darkblue\", \"width\": 5}, \"opacity\": 0.65, \"type\": \"line\", \"x0\": \"1929-01-01T00:00:00\", \"x1\": \"1929-01-01T00:00:00\", \"y0\": 0, \"y1\": 0.6996848625657862}, {\"line\": {\"color\": \"darkblue\", \"width\": 5}, \"opacity\": 0.65, \"type\": \"line\", \"x0\": \"1929-02-01T00:00:00\", \"x1\": \"1929-02-01T00:00:00\", \"y0\": 0, \"y1\": 0.651569477576969}, {\"line\": {\"color\": \"darkblue\", \"width\": 5}, \"opacity\": 0.65, \"type\": \"line\", \"x0\": \"1929-03-01T00:00:00\", \"x1\": \"1929-03-01T00:00:00\", \"y0\": 0, \"y1\": 0.26286349838935064}, {\"line\": {\"color\": \"darkblue\", \"width\": 5}, \"opacity\": 0.65, \"type\": \"line\", \"x0\": \"1929-04-01T00:00:00\", \"x1\": \"1929-04-01T00:00:00\", \"y0\": 0, \"y1\": 0.1163832091838275}, {\"line\": {\"color\": \"darkblue\", \"width\": 5}, \"opacity\": 0.65, \"type\": \"line\", \"x0\": \"1930-04-10T00:00:00\", \"x1\": \"1930-04-10T00:00:00\", \"y0\": 0, \"y1\": 0.4438369543888724}, {\"line\": {\"color\": \"darkblue\", \"width\": 5}, \"opacity\": 0.65, \"type\": \"line\", \"x0\": \"1959-11-20T00:00:00\", \"x1\": \"1959-11-20T00:00:00\", \"y0\": 0, \"y1\": 0.2667777125085652}], \"template\": {\"data\": {\"bar\": [{\"error_x\": {\"color\": \"rgb(36,36,36)\"}, \"error_y\": {\"color\": \"rgb(36,36,36)\"}, \"marker\": {\"line\": {\"color\": \"white\", \"width\": 0.5}}, \"type\": \"bar\"}], \"barpolar\": [{\"marker\": {\"line\": {\"color\": \"white\", \"width\": 0.5}}, \"type\": \"barpolar\"}], \"carpet\": [{\"aaxis\": {\"endlinecolor\": \"rgb(36,36,36)\", \"gridcolor\": \"white\", \"linecolor\": \"white\", \"minorgridcolor\": \"white\", \"startlinecolor\": \"rgb(36,36,36)\"}, \"baxis\": {\"endlinecolor\": \"rgb(36,36,36)\", \"gridcolor\": \"white\", \"linecolor\": \"white\", \"minorgridcolor\": \"white\", \"startlinecolor\": \"rgb(36,36,36)\"}, \"type\": \"carpet\"}], \"choropleth\": [{\"colorbar\": {\"outlinewidth\": 10, \"tickcolor\": \"rgb(36,36,36)\", \"ticklen\": 8, \"ticks\": \"outside\", \"tickwidth\": 2}, \"type\": \"choropleth\"}], \"contour\": [{\"colorbar\": {\"outlinewidth\": 10, \"tickcolor\": \"rgb(36,36,36)\", \"ticklen\": 8, \"ticks\": \"outside\", \"tickwidth\": 2}, \"colorscale\": [[0.0, \"#440154\"], [0.1111111111111111, \"#482878\"], [0.2222222222222222, \"#3e4989\"], [0.3333333333333333, \"#31688e\"], [0.4444444444444444, \"#26828e\"], [0.5555555555555556, \"#1f9e89\"], [0.6666666666666666, \"#35b779\"], [0.7777777777777778, \"#6ece58\"], [0.8888888888888888, \"#b5de2b\"], [1.0, \"#fde725\"]], \"type\": \"contour\"}], \"contourcarpet\": [{\"colorbar\": {\"outlinewidth\": 10, \"tickcolor\": \"rgb(36,36,36)\", \"ticklen\": 8, \"ticks\": \"outside\", \"tickwidth\": 2}, \"type\": \"contourcarpet\"}], \"heatmap\": [{\"colorbar\": {\"outlinewidth\": 10, \"tickcolor\": \"rgb(36,36,36)\", \"ticklen\": 8, \"ticks\": \"outside\", \"tickwidth\": 2}, \"colorscale\": [[0.0, \"#440154\"], [0.1111111111111111, \"#482878\"], [0.2222222222222222, \"#3e4989\"], [0.3333333333333333, \"#31688e\"], [0.4444444444444444, \"#26828e\"], [0.5555555555555556, \"#1f9e89\"], [0.6666666666666666, \"#35b779\"], [0.7777777777777778, \"#6ece58\"], [0.8888888888888888, \"#b5de2b\"], [1.0, \"#fde725\"]], \"type\": \"heatmap\"}], \"heatmapgl\": [{\"colorbar\": {\"outlinewidth\": 10, \"tickcolor\": \"rgb(36,36,36)\", \"ticklen\": 8, \"ticks\": \"outside\", \"tickwidth\": 2}, \"colorscale\": [[0.0, \"#440154\"], [0.1111111111111111, \"#482878\"], [0.2222222222222222, \"#3e4989\"], [0.3333333333333333, \"#31688e\"], [0.4444444444444444, \"#26828e\"], [0.5555555555555556, \"#1f9e89\"], [0.6666666666666666, \"#35b779\"], [0.7777777777777778, \"#6ece58\"], [0.8888888888888888, \"#b5de2b\"], [1.0, \"#fde725\"]], \"type\": \"heatmapgl\"}], \"histogram\": [{\"marker\": {\"line\": {\"color\": \"white\", \"width\": 0.6}}, \"type\": \"histogram\"}], \"histogram2d\": [{\"colorbar\": {\"outlinewidth\": 10, \"tickcolor\": \"rgb(36,36,36)\", \"ticklen\": 8, \"ticks\": \"outside\", \"tickwidth\": 2}, \"colorscale\": [[0.0, \"#440154\"], [0.1111111111111111, \"#482878\"], [0.2222222222222222, \"#3e4989\"], [0.3333333333333333, \"#31688e\"], [0.4444444444444444, \"#26828e\"], [0.5555555555555556, \"#1f9e89\"], [0.6666666666666666, \"#35b779\"], [0.7777777777777778, \"#6ece58\"], [0.8888888888888888, \"#b5de2b\"], [1.0, \"#fde725\"]], \"type\": \"histogram2d\"}], \"histogram2dcontour\": [{\"colorbar\": {\"outlinewidth\": 10, \"tickcolor\": \"rgb(36,36,36)\", \"ticklen\": 8, \"ticks\": \"outside\", \"tickwidth\": 2}, \"colorscale\": [[0.0, \"#440154\"], [0.1111111111111111, \"#482878\"], [0.2222222222222222, \"#3e4989\"], [0.3333333333333333, \"#31688e\"], [0.4444444444444444, \"#26828e\"], [0.5555555555555556, \"#1f9e89\"], [0.6666666666666666, \"#35b779\"], [0.7777777777777778, \"#6ece58\"], [0.8888888888888888, \"#b5de2b\"], [1.0, \"#fde725\"]], \"type\": \"histogram2dcontour\"}], \"mesh3d\": [{\"colorbar\": {\"outlinewidth\": 10, \"tickcolor\": \"rgb(36,36,36)\", \"ticklen\": 8, \"ticks\": \"outside\", \"tickwidth\": 2}, \"type\": \"mesh3d\"}], \"parcoords\": [{\"line\": {\"colorbar\": {\"outlinewidth\": 10, \"tickcolor\": \"rgb(36,36,36)\", \"ticklen\": 8, \"ticks\": \"outside\", \"tickwidth\": 2}}, \"type\": \"parcoords\"}], \"pie\": [{\"automargin\": true, \"type\": \"pie\"}], \"scatter\": [{\"marker\": {\"colorbar\": {\"outlinewidth\": 10, \"tickcolor\": \"rgb(36,36,36)\", \"ticklen\": 8, \"ticks\": \"outside\", \"tickwidth\": 2}}, \"type\": \"scatter\"}], \"scatter3d\": [{\"line\": {\"colorbar\": {\"outlinewidth\": 10, \"tickcolor\": \"rgb(36,36,36)\", \"ticklen\": 8, \"ticks\": \"outside\", \"tickwidth\": 2}}, \"marker\": {\"colorbar\": {\"outlinewidth\": 10, \"tickcolor\": \"rgb(36,36,36)\", \"ticklen\": 8, \"ticks\": \"outside\", \"tickwidth\": 2}}, \"type\": \"scatter3d\"}], \"scattercarpet\": [{\"marker\": {\"colorbar\": {\"outlinewidth\": 10, \"tickcolor\": \"rgb(36,36,36)\", \"ticklen\": 8, \"ticks\": \"outside\", \"tickwidth\": 2}}, \"type\": \"scattercarpet\"}], \"scattergeo\": [{\"marker\": {\"colorbar\": {\"outlinewidth\": 10, \"tickcolor\": \"rgb(36,36,36)\", \"ticklen\": 8, \"ticks\": \"outside\", \"tickwidth\": 2}}, \"type\": \"scattergeo\"}], \"scattergl\": [{\"marker\": {\"colorbar\": {\"outlinewidth\": 10, \"tickcolor\": \"rgb(36,36,36)\", \"ticklen\": 8, \"ticks\": \"outside\", \"tickwidth\": 2}}, \"type\": \"scattergl\"}], \"scattermapbox\": [{\"marker\": {\"colorbar\": {\"outlinewidth\": 10, \"tickcolor\": \"rgb(36,36,36)\", \"ticklen\": 8, \"ticks\": \"outside\", \"tickwidth\": 2}}, \"type\": \"scattermapbox\"}], \"scatterpolar\": [{\"marker\": {\"colorbar\": {\"outlinewidth\": 10, \"tickcolor\": \"rgb(36,36,36)\", \"ticklen\": 8, \"ticks\": \"outside\", \"tickwidth\": 2}}, \"type\": \"scatterpolar\"}], \"scatterpolargl\": [{\"marker\": {\"colorbar\": {\"outlinewidth\": 10, \"tickcolor\": \"rgb(36,36,36)\", \"ticklen\": 8, \"ticks\": \"outside\", \"tickwidth\": 2}}, \"type\": \"scatterpolargl\"}], \"scatterternary\": [{\"marker\": {\"colorbar\": {\"outlinewidth\": 10, \"tickcolor\": \"rgb(36,36,36)\", \"ticklen\": 8, \"ticks\": \"outside\", \"tickwidth\": 2}}, \"type\": \"scatterternary\"}], \"surface\": [{\"colorbar\": {\"outlinewidth\": 10, \"tickcolor\": \"rgb(36,36,36)\", \"ticklen\": 8, \"ticks\": \"outside\", \"tickwidth\": 2}, \"colorscale\": [[0.0, \"#440154\"], [0.1111111111111111, \"#482878\"], [0.2222222222222222, \"#3e4989\"], [0.3333333333333333, \"#31688e\"], [0.4444444444444444, \"#26828e\"], [0.5555555555555556, \"#1f9e89\"], [0.6666666666666666, \"#35b779\"], [0.7777777777777778, \"#6ece58\"], [0.8888888888888888, \"#b5de2b\"], [1.0, \"#fde725\"]], \"type\": \"surface\"}], \"table\": [{\"cells\": {\"fill\": {\"color\": \"rgb(237,237,237)\"}, \"line\": {\"color\": \"white\"}}, \"header\": {\"fill\": {\"color\": \"rgb(217,217,217)\"}, \"line\": {\"color\": \"white\"}}, \"type\": \"table\"}]}, \"layout\": {\"annotationdefaults\": {\"arrowhead\": 0, \"arrowwidth\": 1}, \"coloraxis\": {\"colorbar\": {\"outlinewidth\": 10, \"tickcolor\": \"rgb(36,36,36)\", \"ticklen\": 8, \"ticks\": \"outside\", \"tickwidth\": 2}}, \"colorscale\": {\"diverging\": [[0.0, \"rgb(103,0,31)\"], [0.1, \"rgb(178,24,43)\"], [0.2, \"rgb(214,96,77)\"], [0.3, \"rgb(244,165,130)\"], [0.4, \"rgb(253,219,199)\"], [0.5, \"rgb(247,247,247)\"], [0.6, \"rgb(209,229,240)\"], [0.7, \"rgb(146,197,222)\"], [0.8, \"rgb(67,147,195)\"], [0.9, \"rgb(33,102,172)\"], [1.0, \"rgb(5,48,97)\"]], \"sequential\": [[0.0, \"#440154\"], [0.1111111111111111, \"#482878\"], [0.2222222222222222, \"#3e4989\"], [0.3333333333333333, \"#31688e\"], [0.4444444444444444, \"#26828e\"], [0.5555555555555556, \"#1f9e89\"], [0.6666666666666666, \"#35b779\"], [0.7777777777777778, \"#6ece58\"], [0.8888888888888888, \"#b5de2b\"], [1.0, \"#fde725\"]], \"sequentialminus\": [[0.0, \"#440154\"], [0.1111111111111111, \"#482878\"], [0.2222222222222222, \"#3e4989\"], [0.3333333333333333, \"#31688e\"], [0.4444444444444444, \"#26828e\"], [0.5555555555555556, \"#1f9e89\"], [0.6666666666666666, \"#35b779\"], [0.7777777777777778, \"#6ece58\"], [0.8888888888888888, \"#b5de2b\"], [1.0, \"#fde725\"]]}, \"colorway\": [\"#1F77B4\", \"#FF7F0E\", \"#2CA02C\", \"#D62728\", \"#9467BD\", \"#8C564B\", \"#E377C2\", \"#7F7F7F\", \"#BCBD22\", \"#17BECF\"], \"font\": {\"color\": \"rgb(36,36,36)\"}, \"geo\": {\"bgcolor\": \"white\", \"lakecolor\": \"white\", \"landcolor\": \"white\", \"showlakes\": true, \"showland\": true, \"subunitcolor\": \"white\"}, \"hoverlabel\": {\"align\": \"left\"}, \"hovermode\": \"closest\", \"mapbox\": {\"style\": \"light\"}, \"paper_bgcolor\": \"white\", \"plot_bgcolor\": \"white\", \"polar\": {\"angularaxis\": {\"gridcolor\": \"rgb(232,232,232)\", \"linecolor\": \"rgb(36,36,36)\", \"showgrid\": false, \"showline\": true, \"ticks\": \"outside\"}, \"bgcolor\": \"white\", \"radialaxis\": {\"gridcolor\": \"rgb(232,232,232)\", \"linecolor\": \"rgb(36,36,36)\", \"showgrid\": false, \"showline\": true, \"ticks\": \"outside\"}}, \"scene\": {\"xaxis\": {\"backgroundcolor\": \"white\", \"gridcolor\": \"rgb(232,232,232)\", \"gridwidth\": 2, \"linecolor\": \"rgb(36,36,36)\", \"showbackground\": true, \"showgrid\": false, \"showline\": true, \"ticks\": \"outside\", \"zeroline\": false, \"zerolinecolor\": \"rgb(36,36,36)\"}, \"yaxis\": {\"backgroundcolor\": \"white\", \"gridcolor\": \"rgb(232,232,232)\", \"gridwidth\": 2, \"linecolor\": \"rgb(36,36,36)\", \"showbackground\": true, \"showgrid\": false, \"showline\": true, \"ticks\": \"outside\", \"zeroline\": false, \"zerolinecolor\": \"rgb(36,36,36)\"}, \"zaxis\": {\"backgroundcolor\": \"white\", \"gridcolor\": \"rgb(232,232,232)\", \"gridwidth\": 2, \"linecolor\": \"rgb(36,36,36)\", \"showbackground\": true, \"showgrid\": false, \"showline\": true, \"ticks\": \"outside\", \"zeroline\": false, \"zerolinecolor\": \"rgb(36,36,36)\"}}, \"shapedefaults\": {\"fillcolor\": \"black\", \"line\": {\"width\": 0}, \"opacity\": 0.3}, \"ternary\": {\"aaxis\": {\"gridcolor\": \"rgb(232,232,232)\", \"linecolor\": \"rgb(36,36,36)\", \"showgrid\": false, \"showline\": true, \"ticks\": \"outside\"}, \"baxis\": {\"gridcolor\": \"rgb(232,232,232)\", \"linecolor\": \"rgb(36,36,36)\", \"showgrid\": false, \"showline\": true, \"ticks\": \"outside\"}, \"bgcolor\": \"white\", \"caxis\": {\"gridcolor\": \"rgb(232,232,232)\", \"linecolor\": \"rgb(36,36,36)\", \"showgrid\": false, \"showline\": true, \"ticks\": \"outside\"}}, \"title\": {\"x\": 0.05}, \"xaxis\": {\"automargin\": true, \"gridcolor\": \"rgb(232,232,232)\", \"linecolor\": \"rgb(36,36,36)\", \"showgrid\": false, \"showline\": true, \"ticks\": \"outside\", \"title\": {\"standoff\": 15}, \"zeroline\": false, \"zerolinecolor\": \"rgb(36,36,36)\"}, \"yaxis\": {\"automargin\": true, \"gridcolor\": \"rgb(232,232,232)\", \"linecolor\": \"rgb(36,36,36)\", \"showgrid\": false, \"showline\": true, \"ticks\": \"outside\", \"title\": {\"standoff\": 15}, \"zeroline\": false, \"zerolinecolor\": \"rgb(36,36,36)\"}}}, \"title\": {\"font\": {\"size\": 30}, \"text\": \"\\u80e1\\u9069 \\u6587\\u7ae0\\u8207\\u671f\\u520a\"}, \"width\": 1250, \"xaxis\": {\"tickfont\": {\"size\": 24}, \"ticklen\": 20, \"ticks\": \"outside\", \"tickwidth\": 5}, \"yaxis\": {\"range\": [0, 1.5], \"showticklabels\": false, \"visible\": false}},\n",
              "                        {\"responsive\": true}\n",
              "                    ).then(function(){\n",
              "                            \n",
              "var gd = document.getElementById('8c21eae4-b089-4c96-9cfb-6d18678911f8');\n",
              "var x = new MutationObserver(function (mutations, observer) {{\n",
              "        var display = window.getComputedStyle(gd).display;\n",
              "        if (!display || display === 'none') {{\n",
              "            console.log([gd, 'removed!']);\n",
              "            Plotly.purge(gd);\n",
              "            observer.disconnect();\n",
              "        }}\n",
              "}});\n",
              "\n",
              "// Listen for the removal of the full notebook cells\n",
              "var notebookContainer = gd.closest('#notebook-container');\n",
              "if (notebookContainer) {{\n",
              "    x.observe(notebookContainer, {childList: true});\n",
              "}}\n",
              "\n",
              "// Listen for the clearing of the current output cell\n",
              "var outputEl = gd.closest('.output');\n",
              "if (outputEl) {{\n",
              "    x.observe(outputEl, {childList: true});\n",
              "}}\n",
              "\n",
              "                        })\n",
              "                };\n",
              "                \n",
              "            </script>\n",
              "        </div>\n",
              "</body>\n",
              "</html>"
            ]
          },
          "metadata": {}
        }
      ]
    },
    {
      "cell_type": "markdown",
      "source": [
        "## Previous Lesson: [Simple Bubble Chart using plotly.express](https://pinkychow1010.github.io/digital-chinese-history-blog/level-3/chapter-3/matplotlib/data-visualization/2021/12/30/Simple_Bubble_Chart.html)\n",
        "\n",
        "## Next Lesson: Coming soon...\n",
        "\n",
        "<br>\n",
        "<br>\n",
        "\n",
        "***\n",
        "\n",
        "## **Additional information**\n",
        "\n",
        "This notebook is provided for educational purpose and feel free to report any issue on GitHub.\n",
        "\n",
        "<br>\n",
        "\n",
        "**Author:** [Ka Hei, Chow](https://www.linkedin.com/in/ka-hei-chow-231345188/)\n",
        "\n",
        "**License:** The code in this notebook is licensed under the [Creative Commons by Attribution 4.0 license](https://creativecommons.org/licenses/by/4.0/).\n",
        "\n",
        "**Last modified:** December 2021\n",
        "\n",
        "<br>\n",
        "\n",
        "***\n",
        "\n",
        "<br>\n",
        "\n",
        "## **References:** \n",
        "[Plotly](https://plotly.com/python/)"
      ],
      "metadata": {
        "id": "0qsXqNzUjogL"
      }
    }
  ]
}
