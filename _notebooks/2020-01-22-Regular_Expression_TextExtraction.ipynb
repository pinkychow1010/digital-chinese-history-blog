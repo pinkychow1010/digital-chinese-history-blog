{
 "cells": [
  {
   "cell_type": "markdown",
   "metadata": {},
   "source": [
    "# Regular Expression\n",
    "> Python RegEx\n",
    "\n",
    "- toc: true \n",
    "- badges: true\n",
    "- comments: true\n",
    "- categories: [jupyter]\n",
    "- image: images/chart-preview.png"
   ]
  },
  {
   "cell_type": "markdown",
   "metadata": {
    "id": "ke1WIhDaXseZ"
   },
   "source": [
    "<br>\n",
    "\n",
    "This notebook aims to introduce users how to use regular expression to extract useful information from text in Python which would be from documents or websites.\n",
    "\n",
    "*Presumption:* https://www.youtube.com/watch?v=K8L6KVGG-7o\n",
    "\n",
    "<br>\n",
    "\n",
    "*Before starting with this tutorial, please watch this video beforehand so that you would already understand:*\n",
    "\n",
    "**1) What is group method in regular expression?**\n",
    "\n",
    "**2) What is a raw string?**\n",
    "\n",
    "**3) How to create a character set?**\n",
    "\n",
    "**4) What is the function of quantifiers?**\n",
    "\n",
    "<br>\n",
    "\n",
    "***"
   ]
  },
  {
   "cell_type": "markdown",
   "metadata": {
    "id": "B7bAQeEIVODx"
   },
   "source": [
    "## **Review**\n",
    "\n",
    "***Here is the summary tables from the video:***\n",
    "\n",
    "| Syntax    |  Meanings  |\n",
    "| --- | --- |\n",
    "|.    |  Any Character Except New Line  |\n",
    "|\\d   |  Digit (0-9)  |\n",
    "|\\D    |  - Not a Digit (0-9) |\n",
    "|\\w    |  - Word Character (a-z, A-Z, 0-9, _) |\n",
    "|\\W    |  - Not a Word Character |\n",
    "|\\s    |  - Whitespace (space, tab, newline) |\n",
    "|\\S    |  - Not Whitespace (space, tab, newline) |"
   ]
  },
  {
   "cell_type": "markdown",
   "metadata": {
    "id": "zwLAvoGVUEA7"
   },
   "source": [
    "| Syntax    |  Meanings  |\n",
    "| --- | --- |\n",
    "|\\b   |   Word Boundary|\n",
    "|\\B   | Not a Word Boundary|\n",
    "|^    | Beginning of a String|\n",
    "|$    | End of a String|\n",
    "|[]   | Matches Characters in brackets|\n",
    "|[^ ]  | Matches Characters NOT in brackets|\n",
    "| Vertical bar | Either Or|\n",
    "|( )   | Group|\n",
    "\n",
    "<br>\n",
    "\n",
    "|Quantifiers|  Meanings  |\n",
    "| --- | --- |\n",
    "|*    | 0 or More|\n",
    "|+     | 1 or More|\n",
    "|?     | 0 or One|\n",
    "|{3}   | Exact Number|\n",
    "|{3,4} |Range of Numbers (Minimum, Maximum)|\n"
   ]
  },
  {
   "cell_type": "markdown",
   "metadata": {
    "id": "d73JuzLXY5xK"
   },
   "source": [
    "## **Information Retrieval**\n",
    "\n",
    "* ## **re**\n",
    "\n",
    "Before we analysis any text, the relevant information need to be first extracted to exclude all irrelavant information. And sometimes it is not very straight-forward and the text might be mixed with other information, particularly when the text are mined from online sources.\n",
    "\n",
    "Below we can look at an exmaple of an entry extracted from [Historical GIS for Japan](http://maps.cga.harvard.edu/chgis/japan/). We can see the information are in multiple rows with each row giving different information. If we only aim for one piece of information, it might be easy to copy in one entry but the task gets challenging once we have thousands of them. This is why text mining can be helpful to save us time and effort.\n",
    "\n",
    "<br>\n",
    "\n",
    "First of all, we have to **import the library**."
   ]
  },
  {
   "cell_type": "code",
   "execution_count": 3,
   "metadata": {
    "id": "kMnfu1qEavhf"
   },
   "outputs": [],
   "source": [
    "import re"
   ]
  },
  {
   "cell_type": "code",
   "execution_count": 2,
   "metadata": {
    "id": "EI2qGxK9M5HN"
   },
   "outputs": [],
   "source": [
    "lord_entry = \"\"\"\n",
    "name:\tabemasaharu\\n\n",
    "vernacular name definition\tkanji:\t阿部正春\\n\n",
    "alternate vernacular name definition\thiragana:\tあべまさはる\\n\n",
    "feature type definition\tfeature type:\tfeudal lord 大名 daimyo\\n\n",
    "date range definition\tdate range:\t1664 to 1664\\n\n",
    "time slice definition\tvalid as:\ttime slice 年份\\n\n",
    "present location definition\tpresent location:\t岩槻市 iwatsukishi\\n\n",
    "point id definition\tpoint id:\tjp_dmy_40\\n\n",
    "data source definition\tdata source:\tJP_CHGIS\\n\n",
    "feature type definition\tcoordinate type:\tcentroid\\n\n",
    "feature type definition\tlatitude:\t35.93\\n\n",
    "feature type definition\tlongitude:\t139.70\\n\n",
    "admin hierarchy definition\tadmin hierarchy: 武蔵国 musashi no kuni\n",
    "\"\"\""
   ]
  },
  {
   "cell_type": "markdown",
   "metadata": {
    "id": "sFOKEWOqeL8J"
   },
   "source": [
    "## **Name**\n",
    "\n",
    "Here we can try to get the **kanji name** of the entry. \n",
    "\n",
    "From what we have learnt, we can use the group option to get the first group kanji: at the word boundary (\\b) followed with space (\\s) and everything (regardless of length) behind it. Using pattern1, we have the name we need in the second group.\n",
    "\n",
    "We will use **re.compile()** to define our pattern, then use **findall()** to look for all matches."
   ]
  },
  {
   "cell_type": "code",
   "execution_count": null,
   "metadata": {
    "colab": {
     "base_uri": "https://localhost:8080/"
    },
    "id": "6DymQc94aisw",
    "outputId": "08715576-7bc0-4d21-eba2-e49ab145370e"
   },
   "outputs": [
    {
     "data": {
      "text/plain": [
       "[('kanji:\\t', '阿部正春')]"
      ]
     },
     "execution_count": 28,
     "metadata": {},
     "output_type": "execute_result"
    }
   ],
   "source": [
    "# define our pattern\n",
    "\n",
    "pattern1 = re.compile(r'(\\bkanji:\\s)(.*)')\n",
    "\n",
    "match1 = pattern1.findall(lord_entry) # get all matches\n",
    "match1 # print them out"
   ]
  },
  {
   "cell_type": "markdown",
   "metadata": {
    "id": "K5lhjujPewP0"
   },
   "source": [
    "We can then access the first element of list [0] (there is only one element) and second element of the [tuple](https://www.w3schools.com/python/python_tuples.asp) [1]."
   ]
  },
  {
   "cell_type": "code",
   "execution_count": null,
   "metadata": {
    "colab": {
     "base_uri": "https://localhost:8080/",
     "height": 35
    },
    "id": "Onqi6KMZer8u",
    "outputId": "c058d441-70eb-4a28-c05b-5b13f9b4e09b"
   },
   "outputs": [
    {
     "data": {
      "application/vnd.google.colaboratory.intrinsic+json": {
       "type": "string"
      },
      "text/plain": [
       "'阿部正春'"
      ]
     },
     "execution_count": 30,
     "metadata": {},
     "output_type": "execute_result"
    }
   ],
   "source": [
    "match1[0][1]"
   ]
  },
  {
   "cell_type": "markdown",
   "metadata": {
    "id": "yObz_VxQe_8m"
   },
   "source": [
    "## **Alternative: Lookaround**\n",
    "\n",
    "However, we can also use **lookaround method** from **re**, which mean we use \"kanji:\" to identify what we search for (behind the keyword) but we do not select \"kanji: \" itself because it is not important for us. \n",
    "\n",
    "<br>\n",
    "\n",
    "Be careful, **space** might not be obvious, it is also count as the element in the string by Python so we always need to address them too.\n",
    "\n",
    "<br>\n",
    "\n",
    "***\n",
    "\n",
    "Given the string **\"foobarbarfoo\"**:\n",
    "\n",
    "<br>\n",
    "\n",
    "**bar(?=bar)**     finds the 1st bar (\"bar\" which has \"bar\" after it)\n",
    "\n",
    "**bar(?!bar)**     finds the 2nd bar (\"bar\" which does not have \"bar\" after it)\n",
    "\n",
    "**(?<=foo)bar**    finds the 1st bar (\"bar\" which has \"foo\" before it)\n",
    "\n",
    "**(?<!foo)bar**    finds the 2nd bar (\"bar\" which does not have \"foo\" before it)\n",
    "\n",
    "<br>\n",
    "\n",
    "They can also be combined:\n",
    "\n",
    "**(?<=foo)bar(?=bar)**    finds the 1st bar (\"bar\" with \"foo\" before it and \"bar\" after it)\n",
    "\n",
    "***\n"
   ]
  },
  {
   "cell_type": "markdown",
   "metadata": {
    "id": "ttXmgjmwhW5h"
   },
   "source": [
    "Here we use **(?<=text1)text2** to select text 2 from identifying text 1, in which text 1 is before text 2 in the text."
   ]
  },
  {
   "cell_type": "code",
   "execution_count": null,
   "metadata": {
    "colab": {
     "base_uri": "https://localhost:8080/"
    },
    "id": "Oa3d_fAjeId0",
    "outputId": "664bfd63-68e9-47bc-a7d6-80e4110d9f29"
   },
   "outputs": [
    {
     "data": {
      "text/plain": [
       "['阿部正春']"
      ]
     },
     "execution_count": 29,
     "metadata": {},
     "output_type": "execute_result"
    }
   ],
   "source": [
    "pattern2 = re.compile(r'(?<=kanji:\\s).*')\n",
    "\n",
    "match2 = pattern2.findall(lord_entry)\n",
    "match2"
   ]
  },
  {
   "cell_type": "markdown",
   "metadata": {
    "id": "kb_3yoxCj3Jq"
   },
   "source": [
    "## **Coordinates**\n",
    "\n",
    "Now, we can try to get the latitude and longitude from the lord (For example, when we need them for making a map in **GIS**). Since we have already learnt the principle, the code we need is indeed very similar."
   ]
  },
  {
   "cell_type": "markdown",
   "metadata": {
    "id": "tpGgTnQck4yP"
   },
   "source": [
    "* #### **Latitude**"
   ]
  },
  {
   "cell_type": "code",
   "execution_count": 4,
   "metadata": {
    "colab": {
     "base_uri": "https://localhost:8080/"
    },
    "id": "N01u7rLpj2uv",
    "outputId": "898ec21c-b789-49a5-a3e7-b04f5232d163"
   },
   "outputs": [
    {
     "data": {
      "text/plain": [
       "['35.93']"
      ]
     },
     "execution_count": 4,
     "metadata": {},
     "output_type": "execute_result"
    }
   ],
   "source": [
    "# define our pattern\n",
    "\n",
    "lat_pattern = re.compile(r'(?<=latitude:\\s).*')\n",
    "\n",
    "match = lat_pattern.findall(lord_entry)\n",
    "match"
   ]
  },
  {
   "cell_type": "markdown",
   "metadata": {
    "id": "VXa__09ruCx7"
   },
   "source": [
    "We need to be careful here. Normally when we think of coordinates, we expect a floating number. But here what we get (match) is a list. It will cause errors if we later directly use the list for any geospatial operations. So always check the type."
   ]
  },
  {
   "cell_type": "code",
   "execution_count": 6,
   "metadata": {
    "colab": {
     "base_uri": "https://localhost:8080/"
    },
    "id": "HdGSjnVdtmtG",
    "outputId": "57be9c0b-eb26-4376-b917-f3f0c62dea3e"
   },
   "outputs": [
    {
     "data": {
      "text/plain": [
       "list"
      ]
     },
     "execution_count": 6,
     "metadata": {},
     "output_type": "execute_result"
    }
   ],
   "source": [
    "type(match) # it is a list"
   ]
  },
  {
   "cell_type": "code",
   "execution_count": 7,
   "metadata": {
    "colab": {
     "base_uri": "https://localhost:8080/"
    },
    "id": "ArFbdxkott5h",
    "outputId": "36af7d1f-f582-43a6-e2c5-ca1e7ddeaf72"
   },
   "outputs": [
    {
     "data": {
      "text/plain": [
       "str"
      ]
     },
     "execution_count": 7,
     "metadata": {},
     "output_type": "execute_result"
    }
   ],
   "source": [
    "type(match[0]) # we can get the first item of list to remove [], now it is a string"
   ]
  },
  {
   "cell_type": "markdown",
   "metadata": {
    "id": "yqGiS4tGuejr"
   },
   "source": [
    "We need to further convert the string into float using **float()**."
   ]
  },
  {
   "cell_type": "code",
   "execution_count": 8,
   "metadata": {
    "colab": {
     "base_uri": "https://localhost:8080/"
    },
    "id": "2TaDqsdvtwx1",
    "outputId": "84e9af40-c009-4c4c-c327-881cf768f028"
   },
   "outputs": [
    {
     "data": {
      "text/plain": [
       "float"
      ]
     },
     "execution_count": 8,
     "metadata": {},
     "output_type": "execute_result"
    }
   ],
   "source": [
    "type(float(match[0]))"
   ]
  },
  {
   "cell_type": "code",
   "execution_count": 9,
   "metadata": {
    "colab": {
     "base_uri": "https://localhost:8080/"
    },
    "id": "kgHcU1Ost0wf",
    "outputId": "9e8a2df9-5688-4644-8bba-01384939a2f1"
   },
   "outputs": [
    {
     "data": {
      "text/plain": [
       "35.93"
      ]
     },
     "execution_count": 9,
     "metadata": {},
     "output_type": "execute_result"
    }
   ],
   "source": [
    "lat = float(match[0]) # save the final result to lat\n",
    "lat"
   ]
  },
  {
   "cell_type": "markdown",
   "metadata": {
    "id": "WMQkOIbPupi8"
   },
   "source": [
    "Now we get what we need! Let's do the same for longitude."
   ]
  },
  {
   "cell_type": "markdown",
   "metadata": {
    "id": "iNB-3_K7k9e-"
   },
   "source": [
    "* #### **Longitude**"
   ]
  },
  {
   "cell_type": "code",
   "execution_count": 10,
   "metadata": {
    "colab": {
     "base_uri": "https://localhost:8080/"
    },
    "id": "IX-iQjeok0_1",
    "outputId": "880a0b20-8b73-4616-cd22-afa6ed96f152"
   },
   "outputs": [
    {
     "data": {
      "text/plain": [
       "['139.70']"
      ]
     },
     "execution_count": 10,
     "metadata": {},
     "output_type": "execute_result"
    }
   ],
   "source": [
    "# define our pattern\n",
    "\n",
    "lon_pattern = re.compile(r'(?<=longitude:\\s).*')\n",
    "\n",
    "match = lon_pattern.findall(lord_entry)\n",
    "match # list"
   ]
  },
  {
   "cell_type": "code",
   "execution_count": 11,
   "metadata": {
    "colab": {
     "base_uri": "https://localhost:8080/"
    },
    "id": "hh0BcdMtt-Nr",
    "outputId": "7cdabbf2-b960-48a9-c36a-07bc7f04d05e"
   },
   "outputs": [
    {
     "data": {
      "text/plain": [
       "139.7"
      ]
     },
     "execution_count": 11,
     "metadata": {},
     "output_type": "execute_result"
    }
   ],
   "source": [
    "lon = float(match[0])\n",
    "lon # float"
   ]
  },
  {
   "cell_type": "markdown",
   "metadata": {
    "id": "kUFng7v0ZVO6"
   },
   "source": [
    "## **Chinese Characters**\n",
    "\n",
    "Here is another small text from 韓愈. Now for Chinese characters, we can use unicode characters to select a specific type of characters.\n",
    "\n",
    "<br>\n",
    "\n",
    "**The ranges of Unicode characters which are routinely used for Chinese and Japanese text are:**\n",
    "\n",
    "* U+3040 - U+30FF: hiragana and katakana **(Japanese only)**\n",
    "\n",
    "* U+3400 - U+4DBF: CJK unified ideographs extension A **(Chinese, Japanese, and Korean)**\n",
    "\n",
    "* U+4E00 - U+9FFF: CJK unified ideographs **(Chinese, Japanese, and Korean)**\n",
    "\n",
    "* U+F900 - U+FAFF: CJK compatibility ideographs **(Chinese, Japanese, and Korean)**\n",
    "\n",
    "* U+FF66 - U+FF9F: half-width katakana **(Japanese only)**"
   ]
  },
  {
   "cell_type": "code",
   "execution_count": null,
   "metadata": {
    "id": "V9t33ikUXih5"
   },
   "outputs": [],
   "source": [
    "text = \"或問諫議大夫陽城於愈：可以為有道之士乎哉？學廣而聞多，不求聞於人也，行古人之道，居於晉之鄙，晉之鄙人薰其德而善良者幾千人。大臣聞而薦之，天子以為諫議大夫。人皆以為華，陽子不色喜。居於位，五年矣，視其德如在野，彼豈以富貴移易其心哉！\""
   ]
  },
  {
   "cell_type": "code",
   "execution_count": null,
   "metadata": {
    "colab": {
     "base_uri": "https://localhost:8080/"
    },
    "id": "trLP1xR_JigM",
    "outputId": "6653d883-a01f-46ec-a92a-ec76ce286edd"
   },
   "outputs": [
    {
     "data": {
      "text/plain": [
       "['或問諫議大夫陽城於愈',\n",
       " '可以為有道之士乎哉',\n",
       " '學廣而聞多',\n",
       " '不求聞於人也',\n",
       " '行古人之道',\n",
       " '居於晉之鄙',\n",
       " '晉之鄙人薰其德而善良者幾千人',\n",
       " '大臣聞而薦之',\n",
       " '天子以為諫議大夫',\n",
       " '人皆以為華',\n",
       " '陽子不色喜',\n",
       " '居於位',\n",
       " '五年矣',\n",
       " '視其德如在野',\n",
       " '彼豈以富貴移易其心哉']"
      ]
     },
     "execution_count": 32,
     "metadata": {},
     "output_type": "execute_result"
    }
   ],
   "source": [
    "# now we are looking for every clause (before \",\")\n",
    "pattern = re.compile(r'[\\u4e00-\\u9fff]+')\n",
    "\n",
    "match = pattern.findall(text)\n",
    "match"
   ]
  },
  {
   "cell_type": "markdown",
   "metadata": {
    "id": "XACUtP2RjeYX"
   },
   "source": [
    "We can also look for every character instead:"
   ]
  },
  {
   "cell_type": "code",
   "execution_count": null,
   "metadata": {
    "colab": {
     "base_uri": "https://localhost:8080/"
    },
    "id": "cxAJAQb0jiSK",
    "outputId": "4328ef86-30e2-4356-a261-46dff867e286"
   },
   "outputs": [
    {
     "data": {
      "text/plain": [
       "['或', '問', '諫', '議', '大']"
      ]
     },
     "execution_count": 34,
     "metadata": {},
     "output_type": "execute_result"
    }
   ],
   "source": [
    "pattern = re.compile(r'[\\u4e00-\\u9fff]')\n",
    "\n",
    "match = pattern.findall(text)\n",
    "match[:5] # print first 5 characters only"
   ]
  },
  {
   "cell_type": "markdown",
   "metadata": {
    "id": "5BdbWtx6oLeo"
   },
   "source": [
    "Here is another example entry from [清代檔案](https://mhdb.mh.sinica.edu.tw/document/index.php?searchAll=%E5%A4%A7%E5%AD%B8%E5%A3%AB&dbSelect=a%40a%40a%40a%40a%40a%40a%40a&limit=1). Here let's say we want to extract the time from the document."
   ]
  },
  {
   "cell_type": "code",
   "execution_count": 1,
   "metadata": {
    "id": "ko8B61GeoLmD"
   },
   "outputs": [],
   "source": [
    "text = \"\"\"\n",
    "撥給各種工匠銀乾隆01年8月\n",
    "--內務府奏銷檔\n",
    "第1筆\n",
    "\n",
    "事由：撥給各種工匠銀\n",
    "\n",
    "內文：雍正十三年四月起至 乾隆 元年五月給發匠役工價所用大制錢數目\n",
    "郎中永保等文開恭畫坤寧宮神像需用外僱畫匠畫短工九十五工每工錢一百三十四文領去大制錢十二串七百三三十文\n",
    "銀庫郎中邁格等據掌儀司郎中謨爾德等文開恭造坤寧宮祭祀所用鏨花銀香碟八個爵盤二個漏子一個格漏一個箸一雙匙三張小碟二十個鍾十一個大碗五個壺一把大小盤二十四個鑲銀裹楠木肉槽四個三鑲烏木箸二雙畫像上用掛釣三分亭子上用銀面葉一分需用外僱鏨花匠大器匠做短工七百九十一工四分五厘每工錢一百三十四文領去大制錢一百六串五十四文\n",
    "...\n",
    "\n",
    "時間：乾隆01年8月\n",
    "\n",
    "官司：\n",
    "\n",
    "官員：\n",
    "\n",
    "微捲頁數：173-194\n",
    "\n",
    "冊數：194\n",
    "\n",
    "資料庫：內務府奏銷檔案\n",
    "\"\"\""
   ]
  },
  {
   "cell_type": "markdown",
   "metadata": {
    "id": "Hfn8CIXvsY96"
   },
   "source": [
    "We can also perform a quick retrieval using what we have just learnt."
   ]
  },
  {
   "cell_type": "code",
   "execution_count": null,
   "metadata": {
    "colab": {
     "base_uri": "https://localhost:8080/"
    },
    "id": "QdvdB0Blo_W-",
    "outputId": "6156563e-3f01-46c6-a69b-1a1a5479d3b5"
   },
   "outputs": [
    {
     "data": {
      "text/plain": [
       "['乾隆01年8月']"
      ]
     },
     "execution_count": 64,
     "metadata": {},
     "output_type": "execute_result"
    }
   ],
   "source": [
    "pattern = re.compile(r'(?<=時間.).*')\n",
    "\n",
    "match = pattern.findall(text)\n",
    "match"
   ]
  },
  {
   "cell_type": "markdown",
   "metadata": {
    "id": "Q4hTx8OIXWp2"
   },
   "source": [
    "Combining with Web Scrapping, which we will learn later, we can then easily get information for text analysis.\n",
    "\n",
    "<br>\n",
    "<br>\n",
    "<br>\n",
    "\n",
    "***\n",
    "\n",
    "## **Additional information**\n",
    "\n",
    "This notebook is provided for educational purpose and feel free to report any issue on GitHub.\n",
    "\n",
    "<br>\n",
    "\n",
    "**Author:** [Ka Hei, Chow](https://www.linkedin.com/in/ka-hei-chow-231345188/)\n",
    "\n",
    "**License:** The code in this notebook is licensed under the [Creative Commons by Attribution 4.0 license](https://creativecommons.org/licenses/by/4.0/).\n",
    "\n",
    "**Last modified:** December 2021\n",
    "\n",
    "<br>\n",
    "\n",
    "***\n",
    "\n",
    "<br>\n",
    "\n",
    "## **References:** \n",
    "\n",
    "https://github.com/CoreyMSchafer/code_snippets/blob/master/Python-Regular-Expressions/snippets.txt\n",
    "\n",
    "https://stackoverflow.com/questions/2973436/regex-lookahead-lookbehind-and-atomic-groups\n",
    "\n",
    "https://stackoverflow.com/questions/43418812/check-whether-a-string-contains-japanese-chinese-characters"
   ]
  }
 ],
 "metadata": {
  "colab": {
   "name": "Regular_Expression.ipynb",
   "provenance": []
  },
  "kernelspec": {
   "display_name": "Python 3",
   "language": "python",
   "name": "python3"
  },
  "language_info": {
   "codemirror_mode": {
    "name": "ipython",
    "version": 3
   },
   "file_extension": ".py",
   "mimetype": "text/x-python",
   "name": "python",
   "nbconvert_exporter": "python",
   "pygments_lexer": "ipython3",
   "version": "3.7.9"
  },
  "toc": {
   "base_numbering": 1,
   "nav_menu": {},
   "number_sections": true,
   "sideBar": true,
   "skip_h1_title": false,
   "title_cell": "Table of Contents",
   "title_sidebar": "Contents",
   "toc_cell": false,
   "toc_position": {},
   "toc_section_display": true,
   "toc_window_display": false
  }
 },
 "nbformat": 4,
 "nbformat_minor": 1
}
