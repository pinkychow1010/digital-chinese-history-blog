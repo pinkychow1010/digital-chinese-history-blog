{
 "cells": [
  {
   "cell_type": "markdown",
   "metadata": {},
   "source": [
    "# Debugging and Understanding Errors 🐞\n",
    "> Get prepared for mistakes\n",
    "\n",
    "- toc: true \n",
    "- badges: true\n",
    "- comments: true\n",
    "- categories: [level-1, chapter-1, background]\n",
    "- image: images/err.png"
   ]
  },
  {
   "cell_type": "markdown",
   "metadata": {
    "id": "3Bw3Igzuk3q-"
   },
   "source": [
    "<br>\n",
    "\n",
    "As mentioned in the [instructions](https://pinkychow1010.github.io/digital-chinese-history-blog/about/), all materials can be `open in Colab` as Jupyter notebooks. In this way users can run the code in the cloud. It is highly recommanded to follow the [tutorials](https://pinkychow1010.github.io/digital-chinese-history-blog/) in the right order.\n",
    "\n",
    "***\n",
    "\n",
    "## **Background**\n",
    "\n",
    "A bug occurs when things do not work the way you want it to, even though Python only give what you ask for. It is because we have a different understandings compared to the programming languages. To resolve this, we need to find out the sources of errors and adjust our code accordingly. In this notebook you will learn different approach to resolve potential issues and some tips to avoid them from happening.\n",
    "\n",
    "<br>\n",
    "\n",
    "*Presumption:* \n",
    "\n",
    "https://www.w3schools.com/python/python_try_except.asp\n",
    "\n",
    "https://www.tutorialsteacher.com/python/error-types-in-python\n",
    "\n",
    "<br>\n",
    "\n",
    "***"
   ]
  },
  {
   "cell_type": "markdown",
   "metadata": {
    "id": "12sZpFe0mXK7"
   },
   "source": [
    "## **1) Understand Error Messages** \n",
    "\n",
    "As you have seen from the link above, there are many different types of errors in Python which is meant to be helpful to tell user **\"what is wrong?\"**. But some errors might be more common than the others. Let's look at some common errors.\n",
    "\n",
    "Let's say you want to add a second collection to the first one (collection). But instead of **\"collection\"**, you wrote **\"Collection\"**. \n",
    "\n",
    "In this case Python tells you\n",
    "\n",
    "`NameError: name 'Collection' is not defined`\n",
    "\n",
    "It is because Python is searching for \"Collection\" and cannot find one. \n",
    "\n",
    "***Name Error: Raised when a variable is not found in the local or global scope.***\n",
    "\n",
    "What you need to do it just correct the name."
   ]
  },
  {
   "cell_type": "code",
   "execution_count": null,
   "metadata": {
    "colab": {
     "base_uri": "https://localhost:8080/",
     "height": 201
    },
    "id": "41XaYCpWkyb_",
    "outputId": "0693a371-40ba-4b80-bd8b-d10006ea8e77"
   },
   "outputs": [
    {
     "ename": "NameError",
     "evalue": "ignored",
     "output_type": "error",
     "traceback": [
      "\u001b[0;31m---------------------------------------------------------------------------\u001b[0m",
      "\u001b[0;31mNameError\u001b[0m                                 Traceback (most recent call last)",
      "\u001b[0;32m<ipython-input-3-cba7c442d3f4>\u001b[0m in \u001b[0;36m<module>\u001b[0;34m()\u001b[0m\n\u001b[1;32m      1\u001b[0m \u001b[0mcollection\u001b[0m \u001b[0;34m=\u001b[0m \u001b[0;34m[\u001b[0m\u001b[0;34m\"Chinese Posters in Harvard-Yenching Manchukuo Collection\"\u001b[0m\u001b[0;34m]\u001b[0m\u001b[0;34m\u001b[0m\u001b[0;34m\u001b[0m\u001b[0m\n\u001b[1;32m      2\u001b[0m \u001b[0;34m\u001b[0m\u001b[0m\n\u001b[0;32m----> 3\u001b[0;31m \u001b[0mCollection\u001b[0m \u001b[0;34m+\u001b[0m \u001b[0;34m[\u001b[0m\u001b[0;34m\"Linked Archive of Asian Postcards\"\u001b[0m\u001b[0;34m]\u001b[0m\u001b[0;34m\u001b[0m\u001b[0;34m\u001b[0m\u001b[0m\n\u001b[0m",
      "\u001b[0;31mNameError\u001b[0m: name 'Collection' is not defined"
     ]
    }
   ],
   "source": [
    "collection = [\"Chinese Posters in Harvard-Yenching Manchukuo Collection\"]\n",
    "\n",
    "Collection + [\"Linked Archive of Asian Postcards\"]"
   ]
  },
  {
   "cell_type": "markdown",
   "metadata": {
    "id": "npk9CJrlqR07"
   },
   "source": [
    "Error occurs too when the library is not imported before use."
   ]
  },
  {
   "cell_type": "code",
   "execution_count": null,
   "metadata": {
    "colab": {
     "base_uri": "https://localhost:8080/",
     "height": 166
    },
    "id": "lr5b5HOIp4ZU",
    "outputId": "fcc16059-f001-4d25-f41a-9f0d83814183"
   },
   "outputs": [
    {
     "ename": "NameError",
     "evalue": "ignored",
     "output_type": "error",
     "traceback": [
      "\u001b[0;31m---------------------------------------------------------------------------\u001b[0m",
      "\u001b[0;31mNameError\u001b[0m                                 Traceback (most recent call last)",
      "\u001b[0;32m<ipython-input-6-9be6f90ccf89>\u001b[0m in \u001b[0;36m<module>\u001b[0;34m()\u001b[0m\n\u001b[0;32m----> 1\u001b[0;31m \u001b[0mnp\u001b[0m\u001b[0;34m.\u001b[0m\u001b[0marange\u001b[0m\u001b[0;34m(\u001b[0m\u001b[0;36m1\u001b[0m\u001b[0;34m,\u001b[0m\u001b[0;36m5\u001b[0m\u001b[0;34m)\u001b[0m\u001b[0;34m\u001b[0m\u001b[0;34m\u001b[0m\u001b[0m\n\u001b[0m",
      "\u001b[0;31mNameError\u001b[0m: name 'np' is not defined"
     ]
    }
   ],
   "source": [
    "# import numpy as np <- this is what you need\n",
    "\n",
    "np.max([1,2])"
   ]
  },
  {
   "cell_type": "markdown",
   "metadata": {
    "id": "neT0hTP0pMTX"
   },
   "source": [
    "Or when you have one item in list while you are asking for the second one (Remember Python starts with 0). You get:\n",
    "\n",
    "`IndexError: list index out of range`\n",
    "\n",
    "***Index Error: Raised when the index of a sequence is out of range.***\n",
    "\n",
    "Then you need to correct the index."
   ]
  },
  {
   "cell_type": "code",
   "execution_count": null,
   "metadata": {
    "colab": {
     "base_uri": "https://localhost:8080/",
     "height": 201
    },
    "id": "fwE28ucWpDlO",
    "outputId": "cf93390d-3063-408e-b7be-78ca4d6efd84"
   },
   "outputs": [
    {
     "ename": "IndexError",
     "evalue": "ignored",
     "output_type": "error",
     "traceback": [
      "\u001b[0;31m---------------------------------------------------------------------------\u001b[0m",
      "\u001b[0;31mIndexError\u001b[0m                                Traceback (most recent call last)",
      "\u001b[0;32m<ipython-input-4-e10b1e230939>\u001b[0m in \u001b[0;36m<module>\u001b[0;34m()\u001b[0m\n\u001b[1;32m      1\u001b[0m \u001b[0mcollection\u001b[0m \u001b[0;34m=\u001b[0m \u001b[0;34m[\u001b[0m\u001b[0;34m\"Chinese Posters in Harvard-Yenching Manchukuo Collection\"\u001b[0m\u001b[0;34m]\u001b[0m\u001b[0;34m\u001b[0m\u001b[0;34m\u001b[0m\u001b[0m\n\u001b[1;32m      2\u001b[0m \u001b[0;34m\u001b[0m\u001b[0m\n\u001b[0;32m----> 3\u001b[0;31m \u001b[0mcollection\u001b[0m\u001b[0;34m[\u001b[0m\u001b[0;36m1\u001b[0m\u001b[0;34m]\u001b[0m\u001b[0;34m\u001b[0m\u001b[0;34m\u001b[0m\u001b[0m\n\u001b[0m",
      "\u001b[0;31mIndexError\u001b[0m: list index out of range"
     ]
    }
   ],
   "source": [
    "collection = [\"Chinese Posters in Harvard-Yenching Manchukuo Collection\"]\n",
    "\n",
    "collection[1]"
   ]
  },
  {
   "cell_type": "markdown",
   "metadata": {
    "id": "-2JRZKorqfpa"
   },
   "source": [
    "There is also **Type Error**: Raised when a function or operation is applied to an object of an incorrect type.\n",
    "\n",
    "It occurs because np.max() looks for a number and we input a **string**."
   ]
  },
  {
   "cell_type": "code",
   "execution_count": null,
   "metadata": {
    "colab": {
     "base_uri": "https://localhost:8080/"
    },
    "id": "4xZXIqU2qwGp",
    "outputId": "956e1405-59b3-4ada-dd61-9bc131834d95"
   },
   "outputs": [
    {
     "data": {
      "text/plain": [
       "3"
      ]
     },
     "execution_count": 12,
     "metadata": {},
     "output_type": "execute_result"
    }
   ],
   "source": [
    "import numpy as np\n",
    "np.max([3]) # this works"
   ]
  },
  {
   "cell_type": "code",
   "execution_count": null,
   "metadata": {
    "colab": {
     "base_uri": "https://localhost:8080/",
     "height": 363
    },
    "id": "5O13ISttqDWE",
    "outputId": "44a77238-75ba-4699-e987-026c34cfd58a"
   },
   "outputs": [
    {
     "ename": "TypeError",
     "evalue": "ignored",
     "output_type": "error",
     "traceback": [
      "\u001b[0;31m---------------------------------------------------------------------------\u001b[0m",
      "\u001b[0;31mTypeError\u001b[0m                                 Traceback (most recent call last)",
      "\u001b[0;32m<ipython-input-11-9da63d4b2b0e>\u001b[0m in \u001b[0;36m<module>\u001b[0;34m()\u001b[0m\n\u001b[1;32m      1\u001b[0m \u001b[0;32mimport\u001b[0m \u001b[0mnumpy\u001b[0m \u001b[0;32mas\u001b[0m \u001b[0mnp\u001b[0m\u001b[0;34m\u001b[0m\u001b[0;34m\u001b[0m\u001b[0m\n\u001b[0;32m----> 2\u001b[0;31m \u001b[0mnp\u001b[0m\u001b[0;34m.\u001b[0m\u001b[0mmax\u001b[0m\u001b[0;34m(\u001b[0m\u001b[0;34m[\u001b[0m\u001b[0mcollection\u001b[0m\u001b[0;34m]\u001b[0m\u001b[0;34m)\u001b[0m\u001b[0;34m\u001b[0m\u001b[0;34m\u001b[0m\u001b[0m\n\u001b[0m",
      "\u001b[0;32m<__array_function__ internals>\u001b[0m in \u001b[0;36mamax\u001b[0;34m(*args, **kwargs)\u001b[0m\n",
      "\u001b[0;32m/usr/local/lib/python3.7/dist-packages/numpy/core/fromnumeric.py\u001b[0m in \u001b[0;36mamax\u001b[0;34m(a, axis, out, keepdims, initial, where)\u001b[0m\n\u001b[1;32m   2704\u001b[0m     \"\"\"\n\u001b[1;32m   2705\u001b[0m     return _wrapreduction(a, np.maximum, 'max', axis, None, out,\n\u001b[0;32m-> 2706\u001b[0;31m                           keepdims=keepdims, initial=initial, where=where)\n\u001b[0m\u001b[1;32m   2707\u001b[0m \u001b[0;34m\u001b[0m\u001b[0m\n\u001b[1;32m   2708\u001b[0m \u001b[0;34m\u001b[0m\u001b[0m\n",
      "\u001b[0;32m/usr/local/lib/python3.7/dist-packages/numpy/core/fromnumeric.py\u001b[0m in \u001b[0;36m_wrapreduction\u001b[0;34m(obj, ufunc, method, axis, dtype, out, **kwargs)\u001b[0m\n\u001b[1;32m     85\u001b[0m                 \u001b[0;32mreturn\u001b[0m \u001b[0mreduction\u001b[0m\u001b[0;34m(\u001b[0m\u001b[0maxis\u001b[0m\u001b[0;34m=\u001b[0m\u001b[0maxis\u001b[0m\u001b[0;34m,\u001b[0m \u001b[0mout\u001b[0m\u001b[0;34m=\u001b[0m\u001b[0mout\u001b[0m\u001b[0;34m,\u001b[0m \u001b[0;34m**\u001b[0m\u001b[0mpasskwargs\u001b[0m\u001b[0;34m)\u001b[0m\u001b[0;34m\u001b[0m\u001b[0;34m\u001b[0m\u001b[0m\n\u001b[1;32m     86\u001b[0m \u001b[0;34m\u001b[0m\u001b[0m\n\u001b[0;32m---> 87\u001b[0;31m     \u001b[0;32mreturn\u001b[0m \u001b[0mufunc\u001b[0m\u001b[0;34m.\u001b[0m\u001b[0mreduce\u001b[0m\u001b[0;34m(\u001b[0m\u001b[0mobj\u001b[0m\u001b[0;34m,\u001b[0m \u001b[0maxis\u001b[0m\u001b[0;34m,\u001b[0m \u001b[0mdtype\u001b[0m\u001b[0;34m,\u001b[0m \u001b[0mout\u001b[0m\u001b[0;34m,\u001b[0m \u001b[0;34m**\u001b[0m\u001b[0mpasskwargs\u001b[0m\u001b[0;34m)\u001b[0m\u001b[0;34m\u001b[0m\u001b[0;34m\u001b[0m\u001b[0m\n\u001b[0m\u001b[1;32m     88\u001b[0m \u001b[0;34m\u001b[0m\u001b[0m\n\u001b[1;32m     89\u001b[0m \u001b[0;34m\u001b[0m\u001b[0m\n",
      "\u001b[0;31mTypeError\u001b[0m: cannot perform reduce with flexible type"
     ]
    }
   ],
   "source": [
    "import numpy as np\n",
    "np.max([collection])"
   ]
  },
  {
   "cell_type": "markdown",
   "metadata": {
    "id": "49tTodcQsWVI"
   },
   "source": [
    "Another error that is really common is that when you type something **grammatically wrong** in the Python sense.\n",
    "\n",
    "***Syntax Error:\tRaised by the parser when a syntax error is encountered.***"
   ]
  },
  {
   "cell_type": "code",
   "execution_count": null,
   "metadata": {
    "colab": {
     "base_uri": "https://localhost:8080/",
     "height": 131
    },
    "id": "EbiYFunysyOK",
    "outputId": "6c1a1ed7-e792-41b7-ac92-f02e4928fa5f"
   },
   "outputs": [
    {
     "ename": "SyntaxError",
     "evalue": "ignored",
     "output_type": "error",
     "traceback": [
      "\u001b[0;36m  File \u001b[0;32m\"<ipython-input-18-011172c21475>\"\u001b[0;36m, line \u001b[0;32m3\u001b[0m\n\u001b[0;31m    collection[0)\u001b[0m\n\u001b[0m                ^\u001b[0m\n\u001b[0;31mSyntaxError\u001b[0m\u001b[0;31m:\u001b[0m invalid syntax\n"
     ]
    }
   ],
   "source": [
    "collection = [\"Chinese Posters in Harvard-Yenching Manchukuo Collection\"]\n",
    "\n",
    "collection[0) # it should be [0], not[0)"
   ]
  },
  {
   "cell_type": "markdown",
   "metadata": {
    "id": "nkU0Jz2qmuU4"
   },
   "source": [
    "## **2) Spot the Sources of Errors** \n",
    "\n",
    "In order to make errors easier to spot, it is always a good practice if you run only a small chunk of code in a time. For example, you call separate a long chunk of code into different cells. \n",
    "\n",
    "Every cell can be used for one main action, for example:"
   ]
  },
  {
   "cell_type": "code",
   "execution_count": null,
   "metadata": {
    "id": "qCo7u6vQu_1k"
   },
   "outputs": [],
   "source": [
    "# this is for set up data frame"
   ]
  },
  {
   "cell_type": "code",
   "execution_count": null,
   "metadata": {
    "id": "Hq0VxlvYvBmr"
   },
   "outputs": [],
   "source": [
    "# this is for cleaning the data"
   ]
  },
  {
   "cell_type": "code",
   "execution_count": null,
   "metadata": {
    "id": "GwbHuZ2tvFpQ"
   },
   "outputs": [],
   "source": [
    "# this is for calculating statistics"
   ]
  },
  {
   "cell_type": "code",
   "execution_count": null,
   "metadata": {
    "id": "FbDc5uDPvJGH"
   },
   "outputs": [],
   "source": [
    "# this is for making the first plot"
   ]
  },
  {
   "cell_type": "markdown",
   "metadata": {
    "id": "U7ucGRmTvIOQ"
   },
   "source": [
    "Another way to spot errors in code is that try to reduce the code you have. For example:\n",
    "\n",
    "Let's say you want to find out the length of the first advertisement in the list (商務印書館發行書目介紹), and you built a function for it. But **instead of 11 characters, you get 2.** \n",
    "\n",
    "Although there is no problems running this code, as it is not giving you what you want, it is also a bug.\n",
    "\n",
    "What you can do is to reduce the code and to see if things work the way you want."
   ]
  },
  {
   "cell_type": "code",
   "execution_count": null,
   "metadata": {
    "colab": {
     "base_uri": "https://localhost:8080/"
    },
    "id": "5p8JOFpCvWag",
    "outputId": "be5233a8-29a6-4c01-f32b-528f5a426076"
   },
   "outputs": [
    {
     "data": {
      "text/plain": [
       "2"
      ]
     },
     "execution_count": 32,
     "metadata": {},
     "output_type": "execute_result"
    }
   ],
   "source": [
    "ad = [\"商務印書館發行書目介紹\",\"女界寶、非洲樹皮丸、助肺呼吸香膠、家普魚肝油、清血解毒海波藥、納佛補天汁、良丹(五洲大藥房)\"]\n",
    "\n",
    "import re # this you will learn in the notebook web scrapping so you do not need to understand everything for now\n",
    "\n",
    "def number_of_character(text):\n",
    "  list_ = list(text) # list() is used to split words into a list of characters\n",
    "  length = len(list_) # len() is to check the length \n",
    "  return length\n",
    "\n",
    "number_of_character(ad)"
   ]
  },
  {
   "cell_type": "markdown",
   "metadata": {
    "id": "0VppFJaIxiPH"
   },
   "source": [
    "Let's check the first step: Can we use list to split the characters as we want?"
   ]
  },
  {
   "cell_type": "code",
   "execution_count": null,
   "metadata": {
    "colab": {
     "base_uri": "https://localhost:8080/"
    },
    "id": "Rl_fS0rdxorX",
    "outputId": "663ecaae-7ff7-415a-bce6-135b6727f6b6"
   },
   "outputs": [
    {
     "data": {
      "text/plain": [
       "['商務印書館發行書目介紹', '女界寶、非洲樹皮丸、助肺呼吸香膠、家普魚肝油、清血解毒海波藥、納佛補天汁、良丹(五洲大藥房)']"
      ]
     },
     "execution_count": 33,
     "metadata": {},
     "output_type": "execute_result"
    }
   ],
   "source": [
    "list(ad)"
   ]
  },
  {
   "cell_type": "markdown",
   "metadata": {
    "id": "ck_RPn-0xsr_"
   },
   "source": [
    "And we realize, we want to split 商務印書館發行書目介紹, but this is not done!"
   ]
  },
  {
   "cell_type": "code",
   "execution_count": null,
   "metadata": {
    "colab": {
     "base_uri": "https://localhost:8080/"
    },
    "id": "cztk250pxy2P",
    "outputId": "2c1acb17-75ab-4c49-cded-45e198fa0006"
   },
   "outputs": [
    {
     "data": {
      "text/plain": [
       "['a', 'd', 'v', 'e', 'r', 't', 'i', 's', 'e', 'm', 'e', 'n', 't']"
      ]
     },
     "execution_count": 34,
     "metadata": {},
     "output_type": "execute_result"
    }
   ],
   "source": [
    "list(\"advertisement\") # this is what we want, to split characters"
   ]
  },
  {
   "cell_type": "markdown",
   "metadata": {
    "id": "56A4RQhBx8lv"
   },
   "source": [
    "And then we might find out, it only work if we use ad[0] instead."
   ]
  },
  {
   "cell_type": "code",
   "execution_count": null,
   "metadata": {
    "colab": {
     "base_uri": "https://localhost:8080/"
    },
    "id": "D6TMWrSMyB0_",
    "outputId": "4a9c5a8c-33e7-46ad-8204-c250a22ee063"
   },
   "outputs": [
    {
     "data": {
      "text/plain": [
       "['商', '務', '印', '書', '館', '發', '行', '書', '目', '介', '紹']"
      ]
     },
     "execution_count": 35,
     "metadata": {},
     "output_type": "execute_result"
    }
   ],
   "source": [
    "list(ad[0])"
   ]
  },
  {
   "cell_type": "code",
   "execution_count": 8,
   "metadata": {
    "colab": {
     "base_uri": "https://localhost:8080/"
    },
    "id": "98HH71eSyIq8",
    "outputId": "624f243b-94dc-4802-ab2f-4b0ea2109843"
   },
   "outputs": [
    {
     "data": {
      "text/plain": [
       "11"
      ]
     },
     "execution_count": 8,
     "metadata": {},
     "output_type": "execute_result"
    }
   ],
   "source": [
    "# this is now doing what we want\n",
    "ad = [\"商務印書館發行書目介紹\",\"女界寶、非洲樹皮丸、助肺呼吸香膠、家普魚肝油、清血解毒海波藥、納佛補天汁、良丹(五洲大藥房)\"]\n",
    "\n",
    "import re # this you will learn in the notebook web scrapping so you do not need to understand everything for now\n",
    "\n",
    "def number_of_character(text):\n",
    "  list_ = list(text)\n",
    "  length = len(list_)\n",
    "  return length\n",
    "\n",
    "number_of_character(ad[0])"
   ]
  },
  {
   "cell_type": "markdown",
   "metadata": {
    "id": "BPdNIH18m2vg"
   },
   "source": [
    "## **3) Google and stackoverflow** "
   ]
  },
  {
   "cell_type": "markdown",
   "metadata": {
    "id": "ygeF6OWYraay"
   },
   "source": [
    "Sometimes errors are not so clear to you. What you can do is to copy the errors and Google them. [Stackoverflow](https://stackoverflow.com/) is also another website that can be really helpful."
   ]
  },
  {
   "cell_type": "code",
   "execution_count": null,
   "metadata": {
    "colab": {
     "base_uri": "https://localhost:8080/",
     "height": 201
    },
    "id": "wji8lng7plzp",
    "outputId": "1ad31c0d-28d3-4501-8f0a-f10903ffc91a"
   },
   "outputs": [
    {
     "ename": "TypeError",
     "evalue": "ignored",
     "output_type": "error",
     "traceback": [
      "\u001b[0;31m---------------------------------------------------------------------------\u001b[0m",
      "\u001b[0;31mTypeError\u001b[0m                                 Traceback (most recent call last)",
      "\u001b[0;32m<ipython-input-13-9eca3a76ef67>\u001b[0m in \u001b[0;36m<module>\u001b[0;34m()\u001b[0m\n\u001b[1;32m      2\u001b[0m \u001b[0mtyp\u001b[0m \u001b[0;34m=\u001b[0m \u001b[0;34m[\u001b[0m\u001b[0;36m1\u001b[0m\u001b[0;34m,\u001b[0m\u001b[0;36m0\u001b[0m\u001b[0;34m]\u001b[0m\u001b[0;34m\u001b[0m\u001b[0;34m\u001b[0m\u001b[0m\n\u001b[1;32m      3\u001b[0m \u001b[0;34m\u001b[0m\u001b[0m\n\u001b[0;32m----> 4\u001b[0;31m \u001b[0mcollection\u001b[0m\u001b[0;34m[\u001b[0m\u001b[0mtyp\u001b[0m\u001b[0;34m]\u001b[0m\u001b[0;34m\u001b[0m\u001b[0;34m\u001b[0m\u001b[0m\n\u001b[0m",
      "\u001b[0;31mTypeError\u001b[0m: list indices must be integers or slices, not list"
     ]
    }
   ],
   "source": [
    "# for example, when you do not understand what is happening here\n",
    "collection = [\"Chinese Posters in Harvard-Yenching Manchukuo Collection\", \"Linked Archive of Asian Postcards\"]\n",
    "typ = [1,0]\n",
    "\n",
    "collection[typ]"
   ]
  },
  {
   "cell_type": "markdown",
   "metadata": {
    "id": "yP9rZPbLr1cr"
   },
   "source": [
    "Then you might find out what you need to select collection item from typ is to use **Numpy array** instead of **list**."
   ]
  },
  {
   "cell_type": "code",
   "execution_count": null,
   "metadata": {
    "colab": {
     "base_uri": "https://localhost:8080/"
    },
    "id": "Wi8V4NSFsBdv",
    "outputId": "b0e48aed-773c-40b7-d910-9ee9d661fc99"
   },
   "outputs": [
    {
     "data": {
      "text/plain": [
       "array(['Linked Archive of Asian Postcards',\n",
       "       'Chinese Posters in Harvard-Yenching Manchukuo Collection'],\n",
       "      dtype='<U56')"
      ]
     },
     "execution_count": 14,
     "metadata": {},
     "output_type": "execute_result"
    }
   ],
   "source": [
    "collection = np.array([\"Chinese Posters in Harvard-Yenching Manchukuo Collection\", \"Linked Archive of Asian Postcards\"])\n",
    "typ = np.array([1,0])\n",
    "\n",
    "collection[typ]"
   ]
  },
  {
   "cell_type": "markdown",
   "metadata": {
    "id": "OAd6-C4Bm8vS"
   },
   "source": [
    "## **4) Use Try and Except** \n",
    "\n",
    "In order to avoid errors, what we can also do is to use **try** and **except**. It means asking Python to try something out, if it does not work, then do **Plan B** instead of giving you errors. \n",
    "\n",
    "`Be careful that this method only appy if the errors come from unexpected outliners in inputs. It will not give you any meaningful results if the errors lie in your code itself.`\n",
    "\n",
    "<br>\n",
    "\n",
    "**It works as follow:**\n",
    "\n",
    "**`try:`** \n",
    "\n",
    "**`  (do plan a)`**  # <- indented block\n",
    "\n",
    "**`except:`**\n",
    "\n",
    "**`  (do plan b)`** # <- indented block"
   ]
  },
  {
   "cell_type": "code",
   "execution_count": null,
   "metadata": {
    "colab": {
     "base_uri": "https://localhost:8080/"
    },
    "id": "z2g9fYRC1YG3",
    "outputId": "3d7153ab-9ef4-48fc-fdb7-25df9635278c"
   },
   "outputs": [
    {
     "name": "stdout",
     "output_type": "stream",
     "text": [
      "2\n"
     ]
    }
   ],
   "source": [
    "#code example\n",
    "\n",
    "try:\n",
    "  print(1+1)\n",
    "except:\n",
    "  print(0)"
   ]
  },
  {
   "cell_type": "markdown",
   "metadata": {
    "id": "sf1o08Sm1YPl"
   },
   "source": [
    "<br>\n",
    "\n",
    "For example, the same function work well for the first and second item, but there is a typo in the third item, so that it is not a string, but an integer. \n",
    "\n",
    "In this case, the function will not work as it expects a string."
   ]
  },
  {
   "cell_type": "code",
   "execution_count": 1,
   "metadata": {
    "id": "j14UgeXanBBl"
   },
   "outputs": [],
   "source": [
    "collection = [\"Chinese Posters in Harvard-Yenching Manchukuo Collection\", \"Linked Archive of Asian Postcards\", 4]"
   ]
  },
  {
   "cell_type": "code",
   "execution_count": null,
   "metadata": {
    "colab": {
     "base_uri": "https://localhost:8080/",
     "height": 322
    },
    "id": "qVmdSvbUzKZA",
    "outputId": "603fe391-c77f-4e61-8293-fad64b44756a"
   },
   "outputs": [
    {
     "ename": "TypeError",
     "evalue": "ignored",
     "output_type": "error",
     "traceback": [
      "\u001b[0;31m---------------------------------------------------------------------------\u001b[0m",
      "\u001b[0;31mTypeError\u001b[0m                                 Traceback (most recent call last)",
      "\u001b[0;32m<ipython-input-50-b4200bdffa93>\u001b[0m in \u001b[0;36m<module>\u001b[0;34m()\u001b[0m\n\u001b[1;32m      4\u001b[0m   \u001b[0;32mreturn\u001b[0m \u001b[0mlength\u001b[0m\u001b[0;34m\u001b[0m\u001b[0;34m\u001b[0m\u001b[0m\n\u001b[1;32m      5\u001b[0m \u001b[0;34m\u001b[0m\u001b[0m\n\u001b[0;32m----> 6\u001b[0;31m \u001b[0mnumber_of_character\u001b[0m\u001b[0;34m(\u001b[0m\u001b[0mcollection\u001b[0m\u001b[0;34m[\u001b[0m\u001b[0;36m2\u001b[0m\u001b[0;34m]\u001b[0m\u001b[0;34m)\u001b[0m\u001b[0;34m\u001b[0m\u001b[0;34m\u001b[0m\u001b[0m\n\u001b[0m",
      "\u001b[0;32m<ipython-input-50-b4200bdffa93>\u001b[0m in \u001b[0;36mnumber_of_character\u001b[0;34m(text)\u001b[0m\n\u001b[1;32m      1\u001b[0m \u001b[0;32mdef\u001b[0m \u001b[0mnumber_of_character\u001b[0m\u001b[0;34m(\u001b[0m\u001b[0mtext\u001b[0m\u001b[0;34m)\u001b[0m\u001b[0;34m:\u001b[0m\u001b[0;34m\u001b[0m\u001b[0;34m\u001b[0m\u001b[0m\n\u001b[0;32m----> 2\u001b[0;31m   \u001b[0mlist_\u001b[0m \u001b[0;34m=\u001b[0m \u001b[0mlist\u001b[0m\u001b[0;34m(\u001b[0m\u001b[0mtext\u001b[0m\u001b[0;34m)\u001b[0m\u001b[0;34m\u001b[0m\u001b[0;34m\u001b[0m\u001b[0m\n\u001b[0m\u001b[1;32m      3\u001b[0m   \u001b[0mlength\u001b[0m \u001b[0;34m=\u001b[0m \u001b[0mlen\u001b[0m\u001b[0;34m(\u001b[0m\u001b[0mlist_\u001b[0m\u001b[0;34m)\u001b[0m\u001b[0;34m\u001b[0m\u001b[0;34m\u001b[0m\u001b[0m\n\u001b[1;32m      4\u001b[0m   \u001b[0;32mreturn\u001b[0m \u001b[0mlength\u001b[0m\u001b[0;34m\u001b[0m\u001b[0;34m\u001b[0m\u001b[0m\n\u001b[1;32m      5\u001b[0m \u001b[0;34m\u001b[0m\u001b[0m\n",
      "\u001b[0;31mTypeError\u001b[0m: 'int' object is not iterable"
     ]
    }
   ],
   "source": [
    "def number_of_character(text):\n",
    "  list_ = list(text)\n",
    "  length = len(list_)\n",
    "  return length\n",
    "\n",
    "number_of_character(collection[2])"
   ]
  },
  {
   "cell_type": "markdown",
   "metadata": {
    "id": "FFSB-UwD1pOS"
   },
   "source": [
    "What we can do is to set up a **Plan B**:\n",
    "\n",
    "If the words cannot be split, then use an empty list ([]).\n",
    "\n",
    "<br>\n",
    "\n",
    "***OUR PLAN B***\n",
    "\n",
    "\n",
    "`except:`\n",
    "\n",
    "  `list_ = []`"
   ]
  },
  {
   "cell_type": "code",
   "execution_count": null,
   "metadata": {
    "colab": {
     "base_uri": "https://localhost:8080/"
    },
    "id": "eumgLCKB0JHJ",
    "outputId": "7a3af72a-5f0b-4e89-ca47-611dfcc7e3a4"
   },
   "outputs": [
    {
     "data": {
      "text/plain": [
       "0"
      ]
     },
     "execution_count": 51,
     "metadata": {},
     "output_type": "execute_result"
    }
   ],
   "source": [
    "def number_of_character(text):\n",
    "  try:\n",
    "    list_ = list(text)\n",
    "  except:\n",
    "    list_ = []\n",
    "  length = len(list_)\n",
    "  return length\n",
    "\n",
    "number_of_character(collection[2])"
   ]
  },
  {
   "cell_type": "markdown",
   "metadata": {
    "id": "0JzYe3d42IP4"
   },
   "source": [
    "Now, we do not get the same error anymore. It is particularly useful when we are automating the task: because if we want going through thousands of documents, we do not want the code to crash because of one little typo. "
   ]
  },
  {
   "cell_type": "markdown",
   "metadata": {
    "id": "R-qLo43i_frw"
   },
   "source": [
    "## **5) Check Documentation**\n",
    "\n",
    "If the errors come from your code itself, the easiest way to inspect the problems is to check the documentation of the function you used. If you are using Jupyter Notebook, you can always highlight the function you typed and the documentation of this function will appear, illustrating what inputs are expected. \n",
    "\n",
    "You can also choose to directly Google the function and check the examples. For exmaple, if the following error occurs, by searching the reverse function \"python reverse()\" we can see from the [documentation](https://docs.python.org/3/tutorial/datastructures.html) that the list is expected before the function ad(), not inside the ()."
   ]
  },
  {
   "cell_type": "code",
   "execution_count": 20,
   "metadata": {
    "colab": {
     "base_uri": "https://localhost:8080/",
     "height": 201
    },
    "id": "qwHK4N2k_w3O",
    "outputId": "7a90af97-0e66-464c-a67b-65d2fec7e820"
   },
   "outputs": [
    {
     "ename": "NameError",
     "evalue": "ignored",
     "output_type": "error",
     "traceback": [
      "\u001b[0;31m---------------------------------------------------------------------------\u001b[0m",
      "\u001b[0;31mNameError\u001b[0m                                 Traceback (most recent call last)",
      "\u001b[0;32m<ipython-input-20-e88da2471207>\u001b[0m in \u001b[0;36m<module>\u001b[0;34m()\u001b[0m\n\u001b[1;32m      1\u001b[0m \u001b[0;31m# error\u001b[0m\u001b[0;34m\u001b[0m\u001b[0;34m\u001b[0m\u001b[0;34m\u001b[0m\u001b[0m\n\u001b[0;32m----> 2\u001b[0;31m \u001b[0mreverse\u001b[0m\u001b[0;34m(\u001b[0m\u001b[0mad\u001b[0m\u001b[0;34m)\u001b[0m\u001b[0;34m\u001b[0m\u001b[0;34m\u001b[0m\u001b[0m\n\u001b[0m\u001b[1;32m      3\u001b[0m \u001b[0mad\u001b[0m\u001b[0;34m\u001b[0m\u001b[0;34m\u001b[0m\u001b[0m\n",
      "\u001b[0;31mNameError\u001b[0m: name 'reverse' is not defined"
     ]
    }
   ],
   "source": [
    "# error\n",
    "reverse(ad)\n",
    "ad"
   ]
  },
  {
   "cell_type": "code",
   "execution_count": 19,
   "metadata": {
    "colab": {
     "base_uri": "https://localhost:8080/"
    },
    "id": "H2ezGbsnCYdM",
    "outputId": "785b4bff-c978-48d4-867e-efd8069f7e43"
   },
   "outputs": [
    {
     "data": {
      "text/plain": [
       "['女界寶、非洲樹皮丸、助肺呼吸香膠、家普魚肝油、清血解毒海波藥、納佛補天汁、良丹(五洲大藥房)', '商務印書館發行書目介紹']"
      ]
     },
     "execution_count": 19,
     "metadata": {},
     "output_type": "execute_result"
    }
   ],
   "source": [
    "# solved\n",
    "ad.reverse()\n",
    "ad"
   ]
  },
  {
   "cell_type": "markdown",
   "metadata": {
    "id": "YJS0YBqGl1Tj"
   },
   "source": [
    "<br>\n",
    "<br>\n",
    "\n",
    "\n",
    "#### Previous Lesson: [Coding Practice Basics](https://pinkychow1010.github.io/digital-chinese-history-blog/background/level-1/chapter-1/2020/01/28/Coding_Practice_Basics.html)\n",
    "#### Next Lesson: [Functions and Loops Basics](https://pinkychow1010.github.io/digital-chinese-history-blog/programming/chapter-1/level-1/2020/01/26/FunctionsNLoops_Basics.html)\n",
    "***\n",
    "\n",
    "## **Additional information**\n",
    "\n",
    "This notebook is provided for educational purpose and feel free to report any issue on GitHub.\n",
    "\n",
    "<br>\n",
    "\n",
    "**Author:** [Ka Hei, Chow](https://www.linkedin.com/in/ka-hei-chow-231345188/)\n",
    "\n",
    "**License:** The code in this notebook is licensed under the [Creative Commons by Attribution 4.0 license](https://creativecommons.org/licenses/by/4.0/).\n",
    "\n",
    "**Last modified:** December 2021\n",
    "\n",
    "<br>\n",
    "\n",
    "***\n",
    "\n",
    "<br>\n",
    "\n",
    "## **References:** \n",
    "https://www.tutorialsteacher.com/python/error-types-in-python"
   ]
  }
 ],
 "metadata": {
  "colab": {
   "collapsed_sections": [],
   "name": "04_lv1_Debugging_and_Understanding_Errors_Basics.ipynb",
   "provenance": []
  },
  "kernelspec": {
   "display_name": "Python 3",
   "language": "python",
   "name": "python3"
  },
  "language_info": {
   "codemirror_mode": {
    "name": "ipython",
    "version": 3
   },
   "file_extension": ".py",
   "mimetype": "text/x-python",
   "name": "python",
   "nbconvert_exporter": "python",
   "pygments_lexer": "ipython3",
   "version": "3.7.11"
  },
  "toc": {
   "base_numbering": 1,
   "nav_menu": {},
   "number_sections": true,
   "sideBar": true,
   "skip_h1_title": false,
   "title_cell": "Table of Contents",
   "title_sidebar": "Contents",
   "toc_cell": false,
   "toc_position": {},
   "toc_section_display": true,
   "toc_window_display": false
  }
 },
 "nbformat": 4,
 "nbformat_minor": 1
}
