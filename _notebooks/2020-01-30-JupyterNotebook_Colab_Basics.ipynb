{
 "cells": [
  {
   "cell_type": "markdown",
   "metadata": {},
   "source": [
    "# Introduction to Jupyter Notebooks\n",
    "\n",
    "> The Jupyter Notebook is an interactive web application that allows viewing, creation and documentation of live code.Notebook applications include data transformation and visualisation.\n",
    "\n",
    "- toc: true \n",
    "- badges: true\n",
    "- comments: true\n",
    "- categories: [level-1, chapter-1, jupyter, colab]\n",
    "- image: images/jupyter.png"
   ]
  },
  {
   "cell_type": "markdown",
   "metadata": {
    "id": "vML3HTmbvfG5"
   },
   "source": [
    "<br>\n",
    "\n",
    "## **What is Jupyter?**\n",
    "The Jupyter Project is an open source effort that evolved from the IPython project to support interactive data science and computing. Besides Python, it also supports many different programming languages including R and Julia."
   ]
  },
  {
   "cell_type": "markdown",
   "metadata": {
    "id": "4YkyUYgHv0y4"
   },
   "source": [
    "### **Components of Jupyter Notebook**\n",
    "\n",
    "* Jupyter Notebook IDE: The application that launches in a web browser like Firefox or Safari and is the environment where you write and run your code.\n",
    "\n",
    "* Jupyter Notebook Files(.ipynb): The file format that you can use to store code and markdown text for individual projects and workflows.\n",
    "\n",
    "* Kernels: A kernel runs your code in a specific programming language. In this tutorial, Python kernel is used within the Jupyter Notebook IDE."
   ]
  },
  {
   "cell_type": "markdown",
   "metadata": {
    "id": "6ZqmzbGnwA5r"
   },
   "source": [
    "### **Jupyter Notebook User Interface**\n",
    "\n",
    "After you create a new notebook file (.ipynb), you will be presented with notebook name, menu bar, tool bar and a code cell as default starting cell.\n",
    "\n",
    "* Notebook Name: if you click at the notebook name, you could rename the file.\n",
    "\n",
    "* Menu Bar: presents all functions and settings of the notebook file.\n",
    "\n",
    "* Tool Bar: presents the most used tools as icons.\n",
    "\n",
    "* Code Cell: it is the default type of cell when you create a new cell; if you want to transfer it to a markdown cell, you could use the drop down box in tool bar or a keyboard shortcut."
   ]
  },
  {
   "cell_type": "markdown",
   "metadata": {
    "id": "9ABK6coOwXwG"
   },
   "source": [
    "<br>\n",
    "\n",
    "***\n",
    "\n",
    "### ***1. Headers***\n",
    "\n",
    "Note: The more # the title holds, the smaller the title will be.\n",
    "\n",
    "`# This is a Title in Markdown`\n",
    "\n",
    "`## This is a Subtitle in Markdown`\n",
    "\n",
    "`### This is a smaller subtitle in Markdown`\n",
    "\n",
    "<br>\n",
    "\n",
    "**will be rendered as:**\n",
    "\n",
    "# This is a Title in Markdown\n",
    "\n",
    "## This is a Subtitle in Markdown\n",
    "\n",
    "### This is a smaller subtitle in Markdown"
   ]
  },
  {
   "cell_type": "markdown",
   "metadata": {
    "id": "CsGbajqRwqGz"
   },
   "source": [
    "<br>\n",
    "\n",
    "***\n",
    "\n",
    "### ***2. Lists***\n",
    "\n",
    "`* This is a bullet list`\n",
    "\n",
    "`* This is a bullet list`\n",
    "\n",
    "`* This is a bullet list`\n",
    "\n",
    "<br> \n",
    "\n",
    "`1. This is a numbered list`\n",
    "\n",
    "`2. This is a numbered list`\n",
    "\n",
    "`3. This is a numbered list`\n",
    "\n",
    "<br>\n",
    "\n",
    "**will be rendered as:**\n",
    "\n",
    "* This is a bullet list\n",
    "* This is a bullet list\n",
    "* This is a bullet list\n",
    "\n",
    "1. This is a numbered list\n",
    "2. This is a numbered list\n",
    "3. This is a numbered list"
   ]
  },
  {
   "cell_type": "markdown",
   "metadata": {
    "id": "9YbZd66Yxgf2"
   },
   "source": [
    "***Tip: To render list, you should leave a blank space between `1.` and the following texts.***\n",
    "\n",
    "<br>\n",
    "\n",
    "***\n",
    "\n",
    "### ***3. Bold and Italic***\n",
    "\n",
    "`*These are italic words.*`\n",
    "\n",
    "`**These are bold words.**`\n",
    "\n",
    "`***These are bold AND italic words.***`\n",
    "\n",
    "<br>\n",
    "\n",
    "**will be rendered as**\n",
    "\n",
    "<br>\n",
    "\n",
    "*These are italic words.*\n",
    "\n",
    "**These are bold words.**\n",
    "\n",
    "***These are bold AND italic words.***\n",
    "\n",
    "<br>\n",
    "\n",
    "***\n",
    "\n",
    "<br>\n",
    "\n"
   ]
  },
  {
   "cell_type": "markdown",
   "metadata": {
    "id": "HUXEapqeyYBQ"
   },
   "source": [
    "### ***4. Highlight Code***\n",
    "\n",
    "If you want to highlight a funciton or some code in a plain text, you add one backtick on each side of the text **(` ` `)**."
   ]
  },
  {
   "cell_type": "markdown",
   "metadata": {
    "id": "9b1nT2WYypMz"
   },
   "source": [
    "` Here is some highlighted text! `\n",
    "\n",
    "<br>\n",
    "\n",
    "***\n",
    "\n",
    "<br>"
   ]
  },
  {
   "cell_type": "markdown",
   "metadata": {
    "id": "SE3gheuny1vU"
   },
   "source": [
    "### ***5. Horizontal Lines***\n",
    "\n",
    "You can also create a horizontal line to highlight a block of markdown syntax.\n",
    "\n",
    "<br>\n",
    "\n",
    "`***`\n",
    "\n",
    "`Here is some important text!`\n",
    "\n",
    "`***`\n",
    "\n",
    "<br>\n",
    "\n",
    "**will be rendered as:**\n",
    "\n",
    "<br>\n",
    "\n",
    "***\n",
    "\n",
    "Here is some important text!\n",
    "\n",
    "***\n",
    "\n",
    "<br>\n",
    "\n",
    "**Tip: The *s on both side of the texts should be at the line above and the line below the texts.**\n",
    "\n",
    "<br>\n",
    "\n",
    "***"
   ]
  },
  {
   "cell_type": "markdown",
   "metadata": {
    "id": "FYzrv8QlzLba"
   },
   "source": [
    "### ***6. Hyperlinks***\n",
    "\n",
    "You can use HTML in Markdown cells to create hyperlinks redirecting to other websites. For example, the following syntax.\n",
    "\n",
    "`More infos about our data cube program can be found at  <a href=\"https://datacube.remote-sensing.org/\">this website</a>`\n",
    "\n",
    "<br>\n",
    "\n",
    "**will be rendered as:**\n",
    "\n",
    "More infos about our data cube program can be found at this website\n",
    "\n",
    "<br>\n",
    "\n",
    "***"
   ]
  },
  {
   "cell_type": "markdown",
   "metadata": {
    "id": "esT5suh92H4d"
   },
   "source": [
    "### ***7. Images***\n",
    "\n",
    "You can also render images in Markdown cells using the following syntax:\n",
    "\n",
    "`![alternative text here](url-to-image-here)`\n",
    "\n",
    "<br>\n",
    "\n",
    "For example,\n",
    "\n",
    "`![Fotograph of Philip is here](https://i.imgur.com/VGPeJ6s.jpg)`\n",
    "\n",
    "<br>\n",
    "\n",
    "**will be redered like:**\n",
    "\n",
    "![Fotograph of Philip is here](https://i.imgur.com/VGPeJ6s.jpg)"
   ]
  },
  {
   "cell_type": "markdown",
   "metadata": {
    "id": "Ph0qlg5v2uvW"
   },
   "source": [
    "**Or if the image need to be resize:**\n",
    "\n",
    "`<div>`\n",
    "\n",
    "`<img src=https://i.imgur.com/VGPeJ6s.jpg width=\"200\">`\n",
    "\n",
    "`</div>`\n",
    "\n",
    "<br>\n",
    "\n",
    "**will be rendered as:**\n",
    "\n",
    "<div>\n",
    "<img src=https://i.imgur.com/VGPeJ6s.jpg width=\"200\">\n",
    "</div>"
   ]
  },
  {
   "cell_type": "markdown",
   "metadata": {
    "id": "gJwhLuOt3cfy"
   },
   "source": [
    "**Note: The texts in the rectangle brackets (e.g. \"Fotograph of Philip is here\") will appear when the image fails to load.**\n",
    "\n",
    "<br>\n",
    "\n",
    "***\n",
    "\n",
    "<br>\n",
    "\n",
    "### ***8. LaTex***\n",
    "\n",
    "Jupyter notebook markdown cell also supports LaTex. So that the markdown cells interpret your texts as LaTex, surround your input texts with $ signs.\n",
    "\n",
    "For instance, `$c=a+b$` will be rendered as\n",
    "\n",
    "$c=a+b$\n",
    "\n",
    "If you want your texts be centered in the cell, surround your input texts with two $ signs.\n",
    "\n",
    "For instance, `$$C_{g}=\\frac{H}{\\frac{\\pi}{2}*Cl_{p}}$$` will be rendered as\n",
    "\n",
    "$$C_{g}=\\frac{H}{\\frac{\\pi}{2}*Cl_{p}}$$\n",
    "\n",
    "\n",
    "<br>\n",
    "\n",
    "**and**\n",
    "\n",
    "<br>\n",
    "\n",
    "\n",
    "`|Uppercase| LaTeX |Lowercase| LaTeX |`\n",
    "\n",
    "`|---------|-------|---------|-------|`\n",
    "\n",
    "`|$\\Delta$ |\\\\Delta|$\\delta$ |\\\\delta|`\n",
    "\n",
    "`|$\\Omega$ |\\\\Omega|$\\omega$ |\\\\omega|`\n",
    "\n",
    "<br>\n",
    "\n",
    "**will be rendered as:**\n",
    "\n",
    "<br>\n",
    "\n",
    "|Uppercase| LaTeX |Lowercase| LaTeX |\n",
    "|---------|-------|---------|-------|\n",
    "|$\\Delta$ |\\\\Delta|$\\delta$ |\\\\delta|\n",
    "|$\\Omega$ |\\\\Omega|$\\omega$ |\\\\omega|\n",
    " \n"
   ]
  },
  {
   "cell_type": "markdown",
   "metadata": {
    "id": "yrMooqQY30q1"
   },
   "source": [
    "***\n",
    "\n",
    "### ***9. Table***\n",
    "\n",
    "A table can be constructed using | (pipe symbol) and — (dash) to mark columns and rows. The first row of the table defines the headers, and the next row defines the alignment of each column. \n",
    "\n",
    "<br>\n",
    "\n",
    "**For instance,**\n",
    "\n",
    "`| Stretch/Untouched | ProbDistribution | Accuracy |`\n",
    "\n",
    "`| --- | --- | --- |`\n",
    "\n",
    "`| Stretched | Gaussian | .843 |`\n",
    "\n",
    "<br>\n",
    "\n",
    "**will be rendered as:**"
   ]
  },
  {
   "cell_type": "markdown",
   "metadata": {
    "id": "66rZ_lPD2ELk"
   },
   "source": [
    "| Stretch/Untouched | ProbDistribution | Accuracy |\n",
    "| --- | --- | --- |\n",
    "| Stretched | Gaussian | .843 |"
   ]
  },
  {
   "cell_type": "markdown",
   "metadata": {
    "id": "xgrdd-cA4jWe"
   },
   "source": [
    "The widths of the columns can also be changed by adding an empty row at the end with defined width.\n",
    "\n",
    "\n",
    "<br>\n",
    "\n",
    "`| Stretch/Untouched | ProbDistribution | Accuracy |`\n",
    "\n",
    "`| --- | --- | --- |`\n",
    "\n",
    "`| Stretched | Gaussian | .843 |`\n",
    "\n",
    "`|<img width=200/>|<img width=200/>|<img width=200/>|`\n",
    "\n",
    "<br>\n",
    "\n",
    "**will be rendered as:**"
   ]
  },
  {
   "cell_type": "markdown",
   "metadata": {
    "id": "9jEwOkG-50au"
   },
   "source": [
    "<br>\n",
    "\n",
    "| Stretch/Untouched | ProbDistribution | Accuracy |\n",
    "| --- | --- | --- |\n",
    "| Stretched | Gaussian | .843 |\n",
    "|<img width=200/>|<img width=200/>|<img width=200/>|\n"
   ]
  },
  {
   "cell_type": "markdown",
   "metadata": {
    "id": "T3Yc7kK0St0C"
   },
   "source": [
    "## **What is Colab?**\n",
    "\n",
    "So now we learnt about Jupyter Notebook, then what is Colab? Colab notebooks are Jupyter notebooks that are hosted by Colab. Therefore, the operations are highly similar and it allows you to write and execute Python in your browser, with\n",
    "\n",
    "* Zero configuration required\n",
    "* Free access to GPUs\n",
    "* Easy sharing\n",
    "\n",
    "There are limits in the available memory but they are generally sufficient if you are not performing particularly demanding tasks.\n",
    "One of the benefits using Colab is that you do not need to worried about dependencies as much for downloading Python tools and libraries. Many of the libraries are available in the Colab environment by default, **eg. Pandas**.\n",
    "\n",
    "To import a library that's not in Colaboratory by default, you can also use !pip install or !apt-get install.\n",
    "\n",
    "**For example,**\n"
   ]
  },
  {
   "cell_type": "code",
   "execution_count": 1,
   "metadata": {
    "colab": {
     "base_uri": "https://localhost:8080/"
    },
    "id": "fUx-JMVGUF9P",
    "outputId": "5e74bf56-1ef2-401e-e181-7bc03c67b280"
   },
   "outputs": [
    {
     "name": "stdout",
     "output_type": "stream",
     "text": [
      "Collecting cartopy\n",
      "  Downloading Cartopy-0.20.1.tar.gz (10.8 MB)\n",
      "\u001b[K     |████████████████████████████████| 10.8 MB 5.1 MB/s \n",
      "\u001b[?25h  Installing build dependencies ... \u001b[?25l\u001b[?25hdone\n",
      "  Getting requirements to build wheel ... \u001b[?25l\u001b[?25herror\n",
      "\u001b[33mWARNING: Discarding https://files.pythonhosted.org/packages/fc/59/aa52698e3838f4cd0e7eaa75bd86837e9e0b05041dbdaee3cda2fffced06/Cartopy-0.20.1.tar.gz#sha256=91f87b130e2574547a20cd634498df97d797abd12dcfd0235bc0cdbcec8b05e3 (from https://pypi.org/simple/cartopy/) (requires-python:>=3.7). Command errored out with exit status 1: /usr/bin/python3 /usr/local/lib/python3.7/dist-packages/pip/_vendor/pep517/in_process/_in_process.py get_requires_for_build_wheel /tmp/tmpvn613tgl Check the logs for full command output.\u001b[0m\n",
      "  Downloading Cartopy-0.20.0.tar.gz (10.8 MB)\n",
      "\u001b[K     |████████████████████████████████| 10.8 MB 20.5 MB/s \n",
      "\u001b[?25h  Installing build dependencies ... \u001b[?25l\u001b[?25hdone\n",
      "  Getting requirements to build wheel ... \u001b[?25l\u001b[?25herror\n",
      "\u001b[33mWARNING: Discarding https://files.pythonhosted.org/packages/0f/c0/58453b036e79046d211f083880d58dcce787e7e07647ac25dc46c6555099/Cartopy-0.20.0.tar.gz#sha256=eae58aff26806e63cf115b2bce9477cedc4aa9f578c5e477b2c25cfa404f2b7a (from https://pypi.org/simple/cartopy/) (requires-python:>=3.7). Command errored out with exit status 1: /usr/bin/python3 /usr/local/lib/python3.7/dist-packages/pip/_vendor/pep517/in_process/_in_process.py get_requires_for_build_wheel /tmp/tmpcxegil_v Check the logs for full command output.\u001b[0m\n",
      "  Downloading Cartopy-0.19.0.post1.tar.gz (12.1 MB)\n",
      "\u001b[K     |████████████████████████████████| 12.1 MB 19.6 MB/s \n",
      "\u001b[?25h  Installing build dependencies ... \u001b[?25l\u001b[?25hdone\n",
      "  Getting requirements to build wheel ... \u001b[?25l\u001b[?25hdone\n",
      "    Preparing wheel metadata ... \u001b[?25l\u001b[?25hdone\n",
      "Requirement already satisfied: shapely>=1.5.6 in /usr/local/lib/python3.7/dist-packages (from cartopy) (1.8.0)\n",
      "Collecting pyshp>=2\n",
      "  Downloading pyshp-2.1.3.tar.gz (219 kB)\n",
      "\u001b[K     |████████████████████████████████| 219 kB 48.7 MB/s \n",
      "\u001b[?25hRequirement already satisfied: numpy>=1.13.3 in /usr/local/lib/python3.7/dist-packages (from cartopy) (1.19.5)\n",
      "Building wheels for collected packages: cartopy, pyshp\n",
      "  Building wheel for cartopy (PEP 517) ... \u001b[?25l\u001b[?25hdone\n",
      "  Created wheel for cartopy: filename=Cartopy-0.19.0.post1-cp37-cp37m-linux_x86_64.whl size=12516269 sha256=983da772a11f3cba2d78a180f9a2d0136b8d43ba98219da421e264ca5b01d995\n",
      "  Stored in directory: /root/.cache/pip/wheels/98/01/f7/bd10aeb96fe4b518cde5f7c4f5e12c7202f85b7353a5017847\n",
      "  Building wheel for pyshp (setup.py) ... \u001b[?25l\u001b[?25hdone\n",
      "  Created wheel for pyshp: filename=pyshp-2.1.3-py3-none-any.whl size=37325 sha256=1c8e9a249f1f0ed81fac1f63ab6c703038812764fe6dd1b67b62e911ebaab64e\n",
      "  Stored in directory: /root/.cache/pip/wheels/43/f8/87/53c8cd41545ba20e536ea29a8fcb5431b5f477ca50d5dffbbe\n",
      "Successfully built cartopy pyshp\n",
      "Installing collected packages: pyshp, cartopy\n",
      "Successfully installed cartopy-0.19.0.post1 pyshp-2.1.3\n"
     ]
    }
   ],
   "source": [
    "!pip install cartopy\n",
    "import cartopy"
   ]
  },
  {
   "cell_type": "markdown",
   "metadata": {
    "id": "mzqKV9xOURgI"
   },
   "source": [
    "Also, because **Colab** is a **cloud environment**, you cannot directly assess files in your local environment. If you want to import files, there are two options:\n",
    "\n",
    "## ***Data Import*** \n",
    "\n",
    "***\n",
    "\n",
    "### ***Option 1:*** Upload Files\n",
    "\n",
    "<br>\n",
    "\n",
    "**Remarks:** The file name in line pd.read_csv() need to be **exactly** the same as the name of the file you uploaded to not run into errors."
   ]
  },
  {
   "cell_type": "code",
   "execution_count": null,
   "metadata": {
    "id": "poLkb_JCUsqF"
   },
   "outputs": [],
   "source": [
    "# select the file from your local project drive (one file at a time)\n",
    "from google.colab import files # use the google.colab library\n",
    "uploaded = files.upload() # upload it, click choose file after running this cell and pick the file\n",
    "\n",
    "# read your file depends on the file format\n",
    "# Let's say you have a csv, then you can read them using Pandas (you will learn more about Pandas later)\n",
    "import io\n",
    "import pandas as pd\n",
    "\n",
    "df = pd.read_csv(io.BytesIO(uploaded['yourfile.csv']))\n",
    "df # now your data is stored in this data frame"
   ]
  },
  {
   "cell_type": "markdown",
   "metadata": {
    "id": "e5jkQ39YVvpJ"
   },
   "source": [
    "### ***Option 2:*** Access Files from Google Drive\n",
    "\n",
    "One of the cons using upload option is that you can only upload one file at a time and it might take sometimes if your files are large. Let's say your colleague share you a file from Google Drive and you have a copy of it in the Drive. It is probably not the best way to download them to your computer and upload them in Colab again. \n",
    "\n",
    "What you can do is to directly use files on the drive. "
   ]
  },
  {
   "cell_type": "markdown",
   "metadata": {
    "id": "833EYkZ-WweO"
   },
   "source": [
    "After running the following code, you still need to **sign in** to your **Google Account**, and click **Allow** to permit access to your own **Google Drive**."
   ]
  },
  {
   "cell_type": "code",
   "execution_count": 4,
   "metadata": {
    "colab": {
     "base_uri": "https://localhost:8080/"
    },
    "id": "-0hWFzc7WXoW",
    "outputId": "a48b701c-9ef1-478b-dbc3-f6858f344438"
   },
   "outputs": [
    {
     "name": "stdout",
     "output_type": "stream",
     "text": [
      "Mounted at /content/drive/\n"
     ]
    }
   ],
   "source": [
    "from google.colab import drive\n",
    "drive.mount('/content/drive/')"
   ]
  },
  {
   "cell_type": "markdown",
   "metadata": {
    "id": "zrEwHf_eXCi_"
   },
   "source": [
    "After successful connection, you can see `\"Mounted at / content/drive/\"` under the cell."
   ]
  },
  {
   "cell_type": "markdown",
   "metadata": {
    "id": "xk3P8zcNXIxN"
   },
   "source": [
    "Then, you can check your directory."
   ]
  },
  {
   "cell_type": "code",
   "execution_count": 5,
   "metadata": {
    "colab": {
     "base_uri": "https://localhost:8080/"
    },
    "id": "CqWBKmBMXfSF",
    "outputId": "503b2a3d-c0d1-4299-eac4-a06067069f3c"
   },
   "outputs": [
    {
     "name": "stdout",
     "output_type": "stream",
     "text": [
      "drive  sample_data\n"
     ]
    }
   ],
   "source": [
    "!ls"
   ]
  },
  {
   "cell_type": "markdown",
   "metadata": {
    "id": "I4DDmG0GXkWs"
   },
   "source": [
    "Where to search for your files depends on where do you store them. Let's say you stored your file inside Google Drive with a folder call ***yourfolder***. You can check if the files are there by:\n",
    "\n",
    "<br>\n",
    "\n",
    " ***Remark:*** *Be carefule there is no space between My and Drive*"
   ]
  },
  {
   "cell_type": "code",
   "execution_count": null,
   "metadata": {
    "id": "N-DlE_QgX1KW"
   },
   "outputs": [],
   "source": [
    "print(os.popen('ls /content/drive/MyDrive/yourfolder').read())"
   ]
  },
  {
   "cell_type": "markdown",
   "metadata": {
    "id": "NurCLL_MYL4k"
   },
   "source": [
    "Your files should appear under the cell after run.\n",
    "\n",
    "Then you can open your file using the path. You can specify your path in a raw string ***r\"path\"***.\n",
    "\n",
    "Then you can open them using different methods depending on the data format. The following example is a **Geotiff** file and it can be opened using **gdal** (You do not need to know much about it for now)."
   ]
  },
  {
   "cell_type": "code",
   "execution_count": null,
   "metadata": {
    "id": "tq28ChmlYgY5"
   },
   "outputs": [],
   "source": [
    "# define your path\n",
    "path = r\"/content/drive/MyDrive/yourfolder/boundary.tif\"\n",
    "\n",
    "# import library\n",
    "import gdal\n",
    "\n",
    "# open file\n",
    "ds = gdal.Open(path, gdal.GA_ReadOnly)"
   ]
  },
  {
   "cell_type": "code",
   "execution_count": null,
   "metadata": {
    "id": "JAHk-U6ub9Z5"
   },
   "outputs": [],
   "source": [
    "# Or if it is a csv file\n",
    "\n",
    "# import library\n",
    "import pandas as pd\n",
    "\n",
    "# define your path\n",
    "path = r\"/content/drive/MyDrive/yourfolder/city.csv\"\n",
    "\n",
    "# open file\n",
    "df = pd.read_csv(path)\n",
    "df # now your data is stored in this data frame"
   ]
  },
  {
   "cell_type": "markdown",
   "metadata": {
    "id": "fNKqVhQBZtca"
   },
   "source": [
    "## ***Data Export***\n",
    "\n",
    "***\n"
   ]
  },
  {
   "cell_type": "markdown",
   "metadata": {
    "id": "SUbcfay8ZwsC"
   },
   "source": [
    "It is basically very similar when you need to output a file.\n",
    "\n",
    "### ***Option:*** Directly Download Files\n",
    "\n",
    "<br>\n",
    "\n",
    "**Remarks:** The file name in the second and third line need to be exactly the same to not run into errors."
   ]
  },
  {
   "cell_type": "code",
   "execution_count": null,
   "metadata": {
    "id": "6KjUEs1KcX9C"
   },
   "outputs": [],
   "source": [
    "from google.colab import files # import library; only need to be done once for the whole notebook \n",
    "\n",
    "df.to_csv('temple_location.csv', encoding='utf_8_sig', index=False) # suppose df is the dataframe you want to export\n",
    "files.download('temple_location.csv') # run this code and the file will be directly downloaded"
   ]
  },
  {
   "cell_type": "markdown",
   "metadata": {
    "id": "4dA7liBldUw4"
   },
   "source": [
    "What you can also do it to run only:"
   ]
  },
  {
   "cell_type": "code",
   "execution_count": 8,
   "metadata": {
    "id": "jr4qoB-ydVL9"
   },
   "outputs": [],
   "source": [
    "from google.colab import files # import library; only need to be done once for the whole notebook \n",
    "\n",
    "df.to_csv('temple_location.csv', encoding='utf_8_sig', index=False) # suppose df is the dataframe you want to export\n",
    "\n",
    "# by default they will be in /content"
   ]
  },
  {
   "cell_type": "markdown",
   "metadata": {
    "id": "vsFbnPIXdYET"
   },
   "source": [
    "and then click the bar on the left side with the **folder icon (Files)**. Then you can also search for your files in the directory and click on the three dots and then click **download**.\n",
    "\n",
    "It is generally recommanded to modify a file already existed in the Google Drive but not to create new files in Google Drive."
   ]
  },
  {
   "cell_type": "markdown",
   "metadata": {
    "id": "rpe7bGW8hT4A"
   },
   "source": [
    "<br>\n",
    "<br>\n",
    "<br>\n",
    "#### Previous Lesson: [Python Research Q&A Basics](https://pinkychow1010.github.io/digital-chinese-history-blog/level-1/chapter-1/background/2020/01/31/Python_Research_Q&A_Basics.html)",
    "\n",
    "#### Next Lesson: [Python Introduction Basics](https://pinkychow1010.github.io/digital-chinese-history-blog/programming/level-1/chapter-1/2020/01/29/Python_Introduction_Basics.html)",
    "\n",
    "***\n",
    "\n",
    "## **Additional information**\n",
    "\n",
    "This notebook is provided for educational purpose and feel free to report any issue on GitHub.\n",
    "\n",
    "<br>\n",
    "\n",
    "**Author:** [Ka Hei, Chow](https://www.linkedin.com/in/ka-hei-chow-231345188/)\n",
    "\n",
    "**License:** The code in this notebook is licensed under the [Creative Commons by Attribution 4.0 license](https://creativecommons.org/licenses/by/4.0/).\n",
    "\n",
    "**Last modified:** December 2021\n",
    "\n",
    "<br>\n",
    "\n",
    "***\n",
    "\n",
    "<br>\n",
    "\n",
    "## **References:** \n",
    "\n",
    "https://colab.research.google.com/?utm_source=scs-index"
   ]
  }
 ],
 "metadata": {
  "colab": {
   "name": "JupyterNotebook_Colab.ipynb",
   "provenance": []
  },
  "kernelspec": {
   "display_name": "Python 3",
   "language": "python",
   "name": "python3"
  },
  "language_info": {
   "codemirror_mode": {
    "name": "ipython",
    "version": 3
   },
   "file_extension": ".py",
   "mimetype": "text/x-python",
   "name": "python",
   "nbconvert_exporter": "python",
   "pygments_lexer": "ipython3",
   "version": "3.7.9"
  },
  "toc": {
   "base_numbering": 1,
   "nav_menu": {},
   "number_sections": true,
   "sideBar": true,
   "skip_h1_title": false,
   "title_cell": "Table of Contents",
   "title_sidebar": "Contents",
   "toc_cell": false,
   "toc_position": {},
   "toc_section_display": true,
   "toc_window_display": false
  }
 },
 "nbformat": 4,
 "nbformat_minor": 1
}
