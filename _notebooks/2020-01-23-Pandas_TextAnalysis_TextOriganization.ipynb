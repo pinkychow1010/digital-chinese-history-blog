{
 "cells": [
  {
   "cell_type": "markdown",
   "metadata": {},
   "source": [
    "# Python Pandas Library\n",
    "> Basic Data Manipulation\n",
    "\n",
    "- toc: true \n",
    "- badges: true\n",
    "- comments: true\n",
    "- categories: [jupyter]\n",
    "- image: images/chart-preview.png"
   ]
  },
  {
   "cell_type": "markdown",
   "metadata": {
    "id": "QfLgVSgmvdYx"
   },
   "source": [
    "<br>\n",
    "\n",
    "This notebook aims to intrduce users to Pandas library, an useful tool for tabular data manipulation. What it can be done is similar to Excel but allows users to have a much higher flexibility and to manage huge dataset in efficient manner.\n",
    "\n",
    "<br>\n",
    "\n",
    "Presumptions: \n",
    "\n",
    "https://www.youtube.com/watch?v=vmEHCJofslg&t=2s\n",
    "\n",
    "https://www.w3schools.com/python/python_dictionaries.asp\n",
    "\n",
    "<br>\n",
    "\n",
    "\n"
   ]
  },
  {
   "cell_type": "markdown",
   "metadata": {
    "id": "2Ymgq-UYFUSh"
   },
   "source": [
    "## ***Pandas Series***\n",
    "\n",
    "We have learnt about list, which is a simple way to handle information but Pandas includes  many extra features to handle data, such as handling **missing data** and **indexing objects with text**. The corresponding form of a list in Pandas is a **Pandas series**, which acts can also be understood as a column of the **Pandas dataframe**. A **Pandas Series** can be created using `pd.Series()`."
   ]
  },
  {
   "cell_type": "code",
   "execution_count": 1,
   "metadata": {
    "colab": {
     "base_uri": "https://localhost:8080/"
    },
    "id": "r3sSfHHuGI-U",
    "outputId": "04cd8aec-68eb-489d-d265-059b39a3d231"
   },
   "outputs": [
    {
     "data": {
      "text/plain": [
       "0    登江中孤屿，赠白云先生王迥\n",
       "1          秋登兰山寄张五\n",
       "2                 \n",
       "3             入峡寄弟\n",
       "dtype: object"
      ]
     },
     "execution_count": 1,
     "metadata": {},
     "output_type": "execute_result"
    }
   ],
   "source": [
    "import pandas as pd\n",
    "names = pd.Series(['登江中孤屿，赠白云先生王迥', '秋登兰山寄张五',' ','入峡寄弟'])\n",
    "names"
   ]
  },
  {
   "cell_type": "markdown",
   "metadata": {
    "id": "vGRzk3TMGlvW"
   },
   "source": [
    "Nearly all Python's built-in string methods are mirrored by a Pandas vectorized string method. Here is a list of Pandas ``str`` methods:\n",
    "\n",
    "|             |                  |                  |                  |\n",
    "|-------------|------------------|------------------|------------------|\n",
    "|``len()``    | ``lower()``      | ``translate()``  | ``islower()``    | \n",
    "|``ljust()``  | ``upper()``      | ``startswith()`` | ``isupper()``    | \n",
    "|``rjust()``  | ``find()``       | ``endswith()``   | ``isnumeric()``  | \n",
    "|``center()`` | ``rfind()``      | ``isalnum()``    | ``isdecimal()``  | \n",
    "|``zfill()``  | ``index()``      | ``isalpha()``    | ``split()``      | \n",
    "|``strip()``  | ``rindex()``     | ``isdigit()``    | ``rsplit()``     | \n",
    "|``rstrip()`` | ``capitalize()`` | ``isspace()``    | ``partition()``  | \n",
    "|``lstrip()`` |  ``swapcase()``  |  ``istitle()``   | ``rpartition()`` |"
   ]
  },
  {
   "cell_type": "markdown",
   "metadata": {
    "id": "rfrPzjLzG4F2"
   },
   "source": [
    "We need to pay attention that although many of the strings method is not applicable in Chinese languages, some functions can still be really helpful.\n",
    "\n",
    "For example, "
   ]
  },
  {
   "cell_type": "code",
   "execution_count": 2,
   "metadata": {
    "colab": {
     "base_uri": "https://localhost:8080/"
    },
    "id": "LQuzasLPGbxH",
    "outputId": "571762e8-0a98-41d0-ee88-c47b65478de3"
   },
   "outputs": [
    {
     "data": {
      "text/plain": [
       "0    False\n",
       "1     True\n",
       "2    False\n",
       "3    False\n",
       "dtype: bool"
      ]
     },
     "execution_count": 2,
     "metadata": {},
     "output_type": "execute_result"
    }
   ],
   "source": [
    "names.str.startswith('秋') # looking for item that start with a character"
   ]
  },
  {
   "cell_type": "code",
   "execution_count": 3,
   "metadata": {
    "colab": {
     "base_uri": "https://localhost:8080/"
    },
    "id": "JoR9b7EUH72l",
    "outputId": "08bfbebd-6eea-4c6e-b558-bd1731b62640"
   },
   "outputs": [
    {
     "data": {
      "text/plain": [
       "0    False\n",
       "1    False\n",
       "2     True\n",
       "3    False\n",
       "dtype: bool"
      ]
     },
     "execution_count": 3,
     "metadata": {},
     "output_type": "execute_result"
    }
   ],
   "source": [
    "names.str.isspace() # looking for empty space"
   ]
  },
  {
   "cell_type": "code",
   "execution_count": 4,
   "metadata": {
    "colab": {
     "base_uri": "https://localhost:8080/"
    },
    "id": "-z1RvY_1ILcc",
    "outputId": "6dc21f0b-74ef-46dd-d3fa-9ab7422c81bd"
   },
   "outputs": [
    {
     "data": {
      "text/plain": [
       "0   -1\n",
       "1    0\n",
       "2   -1\n",
       "3   -1\n",
       "dtype: int64"
      ]
     },
     "execution_count": 4,
     "metadata": {},
     "output_type": "execute_result"
    }
   ],
   "source": [
    "names.str.find('秋') # look for where (index) is a character"
   ]
  },
  {
   "cell_type": "code",
   "execution_count": 5,
   "metadata": {
    "colab": {
     "base_uri": "https://localhost:8080/"
    },
    "id": "sOToIe3CIeR-",
    "outputId": "d36de45b-2441-48d3-a723-61f222d61436"
   },
   "outputs": [
    {
     "data": {
      "text/plain": [
       "0    [, 登, 江, 中, 孤, 屿, ，, 赠, 白, 云, 先, 生, 王, 迥, ]\n",
       "1                      [, 秋, 登, 兰, 山, 寄, 张, 五, ]\n",
       "2                                        [,  , ]\n",
       "3                               [, 入, 峡, 寄, 弟, ]\n",
       "dtype: object"
      ]
     },
     "execution_count": 5,
     "metadata": {},
     "output_type": "execute_result"
    }
   ],
   "source": [
    "names.str.split(pat=\"\") # split characters"
   ]
  },
  {
   "cell_type": "code",
   "execution_count": 6,
   "metadata": {
    "colab": {
     "base_uri": "https://localhost:8080/"
    },
    "id": "7dh1ikFBIqF-",
    "outputId": "c3b3bb2f-7444-4719-a0e3-d88d6885da9c"
   },
   "outputs": [
    {
     "data": {
      "text/plain": [
       "0    NaN\n",
       "1    NaN\n",
       "2    NaN\n",
       "3    NaN\n",
       "dtype: object"
      ]
     },
     "execution_count": 6,
     "metadata": {},
     "output_type": "execute_result"
    }
   ],
   "source": [
    "names.str.extract('([A-Za-z]+)', expand=False) # look for letters (this is called regular expression, you will learn about it later)"
   ]
  },
  {
   "cell_type": "code",
   "execution_count": 7,
   "metadata": {
    "colab": {
     "base_uri": "https://localhost:8080/"
    },
    "id": "pNzKoeoMI-0i",
    "outputId": "22ba847d-4a21-44e8-d28c-5e56845217f7"
   },
   "outputs": [
    {
     "data": {
      "text/plain": [
       "0           []\n",
       "1    [秋登兰山寄张五]\n",
       "2           []\n",
       "3           []\n",
       "dtype: object"
      ]
     },
     "execution_count": 7,
     "metadata": {},
     "output_type": "execute_result"
    }
   ],
   "source": [
    "names.str.findall(r'^[秋].*$') # find item with characters"
   ]
  },
  {
   "cell_type": "markdown",
   "metadata": {
    "id": "Sxx1CxHPJbN7"
   },
   "source": [
    "There are also some methods that allows convenient operations:\n",
    "\n",
    "| Method | Description |\n",
    "|--------|-------------|\n",
    "| ``get()`` | Index each element |\n",
    "| ``slice()`` | Slice each element|\n",
    "| ``slice_replace()`` | Replace slice in each element with passed value|\n",
    "| ``cat()``      | Concatenate strings|\n",
    "| ``repeat()`` | Repeat values |\n",
    "| ``normalize()`` | Return Unicode form of string |\n",
    "| ``pad()`` | Add whitespace to left, right, or both sides of strings|\n",
    "| ``wrap()`` | Split long strings into lines with length less than a given width|\n",
    "| ``join()`` | Join strings in each element of the Series with passed separator|\n",
    "| ``get_dummies()`` | extract dummy variables as a dataframe |"
   ]
  },
  {
   "cell_type": "code",
   "execution_count": 8,
   "metadata": {
    "colab": {
     "base_uri": "https://localhost:8080/"
    },
    "id": "DXVVXPVhJl2P",
    "outputId": "15932c3e-5a99-40f1-fd25-fef96d1b5948"
   },
   "outputs": [
    {
     "data": {
      "text/plain": [
       "0    登\n",
       "1    秋\n",
       "2     \n",
       "3    入\n",
       "dtype: object"
      ]
     },
     "execution_count": 8,
     "metadata": {},
     "output_type": "execute_result"
    }
   ],
   "source": [
    "names.str[0:1] # get the first character only"
   ]
  },
  {
   "cell_type": "code",
   "execution_count": 9,
   "metadata": {
    "colab": {
     "base_uri": "https://localhost:8080/"
    },
    "id": "vQb7XiqYJ9Tm",
    "outputId": "1db9a897-6df7-41d4-c32d-1dacb8388c61"
   },
   "outputs": [
    {
     "data": {
      "text/plain": [
       "0      登江中孤屿\n",
       "1    秋登兰山寄张五\n",
       "2           \n",
       "3       入峡寄弟\n",
       "dtype: object"
      ]
     },
     "execution_count": 9,
     "metadata": {},
     "output_type": "execute_result"
    }
   ],
   "source": [
    "names.str.split(pat='，').str.get(0) # get first clause"
   ]
  },
  {
   "cell_type": "markdown",
   "metadata": {
    "id": "ETG2YJMwL4OQ"
   },
   "source": [
    "We can even get some statistics about the length of our text using `describe()`."
   ]
  },
  {
   "cell_type": "code",
   "execution_count": 10,
   "metadata": {
    "colab": {
     "base_uri": "https://localhost:8080/"
    },
    "id": "UBp8L0vuKTSh",
    "outputId": "903e7dc8-7c54-4349-8d5f-41d0968580c3"
   },
   "outputs": [
    {
     "data": {
      "text/plain": [
       "count     4.000000\n",
       "mean      6.250000\n",
       "std       5.123475\n",
       "min       1.000000\n",
       "25%       3.250000\n",
       "50%       5.500000\n",
       "75%       8.500000\n",
       "max      13.000000\n",
       "dtype: float64"
      ]
     },
     "execution_count": 10,
     "metadata": {},
     "output_type": "execute_result"
    }
   ],
   "source": [
    "names.str.len().describe()"
   ]
  },
  {
   "cell_type": "markdown",
   "metadata": {
    "id": "STyqX54_QtbY"
   },
   "source": [
    "We can also create a Pandas DataFrame from a **dictionary**: while the **keys** will be used as the name of the column in the **Pandas DataFrame**, the **values** will be used as the data (rows).\n",
    "\n",
    "Let's build a data frame using [**capital**](https://en.wikipedia.org/wiki/Historical_capitals_of_China) names for Qin and Han dynasties as an example."
   ]
  },
  {
   "cell_type": "code",
   "execution_count": 11,
   "metadata": {
    "colab": {
     "base_uri": "https://localhost:8080/",
     "height": 331
    },
    "id": "kNVYBTXlRaCS",
    "outputId": "58e163a1-ffbb-4a9b-f0f2-92e88e87d303"
   },
   "outputs": [
    {
     "data": {
      "text/html": [
       "<div>\n",
       "<style scoped>\n",
       "    .dataframe tbody tr th:only-of-type {\n",
       "        vertical-align: middle;\n",
       "    }\n",
       "\n",
       "    .dataframe tbody tr th {\n",
       "        vertical-align: top;\n",
       "    }\n",
       "\n",
       "    .dataframe thead th {\n",
       "        text-align: right;\n",
       "    }\n",
       "</style>\n",
       "<table border=\"1\" class=\"dataframe\">\n",
       "  <thead>\n",
       "    <tr style=\"text-align: right;\">\n",
       "      <th></th>\n",
       "      <th>Time</th>\n",
       "      <th>Dynasty</th>\n",
       "      <th>Capital</th>\n",
       "    </tr>\n",
       "  </thead>\n",
       "  <tbody>\n",
       "    <tr>\n",
       "      <th>0</th>\n",
       "      <td></td>\n",
       "      <td>Qin</td>\n",
       "      <td>Xiquanqiu</td>\n",
       "    </tr>\n",
       "    <tr>\n",
       "      <th>1</th>\n",
       "      <td>– 677 BC</td>\n",
       "      <td>Qin</td>\n",
       "      <td>Pingyang</td>\n",
       "    </tr>\n",
       "    <tr>\n",
       "      <th>2</th>\n",
       "      <td>677 BC –</td>\n",
       "      <td>Qin</td>\n",
       "      <td>Yong</td>\n",
       "    </tr>\n",
       "    <tr>\n",
       "      <th>3</th>\n",
       "      <td>– 383 BC</td>\n",
       "      <td>Qin</td>\n",
       "      <td>Jingyang</td>\n",
       "    </tr>\n",
       "    <tr>\n",
       "      <th>4</th>\n",
       "      <td>383 BC – 250 BC</td>\n",
       "      <td>Qin</td>\n",
       "      <td>Yueyang</td>\n",
       "    </tr>\n",
       "    <tr>\n",
       "      <th>5</th>\n",
       "      <td>350 BC – 207 BC</td>\n",
       "      <td>Qin</td>\n",
       "      <td>Xianyang</td>\n",
       "    </tr>\n",
       "    <tr>\n",
       "      <th>6</th>\n",
       "      <td>202 BC</td>\n",
       "      <td>Han</td>\n",
       "      <td>Luoyang</td>\n",
       "    </tr>\n",
       "    <tr>\n",
       "      <th>7</th>\n",
       "      <td>202 BC – 200 BC</td>\n",
       "      <td>Han</td>\n",
       "      <td>Yueyang</td>\n",
       "    </tr>\n",
       "    <tr>\n",
       "      <th>8</th>\n",
       "      <td>200 BC – 8 BC</td>\n",
       "      <td>Han</td>\n",
       "      <td>Changan</td>\n",
       "    </tr>\n",
       "  </tbody>\n",
       "</table>\n",
       "</div>"
      ],
      "text/plain": [
       "              Time Dynasty    Capital\n",
       "0                      Qin  Xiquanqiu\n",
       "1         – 677 BC     Qin   Pingyang\n",
       "2         677 BC –     Qin       Yong\n",
       "3         – 383 BC     Qin   Jingyang\n",
       "4  383 BC – 250 BC     Qin    Yueyang\n",
       "5  350 BC – 207 BC     Qin   Xianyang\n",
       "6           202 BC     Han    Luoyang\n",
       "7  202 BC – 200 BC     Han    Yueyang\n",
       "8    200 BC – 8 BC     Han    Changan"
      ]
     },
     "execution_count": 11,
     "metadata": {},
     "output_type": "execute_result"
    }
   ],
   "source": [
    "dictionary = {\n",
    "    'Time': ['','– 677 BC','677 BC –','– 383 BC','383 BC – 250 BC','350 BC – 207 BC','202 BC','202 BC – 200 BC','200 BC – 8 BC'],\n",
    "    'Dynasty': ['Qin','Qin','Qin','Qin','Qin','Qin','Han','Han','Han'], \n",
    "    'Capital': ['Xiquanqiu','Pingyang','Yong','Jingyang','Yueyang','Xianyang','Luoyang','Yueyang','Changan']\n",
    "     } # remember all column in the data frame have to have the same length\n",
    "\n",
    "df = pd.DataFrame(data=dictionary) # use pd.DataFrame() and put the dict as an argument\n",
    "df"
   ]
  },
  {
   "cell_type": "code",
   "execution_count": 12,
   "metadata": {
    "colab": {
     "base_uri": "https://localhost:8080/",
     "height": 363
    },
    "id": "lcnUrG4qSpS1",
    "outputId": "f592eb10-df23-492e-b408-53dfec36d246"
   },
   "outputs": [
    {
     "data": {
      "text/html": [
       "<div>\n",
       "<style scoped>\n",
       "    .dataframe tbody tr th:only-of-type {\n",
       "        vertical-align: middle;\n",
       "    }\n",
       "\n",
       "    .dataframe tbody tr th {\n",
       "        vertical-align: top;\n",
       "    }\n",
       "\n",
       "    .dataframe thead th {\n",
       "        text-align: right;\n",
       "    }\n",
       "</style>\n",
       "<table border=\"1\" class=\"dataframe\">\n",
       "  <thead>\n",
       "    <tr style=\"text-align: right;\">\n",
       "      <th></th>\n",
       "      <th>Dynasty</th>\n",
       "      <th>Capital</th>\n",
       "    </tr>\n",
       "    <tr>\n",
       "      <th>Time</th>\n",
       "      <th></th>\n",
       "      <th></th>\n",
       "    </tr>\n",
       "  </thead>\n",
       "  <tbody>\n",
       "    <tr>\n",
       "      <th></th>\n",
       "      <td>Qin</td>\n",
       "      <td>Xiquanqiu</td>\n",
       "    </tr>\n",
       "    <tr>\n",
       "      <th>– 677 BC</th>\n",
       "      <td>Qin</td>\n",
       "      <td>Pingyang</td>\n",
       "    </tr>\n",
       "    <tr>\n",
       "      <th>677 BC –</th>\n",
       "      <td>Qin</td>\n",
       "      <td>Yong</td>\n",
       "    </tr>\n",
       "    <tr>\n",
       "      <th>– 383 BC</th>\n",
       "      <td>Qin</td>\n",
       "      <td>Jingyang</td>\n",
       "    </tr>\n",
       "    <tr>\n",
       "      <th>383 BC – 250 BC</th>\n",
       "      <td>Qin</td>\n",
       "      <td>Yueyang</td>\n",
       "    </tr>\n",
       "    <tr>\n",
       "      <th>350 BC – 207 BC</th>\n",
       "      <td>Qin</td>\n",
       "      <td>Xianyang</td>\n",
       "    </tr>\n",
       "    <tr>\n",
       "      <th>202 BC</th>\n",
       "      <td>Han</td>\n",
       "      <td>Luoyang</td>\n",
       "    </tr>\n",
       "    <tr>\n",
       "      <th>202 BC – 200 BC</th>\n",
       "      <td>Han</td>\n",
       "      <td>Yueyang</td>\n",
       "    </tr>\n",
       "    <tr>\n",
       "      <th>200 BC – 8 BC</th>\n",
       "      <td>Han</td>\n",
       "      <td>Changan</td>\n",
       "    </tr>\n",
       "  </tbody>\n",
       "</table>\n",
       "</div>"
      ],
      "text/plain": [
       "                Dynasty    Capital\n",
       "Time                              \n",
       "                    Qin  Xiquanqiu\n",
       "– 677 BC            Qin   Pingyang\n",
       "677 BC –            Qin       Yong\n",
       "– 383 BC            Qin   Jingyang\n",
       "383 BC – 250 BC     Qin    Yueyang\n",
       "350 BC – 207 BC     Qin   Xianyang\n",
       "202 BC              Han    Luoyang\n",
       "202 BC – 200 BC     Han    Yueyang\n",
       "200 BC – 8 BC       Han    Changan"
      ]
     },
     "execution_count": 12,
     "metadata": {},
     "output_type": "execute_result"
    }
   ],
   "source": [
    "df = df.set_index('Time') # we can also set text as index\n",
    "df"
   ]
  },
  {
   "cell_type": "markdown",
   "metadata": {
    "id": "Wg4dAOQwTBxT"
   },
   "source": [
    "To view only the first row:"
   ]
  },
  {
   "cell_type": "code",
   "execution_count": 13,
   "metadata": {
    "colab": {
     "base_uri": "https://localhost:8080/",
     "height": 112
    },
    "id": "i4AZVoxeTBJN",
    "outputId": "4158ad6a-261b-4b82-81df-b87dd0e9b13a"
   },
   "outputs": [
    {
     "data": {
      "text/html": [
       "<div>\n",
       "<style scoped>\n",
       "    .dataframe tbody tr th:only-of-type {\n",
       "        vertical-align: middle;\n",
       "    }\n",
       "\n",
       "    .dataframe tbody tr th {\n",
       "        vertical-align: top;\n",
       "    }\n",
       "\n",
       "    .dataframe thead th {\n",
       "        text-align: right;\n",
       "    }\n",
       "</style>\n",
       "<table border=\"1\" class=\"dataframe\">\n",
       "  <thead>\n",
       "    <tr style=\"text-align: right;\">\n",
       "      <th></th>\n",
       "      <th>Dynasty</th>\n",
       "      <th>Capital</th>\n",
       "    </tr>\n",
       "    <tr>\n",
       "      <th>Time</th>\n",
       "      <th></th>\n",
       "      <th></th>\n",
       "    </tr>\n",
       "  </thead>\n",
       "  <tbody>\n",
       "    <tr>\n",
       "      <th></th>\n",
       "      <td>Qin</td>\n",
       "      <td>Xiquanqiu</td>\n",
       "    </tr>\n",
       "  </tbody>\n",
       "</table>\n",
       "</div>"
      ],
      "text/plain": [
       "     Dynasty    Capital\n",
       "Time                   \n",
       "         Qin  Xiquanqiu"
      ]
     },
     "execution_count": 13,
     "metadata": {},
     "output_type": "execute_result"
    }
   ],
   "source": [
    "df.head(1)"
   ]
  },
  {
   "cell_type": "markdown",
   "metadata": {
    "id": "UZCQPulrTGXs"
   },
   "source": [
    "To view only the last row:"
   ]
  },
  {
   "cell_type": "code",
   "execution_count": 14,
   "metadata": {
    "colab": {
     "base_uri": "https://localhost:8080/",
     "height": 112
    },
    "id": "iJli4zlkTKqS",
    "outputId": "be73f54b-4a9e-41c6-af26-eb19832afb33"
   },
   "outputs": [
    {
     "data": {
      "text/html": [
       "<div>\n",
       "<style scoped>\n",
       "    .dataframe tbody tr th:only-of-type {\n",
       "        vertical-align: middle;\n",
       "    }\n",
       "\n",
       "    .dataframe tbody tr th {\n",
       "        vertical-align: top;\n",
       "    }\n",
       "\n",
       "    .dataframe thead th {\n",
       "        text-align: right;\n",
       "    }\n",
       "</style>\n",
       "<table border=\"1\" class=\"dataframe\">\n",
       "  <thead>\n",
       "    <tr style=\"text-align: right;\">\n",
       "      <th></th>\n",
       "      <th>Dynasty</th>\n",
       "      <th>Capital</th>\n",
       "    </tr>\n",
       "    <tr>\n",
       "      <th>Time</th>\n",
       "      <th></th>\n",
       "      <th></th>\n",
       "    </tr>\n",
       "  </thead>\n",
       "  <tbody>\n",
       "    <tr>\n",
       "      <th>200 BC – 8 BC</th>\n",
       "      <td>Han</td>\n",
       "      <td>Changan</td>\n",
       "    </tr>\n",
       "  </tbody>\n",
       "</table>\n",
       "</div>"
      ],
      "text/plain": [
       "              Dynasty  Capital\n",
       "Time                          \n",
       "200 BC – 8 BC     Han  Changan"
      ]
     },
     "execution_count": 14,
     "metadata": {},
     "output_type": "execute_result"
    }
   ],
   "source": [
    "df.tail(1)"
   ]
  },
  {
   "cell_type": "markdown",
   "metadata": {
    "id": "kgOSuhP25m7E"
   },
   "source": [
    "In order to understand better the group characteristics, we can also use the **groupby** option. It is used with a **groupby()** following with a [**method()**](https://pandas.pydata.org/docs/reference/groupby.html).\n",
    "\n",
    "For example, we can use **groupby(\"Dynasty\").count()** to count number of rows (number of capital) in each dynasty.\n",
    "\n",
    "<br>\n",
    "\n",
    "**Remarks:** Index cannot be used as the groupby object."
   ]
  },
  {
   "cell_type": "code",
   "execution_count": 15,
   "metadata": {
    "colab": {
     "base_uri": "https://localhost:8080/",
     "height": 143
    },
    "id": "OlOyY3lb6QaL",
    "outputId": "40d5abdf-aec0-438a-b224-d50dff2b7cc0"
   },
   "outputs": [
    {
     "data": {
      "text/html": [
       "<div>\n",
       "<style scoped>\n",
       "    .dataframe tbody tr th:only-of-type {\n",
       "        vertical-align: middle;\n",
       "    }\n",
       "\n",
       "    .dataframe tbody tr th {\n",
       "        vertical-align: top;\n",
       "    }\n",
       "\n",
       "    .dataframe thead th {\n",
       "        text-align: right;\n",
       "    }\n",
       "</style>\n",
       "<table border=\"1\" class=\"dataframe\">\n",
       "  <thead>\n",
       "    <tr style=\"text-align: right;\">\n",
       "      <th></th>\n",
       "      <th>Capital</th>\n",
       "    </tr>\n",
       "    <tr>\n",
       "      <th>Dynasty</th>\n",
       "      <th></th>\n",
       "    </tr>\n",
       "  </thead>\n",
       "  <tbody>\n",
       "    <tr>\n",
       "      <th>Han</th>\n",
       "      <td>3</td>\n",
       "    </tr>\n",
       "    <tr>\n",
       "      <th>Qin</th>\n",
       "      <td>6</td>\n",
       "    </tr>\n",
       "  </tbody>\n",
       "</table>\n",
       "</div>"
      ],
      "text/plain": [
       "         Capital\n",
       "Dynasty         \n",
       "Han            3\n",
       "Qin            6"
      ]
     },
     "execution_count": 15,
     "metadata": {},
     "output_type": "execute_result"
    }
   ],
   "source": [
    "df.groupby(\"Dynasty\").count()"
   ]
  },
  {
   "cell_type": "markdown",
   "metadata": {
    "id": "dmAUR4BCH60g"
   },
   "source": [
    "***\n",
    "\n",
    "<br>\n",
    "\n",
    "## **Data Manipulation**\n",
    "\n",
    "<br>\n",
    "\n",
    "After understanding what is a **Pandas Series** and what is a **Pandas DataFrame**, we can start with some basic manipulation using a data frame. \n",
    "Let's start with an example to build a Pandas dataframe from a text file.\n",
    "\n",
    "First, we upload a text and selected **titles.txt** file. (can be found in the **data** folder)"
   ]
  },
  {
   "cell_type": "code",
   "execution_count": 18,
   "metadata": {
    "colab": {
     "base_uri": "https://localhost:8080/",
     "height": 73,
     "resources": {
      "http://localhost:8080/nbextensions/google.colab/files.js": {
       "data": "Ly8gQ29weXJpZ2h0IDIwMTcgR29vZ2xlIExMQwovLwovLyBMaWNlbnNlZCB1bmRlciB0aGUgQXBhY2hlIExpY2Vuc2UsIFZlcnNpb24gMi4wICh0aGUgIkxpY2Vuc2UiKTsKLy8geW91IG1heSBub3QgdXNlIHRoaXMgZmlsZSBleGNlcHQgaW4gY29tcGxpYW5jZSB3aXRoIHRoZSBMaWNlbnNlLgovLyBZb3UgbWF5IG9idGFpbiBhIGNvcHkgb2YgdGhlIExpY2Vuc2UgYXQKLy8KLy8gICAgICBodHRwOi8vd3d3LmFwYWNoZS5vcmcvbGljZW5zZXMvTElDRU5TRS0yLjAKLy8KLy8gVW5sZXNzIHJlcXVpcmVkIGJ5IGFwcGxpY2FibGUgbGF3IG9yIGFncmVlZCB0byBpbiB3cml0aW5nLCBzb2Z0d2FyZQovLyBkaXN0cmlidXRlZCB1bmRlciB0aGUgTGljZW5zZSBpcyBkaXN0cmlidXRlZCBvbiBhbiAiQVMgSVMiIEJBU0lTLAovLyBXSVRIT1VUIFdBUlJBTlRJRVMgT1IgQ09ORElUSU9OUyBPRiBBTlkgS0lORCwgZWl0aGVyIGV4cHJlc3Mgb3IgaW1wbGllZC4KLy8gU2VlIHRoZSBMaWNlbnNlIGZvciB0aGUgc3BlY2lmaWMgbGFuZ3VhZ2UgZ292ZXJuaW5nIHBlcm1pc3Npb25zIGFuZAovLyBsaW1pdGF0aW9ucyB1bmRlciB0aGUgTGljZW5zZS4KCi8qKgogKiBAZmlsZW92ZXJ2aWV3IEhlbHBlcnMgZm9yIGdvb2dsZS5jb2xhYiBQeXRob24gbW9kdWxlLgogKi8KKGZ1bmN0aW9uKHNjb3BlKSB7CmZ1bmN0aW9uIHNwYW4odGV4dCwgc3R5bGVBdHRyaWJ1dGVzID0ge30pIHsKICBjb25zdCBlbGVtZW50ID0gZG9jdW1lbnQuY3JlYXRlRWxlbWVudCgnc3BhbicpOwogIGVsZW1lbnQudGV4dENvbnRlbnQgPSB0ZXh0OwogIGZvciAoY29uc3Qga2V5IG9mIE9iamVjdC5rZXlzKHN0eWxlQXR0cmlidXRlcykpIHsKICAgIGVsZW1lbnQuc3R5bGVba2V5XSA9IHN0eWxlQXR0cmlidXRlc1trZXldOwogIH0KICByZXR1cm4gZWxlbWVudDsKfQoKLy8gTWF4IG51bWJlciBvZiBieXRlcyB3aGljaCB3aWxsIGJlIHVwbG9hZGVkIGF0IGEgdGltZS4KY29uc3QgTUFYX1BBWUxPQURfU0laRSA9IDEwMCAqIDEwMjQ7CgpmdW5jdGlvbiBfdXBsb2FkRmlsZXMoaW5wdXRJZCwgb3V0cHV0SWQpIHsKICBjb25zdCBzdGVwcyA9IHVwbG9hZEZpbGVzU3RlcChpbnB1dElkLCBvdXRwdXRJZCk7CiAgY29uc3Qgb3V0cHV0RWxlbWVudCA9IGRvY3VtZW50LmdldEVsZW1lbnRCeUlkKG91dHB1dElkKTsKICAvLyBDYWNoZSBzdGVwcyBvbiB0aGUgb3V0cHV0RWxlbWVudCB0byBtYWtlIGl0IGF2YWlsYWJsZSBmb3IgdGhlIG5leHQgY2FsbAogIC8vIHRvIHVwbG9hZEZpbGVzQ29udGludWUgZnJvbSBQeXRob24uCiAgb3V0cHV0RWxlbWVudC5zdGVwcyA9IHN0ZXBzOwoKICByZXR1cm4gX3VwbG9hZEZpbGVzQ29udGludWUob3V0cHV0SWQpOwp9CgovLyBUaGlzIGlzIHJvdWdobHkgYW4gYXN5bmMgZ2VuZXJhdG9yIChub3Qgc3VwcG9ydGVkIGluIHRoZSBicm93c2VyIHlldCksCi8vIHdoZXJlIHRoZXJlIGFyZSBtdWx0aXBsZSBhc3luY2hyb25vdXMgc3RlcHMgYW5kIHRoZSBQeXRob24gc2lkZSBpcyBnb2luZwovLyB0byBwb2xsIGZvciBjb21wbGV0aW9uIG9mIGVhY2ggc3RlcC4KLy8gVGhpcyB1c2VzIGEgUHJvbWlzZSB0byBibG9jayB0aGUgcHl0aG9uIHNpZGUgb24gY29tcGxldGlvbiBvZiBlYWNoIHN0ZXAsCi8vIHRoZW4gcGFzc2VzIHRoZSByZXN1bHQgb2YgdGhlIHByZXZpb3VzIHN0ZXAgYXMgdGhlIGlucHV0IHRvIHRoZSBuZXh0IHN0ZXAuCmZ1bmN0aW9uIF91cGxvYWRGaWxlc0NvbnRpbnVlKG91dHB1dElkKSB7CiAgY29uc3Qgb3V0cHV0RWxlbWVudCA9IGRvY3VtZW50LmdldEVsZW1lbnRCeUlkKG91dHB1dElkKTsKICBjb25zdCBzdGVwcyA9IG91dHB1dEVsZW1lbnQuc3RlcHM7CgogIGNvbnN0IG5leHQgPSBzdGVwcy5uZXh0KG91dHB1dEVsZW1lbnQubGFzdFByb21pc2VWYWx1ZSk7CiAgcmV0dXJuIFByb21pc2UucmVzb2x2ZShuZXh0LnZhbHVlLnByb21pc2UpLnRoZW4oKHZhbHVlKSA9PiB7CiAgICAvLyBDYWNoZSB0aGUgbGFzdCBwcm9taXNlIHZhbHVlIHRvIG1ha2UgaXQgYXZhaWxhYmxlIHRvIHRoZSBuZXh0CiAgICAvLyBzdGVwIG9mIHRoZSBnZW5lcmF0b3IuCiAgICBvdXRwdXRFbGVtZW50Lmxhc3RQcm9taXNlVmFsdWUgPSB2YWx1ZTsKICAgIHJldHVybiBuZXh0LnZhbHVlLnJlc3BvbnNlOwogIH0pOwp9CgovKioKICogR2VuZXJhdG9yIGZ1bmN0aW9uIHdoaWNoIGlzIGNhbGxlZCBiZXR3ZWVuIGVhY2ggYXN5bmMgc3RlcCBvZiB0aGUgdXBsb2FkCiAqIHByb2Nlc3MuCiAqIEBwYXJhbSB7c3RyaW5nfSBpbnB1dElkIEVsZW1lbnQgSUQgb2YgdGhlIGlucHV0IGZpbGUgcGlja2VyIGVsZW1lbnQuCiAqIEBwYXJhbSB7c3RyaW5nfSBvdXRwdXRJZCBFbGVtZW50IElEIG9mIHRoZSBvdXRwdXQgZGlzcGxheS4KICogQHJldHVybiB7IUl0ZXJhYmxlPCFPYmplY3Q+fSBJdGVyYWJsZSBvZiBuZXh0IHN0ZXBzLgogKi8KZnVuY3Rpb24qIHVwbG9hZEZpbGVzU3RlcChpbnB1dElkLCBvdXRwdXRJZCkgewogIGNvbnN0IGlucHV0RWxlbWVudCA9IGRvY3VtZW50LmdldEVsZW1lbnRCeUlkKGlucHV0SWQpOwogIGlucHV0RWxlbWVudC5kaXNhYmxlZCA9IGZhbHNlOwoKICBjb25zdCBvdXRwdXRFbGVtZW50ID0gZG9jdW1lbnQuZ2V0RWxlbWVudEJ5SWQob3V0cHV0SWQpOwogIG91dHB1dEVsZW1lbnQuaW5uZXJIVE1MID0gJyc7CgogIGNvbnN0IHBpY2tlZFByb21pc2UgPSBuZXcgUHJvbWlzZSgocmVzb2x2ZSkgPT4gewogICAgaW5wdXRFbGVtZW50LmFkZEV2ZW50TGlzdGVuZXIoJ2NoYW5nZScsIChlKSA9PiB7CiAgICAgIHJlc29sdmUoZS50YXJnZXQuZmlsZXMpOwogICAgfSk7CiAgfSk7CgogIGNvbnN0IGNhbmNlbCA9IGRvY3VtZW50LmNyZWF0ZUVsZW1lbnQoJ2J1dHRvbicpOwogIGlucHV0RWxlbWVudC5wYXJlbnRFbGVtZW50LmFwcGVuZENoaWxkKGNhbmNlbCk7CiAgY2FuY2VsLnRleHRDb250ZW50ID0gJ0NhbmNlbCB1cGxvYWQnOwogIGNvbnN0IGNhbmNlbFByb21pc2UgPSBuZXcgUHJvbWlzZSgocmVzb2x2ZSkgPT4gewogICAgY2FuY2VsLm9uY2xpY2sgPSAoKSA9PiB7CiAgICAgIHJlc29sdmUobnVsbCk7CiAgICB9OwogIH0pOwoKICAvLyBXYWl0IGZvciB0aGUgdXNlciB0byBwaWNrIHRoZSBmaWxlcy4KICBjb25zdCBmaWxlcyA9IHlpZWxkIHsKICAgIHByb21pc2U6IFByb21pc2UucmFjZShbcGlja2VkUHJvbWlzZSwgY2FuY2VsUHJvbWlzZV0pLAogICAgcmVzcG9uc2U6IHsKICAgICAgYWN0aW9uOiAnc3RhcnRpbmcnLAogICAgfQogIH07CgogIGNhbmNlbC5yZW1vdmUoKTsKCiAgLy8gRGlzYWJsZSB0aGUgaW5wdXQgZWxlbWVudCBzaW5jZSBmdXJ0aGVyIHBpY2tzIGFyZSBub3QgYWxsb3dlZC4KICBpbnB1dEVsZW1lbnQuZGlzYWJsZWQgPSB0cnVlOwoKICBpZiAoIWZpbGVzKSB7CiAgICByZXR1cm4gewogICAgICByZXNwb25zZTogewogICAgICAgIGFjdGlvbjogJ2NvbXBsZXRlJywKICAgICAgfQogICAgfTsKICB9CgogIGZvciAoY29uc3QgZmlsZSBvZiBmaWxlcykgewogICAgY29uc3QgbGkgPSBkb2N1bWVudC5jcmVhdGVFbGVtZW50KCdsaScpOwogICAgbGkuYXBwZW5kKHNwYW4oZmlsZS5uYW1lLCB7Zm9udFdlaWdodDogJ2JvbGQnfSkpOwogICAgbGkuYXBwZW5kKHNwYW4oCiAgICAgICAgYCgke2ZpbGUudHlwZSB8fCAnbi9hJ30pIC0gJHtmaWxlLnNpemV9IGJ5dGVzLCBgICsKICAgICAgICBgbGFzdCBtb2RpZmllZDogJHsKICAgICAgICAgICAgZmlsZS5sYXN0TW9kaWZpZWREYXRlID8gZmlsZS5sYXN0TW9kaWZpZWREYXRlLnRvTG9jYWxlRGF0ZVN0cmluZygpIDoKICAgICAgICAgICAgICAgICAgICAgICAgICAgICAgICAgICAgJ24vYSd9IC0gYCkpOwogICAgY29uc3QgcGVyY2VudCA9IHNwYW4oJzAlIGRvbmUnKTsKICAgIGxpLmFwcGVuZENoaWxkKHBlcmNlbnQpOwoKICAgIG91dHB1dEVsZW1lbnQuYXBwZW5kQ2hpbGQobGkpOwoKICAgIGNvbnN0IGZpbGVEYXRhUHJvbWlzZSA9IG5ldyBQcm9taXNlKChyZXNvbHZlKSA9PiB7CiAgICAgIGNvbnN0IHJlYWRlciA9IG5ldyBGaWxlUmVhZGVyKCk7CiAgICAgIHJlYWRlci5vbmxvYWQgPSAoZSkgPT4gewogICAgICAgIHJlc29sdmUoZS50YXJnZXQucmVzdWx0KTsKICAgICAgfTsKICAgICAgcmVhZGVyLnJlYWRBc0FycmF5QnVmZmVyKGZpbGUpOwogICAgfSk7CiAgICAvLyBXYWl0IGZvciB0aGUgZGF0YSB0byBiZSByZWFkeS4KICAgIGxldCBmaWxlRGF0YSA9IHlpZWxkIHsKICAgICAgcHJvbWlzZTogZmlsZURhdGFQcm9taXNlLAogICAgICByZXNwb25zZTogewogICAgICAgIGFjdGlvbjogJ2NvbnRpbnVlJywKICAgICAgfQogICAgfTsKCiAgICAvLyBVc2UgYSBjaHVua2VkIHNlbmRpbmcgdG8gYXZvaWQgbWVzc2FnZSBzaXplIGxpbWl0cy4gU2VlIGIvNjIxMTU2NjAuCiAgICBsZXQgcG9zaXRpb24gPSAwOwogICAgZG8gewogICAgICBjb25zdCBsZW5ndGggPSBNYXRoLm1pbihmaWxlRGF0YS5ieXRlTGVuZ3RoIC0gcG9zaXRpb24sIE1BWF9QQVlMT0FEX1NJWkUpOwogICAgICBjb25zdCBjaHVuayA9IG5ldyBVaW50OEFycmF5KGZpbGVEYXRhLCBwb3NpdGlvbiwgbGVuZ3RoKTsKICAgICAgcG9zaXRpb24gKz0gbGVuZ3RoOwoKICAgICAgY29uc3QgYmFzZTY0ID0gYnRvYShTdHJpbmcuZnJvbUNoYXJDb2RlLmFwcGx5KG51bGwsIGNodW5rKSk7CiAgICAgIHlpZWxkIHsKICAgICAgICByZXNwb25zZTogewogICAgICAgICAgYWN0aW9uOiAnYXBwZW5kJywKICAgICAgICAgIGZpbGU6IGZpbGUubmFtZSwKICAgICAgICAgIGRhdGE6IGJhc2U2NCwKICAgICAgICB9LAogICAgICB9OwoKICAgICAgbGV0IHBlcmNlbnREb25lID0gZmlsZURhdGEuYnl0ZUxlbmd0aCA9PT0gMCA/CiAgICAgICAgICAxMDAgOgogICAgICAgICAgTWF0aC5yb3VuZCgocG9zaXRpb24gLyBmaWxlRGF0YS5ieXRlTGVuZ3RoKSAqIDEwMCk7CiAgICAgIHBlcmNlbnQudGV4dENvbnRlbnQgPSBgJHtwZXJjZW50RG9uZX0lIGRvbmVgOwoKICAgIH0gd2hpbGUgKHBvc2l0aW9uIDwgZmlsZURhdGEuYnl0ZUxlbmd0aCk7CiAgfQoKICAvLyBBbGwgZG9uZS4KICB5aWVsZCB7CiAgICByZXNwb25zZTogewogICAgICBhY3Rpb246ICdjb21wbGV0ZScsCiAgICB9CiAgfTsKfQoKc2NvcGUuZ29vZ2xlID0gc2NvcGUuZ29vZ2xlIHx8IHt9OwpzY29wZS5nb29nbGUuY29sYWIgPSBzY29wZS5nb29nbGUuY29sYWIgfHwge307CnNjb3BlLmdvb2dsZS5jb2xhYi5fZmlsZXMgPSB7CiAgX3VwbG9hZEZpbGVzLAogIF91cGxvYWRGaWxlc0NvbnRpbnVlLAp9Owp9KShzZWxmKTsK",
       "headers": [
        [
         "content-type",
         "application/javascript"
        ]
       ],
       "ok": true,
       "status": 200,
       "status_text": ""
      }
     }
    },
    "id": "RAoestBbx7Vq",
    "outputId": "cbae7fc9-b9b7-4565-952f-2338435af0fb"
   },
   "outputs": [
    {
     "data": {
      "text/html": [
       "\n",
       "     <input type=\"file\" id=\"files-c264e304-c8f2-4e68-804b-9582ffc94e28\" name=\"files[]\" multiple disabled\n",
       "        style=\"border:none\" />\n",
       "     <output id=\"result-c264e304-c8f2-4e68-804b-9582ffc94e28\">\n",
       "      Upload widget is only available when the cell has been executed in the\n",
       "      current browser session. Please rerun this cell to enable.\n",
       "      </output>\n",
       "      <script src=\"/nbextensions/google.colab/files.js\"></script> "
      ],
      "text/plain": [
       "<IPython.core.display.HTML object>"
      ]
     },
     "metadata": {},
     "output_type": "display_data"
    },
    {
     "name": "stdout",
     "output_type": "stream",
     "text": [
      "Saving titles.txt to titles (1).txt\n"
     ]
    }
   ],
   "source": [
    "from google.colab import files\n",
    "uploaded = files.upload()\n",
    "\n",
    "for f in uploaded.keys():\n",
    "    file = open(f, 'r')\n",
    "    titles = file.read()"
   ]
  },
  {
   "cell_type": "markdown",
   "metadata": {
    "id": "H1eDlZncUK5g"
   },
   "source": [
    "Then, we can split the text into **paragraphs** (separate by two new lines) and **sentence** (separate by one new line)."
   ]
  },
  {
   "cell_type": "code",
   "execution_count": 19,
   "metadata": {
    "id": "-Vo5-4PlyXsx"
   },
   "outputs": [],
   "source": [
    "titles = titles.split(\"\\n\\n\") # two new lines\n",
    "titles = [lines.split('\\n') for lines in titles] # one new line, done in a list comprehension"
   ]
  },
  {
   "cell_type": "code",
   "execution_count": 20,
   "metadata": {
    "colab": {
     "base_uri": "https://localhost:8080/"
    },
    "id": "_afjNGPjfLf9",
    "outputId": "5feb2d8e-2788-46c3-fb45-f8f4e153e5db"
   },
   "outputs": [
    {
     "data": {
      "text/plain": [
       "[['卷159_1 「从张丞相游南纪城猎，戏赠裴迪张参军」孟浩然',\n",
       "  '\\u3000\\u3000从禽非吾乐，不好云梦田。岁暮登城望，偏令乡思悬。',\n",
       "  '\\u3000\\u3000公卿有几几，车骑何翩翩。世禄金张贵，官曹幕府贤。',\n",
       "  '\\u3000\\u3000顺时行杀气，飞刃争割鲜。十里届宾馆，征声匝妓筵。',\n",
       "  '\\u3000\\u3000高标回落日，平楚散芳烟。何意狂歌客，从公亦在旃。'],\n",
       " ['卷159_2 「登江中孤屿，赠白云先生王迥」孟浩然',\n",
       "  '\\u3000\\u3000悠悠清江水，水落沙屿出。回潭石下深，绿筱岸傍密。',\n",
       "  '\\u3000\\u3000鲛人潜不见，渔父歌自逸。忆与君别时，泛舟如昨日。',\n",
       "  '\\u3000\\u3000夕阳开返照，中坐兴非一。南望鹿门山，归来恨如失。']]"
      ]
     },
     "execution_count": 20,
     "metadata": {},
     "output_type": "execute_result"
    }
   ],
   "source": [
    "titles[0:2] # check the first two items we have: 卷159_1 and 卷159_2"
   ]
  },
  {
   "cell_type": "markdown",
   "metadata": {
    "id": "1ohZ6g85U2wu"
   },
   "source": [
    "We can also check how many titles (卷) are there:"
   ]
  },
  {
   "cell_type": "code",
   "execution_count": 21,
   "metadata": {
    "colab": {
     "base_uri": "https://localhost:8080/"
    },
    "id": "8W2uUwtZyNM-",
    "outputId": "33646356-1b68-47fc-c059-e7cd2a1e73e1"
   },
   "outputs": [
    {
     "data": {
      "text/plain": [
       "269"
      ]
     },
     "execution_count": 21,
     "metadata": {},
     "output_type": "execute_result"
    }
   ],
   "source": [
    "len(titles)"
   ]
  },
  {
   "cell_type": "markdown",
   "metadata": {
    "id": "_HpVQcb-7Eup"
   },
   "source": [
    "Then construct our dataframe."
   ]
  },
  {
   "cell_type": "code",
   "execution_count": 22,
   "metadata": {
    "colab": {
     "base_uri": "https://localhost:8080/",
     "height": 206
    },
    "id": "8wPrKlSzzQ93",
    "outputId": "849775b0-5dbd-4cb8-8ff4-e63ef974acbe"
   },
   "outputs": [
    {
     "data": {
      "text/html": [
       "<div>\n",
       "<style scoped>\n",
       "    .dataframe tbody tr th:only-of-type {\n",
       "        vertical-align: middle;\n",
       "    }\n",
       "\n",
       "    .dataframe tbody tr th {\n",
       "        vertical-align: top;\n",
       "    }\n",
       "\n",
       "    .dataframe thead th {\n",
       "        text-align: right;\n",
       "    }\n",
       "</style>\n",
       "<table border=\"1\" class=\"dataframe\">\n",
       "  <thead>\n",
       "    <tr style=\"text-align: right;\">\n",
       "      <th></th>\n",
       "      <th>content</th>\n",
       "    </tr>\n",
       "  </thead>\n",
       "  <tbody>\n",
       "    <tr>\n",
       "      <th>0</th>\n",
       "      <td>[卷159_1 「从张丞相游南纪城猎，戏赠裴迪张参军」孟浩然, 　　从禽非吾乐，不好云梦田。...</td>\n",
       "    </tr>\n",
       "    <tr>\n",
       "      <th>1</th>\n",
       "      <td>[卷159_2 「登江中孤屿，赠白云先生王迥」孟浩然, 　　悠悠清江水，水落沙屿出。回潭石下...</td>\n",
       "    </tr>\n",
       "    <tr>\n",
       "      <th>2</th>\n",
       "      <td>[卷159_3 「晚春卧病寄张八」孟浩然, 　　南陌春将晚，北窗犹卧病。林园久不游，草木一何...</td>\n",
       "    </tr>\n",
       "    <tr>\n",
       "      <th>3</th>\n",
       "      <td>[卷159_4 「秋登兰山寄张五」孟浩然, 　　北山白云里，隐者自怡悦。相望试登高，心飞逐鸟...</td>\n",
       "    </tr>\n",
       "    <tr>\n",
       "      <th>4</th>\n",
       "      <td>[卷159_5 「入峡寄弟」孟浩然, 　　吾昔与尔辈，读书常闭门。未尝冒湍险，岂顾垂堂言。,...</td>\n",
       "    </tr>\n",
       "  </tbody>\n",
       "</table>\n",
       "</div>"
      ],
      "text/plain": [
       "                                             content\n",
       "0  [卷159_1 「从张丞相游南纪城猎，戏赠裴迪张参军」孟浩然, 　　从禽非吾乐，不好云梦田。...\n",
       "1  [卷159_2 「登江中孤屿，赠白云先生王迥」孟浩然, 　　悠悠清江水，水落沙屿出。回潭石下...\n",
       "2  [卷159_3 「晚春卧病寄张八」孟浩然, 　　南陌春将晚，北窗犹卧病。林园久不游，草木一何...\n",
       "3  [卷159_4 「秋登兰山寄张五」孟浩然, 　　北山白云里，隐者自怡悦。相望试登高，心飞逐鸟...\n",
       "4  [卷159_5 「入峡寄弟」孟浩然, 　　吾昔与尔辈，读书常闭门。未尝冒湍险，岂顾垂堂言。,..."
      ]
     },
     "execution_count": 22,
     "metadata": {},
     "output_type": "execute_result"
    }
   ],
   "source": [
    "import pandas as pd # In case library is not imported\n",
    "\n",
    "df = pd.DataFrame({\"content\": titles}) # construct a data frame using a dictionary\n",
    "df.head()"
   ]
  },
  {
   "cell_type": "markdown",
   "metadata": {
    "id": "NzaQY8ts7Njm"
   },
   "source": [
    "We realize the content column is so messy as it contains different information such as which titles, author name and the content itself. So we want to set up different new columns:\n",
    "\n",
    "<br>\n",
    "\n",
    "**1) title: The title**\n",
    "\n",
    "**2) content: The text**\n",
    "\n",
    "**3) index: use the text id (eg. 159_1) as index**\n",
    "\n",
    "We can set up new columns by simply writing \n",
    "\n",
    "**df[\"name of the new column\"] = [what we plan to put in]**\n",
    "\n",
    "What we plan to put in can be for example, a Numpy array with the same length, or just a number (in this case all rows will have the same value). For example,"
   ]
  },
  {
   "cell_type": "code",
   "execution_count": 23,
   "metadata": {
    "colab": {
     "base_uri": "https://localhost:8080/",
     "height": 206
    },
    "id": "LZV5nvlc8H9P",
    "outputId": "eeda865f-6b73-40ca-adb7-8f008edb0bc9"
   },
   "outputs": [
    {
     "data": {
      "text/html": [
       "<div>\n",
       "<style scoped>\n",
       "    .dataframe tbody tr th:only-of-type {\n",
       "        vertical-align: middle;\n",
       "    }\n",
       "\n",
       "    .dataframe tbody tr th {\n",
       "        vertical-align: top;\n",
       "    }\n",
       "\n",
       "    .dataframe thead th {\n",
       "        text-align: right;\n",
       "    }\n",
       "</style>\n",
       "<table border=\"1\" class=\"dataframe\">\n",
       "  <thead>\n",
       "    <tr style=\"text-align: right;\">\n",
       "      <th></th>\n",
       "      <th>content</th>\n",
       "      <th>test</th>\n",
       "    </tr>\n",
       "  </thead>\n",
       "  <tbody>\n",
       "    <tr>\n",
       "      <th>0</th>\n",
       "      <td>[卷159_1 「从张丞相游南纪城猎，戏赠裴迪张参军」孟浩然, 　　从禽非吾乐，不好云梦田。...</td>\n",
       "      <td>1</td>\n",
       "    </tr>\n",
       "    <tr>\n",
       "      <th>1</th>\n",
       "      <td>[卷159_2 「登江中孤屿，赠白云先生王迥」孟浩然, 　　悠悠清江水，水落沙屿出。回潭石下...</td>\n",
       "      <td>1</td>\n",
       "    </tr>\n",
       "    <tr>\n",
       "      <th>2</th>\n",
       "      <td>[卷159_3 「晚春卧病寄张八」孟浩然, 　　南陌春将晚，北窗犹卧病。林园久不游，草木一何...</td>\n",
       "      <td>1</td>\n",
       "    </tr>\n",
       "    <tr>\n",
       "      <th>3</th>\n",
       "      <td>[卷159_4 「秋登兰山寄张五」孟浩然, 　　北山白云里，隐者自怡悦。相望试登高，心飞逐鸟...</td>\n",
       "      <td>1</td>\n",
       "    </tr>\n",
       "    <tr>\n",
       "      <th>4</th>\n",
       "      <td>[卷159_5 「入峡寄弟」孟浩然, 　　吾昔与尔辈，读书常闭门。未尝冒湍险，岂顾垂堂言。,...</td>\n",
       "      <td>1</td>\n",
       "    </tr>\n",
       "  </tbody>\n",
       "</table>\n",
       "</div>"
      ],
      "text/plain": [
       "                                             content  test\n",
       "0  [卷159_1 「从张丞相游南纪城猎，戏赠裴迪张参军」孟浩然, 　　从禽非吾乐，不好云梦田。...     1\n",
       "1  [卷159_2 「登江中孤屿，赠白云先生王迥」孟浩然, 　　悠悠清江水，水落沙屿出。回潭石下...     1\n",
       "2  [卷159_3 「晚春卧病寄张八」孟浩然, 　　南陌春将晚，北窗犹卧病。林园久不游，草木一何...     1\n",
       "3  [卷159_4 「秋登兰山寄张五」孟浩然, 　　北山白云里，隐者自怡悦。相望试登高，心飞逐鸟...     1\n",
       "4  [卷159_5 「入峡寄弟」孟浩然, 　　吾昔与尔辈，读书常闭门。未尝冒湍险，岂顾垂堂言。,...     1"
      ]
     },
     "execution_count": 23,
     "metadata": {},
     "output_type": "execute_result"
    }
   ],
   "source": [
    "import numpy as np\n",
    "df[\"test\"] = 1\n",
    "\n",
    "df.head()"
   ]
  },
  {
   "cell_type": "markdown",
   "metadata": {
    "id": "7iTc7LhO8_gU"
   },
   "source": [
    "Or this:"
   ]
  },
  {
   "cell_type": "code",
   "execution_count": 24,
   "metadata": {
    "colab": {
     "base_uri": "https://localhost:8080/",
     "height": 206
    },
    "id": "Eoz6QOc783cQ",
    "outputId": "64156ffd-0cb2-47c9-87e1-6451d0d64b2e"
   },
   "outputs": [
    {
     "data": {
      "text/html": [
       "<div>\n",
       "<style scoped>\n",
       "    .dataframe tbody tr th:only-of-type {\n",
       "        vertical-align: middle;\n",
       "    }\n",
       "\n",
       "    .dataframe tbody tr th {\n",
       "        vertical-align: top;\n",
       "    }\n",
       "\n",
       "    .dataframe thead th {\n",
       "        text-align: right;\n",
       "    }\n",
       "</style>\n",
       "<table border=\"1\" class=\"dataframe\">\n",
       "  <thead>\n",
       "    <tr style=\"text-align: right;\">\n",
       "      <th></th>\n",
       "      <th>content</th>\n",
       "      <th>test</th>\n",
       "    </tr>\n",
       "  </thead>\n",
       "  <tbody>\n",
       "    <tr>\n",
       "      <th>0</th>\n",
       "      <td>[卷159_1 「从张丞相游南纪城猎，戏赠裴迪张参军」孟浩然, 　　从禽非吾乐，不好云梦田。...</td>\n",
       "      <td>0</td>\n",
       "    </tr>\n",
       "    <tr>\n",
       "      <th>1</th>\n",
       "      <td>[卷159_2 「登江中孤屿，赠白云先生王迥」孟浩然, 　　悠悠清江水，水落沙屿出。回潭石下...</td>\n",
       "      <td>1</td>\n",
       "    </tr>\n",
       "    <tr>\n",
       "      <th>2</th>\n",
       "      <td>[卷159_3 「晚春卧病寄张八」孟浩然, 　　南陌春将晚，北窗犹卧病。林园久不游，草木一何...</td>\n",
       "      <td>2</td>\n",
       "    </tr>\n",
       "    <tr>\n",
       "      <th>3</th>\n",
       "      <td>[卷159_4 「秋登兰山寄张五」孟浩然, 　　北山白云里，隐者自怡悦。相望试登高，心飞逐鸟...</td>\n",
       "      <td>3</td>\n",
       "    </tr>\n",
       "    <tr>\n",
       "      <th>4</th>\n",
       "      <td>[卷159_5 「入峡寄弟」孟浩然, 　　吾昔与尔辈，读书常闭门。未尝冒湍险，岂顾垂堂言。,...</td>\n",
       "      <td>4</td>\n",
       "    </tr>\n",
       "  </tbody>\n",
       "</table>\n",
       "</div>"
      ],
      "text/plain": [
       "                                             content  test\n",
       "0  [卷159_1 「从张丞相游南纪城猎，戏赠裴迪张参军」孟浩然, 　　从禽非吾乐，不好云梦田。...     0\n",
       "1  [卷159_2 「登江中孤屿，赠白云先生王迥」孟浩然, 　　悠悠清江水，水落沙屿出。回潭石下...     1\n",
       "2  [卷159_3 「晚春卧病寄张八」孟浩然, 　　南陌春将晚，北窗犹卧病。林园久不游，草木一何...     2\n",
       "3  [卷159_4 「秋登兰山寄张五」孟浩然, 　　北山白云里，隐者自怡悦。相望试登高，心飞逐鸟...     3\n",
       "4  [卷159_5 「入峡寄弟」孟浩然, 　　吾昔与尔辈，读书常闭门。未尝冒湍险，岂顾垂堂言。,...     4"
      ]
     },
     "execution_count": 24,
     "metadata": {},
     "output_type": "execute_result"
    }
   ],
   "source": [
    "df[\"test\"] = np.arange(0,269)\n",
    "\n",
    "df.head()"
   ]
  },
  {
   "cell_type": "markdown",
   "metadata": {
    "id": "tOnJnGrS9Qns"
   },
   "source": [
    "We can also add a new row:"
   ]
  },
  {
   "cell_type": "code",
   "execution_count": 25,
   "metadata": {
    "colab": {
     "base_uri": "https://localhost:8080/",
     "height": 423
    },
    "id": "D4jBbQ8X9ScP",
    "outputId": "971b3661-2849-482a-902f-9d94763a442b"
   },
   "outputs": [
    {
     "data": {
      "text/html": [
       "<div>\n",
       "<style scoped>\n",
       "    .dataframe tbody tr th:only-of-type {\n",
       "        vertical-align: middle;\n",
       "    }\n",
       "\n",
       "    .dataframe tbody tr th {\n",
       "        vertical-align: top;\n",
       "    }\n",
       "\n",
       "    .dataframe thead th {\n",
       "        text-align: right;\n",
       "    }\n",
       "</style>\n",
       "<table border=\"1\" class=\"dataframe\">\n",
       "  <thead>\n",
       "    <tr style=\"text-align: right;\">\n",
       "      <th></th>\n",
       "      <th>content</th>\n",
       "      <th>test</th>\n",
       "    </tr>\n",
       "  </thead>\n",
       "  <tbody>\n",
       "    <tr>\n",
       "      <th>0</th>\n",
       "      <td>[卷159_1 「从张丞相游南纪城猎，戏赠裴迪张参军」孟浩然, 　　从禽非吾乐，不好云梦田。...</td>\n",
       "      <td>0.0</td>\n",
       "    </tr>\n",
       "    <tr>\n",
       "      <th>1</th>\n",
       "      <td>[卷159_2 「登江中孤屿，赠白云先生王迥」孟浩然, 　　悠悠清江水，水落沙屿出。回潭石下...</td>\n",
       "      <td>1.0</td>\n",
       "    </tr>\n",
       "    <tr>\n",
       "      <th>2</th>\n",
       "      <td>[卷159_3 「晚春卧病寄张八」孟浩然, 　　南陌春将晚，北窗犹卧病。林园久不游，草木一何...</td>\n",
       "      <td>2.0</td>\n",
       "    </tr>\n",
       "    <tr>\n",
       "      <th>3</th>\n",
       "      <td>[卷159_4 「秋登兰山寄张五」孟浩然, 　　北山白云里，隐者自怡悦。相望试登高，心飞逐鸟...</td>\n",
       "      <td>3.0</td>\n",
       "    </tr>\n",
       "    <tr>\n",
       "      <th>4</th>\n",
       "      <td>[卷159_5 「入峡寄弟」孟浩然, 　　吾昔与尔辈，读书常闭门。未尝冒湍险，岂顾垂堂言。,...</td>\n",
       "      <td>4.0</td>\n",
       "    </tr>\n",
       "    <tr>\n",
       "      <th>...</th>\n",
       "      <td>...</td>\n",
       "      <td>...</td>\n",
       "    </tr>\n",
       "    <tr>\n",
       "      <th>265</th>\n",
       "      <td>[卷160_181 「渡浙江问舟中人（一题作济江问同舟人。一作崔国辅诗）」孟浩然, 　　潮落...</td>\n",
       "      <td>265.0</td>\n",
       "    </tr>\n",
       "    <tr>\n",
       "      <th>266</th>\n",
       "      <td>[卷160_182 「初秋」孟浩然, 　　不觉初秋夜渐长，清风习习重凄凉。, 　　炎炎暑退茅...</td>\n",
       "      <td>266.0</td>\n",
       "    </tr>\n",
       "    <tr>\n",
       "      <th>267</th>\n",
       "      <td>[卷160_183 「过融上人兰若」孟浩然, 　　山头禅室挂僧衣，窗外无人水鸟飞。, 　　黄...</td>\n",
       "      <td>267.0</td>\n",
       "    </tr>\n",
       "    <tr>\n",
       "      <th>268</th>\n",
       "      <td>[卷160_184 「句」孟浩然, 　　微云淡河汉，疏雨滴梧桐。, 　　逐逐怀良驭，萧萧顾乐...</td>\n",
       "      <td>268.0</td>\n",
       "    </tr>\n",
       "    <tr>\n",
       "      <th>269</th>\n",
       "      <td>NaN</td>\n",
       "      <td>NaN</td>\n",
       "    </tr>\n",
       "  </tbody>\n",
       "</table>\n",
       "<p>270 rows × 2 columns</p>\n",
       "</div>"
      ],
      "text/plain": [
       "                                               content   test\n",
       "0    [卷159_1 「从张丞相游南纪城猎，戏赠裴迪张参军」孟浩然, 　　从禽非吾乐，不好云梦田。...    0.0\n",
       "1    [卷159_2 「登江中孤屿，赠白云先生王迥」孟浩然, 　　悠悠清江水，水落沙屿出。回潭石下...    1.0\n",
       "2    [卷159_3 「晚春卧病寄张八」孟浩然, 　　南陌春将晚，北窗犹卧病。林园久不游，草木一何...    2.0\n",
       "3    [卷159_4 「秋登兰山寄张五」孟浩然, 　　北山白云里，隐者自怡悦。相望试登高，心飞逐鸟...    3.0\n",
       "4    [卷159_5 「入峡寄弟」孟浩然, 　　吾昔与尔辈，读书常闭门。未尝冒湍险，岂顾垂堂言。,...    4.0\n",
       "..                                                 ...    ...\n",
       "265  [卷160_181 「渡浙江问舟中人（一题作济江问同舟人。一作崔国辅诗）」孟浩然, 　　潮落...  265.0\n",
       "266  [卷160_182 「初秋」孟浩然, 　　不觉初秋夜渐长，清风习习重凄凉。, 　　炎炎暑退茅...  266.0\n",
       "267  [卷160_183 「过融上人兰若」孟浩然, 　　山头禅室挂僧衣，窗外无人水鸟飞。, 　　黄...  267.0\n",
       "268  [卷160_184 「句」孟浩然, 　　微云淡河汉，疏雨滴梧桐。, 　　逐逐怀良驭，萧萧顾乐...  268.0\n",
       "269                                                NaN    NaN\n",
       "\n",
       "[270 rows x 2 columns]"
      ]
     },
     "execution_count": 25,
     "metadata": {},
     "output_type": "execute_result"
    }
   ],
   "source": [
    "df.append({'content': np.nan, 'test': np.nan}, ignore_index=True) # This is temporary only and will not change the data frame itself\n",
    "\n",
    "# np.nan means missing values"
   ]
  },
  {
   "cell_type": "code",
   "execution_count": 26,
   "metadata": {
    "colab": {
     "base_uri": "https://localhost:8080/",
     "height": 81
    },
    "id": "dtdlecV39wDR",
    "outputId": "f5b0c818-34f4-44c7-b37f-9c92f813b672"
   },
   "outputs": [
    {
     "data": {
      "text/html": [
       "<div>\n",
       "<style scoped>\n",
       "    .dataframe tbody tr th:only-of-type {\n",
       "        vertical-align: middle;\n",
       "    }\n",
       "\n",
       "    .dataframe tbody tr th {\n",
       "        vertical-align: top;\n",
       "    }\n",
       "\n",
       "    .dataframe thead th {\n",
       "        text-align: right;\n",
       "    }\n",
       "</style>\n",
       "<table border=\"1\" class=\"dataframe\">\n",
       "  <thead>\n",
       "    <tr style=\"text-align: right;\">\n",
       "      <th></th>\n",
       "      <th>content</th>\n",
       "      <th>test</th>\n",
       "    </tr>\n",
       "  </thead>\n",
       "  <tbody>\n",
       "    <tr>\n",
       "      <th>269</th>\n",
       "      <td>NaN</td>\n",
       "      <td>NaN</td>\n",
       "    </tr>\n",
       "  </tbody>\n",
       "</table>\n",
       "</div>"
      ],
      "text/plain": [
       "    content  test\n",
       "269     NaN   NaN"
      ]
     },
     "execution_count": 26,
     "metadata": {},
     "output_type": "execute_result"
    }
   ],
   "source": [
    "df = df.append({'content': np.nan, 'test': np.nan}, ignore_index=True) # df =  <- now the df is replaced\n",
    "\n",
    "df.tail(1)"
   ]
  },
  {
   "cell_type": "markdown",
   "metadata": {
    "id": "pRkLiI1g-uDA"
   },
   "source": [
    "We can then drop the row (all missing values) and the column again."
   ]
  },
  {
   "cell_type": "code",
   "execution_count": 27,
   "metadata": {
    "colab": {
     "base_uri": "https://localhost:8080/",
     "height": 81
    },
    "id": "2YjR5f6K-B5Q",
    "outputId": "bef19521-9602-45d7-a43b-f35409ea5d9c"
   },
   "outputs": [
    {
     "data": {
      "text/html": [
       "<div>\n",
       "<style scoped>\n",
       "    .dataframe tbody tr th:only-of-type {\n",
       "        vertical-align: middle;\n",
       "    }\n",
       "\n",
       "    .dataframe tbody tr th {\n",
       "        vertical-align: top;\n",
       "    }\n",
       "\n",
       "    .dataframe thead th {\n",
       "        text-align: right;\n",
       "    }\n",
       "</style>\n",
       "<table border=\"1\" class=\"dataframe\">\n",
       "  <thead>\n",
       "    <tr style=\"text-align: right;\">\n",
       "      <th></th>\n",
       "      <th>content</th>\n",
       "      <th>test</th>\n",
       "    </tr>\n",
       "  </thead>\n",
       "  <tbody>\n",
       "    <tr>\n",
       "      <th>268</th>\n",
       "      <td>[卷160_184 「句」孟浩然, 　　微云淡河汉，疏雨滴梧桐。, 　　逐逐怀良驭，萧萧顾乐...</td>\n",
       "      <td>268.0</td>\n",
       "    </tr>\n",
       "  </tbody>\n",
       "</table>\n",
       "</div>"
      ],
      "text/plain": [
       "                                               content   test\n",
       "268  [卷160_184 「句」孟浩然, 　　微云淡河汉，疏雨滴梧桐。, 　　逐逐怀良驭，萧萧顾乐...  268.0"
      ]
     },
     "execution_count": 27,
     "metadata": {},
     "output_type": "execute_result"
    }
   ],
   "source": [
    "df = df.dropna(how=\"any\",axis=\"index\") # this is for dropping all missing values in the rows\n",
    "\n",
    "df.tail(1)"
   ]
  },
  {
   "cell_type": "code",
   "execution_count": 28,
   "metadata": {
    "colab": {
     "base_uri": "https://localhost:8080/",
     "height": 206
    },
    "id": "rUIjrhcP-zQJ",
    "outputId": "11f892e1-923c-4471-9758-7685a6e9f290"
   },
   "outputs": [
    {
     "data": {
      "text/html": [
       "<div>\n",
       "<style scoped>\n",
       "    .dataframe tbody tr th:only-of-type {\n",
       "        vertical-align: middle;\n",
       "    }\n",
       "\n",
       "    .dataframe tbody tr th {\n",
       "        vertical-align: top;\n",
       "    }\n",
       "\n",
       "    .dataframe thead th {\n",
       "        text-align: right;\n",
       "    }\n",
       "</style>\n",
       "<table border=\"1\" class=\"dataframe\">\n",
       "  <thead>\n",
       "    <tr style=\"text-align: right;\">\n",
       "      <th></th>\n",
       "      <th>content</th>\n",
       "    </tr>\n",
       "  </thead>\n",
       "  <tbody>\n",
       "    <tr>\n",
       "      <th>0</th>\n",
       "      <td>[卷159_1 「从张丞相游南纪城猎，戏赠裴迪张参军」孟浩然, 　　从禽非吾乐，不好云梦田。...</td>\n",
       "    </tr>\n",
       "    <tr>\n",
       "      <th>1</th>\n",
       "      <td>[卷159_2 「登江中孤屿，赠白云先生王迥」孟浩然, 　　悠悠清江水，水落沙屿出。回潭石下...</td>\n",
       "    </tr>\n",
       "    <tr>\n",
       "      <th>2</th>\n",
       "      <td>[卷159_3 「晚春卧病寄张八」孟浩然, 　　南陌春将晚，北窗犹卧病。林园久不游，草木一何...</td>\n",
       "    </tr>\n",
       "    <tr>\n",
       "      <th>3</th>\n",
       "      <td>[卷159_4 「秋登兰山寄张五」孟浩然, 　　北山白云里，隐者自怡悦。相望试登高，心飞逐鸟...</td>\n",
       "    </tr>\n",
       "    <tr>\n",
       "      <th>4</th>\n",
       "      <td>[卷159_5 「入峡寄弟」孟浩然, 　　吾昔与尔辈，读书常闭门。未尝冒湍险，岂顾垂堂言。,...</td>\n",
       "    </tr>\n",
       "  </tbody>\n",
       "</table>\n",
       "</div>"
      ],
      "text/plain": [
       "                                             content\n",
       "0  [卷159_1 「从张丞相游南纪城猎，戏赠裴迪张参军」孟浩然, 　　从禽非吾乐，不好云梦田。...\n",
       "1  [卷159_2 「登江中孤屿，赠白云先生王迥」孟浩然, 　　悠悠清江水，水落沙屿出。回潭石下...\n",
       "2  [卷159_3 「晚春卧病寄张八」孟浩然, 　　南陌春将晚，北窗犹卧病。林园久不游，草木一何...\n",
       "3  [卷159_4 「秋登兰山寄张五」孟浩然, 　　北山白云里，隐者自怡悦。相望试登高，心飞逐鸟...\n",
       "4  [卷159_5 「入峡寄弟」孟浩然, 　　吾昔与尔辈，读书常闭门。未尝冒湍险，岂顾垂堂言。,..."
      ]
     },
     "execution_count": 28,
     "metadata": {},
     "output_type": "execute_result"
    }
   ],
   "source": [
    "df = df.drop(columns=\"test\") # this is dropping the column named \"test\"\n",
    "\n",
    "df.head()"
   ]
  },
  {
   "cell_type": "markdown",
   "metadata": {
    "id": "osNDiuzD9bYO"
   },
   "source": [
    "Now we finally start with our new columns:\n",
    "\n",
    "Let's look at one of our data: we can see the first item is the id, title and author name, and the other items are the text. So let's set the first item as title, and the rest of the items as content."
   ]
  },
  {
   "cell_type": "code",
   "execution_count": 29,
   "metadata": {
    "colab": {
     "base_uri": "https://localhost:8080/"
    },
    "id": "uEnMoOQr_Xtp",
    "outputId": "932a8ce1-de4b-4e47-a57c-f8d45feda24e"
   },
   "outputs": [
    {
     "data": {
      "text/plain": [
       "['卷159_1 「从张丞相游南纪城猎，戏赠裴迪张参军」孟浩然',\n",
       " '\\u3000\\u3000从禽非吾乐，不好云梦田。岁暮登城望，偏令乡思悬。',\n",
       " '\\u3000\\u3000公卿有几几，车骑何翩翩。世禄金张贵，官曹幕府贤。',\n",
       " '\\u3000\\u3000顺时行杀气，飞刃争割鲜。十里届宾馆，征声匝妓筵。',\n",
       " '\\u3000\\u3000高标回落日，平楚散芳烟。何意狂歌客，从公亦在旃。']"
      ]
     },
     "execution_count": 29,
     "metadata": {},
     "output_type": "execute_result"
    }
   ],
   "source": [
    "df[\"content\"][0]"
   ]
  },
  {
   "cell_type": "code",
   "execution_count": 30,
   "metadata": {
    "colab": {
     "base_uri": "https://localhost:8080/",
     "height": 206
    },
    "id": "AZ6VAJMN7J6X",
    "outputId": "0fa1b67c-5966-43ce-985c-7f289a91f8c9"
   },
   "outputs": [
    {
     "data": {
      "text/html": [
       "<div>\n",
       "<style scoped>\n",
       "    .dataframe tbody tr th:only-of-type {\n",
       "        vertical-align: middle;\n",
       "    }\n",
       "\n",
       "    .dataframe tbody tr th {\n",
       "        vertical-align: top;\n",
       "    }\n",
       "\n",
       "    .dataframe thead th {\n",
       "        text-align: right;\n",
       "    }\n",
       "</style>\n",
       "<table border=\"1\" class=\"dataframe\">\n",
       "  <thead>\n",
       "    <tr style=\"text-align: right;\">\n",
       "      <th></th>\n",
       "      <th>content</th>\n",
       "      <th>title</th>\n",
       "    </tr>\n",
       "  </thead>\n",
       "  <tbody>\n",
       "    <tr>\n",
       "      <th>0</th>\n",
       "      <td>从禽非吾乐，不好云梦田。岁暮登城望，偏令乡思悬。</td>\n",
       "      <td>卷159_1 「从张丞相游南纪城猎，戏赠裴迪张参军」孟浩然</td>\n",
       "    </tr>\n",
       "    <tr>\n",
       "      <th>1</th>\n",
       "      <td>悠悠清江水，水落沙屿出。回潭石下深，绿筱岸傍密。</td>\n",
       "      <td>卷159_2 「登江中孤屿，赠白云先生王迥」孟浩然</td>\n",
       "    </tr>\n",
       "    <tr>\n",
       "      <th>2</th>\n",
       "      <td>南陌春将晚，北窗犹卧病。林园久不游，草木一何盛。</td>\n",
       "      <td>卷159_3 「晚春卧病寄张八」孟浩然</td>\n",
       "    </tr>\n",
       "    <tr>\n",
       "      <th>3</th>\n",
       "      <td>北山白云里，隐者自怡悦。相望试登高，心飞逐鸟灭。</td>\n",
       "      <td>卷159_4 「秋登兰山寄张五」孟浩然</td>\n",
       "    </tr>\n",
       "    <tr>\n",
       "      <th>4</th>\n",
       "      <td>吾昔与尔辈，读书常闭门。未尝冒湍险，岂顾垂堂言。</td>\n",
       "      <td>卷159_5 「入峡寄弟」孟浩然</td>\n",
       "    </tr>\n",
       "  </tbody>\n",
       "</table>\n",
       "</div>"
      ],
      "text/plain": [
       "                      content                          title\n",
       "0  　　从禽非吾乐，不好云梦田。岁暮登城望，偏令乡思悬。  卷159_1 「从张丞相游南纪城猎，戏赠裴迪张参军」孟浩然\n",
       "1  　　悠悠清江水，水落沙屿出。回潭石下深，绿筱岸傍密。      卷159_2 「登江中孤屿，赠白云先生王迥」孟浩然\n",
       "2  　　南陌春将晚，北窗犹卧病。林园久不游，草木一何盛。            卷159_3 「晚春卧病寄张八」孟浩然\n",
       "3  　　北山白云里，隐者自怡悦。相望试登高，心飞逐鸟灭。            卷159_4 「秋登兰山寄张五」孟浩然\n",
       "4  　　吾昔与尔辈，读书常闭门。未尝冒湍险，岂顾垂堂言。               卷159_5 「入峡寄弟」孟浩然"
      ]
     },
     "execution_count": 30,
     "metadata": {},
     "output_type": "execute_result"
    }
   ],
   "source": [
    "df[\"title\"] = df[\"content\"].str[0] # the first item\n",
    "df[\"content\"] = df[\"content\"].str[1:] # second to last item\n",
    "df[\"content\"] = df[\"content\"].str.get(0) # get rid of the [] by extracting the first item from list\n",
    "df.head()"
   ]
  },
  {
   "cell_type": "code",
   "execution_count": 31,
   "metadata": {
    "colab": {
     "base_uri": "https://localhost:8080/",
     "height": 206
    },
    "id": "8QOxHJtH4f0F",
    "outputId": "977fd084-95d1-49be-9155-360f16398794"
   },
   "outputs": [
    {
     "data": {
      "text/html": [
       "<div>\n",
       "<style scoped>\n",
       "    .dataframe tbody tr th:only-of-type {\n",
       "        vertical-align: middle;\n",
       "    }\n",
       "\n",
       "    .dataframe tbody tr th {\n",
       "        vertical-align: top;\n",
       "    }\n",
       "\n",
       "    .dataframe thead th {\n",
       "        text-align: right;\n",
       "    }\n",
       "</style>\n",
       "<table border=\"1\" class=\"dataframe\">\n",
       "  <thead>\n",
       "    <tr style=\"text-align: right;\">\n",
       "      <th></th>\n",
       "      <th>content</th>\n",
       "      <th>title</th>\n",
       "    </tr>\n",
       "  </thead>\n",
       "  <tbody>\n",
       "    <tr>\n",
       "      <th>0</th>\n",
       "      <td>从禽非吾乐，不好云梦田。岁暮登城望，偏令乡思悬。</td>\n",
       "      <td>卷159_1 「从张丞相游南纪城猎，戏赠裴迪张参军」孟浩然</td>\n",
       "    </tr>\n",
       "    <tr>\n",
       "      <th>1</th>\n",
       "      <td>悠悠清江水，水落沙屿出。回潭石下深，绿筱岸傍密。</td>\n",
       "      <td>卷159_2 「登江中孤屿，赠白云先生王迥」孟浩然</td>\n",
       "    </tr>\n",
       "    <tr>\n",
       "      <th>2</th>\n",
       "      <td>南陌春将晚，北窗犹卧病。林园久不游，草木一何盛。</td>\n",
       "      <td>卷159_3 「晚春卧病寄张八」孟浩然</td>\n",
       "    </tr>\n",
       "    <tr>\n",
       "      <th>3</th>\n",
       "      <td>北山白云里，隐者自怡悦。相望试登高，心飞逐鸟灭。</td>\n",
       "      <td>卷159_4 「秋登兰山寄张五」孟浩然</td>\n",
       "    </tr>\n",
       "    <tr>\n",
       "      <th>4</th>\n",
       "      <td>吾昔与尔辈，读书常闭门。未尝冒湍险，岂顾垂堂言。</td>\n",
       "      <td>卷159_5 「入峡寄弟」孟浩然</td>\n",
       "    </tr>\n",
       "  </tbody>\n",
       "</table>\n",
       "</div>"
      ],
      "text/plain": [
       "                      content                          title\n",
       "0  　　从禽非吾乐，不好云梦田。岁暮登城望，偏令乡思悬。  卷159_1 「从张丞相游南纪城猎，戏赠裴迪张参军」孟浩然\n",
       "1  　　悠悠清江水，水落沙屿出。回潭石下深，绿筱岸傍密。      卷159_2 「登江中孤屿，赠白云先生王迥」孟浩然\n",
       "2  　　南陌春将晚，北窗犹卧病。林园久不游，草木一何盛。            卷159_3 「晚春卧病寄张八」孟浩然\n",
       "3  　　北山白云里，隐者自怡悦。相望试登高，心飞逐鸟灭。            卷159_4 「秋登兰山寄张五」孟浩然\n",
       "4  　　吾昔与尔辈，读书常闭门。未尝冒湍险，岂顾垂堂言。               卷159_5 「入峡寄弟」孟浩然"
      ]
     },
     "execution_count": 31,
     "metadata": {},
     "output_type": "execute_result"
    }
   ],
   "source": [
    "df = df.replace(r'\\n',' ', regex=True)  # replace the next line symbol '\\n' with empty space\n",
    "df.head()"
   ]
  },
  {
   "cell_type": "code",
   "execution_count": 32,
   "metadata": {
    "colab": {
     "base_uri": "https://localhost:8080/"
    },
    "id": "vfpSoEDq4zgg",
    "outputId": "65f3437a-76ce-492e-a68f-fc23d087735a"
   },
   "outputs": [
    {
     "data": {
      "text/plain": [
       "str"
      ]
     },
     "execution_count": 32,
     "metadata": {},
     "output_type": "execute_result"
    }
   ],
   "source": [
    "type(df.title[0]) # title is type of string"
   ]
  },
  {
   "cell_type": "markdown",
   "metadata": {
    "id": "UPhPwxcmA-g1"
   },
   "source": [
    "Now we can set up a new column \"id\" and then use it as our index using **set_index()**.\n",
    "\n",
    "We learnt in the last notebook. **(\\d+_\\d+)** means numbers followed by _ followed by numbers again. This is the pattern used for extract from the title column."
   ]
  },
  {
   "cell_type": "code",
   "execution_count": 33,
   "metadata": {
    "colab": {
     "base_uri": "https://localhost:8080/",
     "height": 237
    },
    "id": "KAeJ0rsOzyAJ",
    "outputId": "6b0fe315-bf19-41db-d8cf-c9e9d47c0294"
   },
   "outputs": [
    {
     "data": {
      "text/html": [
       "<div>\n",
       "<style scoped>\n",
       "    .dataframe tbody tr th:only-of-type {\n",
       "        vertical-align: middle;\n",
       "    }\n",
       "\n",
       "    .dataframe tbody tr th {\n",
       "        vertical-align: top;\n",
       "    }\n",
       "\n",
       "    .dataframe thead th {\n",
       "        text-align: right;\n",
       "    }\n",
       "</style>\n",
       "<table border=\"1\" class=\"dataframe\">\n",
       "  <thead>\n",
       "    <tr style=\"text-align: right;\">\n",
       "      <th></th>\n",
       "      <th>content</th>\n",
       "      <th>title</th>\n",
       "    </tr>\n",
       "    <tr>\n",
       "      <th>id</th>\n",
       "      <th></th>\n",
       "      <th></th>\n",
       "    </tr>\n",
       "  </thead>\n",
       "  <tbody>\n",
       "    <tr>\n",
       "      <th>159_1</th>\n",
       "      <td>从禽非吾乐，不好云梦田。岁暮登城望，偏令乡思悬。</td>\n",
       "      <td>卷159_1 「从张丞相游南纪城猎，戏赠裴迪张参军」孟浩然</td>\n",
       "    </tr>\n",
       "    <tr>\n",
       "      <th>159_2</th>\n",
       "      <td>悠悠清江水，水落沙屿出。回潭石下深，绿筱岸傍密。</td>\n",
       "      <td>卷159_2 「登江中孤屿，赠白云先生王迥」孟浩然</td>\n",
       "    </tr>\n",
       "    <tr>\n",
       "      <th>159_3</th>\n",
       "      <td>南陌春将晚，北窗犹卧病。林园久不游，草木一何盛。</td>\n",
       "      <td>卷159_3 「晚春卧病寄张八」孟浩然</td>\n",
       "    </tr>\n",
       "    <tr>\n",
       "      <th>159_4</th>\n",
       "      <td>北山白云里，隐者自怡悦。相望试登高，心飞逐鸟灭。</td>\n",
       "      <td>卷159_4 「秋登兰山寄张五」孟浩然</td>\n",
       "    </tr>\n",
       "    <tr>\n",
       "      <th>159_5</th>\n",
       "      <td>吾昔与尔辈，读书常闭门。未尝冒湍险，岂顾垂堂言。</td>\n",
       "      <td>卷159_5 「入峡寄弟」孟浩然</td>\n",
       "    </tr>\n",
       "  </tbody>\n",
       "</table>\n",
       "</div>"
      ],
      "text/plain": [
       "                          content                          title\n",
       "id                                                              \n",
       "159_1  　　从禽非吾乐，不好云梦田。岁暮登城望，偏令乡思悬。  卷159_1 「从张丞相游南纪城猎，戏赠裴迪张参军」孟浩然\n",
       "159_2  　　悠悠清江水，水落沙屿出。回潭石下深，绿筱岸傍密。      卷159_2 「登江中孤屿，赠白云先生王迥」孟浩然\n",
       "159_3  　　南陌春将晚，北窗犹卧病。林园久不游，草木一何盛。            卷159_3 「晚春卧病寄张八」孟浩然\n",
       "159_4  　　北山白云里，隐者自怡悦。相望试登高，心飞逐鸟灭。            卷159_4 「秋登兰山寄张五」孟浩然\n",
       "159_5  　　吾昔与尔辈，读书常闭门。未尝冒湍险，岂顾垂堂言。               卷159_5 「入峡寄弟」孟浩然"
      ]
     },
     "execution_count": 33,
     "metadata": {},
     "output_type": "execute_result"
    }
   ],
   "source": [
    "df[\"id\"] = df.title.str.extract('(\\d+_\\d+)')\n",
    "df = df.set_index(\"id\")\n",
    "\n",
    "df.head()"
   ]
  },
  {
   "cell_type": "markdown",
   "metadata": {
    "id": "KqeHuVwMCBEm"
   },
   "source": [
    "Now our data frame looks better. But we still want to get rid of the id, author name, and 「」. To remove them, we replace them with a string of nothing (\"\"). Save them back to title column."
   ]
  },
  {
   "cell_type": "code",
   "execution_count": 34,
   "metadata": {
    "id": "IXF7T75t0lGq"
   },
   "outputs": [],
   "source": [
    "df['title'] = df['title'].str.replace('卷(\\d+_\\d+)', '').str.replace('孟浩然', '')\n",
    "df['title'] = df['title'].str.replace('「', '').str.replace('」', '')"
   ]
  },
  {
   "cell_type": "markdown",
   "metadata": {
    "id": "0bc4jg3QDXIu"
   },
   "source": [
    "Let's have our df2 now by coping \"title\" and \"content\" from our df. And set index using index from df."
   ]
  },
  {
   "cell_type": "code",
   "execution_count": 35,
   "metadata": {
    "colab": {
     "base_uri": "https://localhost:8080/",
     "height": 237
    },
    "id": "hoqizVA602tW",
    "outputId": "3b11be25-a096-4fd6-ccb4-d76ace4eb89a"
   },
   "outputs": [
    {
     "data": {
      "text/html": [
       "<div>\n",
       "<style scoped>\n",
       "    .dataframe tbody tr th:only-of-type {\n",
       "        vertical-align: middle;\n",
       "    }\n",
       "\n",
       "    .dataframe tbody tr th {\n",
       "        vertical-align: top;\n",
       "    }\n",
       "\n",
       "    .dataframe thead th {\n",
       "        text-align: right;\n",
       "    }\n",
       "</style>\n",
       "<table border=\"1\" class=\"dataframe\">\n",
       "  <thead>\n",
       "    <tr style=\"text-align: right;\">\n",
       "      <th></th>\n",
       "      <th>title</th>\n",
       "      <th>content</th>\n",
       "    </tr>\n",
       "    <tr>\n",
       "      <th>id</th>\n",
       "      <th></th>\n",
       "      <th></th>\n",
       "    </tr>\n",
       "  </thead>\n",
       "  <tbody>\n",
       "    <tr>\n",
       "      <th>159_1</th>\n",
       "      <td>从张丞相游南纪城猎，戏赠裴迪张参军</td>\n",
       "      <td>从禽非吾乐，不好云梦田。岁暮登城望，偏令乡思悬。</td>\n",
       "    </tr>\n",
       "    <tr>\n",
       "      <th>159_2</th>\n",
       "      <td>登江中孤屿，赠白云先生王迥</td>\n",
       "      <td>悠悠清江水，水落沙屿出。回潭石下深，绿筱岸傍密。</td>\n",
       "    </tr>\n",
       "    <tr>\n",
       "      <th>159_3</th>\n",
       "      <td>晚春卧病寄张八</td>\n",
       "      <td>南陌春将晚，北窗犹卧病。林园久不游，草木一何盛。</td>\n",
       "    </tr>\n",
       "    <tr>\n",
       "      <th>159_4</th>\n",
       "      <td>秋登兰山寄张五</td>\n",
       "      <td>北山白云里，隐者自怡悦。相望试登高，心飞逐鸟灭。</td>\n",
       "    </tr>\n",
       "    <tr>\n",
       "      <th>159_5</th>\n",
       "      <td>入峡寄弟</td>\n",
       "      <td>吾昔与尔辈，读书常闭门。未尝冒湍险，岂顾垂堂言。</td>\n",
       "    </tr>\n",
       "  </tbody>\n",
       "</table>\n",
       "</div>"
      ],
      "text/plain": [
       "                    title                     content\n",
       "id                                                   \n",
       "159_1   从张丞相游南纪城猎，戏赠裴迪张参军  　　从禽非吾乐，不好云梦田。岁暮登城望，偏令乡思悬。\n",
       "159_2       登江中孤屿，赠白云先生王迥  　　悠悠清江水，水落沙屿出。回潭石下深，绿筱岸傍密。\n",
       "159_3             晚春卧病寄张八  　　南陌春将晚，北窗犹卧病。林园久不游，草木一何盛。\n",
       "159_4             秋登兰山寄张五  　　北山白云里，隐者自怡悦。相望试登高，心飞逐鸟灭。\n",
       "159_5                入峡寄弟  　　吾昔与尔辈，读书常闭门。未尝冒湍险，岂顾垂堂言。"
      ]
     },
     "execution_count": 35,
     "metadata": {},
     "output_type": "execute_result"
    }
   ],
   "source": [
    "df2 = (df[['title','content']]).set_index(df.index)\n",
    "df2.head()"
   ]
  },
  {
   "cell_type": "markdown",
   "metadata": {
    "id": "EsX9qv2pWZLG"
   },
   "source": [
    "Finally, we also need to know that conversion between Pandas column and Numpy array is very simple. We can basically call the column and **.values**. Then we get our array.\n",
    "\n",
    "For example, we try to convert our title column to array."
   ]
  },
  {
   "cell_type": "code",
   "execution_count": 71,
   "metadata": {
    "colab": {
     "base_uri": "https://localhost:8080/"
    },
    "id": "bRrdtTC2WpEI",
    "outputId": "728da063-d81f-4476-f574-43118b01a52d"
   },
   "outputs": [
    {
     "data": {
      "text/plain": [
       "array([' 从张丞相游南纪城猎，戏赠裴迪张参军', ' 登江中孤屿，赠白云先生王迥', ' 晚春卧病寄张八', ' 秋登兰山寄张五',\n",
       "       ' 入峡寄弟'], dtype=object)"
      ]
     },
     "execution_count": 71,
     "metadata": {},
     "output_type": "execute_result"
    }
   ],
   "source": [
    "df2.title.values[:5] # first 5 items"
   ]
  },
  {
   "cell_type": "markdown",
   "metadata": {
    "id": "QAJ7rsljEmd8"
   },
   "source": [
    "***\n",
    "\n",
    "<br>\n",
    "\n",
    "## **Data Analysis**\n",
    "\n",
    "After performing some basic processing of our data, let's try to do some analysis based on what we have. Let's say, we want to understand how the key words of season have been used in the text. How many times have they been used and how are they distributed? At the end we want to use the results to make a bar chart and a dispersion plot using matplotlib. We will learn much more about visualization later, but we now we will stick with the simple plots.\n",
    "\n",
    "In case we still have rows with missing values, we use **dropna()** again to clean our data frame."
   ]
  },
  {
   "cell_type": "code",
   "execution_count": 36,
   "metadata": {
    "id": "79hWt1IjE6rS"
   },
   "outputs": [],
   "source": [
    "df2 = df2.dropna(how=\"any\",axis=\"index\") # this is for dropping all missing values in the rows"
   ]
  },
  {
   "cell_type": "markdown",
   "metadata": {
    "id": "w-VGZkFAMX41"
   },
   "source": [
    "Then we calculate the word offset. It is done by geting the length of strings in the content column (**.len()**) and calculate the cumulative sum of it (**.cumsum()**). It means that now the values in the rows is not the length of the one title, but the word offset starting from the first character of the first title. We use it as our word offset for the plot later. With (**.to_numpy()**) we get the list to numpy array."
   ]
  },
  {
   "cell_type": "code",
   "execution_count": 37,
   "metadata": {
    "colab": {
     "base_uri": "https://localhost:8080/"
    },
    "id": "zZ8jBab0EuEt",
    "outputId": "8f58693d-0102-4e62-e917-8beb8139c08e"
   },
   "outputs": [
    {
     "data": {
      "text/plain": [
       "array([ 26,  52,  78, 104, 130])"
      ]
     },
     "execution_count": 37,
     "metadata": {},
     "output_type": "execute_result"
    }
   ],
   "source": [
    "word_count = df2.content.str.len().cumsum().to_numpy()\n",
    "\n",
    "word_count[:5]"
   ]
  },
  {
   "cell_type": "markdown",
   "metadata": {
    "id": "0nhMr1gtOXKq"
   },
   "source": [
    "Now we want to look for the keywords for every season. We do it using the **find()** function and convert the list to numpy. The same apply to every season."
   ]
  },
  {
   "cell_type": "code",
   "execution_count": 38,
   "metadata": {
    "colab": {
     "base_uri": "https://localhost:8080/"
    },
    "id": "E36ouGZ-DtsB",
    "outputId": "f155ef14-8033-403e-9a38-c0455b826410"
   },
   "outputs": [
    {
     "data": {
      "text/plain": [
       "array([-1, -1,  4, -1, -1])"
      ]
     },
     "execution_count": 38,
     "metadata": {},
     "output_type": "execute_result"
    }
   ],
   "source": [
    "spring_count = df2.content.str.find('春').to_numpy() # for spring\n",
    "\n",
    "spring_count[:5]"
   ]
  },
  {
   "cell_type": "code",
   "execution_count": 39,
   "metadata": {
    "colab": {
     "base_uri": "https://localhost:8080/"
    },
    "id": "v7SNHsUjFVDL",
    "outputId": "aec40982-120f-4596-98a8-2685d1bc2a53"
   },
   "outputs": [
    {
     "data": {
      "text/plain": [
       "array([-1, -1, -1, -1, -1])"
      ]
     },
     "execution_count": 39,
     "metadata": {},
     "output_type": "execute_result"
    }
   ],
   "source": [
    "summer_count = df2.content.str.find('夏').to_numpy() # for summer\n",
    "\n",
    "summer_count[:5]"
   ]
  },
  {
   "cell_type": "code",
   "execution_count": 40,
   "metadata": {
    "colab": {
     "base_uri": "https://localhost:8080/"
    },
    "id": "OclybNQHFeMA",
    "outputId": "746ee3d6-da8d-45b8-bc34-fcca66d315bc"
   },
   "outputs": [
    {
     "data": {
      "text/plain": [
       "array([-1, -1, -1, -1, -1])"
      ]
     },
     "execution_count": 40,
     "metadata": {},
     "output_type": "execute_result"
    }
   ],
   "source": [
    "autumn_count = df2.content.str.find('秋').to_numpy() # for autumn\n",
    "\n",
    "autumn_count[:5]"
   ]
  },
  {
   "cell_type": "code",
   "execution_count": 41,
   "metadata": {
    "colab": {
     "base_uri": "https://localhost:8080/"
    },
    "id": "yqodG2OHFeXi",
    "outputId": "ddfbaa94-9ba0-4113-e6b4-2acc6d74d162"
   },
   "outputs": [
    {
     "data": {
      "text/plain": [
       "array([-1, -1, -1, -1, -1])"
      ]
     },
     "execution_count": 41,
     "metadata": {},
     "output_type": "execute_result"
    }
   ],
   "source": [
    "winter_count = df2.content.str.find('冬').to_numpy() # for winter\n",
    "winter_count[:5]"
   ]
  },
  {
   "cell_type": "markdown",
   "metadata": {
    "id": "Z5rvnFOaPCMq"
   },
   "source": [
    "Then, we use **list comprehension** and **enumerate()** to loop through all items and the index in the array, and save (**index + word offset**) that is not equal to one.\n",
    "\n",
    "The value that printed out can be understood as the **total word offset** of that character starting from the first title. For example, from the next cell we can tell \"春\" appears in the 82th, 198th, 660th, ... characters."
   ]
  },
  {
   "cell_type": "code",
   "execution_count": 42,
   "metadata": {
    "colab": {
     "base_uri": "https://localhost:8080/"
    },
    "id": "vzS3HOYbHBfI",
    "outputId": "c984958f-2255-40ee-b006-e5ff7aa256f5"
   },
   "outputs": [
    {
     "data": {
      "text/plain": [
       "array([  82,  198,  660,  826, 1094, 1690, 1749, 2077, 2177, 2183, 2333,\n",
       "       2781, 2853, 3302, 3681, 4091, 4249, 4321, 4351, 5190, 5259, 5297,\n",
       "       5765, 5902, 6065, 6523, 6571, 6805, 6821])"
      ]
     },
     "execution_count": 42,
     "metadata": {},
     "output_type": "execute_result"
    }
   ],
   "source": [
    "spring_occur = np.array([v + word_count[i] for i, v in enumerate(spring_count) if v != -1]) # for spring\n",
    "spring_occur"
   ]
  },
  {
   "cell_type": "code",
   "execution_count": 43,
   "metadata": {
    "colab": {
     "base_uri": "https://localhost:8080/"
    },
    "id": "RfLxq9PDRw74",
    "outputId": "2a48ed6b-7e66-4199-9363-bccef6bd4ffd"
   },
   "outputs": [
    {
     "data": {
      "text/plain": [
       "array([ 407, 3204, 3897])"
      ]
     },
     "execution_count": 43,
     "metadata": {},
     "output_type": "execute_result"
    }
   ],
   "source": [
    "summer_occur = np.array([v + word_count[i] for i, v in enumerate(summer_count) if v != -1]) # for summer\n",
    "summer_occur"
   ]
  },
  {
   "cell_type": "code",
   "execution_count": 44,
   "metadata": {
    "colab": {
     "base_uri": "https://localhost:8080/"
    },
    "id": "fXYDON6bR0c2",
    "outputId": "209b1ad8-16a0-4218-a9b5-b1d578358220"
   },
   "outputs": [
    {
     "data": {
      "text/plain": [
       "array([ 366, 1949, 2347, 3455, 3743, 5504, 5649, 6850])"
      ]
     },
     "execution_count": 44,
     "metadata": {},
     "output_type": "execute_result"
    }
   ],
   "source": [
    "autumn_occur = np.array([v + word_count[i] for i, v in enumerate(autumn_count) if v != -1]) # for autumn\n",
    "autumn_occur"
   ]
  },
  {
   "cell_type": "code",
   "execution_count": 45,
   "metadata": {
    "colab": {
     "base_uri": "https://localhost:8080/"
    },
    "id": "CM-g1lB1R5TC",
    "outputId": "e9e10d67-e46a-4eaa-c98f-1d55cc11f750"
   },
   "outputs": [
    {
     "data": {
      "text/plain": [
       "array([], dtype=float64)"
      ]
     },
     "execution_count": 45,
     "metadata": {},
     "output_type": "execute_result"
    }
   ],
   "source": [
    "winter_occur = np.array([v + word_count[i] for i, v in enumerate(winter_count) if v != -1]) # for winter\n",
    "winter_occur"
   ]
  },
  {
   "cell_type": "markdown",
   "metadata": {
    "id": "kfZE85MZEbB8"
   },
   "source": [
    "***\n",
    "\n",
    "<br>\n",
    "\n",
    "## **Basic Data Visualization**"
   ]
  },
  {
   "cell_type": "markdown",
   "metadata": {
    "id": "PAg1jrmPQphn"
   },
   "source": [
    "Afterwards, we have our arrays which store information about the occurences of season keywords. We can make a plot out of it using **matplotlib**. The dispersion plot we are making is based on scatter plot. We will thus do a scatter plot for every season with custom marker styles."
   ]
  },
  {
   "cell_type": "code",
   "execution_count": 68,
   "metadata": {
    "colab": {
     "base_uri": "https://localhost:8080/",
     "height": 265
    },
    "id": "QRyCmwGETCNM",
    "outputId": "b59c2aba-9b9d-4ce5-e480-54150c2531b1"
   },
   "outputs": [
    {
     "data": {
      "text/plain": [
       "Text(0.5, 1.0, 'Lexical Dispersion')"
      ]
     },
     "execution_count": 68,
     "metadata": {},
     "output_type": "execute_result"
    },
    {
     "data": {
      "image/png": "[encoded data removed]",
      "text/plain": [
       "<Figure size 1080x216 with 1 Axes>"
      ]
     },
     "metadata": {
      "needs_background": "light"
     },
     "output_type": "display_data"
    }
   ],
   "source": [
    "import matplotlib.pyplot as plt # import library\n",
    "\n",
    "fig, ax = plt.subplots(figsize=(15,3)) # create an empty plot with defined size\n",
    "\n",
    "# in the scatter plot function (plt.scatter()), we need X for 1st argument and Y for 2nd argument.\n",
    "# for X we will put the word offset values for keyword occurence, for Y we will put a constant value from 1 to 4\n",
    "# because we want the same season in the same row\n",
    "\n",
    "# np.ones() creates 1 with defined shape, in this case the shape is [length of X,1]\n",
    "spring_y = 1*np.ones([len(spring_occur),1]) # all 1 (1*1)\n",
    "summer_y = 2*np.ones([len(summer_occur),1]) # all 2 (2*1)\n",
    "autumn_y = 3*np.ones([len(autumn_occur),1]) # all 3 (3*1)\n",
    "winter_y = 4*np.ones([len(winter_occur),1]) # all 4 (4*1)\n",
    "\n",
    "# scatter plot                \n",
    "plt.scatter(spring_occur,spring_y, marker=5, s=100, alpha=0.8) # first scatter plot for spring, alpha is transparency of the markers\n",
    "plt.scatter(summer_occur,summer_y, marker=5, s=100, alpha=0.8) # for summer\n",
    "plt.scatter(autumn_occur,autumn_y, marker=5, s=100, alpha=0.8) # for autumn\n",
    "plt.scatter(winter_occur,winter_y, marker=5, s=100, alpha=0.8) # for winter\n",
    "\n",
    "# set y limits\n",
    "plt.ylim(0.8, 4.5)\n",
    "\n",
    "# we want our y labels as text, not number. so here we define them.\n",
    "plt.yticks(np.arange(0,5,1))\n",
    "labels = ['','Spring', 'Summer', 'Autumn', 'Winter']\n",
    "ax.set_yticklabels(labels, fontsize=12)\n",
    "\n",
    "# no plot frame is needed\n",
    "plt.box(False)\n",
    "\n",
    "# labels and title\n",
    "plt.xlabel(\"Word Offset\", fontsize=14)\n",
    "plt.ylabel(\"Season Keywords\", fontsize=14)\n",
    "plt.title(\"Lexical Dispersion\", fontsize=16)"
   ]
  },
  {
   "cell_type": "markdown",
   "metadata": {
    "id": "VlvmD34GFb5A"
   },
   "source": [
    "***\n",
    "\n",
    "On another hand, we can also make a bar chart by simply showing the occurence frequency of keywords.\n",
    "\n",
    "We use **count()** of the **content** column from df2 to count the occurence. We need to add **sum()** to sum up count for all rows, not single row."
   ]
  },
  {
   "cell_type": "code",
   "execution_count": 47,
   "metadata": {
    "colab": {
     "base_uri": "https://localhost:8080/"
    },
    "id": "e2i_naj5OU6E",
    "outputId": "2dc5c373-52ae-4eb8-9aea-12c4ed505504"
   },
   "outputs": [
    {
     "data": {
      "text/plain": [
       "29"
      ]
     },
     "execution_count": 47,
     "metadata": {},
     "output_type": "execute_result"
    }
   ],
   "source": [
    "spring = int(df2.content.str.count('春').sum()) # spring\n",
    "spring"
   ]
  },
  {
   "cell_type": "code",
   "execution_count": 48,
   "metadata": {
    "colab": {
     "base_uri": "https://localhost:8080/"
    },
    "id": "1uxNj-3_Ogtl",
    "outputId": "bff8a73b-70b5-4ba5-99d4-fd55b929a7aa"
   },
   "outputs": [
    {
     "data": {
      "text/plain": [
       "3"
      ]
     },
     "execution_count": 48,
     "metadata": {},
     "output_type": "execute_result"
    }
   ],
   "source": [
    "summer = int(df2.content.str.count('夏').sum()) # summer\n",
    "summer"
   ]
  },
  {
   "cell_type": "code",
   "execution_count": 49,
   "metadata": {
    "colab": {
     "base_uri": "https://localhost:8080/"
    },
    "id": "EUmmmNNXOn00",
    "outputId": "56e5fa04-f20e-4964-a66e-9ac87f9fb051"
   },
   "outputs": [
    {
     "data": {
      "text/plain": [
       "8"
      ]
     },
     "execution_count": 49,
     "metadata": {},
     "output_type": "execute_result"
    }
   ],
   "source": [
    "autumn = int(df2.content.str.count('秋').sum()) # autumn\n",
    "autumn"
   ]
  },
  {
   "cell_type": "code",
   "execution_count": 50,
   "metadata": {
    "colab": {
     "base_uri": "https://localhost:8080/"
    },
    "id": "hJfoy2ZmOsUv",
    "outputId": "63c9451d-4b42-4d33-acbd-f579c8c015be"
   },
   "outputs": [
    {
     "data": {
      "text/plain": [
       "0"
      ]
     },
     "execution_count": 50,
     "metadata": {},
     "output_type": "execute_result"
    }
   ],
   "source": [
    "winter = int(df2.content.str.count('冬').sum()) # winter\n",
    "winter"
   ]
  },
  {
   "cell_type": "markdown",
   "metadata": {
    "id": "7U72tDoEVE6Q"
   },
   "source": [
    "Now, we can use our results to make another data frame. We do it because having results in a separate data frame make visualization easier."
   ]
  },
  {
   "cell_type": "code",
   "execution_count": 51,
   "metadata": {
    "colab": {
     "base_uri": "https://localhost:8080/",
     "height": 206
    },
    "id": "BOlq-OCFO26t",
    "outputId": "7a328e0f-2324-436c-fc3d-af1bc948b631"
   },
   "outputs": [
    {
     "data": {
      "text/html": [
       "<div>\n",
       "<style scoped>\n",
       "    .dataframe tbody tr th:only-of-type {\n",
       "        vertical-align: middle;\n",
       "    }\n",
       "\n",
       "    .dataframe tbody tr th {\n",
       "        vertical-align: top;\n",
       "    }\n",
       "\n",
       "    .dataframe thead th {\n",
       "        text-align: right;\n",
       "    }\n",
       "</style>\n",
       "<table border=\"1\" class=\"dataframe\">\n",
       "  <thead>\n",
       "    <tr style=\"text-align: right;\">\n",
       "      <th></th>\n",
       "      <th>count</th>\n",
       "    </tr>\n",
       "    <tr>\n",
       "      <th>season</th>\n",
       "      <th></th>\n",
       "    </tr>\n",
       "  </thead>\n",
       "  <tbody>\n",
       "    <tr>\n",
       "      <th>spring</th>\n",
       "      <td>29</td>\n",
       "    </tr>\n",
       "    <tr>\n",
       "      <th>summer</th>\n",
       "      <td>3</td>\n",
       "    </tr>\n",
       "    <tr>\n",
       "      <th>autumn</th>\n",
       "      <td>8</td>\n",
       "    </tr>\n",
       "    <tr>\n",
       "      <th>winter</th>\n",
       "      <td>0</td>\n",
       "    </tr>\n",
       "  </tbody>\n",
       "</table>\n",
       "</div>"
      ],
      "text/plain": [
       "        count\n",
       "season       \n",
       "spring     29\n",
       "summer      3\n",
       "autumn      8\n",
       "winter      0"
      ]
     },
     "execution_count": 51,
     "metadata": {},
     "output_type": "execute_result"
    }
   ],
   "source": [
    "# construct data frame from dictionary\n",
    "count = {'season': [\"spring\", \"summer\", \"autumn\", \"winter\"],'count': [spring, summer, autumn, winter]}\n",
    "season = pd.DataFrame.from_dict(count)\n",
    "\n",
    "# set season as index\n",
    "season = season.set_index(\"season\")\n",
    "season.head()"
   ]
  },
  {
   "cell_type": "markdown",
   "metadata": {
    "id": "GRuJWgSzVfWm"
   },
   "source": [
    "In order to have Chinese characters shown in our plot, we need to download a package and change the font from the Python library. Please just follow the follow code."
   ]
  },
  {
   "cell_type": "code",
   "execution_count": 52,
   "metadata": {
    "colab": {
     "base_uri": "https://localhost:8080/"
    },
    "id": "jKyp5PHiRfuK",
    "outputId": "818418f5-87c6-45c9-9f0e-471f9eb0c46e"
   },
   "outputs": [
    {
     "name": "stdout",
     "output_type": "stream",
     "text": [
      "--2021-12-12 20:09:06--  https://drive.google.com/uc?id=1eGAsTN1HBpJAkeVM57_C7ccp7hbgSz3_\n",
      "Resolving drive.google.com (drive.google.com)... 142.250.81.206, 2607:f8b0:4004:82f::200e\n",
      "Connecting to drive.google.com (drive.google.com)|142.250.81.206|:443... connected.\n",
      "HTTP request sent, awaiting response... 302 Moved Temporarily\n",
      "Location: https://doc-0k-9o-docs.googleusercontent.com/docs/securesc/ha0ro937gcuc7l7deffksulhg5h7mbp1/6nfeiuvrhp3la80n9pg1oja3jsktcq6e/1639339725000/02847987870453524430/*/1eGAsTN1HBpJAkeVM57_C7ccp7hbgSz3_ [following]\n",
      "Warning: wildcards not supported in HTTP.\n",
      "--2021-12-12 20:09:10--  https://doc-0k-9o-docs.googleusercontent.com/docs/securesc/ha0ro937gcuc7l7deffksulhg5h7mbp1/6nfeiuvrhp3la80n9pg1oja3jsktcq6e/1639339725000/02847987870453524430/*/1eGAsTN1HBpJAkeVM57_C7ccp7hbgSz3_\n",
      "Resolving doc-0k-9o-docs.googleusercontent.com (doc-0k-9o-docs.googleusercontent.com)... 142.250.73.193, 2607:f8b0:4004:829::2001\n",
      "Connecting to doc-0k-9o-docs.googleusercontent.com (doc-0k-9o-docs.googleusercontent.com)|142.250.73.193|:443... connected.\n",
      "HTTP request sent, awaiting response... 200 OK\n",
      "Length: 20659344 (20M) [application/x-font-ttf]\n",
      "Saving to: ‘TaipeiSansTCBeta-Regular.ttf’\n",
      "\n",
      "TaipeiSansTCBeta-Re 100%[===================>]  19.70M  35.2MB/s    in 0.6s    \n",
      "\n",
      "2021-12-12 20:09:11 (35.2 MB/s) - ‘TaipeiSansTCBeta-Regular.ttf’ saved [20659344/20659344]\n",
      "\n"
     ]
    }
   ],
   "source": [
    "# download package\n",
    "!wget -O TaipeiSansTCBeta-Regular.ttf https://drive.google.com/uc?id=1eGAsTN1HBpJAkeVM57_C7ccp7hbgSz3_&export=download\n",
    "\n",
    "# import library\n",
    "import matplotlib as mpl\n",
    "import matplotlib.pyplot as plt \n",
    "from matplotlib.font_manager import fontManager\n",
    "\n",
    "# change font setting\n",
    "fontManager.addfont('TaipeiSansTCBeta-Regular.ttf')\n",
    "mpl.rc('font', family='Taipei Sans TC Beta')"
   ]
  },
  {
   "cell_type": "markdown",
   "metadata": {
    "id": "CfDmXxx7V0XW"
   },
   "source": [
    "Having a Pandas data frame make visualization simple. We can basically call the dataframe with .plot., followed by the type of plot we want to have. For example, a bar chart is **(name of dataframe).plot.bar()**. "
   ]
  },
  {
   "cell_type": "code",
   "execution_count": 53,
   "metadata": {
    "colab": {
     "base_uri": "https://localhost:8080/",
     "height": 315
    },
    "id": "GEPY0iLdP5FK",
    "outputId": "ff8c5653-8d23-4210-b9dc-c62eef6ce915"
   },
   "outputs": [
    {
     "data": {
      "text/plain": [
       "<Figure size 1296x432 with 0 Axes>"
      ]
     },
     "metadata": {},
     "output_type": "display_data"
    },
    {
     "data": {
      "image/png": "[encoded data removed]",
      "text/plain": [
       "<Figure size 432x288 with 1 Axes>"
      ]
     },
     "metadata": {
      "needs_background": "light"
     },
     "output_type": "display_data"
    }
   ],
   "source": [
    "# plot empty figure\n",
    "plt.figure(figsize=(18,6))\n",
    "\n",
    "# bar chart\n",
    "season.plot.bar(rot=0, color=\"#830045\")\n",
    "\n",
    "# labels and title\n",
    "plt.xlabel(\"Season\", fontsize=15)\n",
    "plt.ylabel(\"Occurence\", fontsize=15)\n",
    "plt.title(\"Description of season in \\n孟浩然诗 卷一百五十九 and 卷一百六十?\", fontsize=15)\n",
    "\n",
    "# remove legend and add keywords in the x-axis\n",
    "ax = plt.gca()\n",
    "ax.set_xticklabels(['春','夏','秋','冬'], fontsize=16)\n",
    "ax.get_legend().remove()\n",
    "\n",
    "# adjust spacing in plot\n",
    "plt.tight_layout()"
   ]
  },
  {
   "cell_type": "markdown",
   "metadata": {
    "id": "9YZ5D7SME8Ld"
   },
   "source": [
    "<br>\n",
    "<br>\n",
    "\n",
    "***\n",
    "\n",
    "## **Additional information**\n",
    "\n",
    "This notebook is provided for educational purpose and feel free to report any issue on GitHub.\n",
    "\n",
    "<br>\n",
    "\n",
    "**Author:** [Ka Hei, Chow](https://www.linkedin.com/in/ka-hei-chow-231345188/)\n",
    "\n",
    "**License:** The code in this notebook is licensed under the [Creative Commons by Attribution 4.0 license](https://creativecommons.org/licenses/by/4.0/).\n",
    "\n",
    "**Last modified:** December 2021\n",
    "\n",
    "<br>\n",
    "\n",
    "***\n",
    "\n",
    "<br>\n",
    "\n",
    "## **References:** \n",
    "[Jieba](https://levelup.gitconnected.com/how-to-improve-the-performance-of-chinese-text-tokenization-in-python-and-jieba-26add53f3756)\n",
    "\n",
    "[Displaying Chinese characters](https://colab.research.google.com/github/willismax/matplotlib_show_chinese_in_colab/blob/master/matplotlib_show_chinese_in_colab.ipynb#scrollTo=RfR0uymWF3cB)\n",
    "\n",
    "[Python Data Science Handbook](https://colab.research.google.com/github/jakevdp/PythonDataScienceHandbook/blob/master/notebooks/03.10-Working-With-Strings.ipynb#scrollTo=DrCMZr3rJsfU)"
   ]
  }
 ],
 "metadata": {
  "colab": {
   "collapsed_sections": [],
   "name": "PANDAS.ipynb",
   "provenance": []
  },
  "kernelspec": {
   "display_name": "Python 3",
   "language": "python",
   "name": "python3"
  },
  "language_info": {
   "codemirror_mode": {
    "name": "ipython",
    "version": 3
   },
   "file_extension": ".py",
   "mimetype": "text/x-python",
   "name": "python",
   "nbconvert_exporter": "python",
   "pygments_lexer": "ipython3",
   "version": "3.7.9"
  },
  "toc": {
   "base_numbering": 1,
   "nav_menu": {},
   "number_sections": true,
   "sideBar": true,
   "skip_h1_title": false,
   "title_cell": "Table of Contents",
   "title_sidebar": "Contents",
   "toc_cell": false,
   "toc_position": {},
   "toc_section_display": true,
   "toc_window_display": false
  }
 },
 "nbformat": 4,
 "nbformat_minor": 1
}
