{
 "cells": [
  {
   "cell_type": "markdown",
   "metadata": {},
   "source": [
    "# Good Coding Practice 🖋️\n",
    "> How to keep good habits for writing your code\n",
    "\n",
    "- toc: true \n",
    "- badges: true\n",
    "- comments: true\n",
    "- categories: [background, level-1, chapter-1]\n",
    "- image: images/chart-preview.png"
   ]
  },
  {
   "cell_type": "markdown",
   "metadata": {
    "id": "2AVgBtLkl9a8"
   },
   "source": [
    "<br>\n",
    "\n",
    "***\n",
    "\n",
    "## **Background**\n",
    "\n",
    "Although programming is probably not your primary profession, it is always nice to have good coding practice to avoid unnecessary mistakes and misunderstandings in your projects. Some of the practices are more relevant for professional programmers, but here we mention the more relevant one for users who mostly code for fixed-term research projects.\n",
    "\n",
    "<br>\n",
    "\n",
    "*Presumption:* Not applicable\n",
    "\n",
    "<br>\n",
    "\n",
    "***"
   ]
  },
  {
   "cell_type": "markdown",
   "metadata": {
    "id": "oaOXPfU3oJG0"
   },
   "source": [
    "## ***1) Documentation*** \n",
    "\n",
    "## RECORD WHAT YOU HAVE DONE 📃\n",
    "\n",
    "Documentation is important. Although you might be really sure what you are doing when you code, most of the time it is not anymore the case when you wake up another morning, after busy time working on other projects or after a nice family trip. Do not need to mentioned if you are looking at your own code from last year. Do always document them, either by writing a comment with `#`, `\"\"\" \"\"\"`, or use a `Jupyter Notebook` and add more texts!\n",
    "\n",
    "And sometimes you might have a project together with your colleagues, and they also need to understand what you are doing. Or if you are always working alone, then one day you colleagues want to get some insights from the code you wrote. You are not gonna show them and explain everything to them. \n",
    "\n",
    "So make use of comments! When we write comments, we do not write what is done, we write **what is the purpose**. For example, if you create a new dataframe with two columns from the old dataframe, it is better to write **\"extract coordinates and name from historical sites\"** than **\"create new dataframe\"**, bacause the later comment do not give enough context and new information to the readers."
   ]
  },
  {
   "cell_type": "markdown",
   "metadata": {
    "id": "hyqXVlJBq0NC"
   },
   "source": [
    "## ***2) Consistency***\n",
    "\n",
    "## KEEP THINGS EASY TO REMEMBER 🧠\n",
    "\n",
    "You might not realize it but consistency fits your brain that always search for patterns! If you write your code in a consistent way, it can save you a lot of time running into unnecessary mistakes.\n",
    "\n",
    "For example, if you name your five dataframes as \n",
    "* dataframe1\n",
    "* dataframe2\n",
    "* DataFrame3\n",
    "* Dataframe4\n",
    "* Dataframe_5\n",
    "\n",
    "You might forget how did you name your dataframe later, and write dataframe3, or Dataframe_4, which all will run into errors. Consistency applies particularly to capital letters because we have learnt Python is case-sensitive.\n",
    "\n",
    "You might think you can check it out everytime but it is not handy if you have tens of those variables. It is better that you name them in a consistent way from the first place.\n",
    "\n",
    "Like: \n",
    "* df1\n",
    "* df2\n",
    "* df3\n",
    "* df4\n",
    "* df5"
   ]
  },
  {
   "cell_type": "markdown",
   "metadata": {
    "id": "ffirn-wGsov9"
   },
   "source": [
    "It also apply when you are writing code instead of naming variable. Because you always have multiple ways to get things done. Stick with the way that is simple and straight-forward!\n",
    "\n",
    "For example, you have data from three years:\n",
    "* df_2018 = [9.8, 12.6, 15.8]\n",
    "* df_2019 = [5.6, 17.6, 25.1]\n",
    "* df_2020 = np.array([6.5, 11.3, 13.5])\n",
    "\n",
    "<br>\n",
    "\n",
    "While df_2018 and df_2019 are lists, df_2020 is a Numpy array. Although both data types will work, they are different types and you might not remember it later, and run into errors because you thought the operations that works for df_2018 will also works for df_2020.\n",
    "\n",
    "\n",
    "#### ***So stay consistent!***"
   ]
  },
  {
   "cell_type": "markdown",
   "metadata": {
    "id": "RiKxqylhrlg3"
   },
   "source": [
    "## 3) Naming\n",
    "## ***KEEP THINGS CLEAN***\n",
    "\n",
    "Also it is important how you name the objects. If you have one dataframe for China, one for Korea and one for Japan. You want to name them in a more informative way, not \n",
    "\n",
    "* df1\n",
    "* df2\n",
    "* df3\n",
    "\n",
    "but\n",
    "\n",
    "* df_china\n",
    "* df_japan\n",
    "* df_korea\n",
    "\n",
    "<br>\n",
    "\n",
    "There are different conventions too you would follow, particularly when it comes to combining words. Because Python do not support spaces in variable, you cannot name a data frame \"South Korea Data Frame\", but the letters need to be combined in some ways."
   ]
  },
  {
   "cell_type": "markdown",
   "metadata": {
    "id": "--mySxtm399U"
   },
   "source": [
    "<br>\n",
    "\n",
    "### 🐫 ***Camel Case***\n",
    "\n",
    "Camel case combines words by capitalizing all words following the first word and removing the space, as follows:\n",
    "\n",
    "**Raw:** `user login count`\n",
    "\n",
    "**Camel Case:** `userLoginCount`\n",
    "\n",
    "<br>\n",
    "\n",
    "### 👨 ***Pascal Case***\n",
    "\n",
    "Pascal case combines words by capitalizing all words (even the first word) and removing the space, as follows:\n",
    "\n",
    "**Raw:** `user login count`\n",
    "\n",
    "**Pascal Case:** `UserLoginCount`\n",
    "\n",
    "<br>\n",
    "\n",
    "### 🐍 ***Snake Case***\n",
    "\n",
    "Snake case combines words by replacing each space with an underscore (_) and, in the all caps version, all letters are capitalized, as follows:\n",
    "\n",
    "**Raw:** `user login count`\n",
    "\n",
    "**Snake Case:** `user_login_count`\n",
    "\n",
    "**Snake Case (All Caps):** `USER_LOGIN_COUNT`\n",
    "\n",
    "<br>\n",
    "\n",
    "### 🥙 ***Kebab Case***\n",
    "\n",
    "Kebab case combines words by replacing each space with a dash (-), as follows:\n",
    "\n",
    "**Raw:** `user login count`\n",
    "\n",
    "**Kebab Case:** `user-login-count`\n",
    "\n",
    "<br>\n",
    "\n",
    "There is not the best way how to name your variable, either \"dateFrame\" or \"data-frame\", the more important is that they are used in a consistent way. Also pay attention that **abbreviations** are recommanded to keep things short but not too much that all others cannot really understand."
   ]
  },
  {
   "cell_type": "markdown",
   "metadata": {
    "id": "IIg2ZBZurxOH"
   },
   "source": [
    "## 4) Correct Broken Code\n",
    "## ***GET THINGS FIXED*** 🔧\n",
    "\n",
    "<br>\n",
    "\n",
    "Sometimes things do not work the way we want, they are called bugs. They might not come to your immediate concerns but mark them down and get them fixed as soon as possible. You might even forget in what ways it is broken if you do not fix them timely and it can get worse.\n"
   ]
  },
  {
   "cell_type": "markdown",
   "metadata": {
    "id": "PEtPAM2rrzqV"
   },
   "source": [
    "## 5) Readability\n",
    "## ***KEEP THINGS CLEAN, CONCISE AND SIMPLE*** 🐇"
   ]
  },
  {
   "cell_type": "markdown",
   "metadata": {
    "id": "-ybYhkyB8VEm"
   },
   "source": [
    "This is simple. If code does not work, throw them away and do not keep mess.\n",
    "\n",
    "For example, instead of writing code like below:"
   ]
  },
  {
   "cell_type": "code",
   "execution_count": 2,
   "metadata": {
    "colab": {
     "base_uri": "https://localhost:8080/"
    },
    "id": "5oNxuVv18tea",
    "outputId": "ee850566-47cb-41f6-e15a-16d86d5178b0"
   },
   "outputs": [
    {
     "data": {
      "text/plain": [
       "['Hong Kong Government Reports Online 1841-1942',\n",
       " 'Policing the Shanghai International Settlement, 1894-1945',\n",
       " 'Virtual Cities Project',\n",
       " 'China Families']"
      ]
     },
     "execution_count": 2,
     "metadata": {},
     "output_type": "execute_result"
    }
   ],
   "source": [
    "urban_history = [\"Hong Kong Government Reports Online 1841-1942\",\"Policing the Shanghai International Settlement, 1894-1945\",\"Virtual Cities Project\"] \n",
    "social_history = [\"China Families\"]\n",
    "# Manchukuo = [\"Chinese Posters in Harvard-Yenching Manchukuo Collection\"] # try without first\n",
    "\n",
    "\n",
    "\n",
    "# urban_history.insert(social_history,2) (does not work)\n",
    "#\n",
    "# print(urban_history.append(social_history)) (does not work either)\n",
    "urban_history + social_history # this is fine"
   ]
  },
  {
   "cell_type": "markdown",
   "metadata": {
    "id": "NkqoJD-b9Roa"
   },
   "source": [
    "Keep your \"Working Table\" clean like this:"
   ]
  },
  {
   "cell_type": "code",
   "execution_count": 3,
   "metadata": {
    "colab": {
     "base_uri": "https://localhost:8080/"
    },
    "id": "UK6pa8Yg9oL_",
    "outputId": "c6bc96b9-a7ea-4a55-bd0a-8e48935dfde8"
   },
   "outputs": [
    {
     "data": {
      "text/plain": [
       "['Hong Kong Government Reports Online 1841-1942',\n",
       " 'Policing the Shanghai International Settlement, 1894-1945',\n",
       " 'Virtual Cities Project',\n",
       " 'China Families']"
      ]
     },
     "execution_count": 3,
     "metadata": {},
     "output_type": "execute_result"
    }
   ],
   "source": [
    "# define variables\n",
    "urban_history = [\"Hong Kong Government Reports Online 1841-1942\",\"Policing the Shanghai International Settlement, 1894-1945\",\"Virtual Cities Project\"] \n",
    "social_history = [\"China Families\"]\n",
    "\n",
    "# calculation\n",
    "urban_history + social_history"
   ]
  },
  {
   "cell_type": "markdown",
   "metadata": {
    "id": "3UPJgBFShRQF"
   },
   "source": [
    "Clean code also mean that your code is readable. For example, try to avoid many operations in one line. Although it also works, it make things hard to read. If there are any small typos, it is often not so easy to spot.\n",
    "\n",
    "Like:\n",
    "\n",
    "**(NOT recommanded)**"
   ]
  },
  {
   "cell_type": "code",
   "execution_count": 8,
   "metadata": {
    "colab": {
     "base_uri": "https://localhost:8080/",
     "height": 81
    },
    "id": "jhX9mY1di1gx",
    "outputId": "2d8e1a04-4b61-443f-a6c1-2a2a5b384af4"
   },
   "outputs": [
    {
     "data": {
      "text/html": [
       "<div>\n",
       "<style scoped>\n",
       "    .dataframe tbody tr th:only-of-type {\n",
       "        vertical-align: middle;\n",
       "    }\n",
       "\n",
       "    .dataframe tbody tr th {\n",
       "        vertical-align: top;\n",
       "    }\n",
       "\n",
       "    .dataframe thead th {\n",
       "        text-align: right;\n",
       "    }\n",
       "</style>\n",
       "<table border=\"1\" class=\"dataframe\">\n",
       "  <thead>\n",
       "    <tr style=\"text-align: right;\">\n",
       "      <th></th>\n",
       "      <th>Name</th>\n",
       "      <th>History</th>\n",
       "    </tr>\n",
       "  </thead>\n",
       "  <tbody>\n",
       "    <tr>\n",
       "      <th>0</th>\n",
       "      <td>Hong Kong Government Reports Online 1841-1942</td>\n",
       "      <td>urban</td>\n",
       "    </tr>\n",
       "  </tbody>\n",
       "</table>\n",
       "</div>"
      ],
      "text/plain": [
       "                                            Name History\n",
       "0  Hong Kong Government Reports Online 1841-1942   urban"
      ]
     },
     "execution_count": 8,
     "metadata": {},
     "output_type": "execute_result"
    }
   ],
   "source": [
    "import pandas as pd\n",
    "\n",
    "(pd.DataFrame(data={'Name': [\"Hong Kong Government Reports Online 1841-1942\",\"Policing the Shanghai International Settlement, 1894-1945\",\"Virtual Cities Project\"] \n",
    ", 'History': [\"urban\",\"urban\",\"urban\"]})).head(1)"
   ]
  },
  {
   "cell_type": "code",
   "execution_count": 10,
   "metadata": {
    "colab": {
     "base_uri": "https://localhost:8080/",
     "height": 131
    },
    "id": "nweKSIm3kSHm",
    "outputId": "5ee66f3c-af2c-4e88-bfa6-8d74d02b7d2d"
   },
   "outputs": [
    {
     "ename": "SyntaxError",
     "evalue": "ignored",
     "output_type": "error",
     "traceback": [
      "\u001b[0;36m  File \u001b[0;32m\"<ipython-input-10-5139c64437bf>\"\u001b[0;36m, line \u001b[0;32m5\u001b[0m\n\u001b[0;31m    , 'History': [\"urban\",\"urban\",\"urban\"]]})).head(1)\u001b[0m\n\u001b[0m                                          ^\u001b[0m\n\u001b[0;31mSyntaxError\u001b[0m\u001b[0;31m:\u001b[0m invalid syntax\n"
     ]
    }
   ],
   "source": [
    "# when a small typo exists, it takes more time to find it out\n",
    "import pandas as pd\n",
    "\n",
    "(pd.DataFrame(data={'Name': [\"Hong Kong Government Reports Online 1841-1942\",\"Policing the Shanghai International Settlement, 1894-1945\",\"Virtual Cities Project\"] \n",
    ", 'History': [\"urban\",\"urban\",\"urban\"]]})).head(1)"
   ]
  },
  {
   "cell_type": "markdown",
   "metadata": {
    "id": "X8ukYVzOj2FP"
   },
   "source": [
    "**(recommanded)**"
   ]
  },
  {
   "cell_type": "code",
   "execution_count": 9,
   "metadata": {
    "colab": {
     "base_uri": "https://localhost:8080/",
     "height": 81
    },
    "id": "NiMnAmtBhjBv",
    "outputId": "5bf02546-653a-4953-de59-a5c9220d8707"
   },
   "outputs": [
    {
     "data": {
      "text/html": [
       "<div>\n",
       "<style scoped>\n",
       "    .dataframe tbody tr th:only-of-type {\n",
       "        vertical-align: middle;\n",
       "    }\n",
       "\n",
       "    .dataframe tbody tr th {\n",
       "        vertical-align: top;\n",
       "    }\n",
       "\n",
       "    .dataframe thead th {\n",
       "        text-align: right;\n",
       "    }\n",
       "</style>\n",
       "<table border=\"1\" class=\"dataframe\">\n",
       "  <thead>\n",
       "    <tr style=\"text-align: right;\">\n",
       "      <th></th>\n",
       "      <th>Name</th>\n",
       "      <th>History</th>\n",
       "    </tr>\n",
       "  </thead>\n",
       "  <tbody>\n",
       "    <tr>\n",
       "      <th>0</th>\n",
       "      <td>Hong Kong Government Reports Online 1841-1942</td>\n",
       "      <td>urban</td>\n",
       "    </tr>\n",
       "  </tbody>\n",
       "</table>\n",
       "</div>"
      ],
      "text/plain": [
       "                                            Name History\n",
       "0  Hong Kong Government Reports Online 1841-1942   urban"
      ]
     },
     "execution_count": 9,
     "metadata": {},
     "output_type": "execute_result"
    }
   ],
   "source": [
    "# import library\n",
    "import pandas as pd\n",
    "\n",
    "# type of history\n",
    "hist_type = [\"urban\",\"urban\",\"urban\"]\n",
    "\n",
    "# set up datframe\n",
    "d = {'Name': urban_history, 'History': hist_type}\n",
    "df = pd.DataFrame(data=d)\n",
    "df.head(1)"
   ]
  },
  {
   "cell_type": "markdown",
   "metadata": {
    "id": "uj0SmqwZmwxG"
   },
   "source": [
    "#### **Happy Coding!**\n",
    "\n",
    "<br>\n",
    "\n",
    "***\n",
    "\n",
    "*(Quoted from The Zen of Python, by Tim Peters)*\n",
    "\n",
    "***Beautiful is better than ugly.***\n",
    "\n",
    "***Explicit is better than implicit.***\n",
    "\n",
    "***Simple is better than complex.***\n",
    "\n",
    "***Complex is better than complicated.***\n",
    "\n",
    "***Readability counts.***\n",
    "\n",
    "***If the implementation is hard to explain, it’s a bad idea.***"
   ]
  },
  {
   "cell_type": "markdown",
   "metadata": {
    "id": "XIQW2qhpmNDd"
   },
   "source": [
    "<br>\n",
    "<br>\n",
    "\n",
    "***\n",
    "\n",
    "## **Additional information**\n",
    "\n",
    "This notebook is provided for educational purpose and feel free to report any issue on GitHub.\n",
    "\n",
    "<br>\n",
    "\n",
    "**Author:** [Ka Hei, Chow](https://www.linkedin.com/in/ka-hei-chow-231345188/)\n",
    "\n",
    "**License:** The code in this notebook is licensed under the [Creative Commons by Attribution 4.0 license](https://creativecommons.org/licenses/by/4.0/).\n",
    "\n",
    "**Last modified:** December 2021\n",
    "\n",
    "<br>\n",
    "\n",
    "***\n",
    "\n",
    "<br>\n",
    "\n",
    "## **References:** \n",
    "\n",
    "https://data-flair.training/blogs/python-best-practices/\n",
    "\n",
    "https://betterprogramming.pub/string-case-styles-camel-pascal-snake-and-kebab-case-981407998841"
   ]
  }
 ],
 "metadata": {
  "colab": {
   "name": "03_lv1_Coding_Practice_Basics.ipynb",
   "provenance": []
  },
  "kernelspec": {
   "display_name": "Python 3",
   "language": "python",
   "name": "python3"
  },
  "language_info": {
   "codemirror_mode": {
    "name": "ipython",
    "version": 3
   },
   "file_extension": ".py",
   "mimetype": "text/x-python",
   "name": "python",
   "nbconvert_exporter": "python",
   "pygments_lexer": "ipython3",
   "version": "3.7.9"
  },
  "toc": {
   "base_numbering": 1,
   "nav_menu": {},
   "number_sections": true,
   "sideBar": true,
   "skip_h1_title": false,
   "title_cell": "Table of Contents",
   "title_sidebar": "Contents",
   "toc_cell": false,
   "toc_position": {},
   "toc_section_display": true,
   "toc_window_display": false
  }
 },
 "nbformat": 4,
 "nbformat_minor": 1
}
