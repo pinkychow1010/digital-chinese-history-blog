{
 "cells": [
  {
   "cell_type": "markdown",
   "metadata": {},
   "source": [
    "# Python for Research Q & A 🖋️\n",
    "> What is Python all for?\n",
    "\n",
    "- toc: true \n",
    "- badges: true\n",
    "- comments: true\n",
    "- categories: [jupyter]\n",
    "- image: images/chart-preview.png"
   ]
  },
  {
   "cell_type": "markdown",
   "metadata": {
    "id": "9_TxgyKkW0oF"
   },
   "source": [
    "<br>\n",
    "\n",
    "***\n",
    "\n",
    "## **Background**\n",
    "\n",
    "**Python** is getting more and more popular, not only in the field of computer science, but also in the diverse fields when it comes to computation, working with digital resources and data presentation. This notebook aims to give users some basic knowledge about the potential of Python programming language in the context of humanity research.\n",
    "\n",
    "<br>\n",
    "\n",
    "*Presumption:* Not applicable\n",
    "\n",
    "<br>\n",
    "\n",
    "***"
   ]
  },
  {
   "cell_type": "markdown",
   "metadata": {
    "id": "HRM8I8XcX9s9"
   },
   "source": [
    "Although Python is a programming language, it is different from other low-level programming languages by being more **user-friendly** and more close to a interpreter than machine code. It is for general purpose and also relatively **beginner-friendly**.\n",
    "\n",
    "Python is not only more **readable**, it also has **less structural rules** and usually much **shorter**. Compared to other languages such as JavaScript, Python has not so much low-level language like syntax so its learning curve is not as steep."
   ]
  },
  {
   "cell_type": "markdown",
   "metadata": {
    "id": "XjeO1eNOacPv"
   },
   "source": [
    "## **General-purpose Language**\n",
    "\n",
    "Although you might have read other tutorials telling you how you can use very diverse tools to achieve fancy tasks that you wish to perform. You also have to realize that how much time will you need to master that languages or tools before tasks can be done. \n",
    "\n",
    "Let's assume that you are not a real web developer here and data analysis or visualization is not your primary profession. It means, you are not making your living by making charts and websites, and for you making creative and fancy new charts is not as important as making a not so time-consuming and presentable bar chart which display your results to the audience or in your paper. \n",
    "\n",
    "Most often, what you need is then much more simple functionalities which a fancy tool can overkill. You also need to consider that not all digital tools are open and free, so using multiple of them can cost you time and money."
   ]
  },
  {
   "cell_type": "markdown",
   "metadata": {
    "id": "RyaKCVRam9Tk"
   },
   "source": [
    "## **For Qualitative Research**\n",
    "\n",
    "Although Python is a programming language and is often associated with computing and numbers, it can help you with qualitative research too! It includes many functionalities to work with text resources. Although you do not need to do calculation on them, sometimes you do want to find a pattern in them, look for the keywords, or just get them into digital text.\n",
    "\n",
    "<br>\n",
    "\n",
    "### ***Data Input***\n",
    "\n",
    "Python can help you to get your qualitative sources. Let's say you want to look into [BDK (Bukkyo Dendo Kyokai) Database](https://21dzk.l.u-tokyo.ac.jp/BDK/bdk_search.php?md=normal&num=B0192) for the **A Biography of Sakyamuni**. And you want to get the text file of certain chapters. What you can do is to use Python to scrap the text and load it in a file for you. Or let's say you want to have all the Buddhist texts having a particular **keywords**, then you can filter the text using Python.\n",
    "\n",
    "<br>\n",
    "\n",
    "### ***Data Analysis***\n",
    "\n",
    "So now you got the text. But you want to see how does certain keywords distributed inside your text(s), or what is the associated **sentiment** of the text(s). Then you can perform **NLP** in Python. Or if you have a database of Buddhist temples and want to analysis what regions are they mostly located in, then you can perform some geospatial analysis in Python too.\n",
    "\n",
    "<br>\n",
    "\n",
    "### ***Data Presentation***\n",
    "\n",
    "Let's say now you got your results already, and you need to present them either in a paper, in a PowerPoint or make a simple webpage that you can shared with your colleagues or your audience. You can also make both static and **interactive charts/ text visualization** using Python. They can be either a bar chart for comparison, a word cloud for showing key words, or a map showing geolocations of objects.\n",
    "\n",
    "<br>\n",
    "\n",
    "#### ***Checking out some galleries:***\n",
    "\n",
    "* [**PLOTLY**](https://plotly.com/python/)\n",
    "\n",
    "* [**SEABORN**](https://seaborn.pydata.org/examples/index.html)\n"
   ]
  },
  {
   "cell_type": "markdown",
   "metadata": {
    "id": "4XZAzvawtscF"
   },
   "source": [
    "<div>\n",
    "\n",
    "<img src=https://storage.googleapis.com/coderzcolumn/static/tutorials/data_science/sunburst_chart_1.jpg width=\"250\">\n",
    "\n",
    "</div>"
   ]
  },
  {
   "cell_type": "markdown",
   "metadata": {
    "id": "BbSLEmR8aP0y"
   },
   "source": [
    "## **What can Python do for me?**\n",
    "\n",
    "Python can indeed handle a large variety of tasks, from get data for you **(web scraping)**, to analysis your data **(text analysis)**, to present your results **(data visualization)**. Its high speed allow you to scan and work with a large amount of data and search for the ones that you are interested in! You can then either analyse them with Python or continue by yourself to read the information retrieved. Or Python simply let you present what you have in mind, like a time line, in a digital format. "
   ]
  },
  {
   "cell_type": "markdown",
   "metadata": {
    "id": "RZBiZsCxdqli"
   },
   "source": [
    "## ***Geospatial Data ??***"
   ]
  },
  {
   "cell_type": "markdown",
   "metadata": {
    "id": "2q0ziXJRc9PH"
   },
   "source": [
    "For example, you might have read about **Mapbox.js, Leaflet.js, R** or **GIS** for analysing geospatial data, making choropleths and interactive graphics. But **Python** can do it too using **Plotly**, **Folium** and **Geoopandas**!"
   ]
  },
  {
   "cell_type": "markdown",
   "metadata": {
    "id": "nkCj1RfDd3QW"
   },
   "source": [
    "<div>\n",
    "\n",
    "<img src=https://miro.medium.com/max/1400/1*e0ncdSQp1wZRX-wSO-JsRg.png width=\"550\">\n",
    "\n",
    "</div>"
   ]
  },
  {
   "cell_type": "markdown",
   "metadata": {
    "id": "FwLCn9jzebC8"
   },
   "source": [
    "## ***Interactive Bubble Chart ??***\n",
    "\n",
    "Then you read about **D3.js** for making an interactive bubble chart. But **Python** can get it done too using **Plotly**."
   ]
  },
  {
   "cell_type": "markdown",
   "metadata": {
    "id": "DVOQdidbei2V"
   },
   "source": [
    "<div>\n",
    "\n",
    "<img src=https://i.pinimg.com/originals/bf/04/0d/bf040d66ed4ae891c4847ffd9a7d440d.png width=\"550\">\n",
    "\n",
    "</div>"
   ]
  },
  {
   "cell_type": "markdown",
   "metadata": {
    "id": "rKst8vlRfa8c"
   },
   "source": [
    "## ***Text Optical Recognition (OCR) ??***\n",
    "\n",
    "Then you read about doing OCR, but **Python** get give you a ride too using **pytesseract**. You can even work on it without the need for **Bash** or **Comment Line**."
   ]
  },
  {
   "cell_type": "markdown",
   "metadata": {
    "id": "7ba5ruawgHav"
   },
   "source": [
    "<div>\n",
    "\n",
    "<img src=https://pyimagesearch.com/wp-content/uploads/2017/06/tesseract_python_output_03.jpg width=\"550\">\n",
    "\n",
    "</div>"
   ]
  },
  {
   "cell_type": "markdown",
   "metadata": {
    "id": "GL-YeYGShMcJ"
   },
   "source": [
    "## ***Data Cleaning ?? Manipulation ??***\n",
    "\n",
    "Then you read about other digital tools for data cleaning and manipulation. You realize you need them too. But you can stick with **Python**: **Pandas** library can get the job done!"
   ]
  },
  {
   "cell_type": "markdown",
   "metadata": {
    "id": "qcIfaMYHhpJy"
   },
   "source": [
    "<div>\n",
    "\n",
    "<img src=https://miro.medium.com/max/1200/1*wXkIJWBE_InOAu5Plf7TIg.png width=\"550\">\n",
    "\n",
    "</div>"
   ]
  },
  {
   "cell_type": "markdown",
   "metadata": {
    "id": "sDqITYcciPmP"
   },
   "source": [
    "## ***Data Mining ?? Web Scraping ??***\n",
    "\n",
    "Then you think of getting information from a digital database? The door of **Python Beautiful Soup** is open for you!"
   ]
  },
  {
   "cell_type": "markdown",
   "metadata": {
    "id": "yrn4B2VUi0Ty"
   },
   "source": [
    "<div>\n",
    "\n",
    "<img src=https://miro.medium.com/max/960/0*9PbNnwHdp8ocBn7b.jpg width=\"550\">\n",
    "\n",
    "</div>"
   ]
  },
  {
   "cell_type": "markdown",
   "metadata": {
    "id": "58l88tCJkRPm"
   },
   "source": [
    "## ***Web Application ?? App ??***\n",
    "\n",
    "Want to make a simple web application or app to host your data visualization or presentation? Try out **Dash** from **Plotly** which can be run in **Python** too!"
   ]
  },
  {
   "cell_type": "markdown",
   "metadata": {
    "id": "Vh0YW_hhkkD4"
   },
   "source": [
    "<div>\n",
    "\n",
    "<img src=https://user-images.githubusercontent.com/1280389/30086123-97c58bde-9267-11e7-98a0-7f626de5199a.gif width=\"550\">\n",
    "\n",
    "</div>"
   ]
  },
  {
   "cell_type": "markdown",
   "metadata": {
    "id": "0aMtpHhcZJyZ"
   },
   "source": [
    "<br>\n",
    "<br>\n",
    "\n",
    "***\n",
    "\n",
    "## **Additional information**\n",
    "\n",
    "This notebook is provided for educational purpose and feel free to report any issue on GitHub.\n",
    "\n",
    "<br>\n",
    "\n",
    "**Author:** [Ka Hei, Chow](https://www.linkedin.com/in/ka-hei-chow-231345188/)\n",
    "\n",
    "**License:** The code in this notebook is licensed under the [Creative Commons by Attribution 4.0 license](https://creativecommons.org/licenses/by/4.0/).\n",
    "\n",
    "**Last modified:** December 2021\n",
    "\n",
    "<br>\n",
    "\n",
    "***\n",
    "\n",
    "<br>\n",
    "\n",
    "## **References:** \n",
    "\n",
    "https://www.bitdegree.org/tutorials/python-vs-javascript/\n",
    "\n",
    "https://towardsdatascience.com/a-complete-guide-to-an-interactive-geographical-map-using-python-f4c5197e23e0"
   ]
  }
 ],
 "metadata": {
  "colab": {
   "name": "00_lv1_Python_Research_Q&A_Basics.ipynb",
   "provenance": []
  },
  "kernelspec": {
   "display_name": "Python 3",
   "language": "python",
   "name": "python3"
  },
  "language_info": {
   "codemirror_mode": {
    "name": "ipython",
    "version": 3
   },
   "file_extension": ".py",
   "mimetype": "text/x-python",
   "name": "python",
   "nbconvert_exporter": "python",
   "pygments_lexer": "ipython3",
   "version": "3.7.9"
  },
  "toc": {
   "base_numbering": 1,
   "nav_menu": {},
   "number_sections": true,
   "sideBar": true,
   "skip_h1_title": false,
   "title_cell": "Table of Contents",
   "title_sidebar": "Contents",
   "toc_cell": false,
   "toc_position": {},
   "toc_section_display": true,
   "toc_window_display": false
  }
 },
 "nbformat": 4,
 "nbformat_minor": 1
}
